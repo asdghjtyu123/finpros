{
  "nbformat": 4,
  "nbformat_minor": 0,
  "metadata": {
    "colab": {
      "provenance": []
    },
    "kernelspec": {
      "name": "python3",
      "display_name": "Python 3"
    },
    "language_info": {
      "name": "python"
    },
    "accelerator": "GPU",
    "gpuClass": "standard"
  },
  "cells": [
    {
      "cell_type": "code",
      "source": [
        "# dataset @ https://finance.yahoo.com/quote/MSFT/history/\n",
        "\n",
        "# If you want the exact same dataset as the YouTube video,\n",
        "# use this link: https://drive.google.com/file/d/1WLm1AEYgU28Nk4lY4zNkGPSctdImbhJI/view?usp=sharing"
      ],
      "metadata": {
        "id": "yUajF0zx2Noq"
      },
      "execution_count": null,
      "outputs": []
    },
    {
      "cell_type": "code",
      "source": [
        "from google.colab import drive\n",
        "drive.mount('/content/gdrive')"
      ],
      "metadata": {
        "id": "qDmpUeF6QosO",
        "colab": {
          "base_uri": "https://localhost:8080/",
          "height": 328
        },
        "outputId": "c646c202-ed73-425e-ae82-377ac423ef9e"
      },
      "execution_count": null,
      "outputs": [
        {
          "output_type": "error",
          "ename": "MessageError",
          "evalue": "ignored",
          "traceback": [
            "\u001b[0;31m---------------------------------------------------------------------------\u001b[0m",
            "\u001b[0;31mMessageError\u001b[0m                              Traceback (most recent call last)",
            "\u001b[0;32m<ipython-input-2-4996ee3d8d09>\u001b[0m in \u001b[0;36m<module>\u001b[0;34m\u001b[0m\n\u001b[1;32m      1\u001b[0m \u001b[0;32mfrom\u001b[0m \u001b[0mgoogle\u001b[0m\u001b[0;34m.\u001b[0m\u001b[0mcolab\u001b[0m \u001b[0;32mimport\u001b[0m \u001b[0mdrive\u001b[0m\u001b[0;34m\u001b[0m\u001b[0;34m\u001b[0m\u001b[0m\n\u001b[0;32m----> 2\u001b[0;31m \u001b[0mdrive\u001b[0m\u001b[0;34m.\u001b[0m\u001b[0mmount\u001b[0m\u001b[0;34m(\u001b[0m\u001b[0;34m'/content/gdrive'\u001b[0m\u001b[0;34m)\u001b[0m\u001b[0;34m\u001b[0m\u001b[0;34m\u001b[0m\u001b[0m\n\u001b[0m",
            "\u001b[0;32m/usr/local/lib/python3.9/dist-packages/google/colab/drive.py\u001b[0m in \u001b[0;36mmount\u001b[0;34m(mountpoint, force_remount, timeout_ms, readonly)\u001b[0m\n\u001b[1;32m    101\u001b[0m \u001b[0;32mdef\u001b[0m \u001b[0mmount\u001b[0m\u001b[0;34m(\u001b[0m\u001b[0mmountpoint\u001b[0m\u001b[0;34m,\u001b[0m \u001b[0mforce_remount\u001b[0m\u001b[0;34m=\u001b[0m\u001b[0;32mFalse\u001b[0m\u001b[0;34m,\u001b[0m \u001b[0mtimeout_ms\u001b[0m\u001b[0;34m=\u001b[0m\u001b[0;36m120000\u001b[0m\u001b[0;34m,\u001b[0m \u001b[0mreadonly\u001b[0m\u001b[0;34m=\u001b[0m\u001b[0;32mFalse\u001b[0m\u001b[0;34m)\u001b[0m\u001b[0;34m:\u001b[0m\u001b[0;34m\u001b[0m\u001b[0;34m\u001b[0m\u001b[0m\n\u001b[1;32m    102\u001b[0m   \u001b[0;34m\"\"\"Mount your Google Drive at the specified mountpoint path.\"\"\"\u001b[0m\u001b[0;34m\u001b[0m\u001b[0;34m\u001b[0m\u001b[0m\n\u001b[0;32m--> 103\u001b[0;31m   return _mount(\n\u001b[0m\u001b[1;32m    104\u001b[0m       \u001b[0mmountpoint\u001b[0m\u001b[0;34m,\u001b[0m\u001b[0;34m\u001b[0m\u001b[0;34m\u001b[0m\u001b[0m\n\u001b[1;32m    105\u001b[0m       \u001b[0mforce_remount\u001b[0m\u001b[0;34m=\u001b[0m\u001b[0mforce_remount\u001b[0m\u001b[0;34m,\u001b[0m\u001b[0;34m\u001b[0m\u001b[0;34m\u001b[0m\u001b[0m\n",
            "\u001b[0;32m/usr/local/lib/python3.9/dist-packages/google/colab/drive.py\u001b[0m in \u001b[0;36m_mount\u001b[0;34m(mountpoint, force_remount, timeout_ms, ephemeral, readonly)\u001b[0m\n\u001b[1;32m    130\u001b[0m   )\n\u001b[1;32m    131\u001b[0m   \u001b[0;32mif\u001b[0m \u001b[0mephemeral\u001b[0m\u001b[0;34m:\u001b[0m\u001b[0;34m\u001b[0m\u001b[0;34m\u001b[0m\u001b[0m\n\u001b[0;32m--> 132\u001b[0;31m     _message.blocking_request(\n\u001b[0m\u001b[1;32m    133\u001b[0m         \u001b[0;34m'request_auth'\u001b[0m\u001b[0;34m,\u001b[0m \u001b[0mrequest\u001b[0m\u001b[0;34m=\u001b[0m\u001b[0;34m{\u001b[0m\u001b[0;34m'authType'\u001b[0m\u001b[0;34m:\u001b[0m \u001b[0;34m'dfs_ephemeral'\u001b[0m\u001b[0;34m}\u001b[0m\u001b[0;34m,\u001b[0m \u001b[0mtimeout_sec\u001b[0m\u001b[0;34m=\u001b[0m\u001b[0;32mNone\u001b[0m\u001b[0;34m\u001b[0m\u001b[0;34m\u001b[0m\u001b[0m\n\u001b[1;32m    134\u001b[0m     )\n",
            "\u001b[0;32m/usr/local/lib/python3.9/dist-packages/google/colab/_message.py\u001b[0m in \u001b[0;36mblocking_request\u001b[0;34m(request_type, request, timeout_sec, parent)\u001b[0m\n\u001b[1;32m    175\u001b[0m       \u001b[0mrequest_type\u001b[0m\u001b[0;34m,\u001b[0m \u001b[0mrequest\u001b[0m\u001b[0;34m,\u001b[0m \u001b[0mparent\u001b[0m\u001b[0;34m=\u001b[0m\u001b[0mparent\u001b[0m\u001b[0;34m,\u001b[0m \u001b[0mexpect_reply\u001b[0m\u001b[0;34m=\u001b[0m\u001b[0;32mTrue\u001b[0m\u001b[0;34m\u001b[0m\u001b[0;34m\u001b[0m\u001b[0m\n\u001b[1;32m    176\u001b[0m   )\n\u001b[0;32m--> 177\u001b[0;31m   \u001b[0;32mreturn\u001b[0m \u001b[0mread_reply_from_input\u001b[0m\u001b[0;34m(\u001b[0m\u001b[0mrequest_id\u001b[0m\u001b[0;34m,\u001b[0m \u001b[0mtimeout_sec\u001b[0m\u001b[0;34m)\u001b[0m\u001b[0;34m\u001b[0m\u001b[0;34m\u001b[0m\u001b[0m\n\u001b[0m",
            "\u001b[0;32m/usr/local/lib/python3.9/dist-packages/google/colab/_message.py\u001b[0m in \u001b[0;36mread_reply_from_input\u001b[0;34m(message_id, timeout_sec)\u001b[0m\n\u001b[1;32m    102\u001b[0m     ):\n\u001b[1;32m    103\u001b[0m       \u001b[0;32mif\u001b[0m \u001b[0;34m'error'\u001b[0m \u001b[0;32min\u001b[0m \u001b[0mreply\u001b[0m\u001b[0;34m:\u001b[0m\u001b[0;34m\u001b[0m\u001b[0;34m\u001b[0m\u001b[0m\n\u001b[0;32m--> 104\u001b[0;31m         \u001b[0;32mraise\u001b[0m \u001b[0mMessageError\u001b[0m\u001b[0;34m(\u001b[0m\u001b[0mreply\u001b[0m\u001b[0;34m[\u001b[0m\u001b[0;34m'error'\u001b[0m\u001b[0;34m]\u001b[0m\u001b[0;34m)\u001b[0m\u001b[0;34m\u001b[0m\u001b[0;34m\u001b[0m\u001b[0m\n\u001b[0m\u001b[1;32m    105\u001b[0m       \u001b[0;32mreturn\u001b[0m \u001b[0mreply\u001b[0m\u001b[0;34m.\u001b[0m\u001b[0mget\u001b[0m\u001b[0;34m(\u001b[0m\u001b[0;34m'data'\u001b[0m\u001b[0;34m,\u001b[0m \u001b[0;32mNone\u001b[0m\u001b[0;34m)\u001b[0m\u001b[0;34m\u001b[0m\u001b[0;34m\u001b[0m\u001b[0m\n\u001b[1;32m    106\u001b[0m \u001b[0;34m\u001b[0m\u001b[0m\n",
            "\u001b[0;31mMessageError\u001b[0m: Error: credential propagation was unsuccessful"
          ]
        }
      ]
    },
    {
      "cell_type": "code",
      "source": [
        "import pandas as pd\n",
        "import matplotlib.pyplot as plt\n",
        "import numpy as np\n",
        "import time\n",
        "from dateutil.relativedelta import relativedelta\n",
        "import os\n",
        "import tensorflow as tf\n",
        "from tensorflow import keras\n",
        "from tensorflow.keras.optimizers import Adam\n",
        "from keras.models import Sequential\n",
        "from keras.layers import Dense\n",
        "from keras.layers import SimpleRNN,Conv1D,GRU,MaxPooling1D,Bidirectional\n",
        "from keras.layers import Dropout\n",
        "from tensorflow.keras import layers\n",
        "\n",
        "df1 = pd.read_csv('/content/gdrive/MyDrive/FPT/VIC.csv')\n",
        "df1\n"
      ],
      "metadata": {
        "id": "PSIHfWL23fBi"
      },
      "execution_count": null,
      "outputs": []
    },
    {
      "cell_type": "markdown",
      "source": [
        "Phân tích biến động giá cổ phiếu dựa trên giá close cuối ngày"
      ],
      "metadata": {
        "id": "XCjsrqX1aUbK"
      }
    },
    {
      "cell_type": "code",
      "source": [
        "df1 = df1[['Date/Time', 'Close']]\n"
      ],
      "metadata": {
        "id": "p2SXJDotRIku"
      },
      "execution_count": null,
      "outputs": []
    },
    {
      "cell_type": "code",
      "source": [
        "df1['Date/Time']"
      ],
      "metadata": {
        "id": "34btpKf2RRVW"
      },
      "execution_count": null,
      "outputs": []
    },
    {
      "cell_type": "code",
      "source": [
        "import datetime\n",
        "\n",
        "def str_to_datetime(s):\n",
        "  split = s.split('-')\n",
        "  \n",
        "  year, month, day = int(split[0]), int(split[1]), int(split[2])\n",
        "  return datetime.datetime(year=year, month=month, day=day)\n",
        "\n",
        "datetime_object = str_to_datetime('1986-03-19')\n",
        "datetime_object"
      ],
      "metadata": {
        "id": "ZtzK_Fnd6UEP"
      },
      "execution_count": null,
      "outputs": []
    },
    {
      "cell_type": "code",
      "source": [
        "\n",
        "\n",
        "def str_to_datetime1(s):\n",
        "  sp = s.split(' ')[0]\n",
        "  sp1 = s.split(' ')[1]\n",
        "\n",
        "  split = sp.split('/')\n",
        "  split1 = sp1.split(':')\n",
        " \n",
        "  year, month, day,hour,minute = int(split[2]), int(split[0]), int(split[1]), int(split1[0]), int(split1[1])\n",
        "  return datetime.datetime(year=year, month=month, day=day,hour=hour,minute=minute)\n",
        "\n",
        "datetime_object1 = str_to_datetime1('12/25/2018 9:15')\n",
        "datetime_object1"
      ],
      "metadata": {
        "id": "mtxZiZfyRbTn"
      },
      "execution_count": null,
      "outputs": []
    },
    {
      "cell_type": "code",
      "source": [
        "df1"
      ],
      "metadata": {
        "id": "Hh4h91lYSURW"
      },
      "execution_count": null,
      "outputs": []
    },
    {
      "cell_type": "code",
      "source": [
        "df1['Date/Time'] = df1['Date/Time'].apply(str_to_datetime1)\n",
        "df1['Date/Time']"
      ],
      "metadata": {
        "id": "WM8hIDu_SKD3"
      },
      "execution_count": null,
      "outputs": []
    },
    {
      "cell_type": "code",
      "source": [
        "df1.index = df1.pop('Date/Time')\n",
        "df1"
      ],
      "metadata": {
        "id": "GrEeoSsNUdiu"
      },
      "execution_count": null,
      "outputs": []
    },
    {
      "cell_type": "code",
      "source": [
        "\n",
        "plt.plot(df.index, df['Close'])"
      ],
      "metadata": {
        "id": "17OZExfcBWzD"
      },
      "execution_count": null,
      "outputs": []
    },
    {
      "cell_type": "code",
      "source": [
        "\n",
        "\n",
        "def df_to_windowed_df(dataframe, first_date_str, last_date_str, n=3):\n",
        "  first_date = str_to_datetime1(first_date_str)\n",
        "  last_date  = str_to_datetime1(last_date_str)\n",
        "\n",
        "  target_date = first_date\n",
        "  \n",
        "  dates = []\n",
        "  X, Y = [], []\n",
        "\n",
        "  last_time = False\n",
        "  while True:\n",
        "    df_subset = dataframe.loc[:target_date].tail(n+1)\n",
        "    # print(len(df_subset))\n",
        "    assert len(df_subset) == n+1\n",
        " \n",
        "\n",
        "    values = df_subset['Close'].to_numpy()\n",
        "    x, y = values[:-1], values[-1]\n",
        "    # print(x,y)\n",
        "    dates.append(target_date)\n",
        "    X.append(x)\n",
        "    Y.append(y)\n",
        "    \n",
        "    next = dataframe.loc[target_date:target_date+datetime.timedelta(hours=1,days=1)+relativedelta(years=1)]\n",
        "    # print(\"next_week\",next_week)\n",
        "    next_datetime_str = str(next.head(2).tail(1).index.values[0])\n",
        "    # print(\"next_datetime_str\",next_week.head(2),\"|\",next_week.head(2).tail(1),\"|\",next_week.head(2).tail(1).index.values[0])\n",
        "    next_date_str = next_datetime_str.split('T')[0]\n",
        "    next_hour_str = next_datetime_str.split('T')[1]\n",
        "    # print(\"next_hour_str\",next_hour_str)\n",
        "    # print(\"next_date_str\",next_date_str)\n",
        "    hour_minute= next_hour_str.split(':')\n",
        "    year_month_day = next_date_str.split('-')\n",
        "    hour,minute,sc= hour_minute\n",
        "    year, month, day = year_month_day\n",
        "    next_date = datetime.datetime(day=int(day), month=int(month), year=int(year),hour=int(hour),minute=int(minute))\n",
        "    # print(next_date)\n",
        "    if last_time:\n",
        "      break\n",
        "    # time.sleep(0.1)\n",
        "    target_date = next_date\n",
        "    \n",
        "    if target_date == last_date:\n",
        "      last_time = True\n",
        "    # time.sleep(0.001)\n",
        "  ret_df = pd.DataFrame({})\n",
        "  ret_df['Target Date'] = dates\n",
        "  \n",
        "  X = np.array(X)\n",
        "  for i in range(0, n):\n",
        "    X[:, i]\n",
        "    ret_df[f'Target-{n-i}'] = X[:, i]\n",
        "  \n",
        "  ret_df['Target'] = Y\n",
        "\n",
        "  return ret_df\n",
        "\n",
        "windowed_df = df_to_windowed_df(df1, \n",
        "                                '10/17/2018 9:53', \n",
        "                                '12/22/2020 14:46', \n",
        "                                n=10)\n",
        "windowed_df"
      ],
      "metadata": {
        "id": "Amp8rE7mUPJf"
      },
      "execution_count": null,
      "outputs": []
    },
    {
      "cell_type": "code",
      "source": [
        "def windowed_df_to_date_X_y(windowed_dataframe):\n",
        "  df_as_np = windowed_dataframe.to_numpy()\n",
        "  \n",
        "  dates = df_as_np[:,0]\n",
        " \n",
        "  middle_matrix = df_as_np[:, 1:-1]\n",
        "\n",
        "  X = middle_matrix.reshape((len(dates), middle_matrix.shape[1], 1))\n",
        "  \n",
        "  Y = df_as_np[:, -1]\n",
        "\n",
        "  return dates, X.astype(np.float32), Y.astype(np.float32)\n",
        "\n",
        "dates, X, y = windowed_df_to_date_X_y(windowed_df)\n",
        "\n",
        "dates.shape, X.shape, y.shape"
      ],
      "metadata": {
        "id": "uD17zIbaIZ6n"
      },
      "execution_count": null,
      "outputs": []
    },
    {
      "cell_type": "code",
      "source": [
        "q_80 = int(len(dates) * .8)\n",
        "q_90 = int(len(dates) * .9)\n",
        "q_80, q_90, int(len(dates))"
      ],
      "metadata": {
        "id": "UC1SN-OvvjYe"
      },
      "execution_count": null,
      "outputs": []
    },
    {
      "cell_type": "code",
      "source": [
        "q_80 = int(len(dates) * .8)\n",
        "q_90 = int(len(dates) * .9)\n",
        "\n",
        "dates_train, X_train, y_train = dates[:q_80], X[:q_80], y[:q_80]\n",
        "\n",
        "dates_val, X_val, y_val = dates[q_80:q_90], X[q_80:q_90], y[q_80:q_90]\n",
        "dates_test, X_test, y_test = dates[q_90:], X[q_90:], y[q_90:]\n",
        "\n",
        "plt.plot(dates_train, y_train)\n",
        "plt.plot(dates_val, y_val)\n",
        "plt.plot(dates_test, y_test)\n",
        "\n",
        "plt.legend(['Train', 'Validation', 'Test'])"
      ],
      "metadata": {
        "id": "LPHWfwZeMZSS"
      },
      "execution_count": null,
      "outputs": []
    },
    {
      "cell_type": "markdown",
      "source": [
        "\n",
        "> CNN chủ yếu được tạo thành từ hai phần: convolution layer và pooling layer\n",
        "\n",
        "\n",
        "*   Một mạng neural tích chập 1D (CNN) với ba lớp tích chập, mỗi lớp có kernel_size là 3 và hàm kích hoạt ReLU, phần này của mô hình được thiết kế để học trích xuất dữ liệu ( extract feature ) tuy nhiên thì kích thước của feature sau khi đc trích xuất rất lớn nên để giải quyết vấn đề này thì lớp pooling được thêm vào để giải quyết vấn đề nêu trên \n",
        "*  Một LSTM layer với Unit =100 , là loại của RNN. Lớp này được thiết kế để giải quyết các vấn đề về sự bùng nổ độ dốc ( gradient explosion ) và biến mất độ dốc (vanish gradient) activation function được sử dụng đó là relu \n",
        "\n"
      ],
      "metadata": {
        "id": "MbaICY9ue3JP"
      }
    },
    {
      "cell_type": "code",
      "source": [
        "\n",
        "def Regressor():\n",
        "    regressor = Sequential()\n",
        "    \n",
        "    regressor.add( Conv1D(64,kernel_size=3, activation='relu',input_shape = (X_train.shape[1],1))) \n",
        "    regressor.add( Conv1D(128,kernel_size=3, activation='relu'))\n",
        "    regressor.add( Conv1D(64,kernel_size=3, activation='relu'))\n",
        "    regressor.add( MaxPooling1D(2))\n",
        "\n",
        "   \n",
        "    regressor.add(layers.LSTM(100, return_sequences=False))\n",
        "\n",
        "    regressor.add(Dense(32,activation='relu'))\n",
        "    regressor.add(Dense(32,activation='relu'))\n",
        "    regressor.add(Dense(1))\n",
        "    \n",
        "    regressor.compile(\n",
        "        optimizer = Adam(learning_rate=0.001), \n",
        "        loss = \"mse\",\n",
        "        metrics = [\"mean_absolute_error\"])\n",
        "    return regressor\n",
        "model= Regressor()\n",
        "model.summary()\n",
        "\n"
      ],
      "metadata": {
        "colab": {
          "base_uri": "https://localhost:8080/"
        },
        "id": "-KFBmFBA2zbB",
        "outputId": "59b23925-6553-4235-c151-27436147fcc8"
      },
      "execution_count": null,
      "outputs": [
        {
          "output_type": "stream",
          "name": "stdout",
          "text": [
            "Model: \"sequential_14\"\n",
            "_________________________________________________________________\n",
            " Layer (type)                Output Shape              Param #   \n",
            "=================================================================\n",
            " conv1d_37 (Conv1D)          (None, 8, 64)             256       \n",
            "                                                                 \n",
            " conv1d_38 (Conv1D)          (None, 6, 128)            24704     \n",
            "                                                                 \n",
            " conv1d_39 (Conv1D)          (None, 4, 64)             24640     \n",
            "                                                                 \n",
            " max_pooling1d_12 (MaxPoolin  (None, 2, 64)            0         \n",
            " g1D)                                                            \n",
            "                                                                 \n",
            " lstm_1 (LSTM)               (None, 100)               66000     \n",
            "                                                                 \n",
            " dense_7 (Dense)             (None, 32)                3232      \n",
            "                                                                 \n",
            " dense_8 (Dense)             (None, 32)                1056      \n",
            "                                                                 \n",
            " dense_9 (Dense)             (None, 1)                 33        \n",
            "                                                                 \n",
            "=================================================================\n",
            "Total params: 119,921\n",
            "Trainable params: 119,921\n",
            "Non-trainable params: 0\n",
            "_________________________________________________________________\n"
          ]
        }
      ]
    },
    {
      "cell_type": "code",
      "source": [
        "checkpoint_path = \"/content/gdrive/MyDrive/FPT/tensorflow/VIC.h5\"\n",
        "# model.save(checkpoint_path)\n",
        "cp_callback = tf.keras.callbacks.ModelCheckpoint(filepath=checkpoint_path,\n",
        "                                                 save_weights_only=True,\n",
        "                                                 verbose=1,monitor='val_loss',\n",
        "                                                  mode='min',\n",
        "                                                  save_best_only=True)\n",
        "# model.load_weights(checkpoint_path)\n",
        "history = model.fit(X_train, y_train, validation_data=(X_val, y_val),epochs = 50, batch_size = 2247, callbacks=[cp_callback])"
      ],
      "metadata": {
        "colab": {
          "base_uri": "https://localhost:8080/"
        },
        "id": "uLJtrHkT4nTm",
        "outputId": "8208f8bc-92c6-4f75-b0c6-c6a998f2de3a"
      },
      "execution_count": null,
      "outputs": [
        {
          "output_type": "stream",
          "name": "stdout",
          "text": [
            "Epoch 1/50\n",
            "34/37 [==========================>...] - ETA: 0s - loss: 106.5699 - mean_absolute_error: 9.3823\n",
            "Epoch 1: val_loss improved from inf to 62.95135, saving model to /content/gdrive/MyDrive/FPT/tensorflow/VIC.h5\n",
            "37/37 [==============================] - 1s 13ms/step - loss: 105.3004 - mean_absolute_error: 9.3254 - val_loss: 62.9514 - val_mean_absolute_error: 7.6539\n",
            "Epoch 2/50\n",
            "32/37 [========================>.....] - ETA: 0s - loss: 64.9649 - mean_absolute_error: 7.2697\n",
            "Epoch 2: val_loss did not improve from 62.95135\n",
            "37/37 [==============================] - 0s 10ms/step - loss: 62.7194 - mean_absolute_error: 7.1343 - val_loss: 66.6863 - val_mean_absolute_error: 8.0485\n",
            "Epoch 3/50\n",
            "36/37 [============================>.] - ETA: 0s - loss: 25.8269 - mean_absolute_error: 4.4317\n",
            "Epoch 3: val_loss improved from 62.95135 to 28.79088, saving model to /content/gdrive/MyDrive/FPT/tensorflow/VIC.h5\n",
            "37/37 [==============================] - 0s 10ms/step - loss: 25.8193 - mean_absolute_error: 4.4308 - val_loss: 28.7909 - val_mean_absolute_error: 5.3401\n",
            "Epoch 4/50\n",
            "37/37 [==============================] - ETA: 0s - loss: 7.6043 - mean_absolute_error: 2.1677\n",
            "Epoch 4: val_loss improved from 28.79088 to 3.32900, saving model to /content/gdrive/MyDrive/FPT/tensorflow/VIC.h5\n",
            "37/37 [==============================] - 0s 11ms/step - loss: 7.6043 - mean_absolute_error: 2.1677 - val_loss: 3.3290 - val_mean_absolute_error: 1.8080\n",
            "Epoch 5/50\n",
            "34/37 [==========================>...] - ETA: 0s - loss: 1.8857 - mean_absolute_error: 0.9778\n",
            "Epoch 5: val_loss improved from 3.32900 to 0.09454, saving model to /content/gdrive/MyDrive/FPT/tensorflow/VIC.h5\n",
            "37/37 [==============================] - 0s 11ms/step - loss: 1.8404 - mean_absolute_error: 0.9632 - val_loss: 0.0945 - val_mean_absolute_error: 0.2253\n",
            "Epoch 6/50\n",
            "33/37 [=========================>....] - ETA: 0s - loss: 0.8762 - mean_absolute_error: 0.6382\n",
            "Epoch 6: val_loss did not improve from 0.09454\n",
            "37/37 [==============================] - 0s 10ms/step - loss: 0.9123 - mean_absolute_error: 0.6633 - val_loss: 0.8675 - val_mean_absolute_error: 0.8990\n",
            "Epoch 7/50\n",
            "35/37 [===========================>..] - ETA: 0s - loss: 0.9700 - mean_absolute_error: 0.7422\n",
            "Epoch 7: val_loss did not improve from 0.09454\n",
            "37/37 [==============================] - 0s 10ms/step - loss: 0.9583 - mean_absolute_error: 0.7359 - val_loss: 0.2395 - val_mean_absolute_error: 0.4486\n",
            "Epoch 8/50\n",
            "33/37 [=========================>....] - ETA: 0s - loss: 0.7603 - mean_absolute_error: 0.6509\n",
            "Epoch 8: val_loss did not improve from 0.09454\n",
            "37/37 [==============================] - 0s 10ms/step - loss: 0.7408 - mean_absolute_error: 0.6379 - val_loss: 0.1079 - val_mean_absolute_error: 0.2622\n",
            "Epoch 9/50\n",
            "34/37 [==========================>...] - ETA: 0s - loss: 1.2425 - mean_absolute_error: 0.8707\n",
            "Epoch 9: val_loss did not improve from 0.09454\n",
            "37/37 [==============================] - 0s 10ms/step - loss: 1.1987 - mean_absolute_error: 0.8489 - val_loss: 0.4158 - val_mean_absolute_error: 0.6109\n",
            "Epoch 10/50\n",
            "34/37 [==========================>...] - ETA: 0s - loss: 0.5250 - mean_absolute_error: 0.5212\n",
            "Epoch 10: val_loss did not improve from 0.09454\n",
            "37/37 [==============================] - 0s 10ms/step - loss: 0.5400 - mean_absolute_error: 0.5317 - val_loss: 1.0574 - val_mean_absolute_error: 1.0027\n",
            "Epoch 11/50\n",
            "32/37 [========================>.....] - ETA: 0s - loss: 1.1085 - mean_absolute_error: 0.8596\n",
            "Epoch 11: val_loss improved from 0.09454 to 0.06943, saving model to /content/gdrive/MyDrive/FPT/tensorflow/VIC.h5\n",
            "37/37 [==============================] - 0s 10ms/step - loss: 1.0355 - mean_absolute_error: 0.8186 - val_loss: 0.0694 - val_mean_absolute_error: 0.1844\n",
            "Epoch 12/50\n",
            "34/37 [==========================>...] - ETA: 0s - loss: 0.7114 - mean_absolute_error: 0.6585\n",
            "Epoch 12: val_loss did not improve from 0.06943\n",
            "37/37 [==============================] - 0s 10ms/step - loss: 0.7089 - mean_absolute_error: 0.6587 - val_loss: 0.1626 - val_mean_absolute_error: 0.3485\n",
            "Epoch 13/50\n",
            "35/37 [===========================>..] - ETA: 0s - loss: 0.4563 - mean_absolute_error: 0.5001\n",
            "Epoch 13: val_loss did not improve from 0.06943\n",
            "37/37 [==============================] - 0s 9ms/step - loss: 0.4560 - mean_absolute_error: 0.5005 - val_loss: 0.2266 - val_mean_absolute_error: 0.4287\n",
            "Epoch 14/50\n",
            "33/37 [=========================>....] - ETA: 0s - loss: 0.9100 - mean_absolute_error: 0.7616\n",
            "Epoch 14: val_loss did not improve from 0.06943\n",
            "37/37 [==============================] - 0s 10ms/step - loss: 0.8853 - mean_absolute_error: 0.7507 - val_loss: 0.6280 - val_mean_absolute_error: 0.7618\n",
            "Epoch 15/50\n",
            "35/37 [===========================>..] - ETA: 0s - loss: 0.6613 - mean_absolute_error: 0.6603\n",
            "Epoch 15: val_loss did not improve from 0.06943\n",
            "37/37 [==============================] - 0s 10ms/step - loss: 0.6541 - mean_absolute_error: 0.6563 - val_loss: 0.3341 - val_mean_absolute_error: 0.5374\n",
            "Epoch 16/50\n",
            "34/37 [==========================>...] - ETA: 0s - loss: 0.6626 - mean_absolute_error: 0.6342\n",
            "Epoch 16: val_loss did not improve from 0.06943\n",
            "37/37 [==============================] - 0s 10ms/step - loss: 0.6633 - mean_absolute_error: 0.6351 - val_loss: 0.3313 - val_mean_absolute_error: 0.5343\n",
            "Epoch 17/50\n",
            "33/37 [=========================>....] - ETA: 0s - loss: 0.6405 - mean_absolute_error: 0.6238\n",
            "Epoch 17: val_loss improved from 0.06943 to 0.05661, saving model to /content/gdrive/MyDrive/FPT/tensorflow/VIC.h5\n",
            "37/37 [==============================] - 0s 10ms/step - loss: 0.6228 - mean_absolute_error: 0.6145 - val_loss: 0.0566 - val_mean_absolute_error: 0.1530\n",
            "Epoch 18/50\n",
            "33/37 [=========================>....] - ETA: 0s - loss: 0.3245 - mean_absolute_error: 0.4191\n",
            "Epoch 18: val_loss did not improve from 0.05661\n",
            "37/37 [==============================] - 0s 10ms/step - loss: 0.3521 - mean_absolute_error: 0.4430 - val_loss: 0.8337 - val_mean_absolute_error: 0.8857\n",
            "Epoch 19/50\n",
            "35/37 [===========================>..] - ETA: 0s - loss: 0.8864 - mean_absolute_error: 0.7716\n",
            "Epoch 19: val_loss improved from 0.05661 to 0.05471, saving model to /content/gdrive/MyDrive/FPT/tensorflow/VIC.h5\n",
            "37/37 [==============================] - 0s 11ms/step - loss: 0.8668 - mean_absolute_error: 0.7580 - val_loss: 0.0547 - val_mean_absolute_error: 0.1512\n",
            "Epoch 20/50\n",
            "35/37 [===========================>..] - ETA: 0s - loss: 0.3536 - mean_absolute_error: 0.4630\n",
            "Epoch 20: val_loss did not improve from 0.05471\n",
            "37/37 [==============================] - 0s 10ms/step - loss: 0.3545 - mean_absolute_error: 0.4639 - val_loss: 0.3876 - val_mean_absolute_error: 0.5898\n",
            "Epoch 21/50\n",
            "31/37 [========================>.....] - ETA: 0s - loss: 0.5950 - mean_absolute_error: 0.5835\n",
            "Epoch 21: val_loss did not improve from 0.05471\n",
            "37/37 [==============================] - 0s 10ms/step - loss: 0.6719 - mean_absolute_error: 0.6238 - val_loss: 2.3179 - val_mean_absolute_error: 1.5049\n",
            "Epoch 22/50\n",
            "36/37 [============================>.] - ETA: 0s - loss: 0.7651 - mean_absolute_error: 0.6983\n",
            "Epoch 22: val_loss did not improve from 0.05471\n",
            "37/37 [==============================] - 0s 9ms/step - loss: 0.7645 - mean_absolute_error: 0.6979 - val_loss: 0.1233 - val_mean_absolute_error: 0.2923\n",
            "Epoch 23/50\n",
            "35/37 [===========================>..] - ETA: 0s - loss: 0.3183 - mean_absolute_error: 0.4368\n",
            "Epoch 23: val_loss did not improve from 0.05471\n",
            "37/37 [==============================] - 0s 10ms/step - loss: 0.3143 - mean_absolute_error: 0.4325 - val_loss: 0.1556 - val_mean_absolute_error: 0.3495\n",
            "Epoch 24/50\n",
            "33/37 [=========================>....] - ETA: 0s - loss: 0.6626 - mean_absolute_error: 0.6411\n",
            "Epoch 24: val_loss did not improve from 0.05471\n",
            "37/37 [==============================] - 0s 10ms/step - loss: 0.6819 - mean_absolute_error: 0.6528 - val_loss: 0.6236 - val_mean_absolute_error: 0.7587\n",
            "Epoch 25/50\n",
            "34/37 [==========================>...] - ETA: 0s - loss: 0.3090 - mean_absolute_error: 0.4013\n",
            "Epoch 25: val_loss did not improve from 0.05471\n",
            "37/37 [==============================] - 0s 12ms/step - loss: 0.3025 - mean_absolute_error: 0.3963 - val_loss: 0.0573 - val_mean_absolute_error: 0.1624\n",
            "Epoch 26/50\n",
            "35/37 [===========================>..] - ETA: 0s - loss: 0.3716 - mean_absolute_error: 0.4751\n",
            "Epoch 26: val_loss did not improve from 0.05471\n",
            "37/37 [==============================] - 1s 14ms/step - loss: 0.3679 - mean_absolute_error: 0.4732 - val_loss: 0.1100 - val_mean_absolute_error: 0.2706\n",
            "Epoch 27/50\n",
            "32/37 [========================>.....] - ETA: 0s - loss: 1.6025 - mean_absolute_error: 0.9459\n",
            "Epoch 27: val_loss did not improve from 0.05471\n",
            "37/37 [==============================] - 0s 13ms/step - loss: 1.5273 - mean_absolute_error: 0.9302 - val_loss: 0.4445 - val_mean_absolute_error: 0.6300\n",
            "Epoch 28/50\n",
            "35/37 [===========================>..] - ETA: 0s - loss: 0.3473 - mean_absolute_error: 0.4509\n",
            "Epoch 28: val_loss did not improve from 0.05471\n",
            "37/37 [==============================] - 1s 14ms/step - loss: 0.3428 - mean_absolute_error: 0.4473 - val_loss: 0.0900 - val_mean_absolute_error: 0.2410\n",
            "Epoch 29/50\n",
            "36/37 [============================>.] - ETA: 0s - loss: 0.1774 - mean_absolute_error: 0.2934\n",
            "Epoch 29: val_loss did not improve from 0.05471\n",
            "37/37 [==============================] - 0s 13ms/step - loss: 0.1772 - mean_absolute_error: 0.2933 - val_loss: 0.0600 - val_mean_absolute_error: 0.1710\n",
            "Epoch 30/50\n",
            "33/37 [=========================>....] - ETA: 0s - loss: 0.2534 - mean_absolute_error: 0.3739\n",
            "Epoch 30: val_loss did not improve from 0.05471\n",
            "37/37 [==============================] - 0s 13ms/step - loss: 0.2485 - mean_absolute_error: 0.3705 - val_loss: 0.0971 - val_mean_absolute_error: 0.2562\n",
            "Epoch 31/50\n",
            "36/37 [============================>.] - ETA: 0s - loss: 0.3076 - mean_absolute_error: 0.4534\n",
            "Epoch 31: val_loss did not improve from 0.05471\n",
            "37/37 [==============================] - 1s 14ms/step - loss: 0.3082 - mean_absolute_error: 0.4538 - val_loss: 0.4550 - val_mean_absolute_error: 0.6431\n",
            "Epoch 32/50\n",
            "37/37 [==============================] - ETA: 0s - loss: 0.2915 - mean_absolute_error: 0.4231\n",
            "Epoch 32: val_loss did not improve from 0.05471\n",
            "37/37 [==============================] - 0s 10ms/step - loss: 0.2915 - mean_absolute_error: 0.4231 - val_loss: 0.1613 - val_mean_absolute_error: 0.3495\n",
            "Epoch 33/50\n",
            "32/37 [========================>.....] - ETA: 0s - loss: 0.4195 - mean_absolute_error: 0.5341\n",
            "Epoch 33: val_loss improved from 0.05471 to 0.05296, saving model to /content/gdrive/MyDrive/FPT/tensorflow/VIC.h5\n",
            "37/37 [==============================] - 0s 10ms/step - loss: 0.3885 - mean_absolute_error: 0.5030 - val_loss: 0.0530 - val_mean_absolute_error: 0.1444\n",
            "Epoch 34/50\n",
            "32/37 [========================>.....] - ETA: 0s - loss: 0.8795 - mean_absolute_error: 0.7020\n",
            "Epoch 34: val_loss did not improve from 0.05296\n",
            "37/37 [==============================] - 0s 10ms/step - loss: 0.9218 - mean_absolute_error: 0.7352 - val_loss: 1.1048 - val_mean_absolute_error: 1.0273\n",
            "Epoch 35/50\n",
            "32/37 [========================>.....] - ETA: 0s - loss: 0.5232 - mean_absolute_error: 0.5806\n",
            "Epoch 35: val_loss did not improve from 0.05296\n",
            "37/37 [==============================] - 0s 10ms/step - loss: 0.4814 - mean_absolute_error: 0.5472 - val_loss: 0.0964 - val_mean_absolute_error: 0.2542\n",
            "Epoch 36/50\n",
            "31/37 [========================>.....] - ETA: 0s - loss: 0.1509 - mean_absolute_error: 0.2620\n",
            "Epoch 36: val_loss did not improve from 0.05296\n",
            "37/37 [==============================] - 0s 10ms/step - loss: 0.2039 - mean_absolute_error: 0.3187 - val_loss: 0.2143 - val_mean_absolute_error: 0.4219\n",
            "Epoch 37/50\n",
            "36/37 [============================>.] - ETA: 0s - loss: 0.6864 - mean_absolute_error: 0.6922\n",
            "Epoch 37: val_loss did not improve from 0.05296\n",
            "37/37 [==============================] - 0s 11ms/step - loss: 0.6860 - mean_absolute_error: 0.6919 - val_loss: 0.0998 - val_mean_absolute_error: 0.2604\n",
            "Epoch 38/50\n",
            "31/37 [========================>.....] - ETA: 0s - loss: 0.1617 - mean_absolute_error: 0.2793\n",
            "Epoch 38: val_loss did not improve from 0.05296\n",
            "37/37 [==============================] - 0s 10ms/step - loss: 0.1541 - mean_absolute_error: 0.2692 - val_loss: 0.0541 - val_mean_absolute_error: 0.1519\n",
            "Epoch 39/50\n",
            "32/37 [========================>.....] - ETA: 0s - loss: 0.2777 - mean_absolute_error: 0.4218\n",
            "Epoch 39: val_loss did not improve from 0.05296\n",
            "37/37 [==============================] - 0s 10ms/step - loss: 0.2830 - mean_absolute_error: 0.4313 - val_loss: 0.2496 - val_mean_absolute_error: 0.4629\n",
            "Epoch 40/50\n",
            "32/37 [========================>.....] - ETA: 0s - loss: 0.1956 - mean_absolute_error: 0.3312\n",
            "Epoch 40: val_loss did not improve from 0.05296\n",
            "37/37 [==============================] - 0s 10ms/step - loss: 0.2033 - mean_absolute_error: 0.3430 - val_loss: 0.3666 - val_mean_absolute_error: 0.5729\n",
            "Epoch 41/50\n",
            "32/37 [========================>.....] - ETA: 0s - loss: 0.9769 - mean_absolute_error: 0.8365\n",
            "Epoch 41: val_loss did not improve from 0.05296\n",
            "37/37 [==============================] - 0s 10ms/step - loss: 0.9186 - mean_absolute_error: 0.8100 - val_loss: 0.0649 - val_mean_absolute_error: 0.1763\n",
            "Epoch 42/50\n",
            "32/37 [========================>.....] - ETA: 0s - loss: 0.1858 - mean_absolute_error: 0.3177\n",
            "Epoch 42: val_loss did not improve from 0.05296\n",
            "37/37 [==============================] - 0s 10ms/step - loss: 0.1819 - mean_absolute_error: 0.3150 - val_loss: 0.0850 - val_mean_absolute_error: 0.2229\n",
            "Epoch 43/50\n",
            "33/37 [=========================>....] - ETA: 0s - loss: 0.6275 - mean_absolute_error: 0.6670\n",
            "Epoch 43: val_loss did not improve from 0.05296\n",
            "37/37 [==============================] - 0s 10ms/step - loss: 0.6246 - mean_absolute_error: 0.6646 - val_loss: 2.2544 - val_mean_absolute_error: 1.4847\n",
            "Epoch 44/50\n",
            "33/37 [=========================>....] - ETA: 0s - loss: 0.4773 - mean_absolute_error: 0.5333\n",
            "Epoch 44: val_loss did not improve from 0.05296\n",
            "37/37 [==============================] - 0s 10ms/step - loss: 0.4469 - mean_absolute_error: 0.5066 - val_loss: 0.0805 - val_mean_absolute_error: 0.2126\n",
            "Epoch 45/50\n",
            "33/37 [=========================>....] - ETA: 0s - loss: 0.2409 - mean_absolute_error: 0.3850\n",
            "Epoch 45: val_loss did not improve from 0.05296\n",
            "37/37 [==============================] - 0s 10ms/step - loss: 0.2297 - mean_absolute_error: 0.3690 - val_loss: 0.0840 - val_mean_absolute_error: 0.2207\n",
            "Epoch 46/50\n",
            "32/37 [========================>.....] - ETA: 0s - loss: 0.1909 - mean_absolute_error: 0.3345\n",
            "Epoch 46: val_loss did not improve from 0.05296\n",
            "37/37 [==============================] - 0s 11ms/step - loss: 0.2189 - mean_absolute_error: 0.3637 - val_loss: 0.3847 - val_mean_absolute_error: 0.5869\n",
            "Epoch 47/50\n",
            "37/37 [==============================] - ETA: 0s - loss: 0.2445 - mean_absolute_error: 0.3515\n",
            "Epoch 47: val_loss did not improve from 0.05296\n",
            "37/37 [==============================] - 0s 10ms/step - loss: 0.2445 - mean_absolute_error: 0.3515 - val_loss: 0.1048 - val_mean_absolute_error: 0.2615\n",
            "Epoch 48/50\n",
            "36/37 [============================>.] - ETA: 0s - loss: 0.4425 - mean_absolute_error: 0.5621\n",
            "Epoch 48: val_loss did not improve from 0.05296\n",
            "37/37 [==============================] - 0s 10ms/step - loss: 0.4424 - mean_absolute_error: 0.5621 - val_loss: 0.1745 - val_mean_absolute_error: 0.3759\n",
            "Epoch 49/50\n",
            "32/37 [========================>.....] - ETA: 0s - loss: 0.2624 - mean_absolute_error: 0.4132\n",
            "Epoch 49: val_loss did not improve from 0.05296\n",
            "37/37 [==============================] - 0s 10ms/step - loss: 0.3003 - mean_absolute_error: 0.4475 - val_loss: 0.2331 - val_mean_absolute_error: 0.4455\n",
            "Epoch 50/50\n",
            "32/37 [========================>.....] - ETA: 0s - loss: 0.3803 - mean_absolute_error: 0.5177\n",
            "Epoch 50: val_loss did not improve from 0.05296\n",
            "37/37 [==============================] - 0s 10ms/step - loss: 0.3609 - mean_absolute_error: 0.4985 - val_loss: 0.4858 - val_mean_absolute_error: 0.6626\n"
          ]
        }
      ]
    },
    {
      "cell_type": "markdown",
      "source": [
        "DỰ ĐOÁN BIẾN ĐỘNG TRÊN LƯỢNG DATA ĐÃ TRAIN\n",
        "\n",
        "---\n",
        "\n"
      ],
      "metadata": {
        "id": "rAnZCgY5aZ0O"
      }
    },
    {
      "cell_type": "code",
      "source": [
        "model.load_weights(checkpoint_path)\n",
        "train_predictions = model.predict(X_train).flatten()\n",
        "print(X_train)\n",
        "print(train_predictions)\n",
        "plt.plot(dates_train, train_predictions)\n",
        "# plt.plot(dates_train, y_train)\n",
        "plt.legend(['Training Predictions','Training Observation'])\n"
      ],
      "metadata": {
        "id": "gG8eOTzEVl_X",
        "colab": {
          "base_uri": "https://localhost:8080/",
          "height": 1000
        },
        "outputId": "d4ab90f9-f31e-4473-a3f7-cc594f909aa6"
      },
      "execution_count": null,
      "outputs": [
        {
          "output_type": "stream",
          "name": "stdout",
          "text": [
            "2532/2532 [==============================] - 10s 4ms/step\n",
            "[[[98.6]\n",
            "  [98.6]\n",
            "  [98.7]\n",
            "  ...\n",
            "  [98.8]\n",
            "  [98.7]\n",
            "  [98.6]]\n",
            "\n",
            " [[98.6]\n",
            "  [98.7]\n",
            "  [98.7]\n",
            "  ...\n",
            "  [98.7]\n",
            "  [98.6]\n",
            "  [98.6]]\n",
            "\n",
            " [[98.7]\n",
            "  [98.7]\n",
            "  [98.8]\n",
            "  ...\n",
            "  [98.6]\n",
            "  [98.6]\n",
            "  [98.6]]\n",
            "\n",
            " ...\n",
            "\n",
            " [[86.6]\n",
            "  [86.8]\n",
            "  [86.7]\n",
            "  ...\n",
            "  [87. ]\n",
            "  [87. ]\n",
            "  [87. ]]\n",
            "\n",
            " [[86.8]\n",
            "  [86.7]\n",
            "  [87. ]\n",
            "  ...\n",
            "  [87. ]\n",
            "  [87. ]\n",
            "  [86.8]]\n",
            "\n",
            " [[86.7]\n",
            "  [87. ]\n",
            "  [86.8]\n",
            "  ...\n",
            "  [87. ]\n",
            "  [86.8]\n",
            "  [86.8]]]\n",
            "[98.7234   98.71632  98.70064  ... 86.87515  86.95     86.990395]\n"
          ]
        },
        {
          "output_type": "execute_result",
          "data": {
            "text/plain": [
              "<matplotlib.legend.Legend at 0x7fd0d02fedf0>"
            ]
          },
          "metadata": {},
          "execution_count": 218
        },
        {
          "output_type": "display_data",
          "data": {
            "text/plain": [
              "<Figure size 432x288 with 1 Axes>"
            ],
            "image/png": "[encoded data removed]"
          },
          "metadata": {
            "needs_background": "light"
          }
        }
      ]
    },
    {
      "cell_type": "code",
      "source": [
        "plt.plot(dates_train, y_train,'r')\n",
        "print(y_train)\n",
        "plt.legend(['Training Observation'])"
      ],
      "metadata": {
        "id": "Gy158rYKx1UG",
        "colab": {
          "base_uri": "https://localhost:8080/",
          "height": 300
        },
        "outputId": "734babde-fa1c-4285-8ae8-e446c94fedda"
      },
      "execution_count": null,
      "outputs": [
        {
          "output_type": "stream",
          "name": "stdout",
          "text": [
            "[98.6 98.6 98.5 ... 86.8 86.8 86.8]\n"
          ]
        },
        {
          "output_type": "execute_result",
          "data": {
            "text/plain": [
              "<matplotlib.legend.Legend at 0x7fd0ed3d5850>"
            ]
          },
          "metadata": {},
          "execution_count": 185
        },
        {
          "output_type": "display_data",
          "data": {
            "text/plain": [
              "<Figure size 432x288 with 1 Axes>"
            ],
            "image/png": "[encoded data removed]"
          },
          "metadata": {
            "needs_background": "light"
          }
        }
      ]
    },
    {
      "cell_type": "markdown",
      "source": [
        "DỰ ĐOÁN TRÊN LƯỢNG DATA VALIDATION\n",
        "\n",
        "\n",
        "---\n",
        "\n"
      ],
      "metadata": {
        "id": "pwKXqD6laeMw"
      }
    },
    {
      "cell_type": "code",
      "source": [
        "val_predictions = model.predict(X_val).flatten()\n",
        "\n",
        "plt.plot(dates_val, val_predictions)\n",
        "# plt.plot(dates_val, y_val)\n",
        "plt.legend(['Validation Predictions'])"
      ],
      "metadata": {
        "id": "UrRaAUbnWBhE",
        "colab": {
          "base_uri": "https://localhost:8080/",
          "height": 302
        },
        "outputId": "8f94bd78-ffa0-496f-a2da-77b99549fcd6"
      },
      "execution_count": null,
      "outputs": [
        {
          "output_type": "stream",
          "name": "stdout",
          "text": [
            "281/281 [==============================] - 1s 3ms/step\n"
          ]
        },
        {
          "output_type": "execute_result",
          "data": {
            "text/plain": [
              "<matplotlib.legend.Legend at 0x7f82657ebbb0>"
            ]
          },
          "metadata": {},
          "execution_count": 38
        },
        {
          "output_type": "display_data",
          "data": {
            "text/plain": [
              "<Figure size 432x288 with 1 Axes>"
            ],
            "image/png": "[encoded data removed]"
          },
          "metadata": {
            "needs_background": "light"
          }
        }
      ]
    },
    {
      "cell_type": "code",
      "source": [
        "plt.plot(dates_val, y_val)\n",
        "plt.legend([ 'Validation Observations'])"
      ],
      "metadata": {
        "id": "sU2K4hovyqk2",
        "colab": {
          "base_uri": "https://localhost:8080/",
          "height": 283
        },
        "outputId": "cad7b09b-df0c-4f6e-96a3-91da41b814be"
      },
      "execution_count": null,
      "outputs": [
        {
          "output_type": "execute_result",
          "data": {
            "text/plain": [
              "<matplotlib.legend.Legend at 0x7f8265fcc370>"
            ]
          },
          "metadata": {},
          "execution_count": 39
        },
        {
          "output_type": "display_data",
          "data": {
            "text/plain": [
              "<Figure size 432x288 with 1 Axes>"
            ],
            "image/png": "[encoded data removed]"
          },
          "metadata": {
            "needs_background": "light"
          }
        }
      ]
    },
    {
      "cell_type": "code",
      "source": [
        "X_test[0]"
      ],
      "metadata": {
        "id": "uN8wNujTy7Of",
        "colab": {
          "base_uri": "https://localhost:8080/"
        },
        "outputId": "aef8b091-a010-46b1-ba07-5588bbd47044"
      },
      "execution_count": null,
      "outputs": [
        {
          "output_type": "execute_result",
          "data": {
            "text/plain": [
              "array([[67.09],\n",
              "       [67.19],\n",
              "       [67.28],\n",
              "       [67.19],\n",
              "       [67.28],\n",
              "       [67.19],\n",
              "       [67.19],\n",
              "       [67.28],\n",
              "       [67.28],\n",
              "       [67.38]], dtype=float32)"
            ]
          },
          "metadata": {},
          "execution_count": 40
        }
      ]
    },
    {
      "cell_type": "code",
      "source": [
        "test_predictions = model.predict(X_test).flatten()\n",
        "\n",
        "plt.plot(dates_test, test_predictions)\n",
        "plt.plot(dates_test, y_test)\n",
        "plt.legend(['Testing Predictions', 'Testing Observations'])"
      ],
      "metadata": {
        "id": "wF5sDSxVWLFd",
        "colab": {
          "base_uri": "https://localhost:8080/",
          "height": 303
        },
        "outputId": "d84c21d1-35da-4c78-899b-db2a75e85c05"
      },
      "execution_count": null,
      "outputs": [
        {
          "output_type": "stream",
          "name": "stdout",
          "text": [
            "281/281 [==============================] - 1s 3ms/step\n"
          ]
        },
        {
          "output_type": "execute_result",
          "data": {
            "text/plain": [
              "<matplotlib.legend.Legend at 0x7f8265ed65b0>"
            ]
          },
          "metadata": {},
          "execution_count": 41
        },
        {
          "output_type": "display_data",
          "data": {
            "text/plain": [
              "<Figure size 432x288 with 1 Axes>"
            ],
            "image/png": "[encoded data removed]"
          },
          "metadata": {
            "needs_background": "light"
          }
        }
      ]
    },
    {
      "cell_type": "code",
      "source": [
        "plt.plot(dates_train, train_predictions)\n",
        "plt.plot(dates_train, y_train)\n",
        "plt.plot(dates_val, val_predictions)\n",
        "plt.plot(dates_val, y_val)\n",
        "plt.plot(dates_test, test_predictions)\n",
        "plt.plot(dates_test, y_test)\n",
        "plt.legend(['Training Predictions', \n",
        "            'Training Observations',\n",
        "            'Validation Predictions', \n",
        "            'Validation Observations',\n",
        "            'Testing Predictions', \n",
        "            'Testing Observations'])"
      ],
      "metadata": {
        "id": "8b-JsTvEWfAm",
        "colab": {
          "base_uri": "https://localhost:8080/",
          "height": 283
        },
        "outputId": "2c52dacd-3c4e-4827-9f5d-9061571614ea"
      },
      "execution_count": null,
      "outputs": [
        {
          "output_type": "execute_result",
          "data": {
            "text/plain": [
              "<matplotlib.legend.Legend at 0x7f8265ea4340>"
            ]
          },
          "metadata": {},
          "execution_count": 42
        },
        {
          "output_type": "display_data",
          "data": {
            "text/plain": [
              "<Figure size 432x288 with 1 Axes>"
            ],
            "image/png": "[encoded data removed]"
          },
          "metadata": {
            "needs_background": "light"
          }
        }
      ]
    },
    {
      "cell_type": "code",
      "source": [],
      "metadata": {
        "id": "zhWT0Pd-b4ab"
      },
      "execution_count": null,
      "outputs": []
    }
  ]
}