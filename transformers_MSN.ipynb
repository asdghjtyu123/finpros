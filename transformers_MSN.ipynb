{
  "nbformat": 4,
  "nbformat_minor": 0,
  "metadata": {
    "colab": {
      "provenance": []
    },
    "kernelspec": {
      "name": "python3",
      "display_name": "Python 3"
    },
    "language_info": {
      "name": "python"
    },
    "accelerator": "GPU",
    "gpuClass": "standard"
  },
  "cells": [
    {
      "cell_type": "code",
      "source": [
        "from google.colab import drive\n",
        "drive.mount('/content/gdrive')"
      ],
      "metadata": {
        "id": "qDmpUeF6QosO",
        "colab": {
          "base_uri": "https://localhost:8080/"
        },
        "outputId": "958144c1-d581-41c1-8795-cdd9282d0234"
      },
      "execution_count": 1,
      "outputs": [
        {
          "output_type": "stream",
          "name": "stdout",
          "text": [
            "Mounted at /content/gdrive\n"
          ]
        }
      ]
    },
    {
      "cell_type": "code",
      "source": [
        "import pandas as pd\n",
        "import datetime\n",
        "import matplotlib.pyplot as plt\n",
        "df1 = pd.read_csv('/content/gdrive/MyDrive/FPT/MSN.csv')\n",
        "df1\n"
      ],
      "metadata": {
        "colab": {
          "base_uri": "https://localhost:8080/",
          "height": 424
        },
        "id": "PSIHfWL23fBi",
        "outputId": "53467be3-ae67-45b9-808a-5d565024208d"
      },
      "execution_count": 2,
      "outputs": [
        {
          "output_type": "execute_result",
          "data": {
            "text/plain": [
              "       Ticker         Date/Time  Open  High   Low  Close  Volume  \\\n",
              "0         MSN   12/25/2017 9:15  73.1  73.1  73.1   73.1    4210   \n",
              "1         MSN   12/25/2017 9:16  73.0  73.0  73.0   73.0    5000   \n",
              "2         MSN   12/25/2017 9:18  73.5  73.5  73.5   73.5     210   \n",
              "3         MSN   12/25/2017 9:20  73.2  73.5  73.1   73.1    2050   \n",
              "4         MSN   12/25/2017 9:21  73.0  73.0  73.0   73.0    1380   \n",
              "...       ...               ...   ...   ...   ...    ...     ...   \n",
              "135349    MSN  12/22/2020 14:23  82.8  82.8  82.8   82.8     700   \n",
              "135350    MSN  12/22/2020 14:24  82.7  82.8  82.7   82.8    4660   \n",
              "135351    MSN  12/22/2020 14:25  82.8  82.8  82.8   82.8      50   \n",
              "135352    MSN  12/22/2020 14:27  82.8  82.8  82.8   82.8     300   \n",
              "135353    MSN  12/22/2020 14:46  82.8  82.8  82.8   82.8     200   \n",
              "\n",
              "        Open Interest  \n",
              "0                   0  \n",
              "1                   0  \n",
              "2                   0  \n",
              "3                   0  \n",
              "4                   0  \n",
              "...               ...  \n",
              "135349              0  \n",
              "135350              0  \n",
              "135351              0  \n",
              "135352              0  \n",
              "135353              0  \n",
              "\n",
              "[135354 rows x 8 columns]"
            ],
            "text/html": [
              "\n",
              "  <div id=\"df-56a8859d-913a-4365-9e7f-d4a0be6738f0\">\n",
              "    <div class=\"colab-df-container\">\n",
              "      <div>\n",
              "<style scoped>\n",
              "    .dataframe tbody tr th:only-of-type {\n",
              "        vertical-align: middle;\n",
              "    }\n",
              "\n",
              "    .dataframe tbody tr th {\n",
              "        vertical-align: top;\n",
              "    }\n",
              "\n",
              "    .dataframe thead th {\n",
              "        text-align: right;\n",
              "    }\n",
              "</style>\n",
              "<table border=\"1\" class=\"dataframe\">\n",
              "  <thead>\n",
              "    <tr style=\"text-align: right;\">\n",
              "      <th></th>\n",
              "      <th>Ticker</th>\n",
              "      <th>Date/Time</th>\n",
              "      <th>Open</th>\n",
              "      <th>High</th>\n",
              "      <th>Low</th>\n",
              "      <th>Close</th>\n",
              "      <th>Volume</th>\n",
              "      <th>Open Interest</th>\n",
              "    </tr>\n",
              "  </thead>\n",
              "  <tbody>\n",
              "    <tr>\n",
              "      <th>0</th>\n",
              "      <td>MSN</td>\n",
              "      <td>12/25/2017 9:15</td>\n",
              "      <td>73.1</td>\n",
              "      <td>73.1</td>\n",
              "      <td>73.1</td>\n",
              "      <td>73.1</td>\n",
              "      <td>4210</td>\n",
              "      <td>0</td>\n",
              "    </tr>\n",
              "    <tr>\n",
              "      <th>1</th>\n",
              "      <td>MSN</td>\n",
              "      <td>12/25/2017 9:16</td>\n",
              "      <td>73.0</td>\n",
              "      <td>73.0</td>\n",
              "      <td>73.0</td>\n",
              "      <td>73.0</td>\n",
              "      <td>5000</td>\n",
              "      <td>0</td>\n",
              "    </tr>\n",
              "    <tr>\n",
              "      <th>2</th>\n",
              "      <td>MSN</td>\n",
              "      <td>12/25/2017 9:18</td>\n",
              "      <td>73.5</td>\n",
              "      <td>73.5</td>\n",
              "      <td>73.5</td>\n",
              "      <td>73.5</td>\n",
              "      <td>210</td>\n",
              "      <td>0</td>\n",
              "    </tr>\n",
              "    <tr>\n",
              "      <th>3</th>\n",
              "      <td>MSN</td>\n",
              "      <td>12/25/2017 9:20</td>\n",
              "      <td>73.2</td>\n",
              "      <td>73.5</td>\n",
              "      <td>73.1</td>\n",
              "      <td>73.1</td>\n",
              "      <td>2050</td>\n",
              "      <td>0</td>\n",
              "    </tr>\n",
              "    <tr>\n",
              "      <th>4</th>\n",
              "      <td>MSN</td>\n",
              "      <td>12/25/2017 9:21</td>\n",
              "      <td>73.0</td>\n",
              "      <td>73.0</td>\n",
              "      <td>73.0</td>\n",
              "      <td>73.0</td>\n",
              "      <td>1380</td>\n",
              "      <td>0</td>\n",
              "    </tr>\n",
              "    <tr>\n",
              "      <th>...</th>\n",
              "      <td>...</td>\n",
              "      <td>...</td>\n",
              "      <td>...</td>\n",
              "      <td>...</td>\n",
              "      <td>...</td>\n",
              "      <td>...</td>\n",
              "      <td>...</td>\n",
              "      <td>...</td>\n",
              "    </tr>\n",
              "    <tr>\n",
              "      <th>135349</th>\n",
              "      <td>MSN</td>\n",
              "      <td>12/22/2020 14:23</td>\n",
              "      <td>82.8</td>\n",
              "      <td>82.8</td>\n",
              "      <td>82.8</td>\n",
              "      <td>82.8</td>\n",
              "      <td>700</td>\n",
              "      <td>0</td>\n",
              "    </tr>\n",
              "    <tr>\n",
              "      <th>135350</th>\n",
              "      <td>MSN</td>\n",
              "      <td>12/22/2020 14:24</td>\n",
              "      <td>82.7</td>\n",
              "      <td>82.8</td>\n",
              "      <td>82.7</td>\n",
              "      <td>82.8</td>\n",
              "      <td>4660</td>\n",
              "      <td>0</td>\n",
              "    </tr>\n",
              "    <tr>\n",
              "      <th>135351</th>\n",
              "      <td>MSN</td>\n",
              "      <td>12/22/2020 14:25</td>\n",
              "      <td>82.8</td>\n",
              "      <td>82.8</td>\n",
              "      <td>82.8</td>\n",
              "      <td>82.8</td>\n",
              "      <td>50</td>\n",
              "      <td>0</td>\n",
              "    </tr>\n",
              "    <tr>\n",
              "      <th>135352</th>\n",
              "      <td>MSN</td>\n",
              "      <td>12/22/2020 14:27</td>\n",
              "      <td>82.8</td>\n",
              "      <td>82.8</td>\n",
              "      <td>82.8</td>\n",
              "      <td>82.8</td>\n",
              "      <td>300</td>\n",
              "      <td>0</td>\n",
              "    </tr>\n",
              "    <tr>\n",
              "      <th>135353</th>\n",
              "      <td>MSN</td>\n",
              "      <td>12/22/2020 14:46</td>\n",
              "      <td>82.8</td>\n",
              "      <td>82.8</td>\n",
              "      <td>82.8</td>\n",
              "      <td>82.8</td>\n",
              "      <td>200</td>\n",
              "      <td>0</td>\n",
              "    </tr>\n",
              "  </tbody>\n",
              "</table>\n",
              "<p>135354 rows × 8 columns</p>\n",
              "</div>\n",
              "      <button class=\"colab-df-convert\" onclick=\"convertToInteractive('df-56a8859d-913a-4365-9e7f-d4a0be6738f0')\"\n",
              "              title=\"Convert this dataframe to an interactive table.\"\n",
              "              style=\"display:none;\">\n",
              "        \n",
              "  <svg xmlns=\"http://www.w3.org/2000/svg\" height=\"24px\"viewBox=\"0 0 24 24\"\n",
              "       width=\"24px\">\n",
              "    <path d=\"M0 0h24v24H0V0z\" fill=\"none\"/>\n",
              "    <path d=\"M18.56 5.44l.94 2.06.94-2.06 2.06-.94-2.06-.94-.94-2.06-.94 2.06-2.06.94zm-11 1L8.5 8.5l.94-2.06 2.06-.94-2.06-.94L8.5 2.5l-.94 2.06-2.06.94zm10 10l.94 2.06.94-2.06 2.06-.94-2.06-.94-.94-2.06-.94 2.06-2.06.94z\"/><path d=\"M17.41 7.96l-1.37-1.37c-.4-.4-.92-.59-1.43-.59-.52 0-1.04.2-1.43.59L10.3 9.45l-7.72 7.72c-.78.78-.78 2.05 0 2.83L4 21.41c.39.39.9.59 1.41.59.51 0 1.02-.2 1.41-.59l7.78-7.78 2.81-2.81c.8-.78.8-2.07 0-2.86zM5.41 20L4 18.59l7.72-7.72 1.47 1.35L5.41 20z\"/>\n",
              "  </svg>\n",
              "      </button>\n",
              "      \n",
              "  <style>\n",
              "    .colab-df-container {\n",
              "      display:flex;\n",
              "      flex-wrap:wrap;\n",
              "      gap: 12px;\n",
              "    }\n",
              "\n",
              "    .colab-df-convert {\n",
              "      background-color: #E8F0FE;\n",
              "      border: none;\n",
              "      border-radius: 50%;\n",
              "      cursor: pointer;\n",
              "      display: none;\n",
              "      fill: #1967D2;\n",
              "      height: 32px;\n",
              "      padding: 0 0 0 0;\n",
              "      width: 32px;\n",
              "    }\n",
              "\n",
              "    .colab-df-convert:hover {\n",
              "      background-color: #E2EBFA;\n",
              "      box-shadow: 0px 1px 2px rgba(60, 64, 67, 0.3), 0px 1px 3px 1px rgba(60, 64, 67, 0.15);\n",
              "      fill: #174EA6;\n",
              "    }\n",
              "\n",
              "    [theme=dark] .colab-df-convert {\n",
              "      background-color: #3B4455;\n",
              "      fill: #D2E3FC;\n",
              "    }\n",
              "\n",
              "    [theme=dark] .colab-df-convert:hover {\n",
              "      background-color: #434B5C;\n",
              "      box-shadow: 0px 1px 3px 1px rgba(0, 0, 0, 0.15);\n",
              "      filter: drop-shadow(0px 1px 2px rgba(0, 0, 0, 0.3));\n",
              "      fill: #FFFFFF;\n",
              "    }\n",
              "  </style>\n",
              "\n",
              "      <script>\n",
              "        const buttonEl =\n",
              "          document.querySelector('#df-56a8859d-913a-4365-9e7f-d4a0be6738f0 button.colab-df-convert');\n",
              "        buttonEl.style.display =\n",
              "          google.colab.kernel.accessAllowed ? 'block' : 'none';\n",
              "\n",
              "        async function convertToInteractive(key) {\n",
              "          const element = document.querySelector('#df-56a8859d-913a-4365-9e7f-d4a0be6738f0');\n",
              "          const dataTable =\n",
              "            await google.colab.kernel.invokeFunction('convertToInteractive',\n",
              "                                                     [key], {});\n",
              "          if (!dataTable) return;\n",
              "\n",
              "          const docLinkHtml = 'Like what you see? Visit the ' +\n",
              "            '<a target=\"_blank\" href=https://colab.research.google.com/notebooks/data_table.ipynb>data table notebook</a>'\n",
              "            + ' to learn more about interactive tables.';\n",
              "          element.innerHTML = '';\n",
              "          dataTable['output_type'] = 'display_data';\n",
              "          await google.colab.output.renderOutput(dataTable, element);\n",
              "          const docLink = document.createElement('div');\n",
              "          docLink.innerHTML = docLinkHtml;\n",
              "          element.appendChild(docLink);\n",
              "        }\n",
              "      </script>\n",
              "    </div>\n",
              "  </div>\n",
              "  "
            ]
          },
          "metadata": {},
          "execution_count": 2
        }
      ]
    },
    {
      "cell_type": "markdown",
      "source": [
        "Phân tích biến động giá cổ phiếu dựa trên giá close cuối ngày"
      ],
      "metadata": {
        "id": "rpqiIs6mwGCA"
      }
    },
    {
      "cell_type": "code",
      "source": [
        "df1 = df1[['Date/Time', 'Close']]\n"
      ],
      "metadata": {
        "id": "p2SXJDotRIku"
      },
      "execution_count": 3,
      "outputs": []
    },
    {
      "cell_type": "code",
      "source": [
        "df1['Date/Time'][12]"
      ],
      "metadata": {
        "colab": {
          "base_uri": "https://localhost:8080/",
          "height": 35
        },
        "id": "34btpKf2RRVW",
        "outputId": "30863763-9039-4dcb-b156-6cdcd83aea62"
      },
      "execution_count": 4,
      "outputs": [
        {
          "output_type": "execute_result",
          "data": {
            "text/plain": [
              "'12/25/2017 9:40'"
            ],
            "application/vnd.google.colaboratory.intrinsic+json": {
              "type": "string"
            }
          },
          "metadata": {},
          "execution_count": 4
        }
      ]
    },
    {
      "cell_type": "code",
      "source": [
        "\n",
        "\n",
        "def str_to_datetime1(s):\n",
        "  sp = s.split(' ')[0]\n",
        "  sp1 = s.split(' ')[1]\n",
        "\n",
        "  split = sp.split('/')\n",
        "  split1 = sp1.split(':')\n",
        " \n",
        "  year, month, day,hour,minute = int(split[2]), int(split[0]), int(split[1]), int(split1[0]), int(split1[1])\n",
        "  return datetime.datetime(year=year, month=month, day=day,hour=hour,minute=minute)\n",
        "\n",
        "datetime_object1 = str_to_datetime1('12/25/2018 9:15')\n",
        "datetime_object1, type(datetime_object1)"
      ],
      "metadata": {
        "colab": {
          "base_uri": "https://localhost:8080/"
        },
        "id": "mtxZiZfyRbTn",
        "outputId": "e75aa08c-e457-4918-a2d2-7751fb306c27"
      },
      "execution_count": 5,
      "outputs": [
        {
          "output_type": "execute_result",
          "data": {
            "text/plain": [
              "(datetime.datetime(2018, 12, 25, 9, 15), datetime.datetime)"
            ]
          },
          "metadata": {},
          "execution_count": 5
        }
      ]
    },
    {
      "cell_type": "code",
      "source": [
        "df1['Date/Time'] = df1['Date/Time'].apply(str_to_datetime1)\n",
        "df1['Date/Time']"
      ],
      "metadata": {
        "colab": {
          "base_uri": "https://localhost:8080/"
        },
        "id": "WM8hIDu_SKD3",
        "outputId": "de0d7adc-6292-48cf-c551-8fbfaaeb4a75"
      },
      "execution_count": 6,
      "outputs": [
        {
          "output_type": "stream",
          "name": "stderr",
          "text": [
            "<ipython-input-6-1c30a0f8f3cd>:1: SettingWithCopyWarning: \n",
            "A value is trying to be set on a copy of a slice from a DataFrame.\n",
            "Try using .loc[row_indexer,col_indexer] = value instead\n",
            "\n",
            "See the caveats in the documentation: https://pandas.pydata.org/pandas-docs/stable/user_guide/indexing.html#returning-a-view-versus-a-copy\n",
            "  df1['Date/Time'] = df1['Date/Time'].apply(str_to_datetime1)\n"
          ]
        },
        {
          "output_type": "execute_result",
          "data": {
            "text/plain": [
              "0        2017-12-25 09:15:00\n",
              "1        2017-12-25 09:16:00\n",
              "2        2017-12-25 09:18:00\n",
              "3        2017-12-25 09:20:00\n",
              "4        2017-12-25 09:21:00\n",
              "                 ...        \n",
              "135349   2020-12-22 14:23:00\n",
              "135350   2020-12-22 14:24:00\n",
              "135351   2020-12-22 14:25:00\n",
              "135352   2020-12-22 14:27:00\n",
              "135353   2020-12-22 14:46:00\n",
              "Name: Date/Time, Length: 135354, dtype: datetime64[ns]"
            ]
          },
          "metadata": {},
          "execution_count": 6
        }
      ]
    },
    {
      "cell_type": "code",
      "source": [
        "df1.index = df1.pop('Date/Time')\n"
      ],
      "metadata": {
        "id": "GrEeoSsNUdiu"
      },
      "execution_count": 7,
      "outputs": []
    },
    {
      "cell_type": "code",
      "source": [
        "import numpy as np\n",
        "import time\n",
        "from dateutil.relativedelta import relativedelta\n",
        "def df_to_windowed_df(dataframe, first_date_str, last_date_str, n=3):\n",
        "  first_date = str_to_datetime1(first_date_str)\n",
        "  last_date  = str_to_datetime1(last_date_str)\n",
        "\n",
        "  target_date = first_date\n",
        "  \n",
        "  dates = []\n",
        "  X, Y = [], []\n",
        "\n",
        "  last_time = False\n",
        "  while True:\n",
        "    df_subset = dataframe.loc[:target_date].tail(n+1)\n",
        "    # print(len(df_subset))\n",
        "    assert len(df_subset) == n+1\n",
        " \n",
        "\n",
        "    values = df_subset['Close'].to_numpy()\n",
        "    x, y = values[:-1], values[-1]\n",
        "    # print(x,y)\n",
        "    dates.append(target_date)\n",
        "    X.append(x)\n",
        "    Y.append(y)\n",
        "    \n",
        "    next = dataframe.loc[target_date:target_date+datetime.timedelta(hours=1,days=1)+relativedelta(years=1)]\n",
        "    # print(\"next_week\",next_week)\n",
        "    next_datetime_str = str(next.head(2).tail(1).index.values[0])\n",
        "    # print(\"next_datetime_str\",next_week.head(2),\"|\",next_week.head(2).tail(1),\"|\",next_week.head(2).tail(1).index.values[0])\n",
        "    next_date_str = next_datetime_str.split('T')[0]\n",
        "    next_hour_str = next_datetime_str.split('T')[1]\n",
        "    # print(\"next_hour_str\",next_hour_str)\n",
        "    # print(\"next_date_str\",next_date_str)\n",
        "    hour_minute= next_hour_str.split(':')\n",
        "    year_month_day = next_date_str.split('-')\n",
        "    hour,minute,sc= hour_minute\n",
        "    year, month, day = year_month_day\n",
        "    next_date = datetime.datetime(day=int(day), month=int(month), year=int(year),hour=int(hour),minute=int(minute))\n",
        "    # print(next_date)\n",
        "    if last_time:\n",
        "      break\n",
        "    # time.sleep(0.1)\n",
        "    target_date = next_date\n",
        "    \n",
        "    if target_date == last_date:\n",
        "      last_time = True\n",
        "    # time.sleep(0.001)\n",
        "  ret_df = pd.DataFrame({})\n",
        "  ret_df['Target Date'] = dates\n",
        "  \n",
        "  X = np.array(X)\n",
        "  for i in range(0, n):\n",
        "    X[:, i]\n",
        "    ret_df[f'Target-{n-i}'] = X[:, i]\n",
        "  \n",
        "  ret_df['Target'] = Y\n",
        "\n",
        "  return ret_df\n",
        "\n",
        "windowed_df = df_to_windowed_df(df1, \n",
        "                                '12/25/2017 9:40', \n",
        "                                '12/22/2020 14:46', \n",
        "                                n=10)\n",
        "windowed_df"
      ],
      "metadata": {
        "colab": {
          "base_uri": "https://localhost:8080/",
          "height": 424
        },
        "id": "Amp8rE7mUPJf",
        "outputId": "1a7bf2be-67d8-4aab-e4bc-f0896224fbf3"
      },
      "execution_count": 8,
      "outputs": [
        {
          "output_type": "execute_result",
          "data": {
            "text/plain": [
              "               Target Date  Target-10  Target-9  Target-8  Target-7  Target-6  \\\n",
              "0      2017-12-25 09:40:00       73.5      73.1      73.0      73.1      73.1   \n",
              "1      2017-12-25 09:41:00       73.1      73.0      73.1      73.1      73.3   \n",
              "2      2017-12-25 09:42:00       73.0      73.1      73.1      73.3      73.5   \n",
              "3      2017-12-25 09:46:00       73.1      73.1      73.3      73.5      73.3   \n",
              "4      2017-12-25 09:48:00       73.1      73.3      73.5      73.3      73.1   \n",
              "...                    ...        ...       ...       ...       ...       ...   \n",
              "135337 2020-12-22 14:23:00       82.7      82.7      82.7      82.7      82.7   \n",
              "135338 2020-12-22 14:24:00       82.7      82.7      82.7      82.7      82.7   \n",
              "135339 2020-12-22 14:25:00       82.7      82.7      82.7      82.7      82.9   \n",
              "135340 2020-12-22 14:27:00       82.7      82.7      82.7      82.9      82.7   \n",
              "135341 2020-12-22 14:46:00       82.7      82.7      82.9      82.7      82.8   \n",
              "\n",
              "        Target-5  Target-4  Target-3  Target-2  Target-1  Target  \n",
              "0           73.3      73.5      73.3      73.1      73.1    73.1  \n",
              "1           73.5      73.3      73.1      73.1      73.1    73.3  \n",
              "2           73.3      73.1      73.1      73.1      73.3    73.3  \n",
              "3           73.1      73.1      73.1      73.3      73.3    73.3  \n",
              "4           73.1      73.1      73.3      73.3      73.3    73.2  \n",
              "...          ...       ...       ...       ...       ...     ...  \n",
              "135337      82.7      82.9      82.7      82.8      82.8    82.8  \n",
              "135338      82.9      82.7      82.8      82.8      82.8    82.8  \n",
              "135339      82.7      82.8      82.8      82.8      82.8    82.8  \n",
              "135340      82.8      82.8      82.8      82.8      82.8    82.8  \n",
              "135341      82.8      82.8      82.8      82.8      82.8    82.8  \n",
              "\n",
              "[135342 rows x 12 columns]"
            ],
            "text/html": [
              "\n",
              "  <div id=\"df-0d71f1df-1b78-4554-aaca-cba2f68841aa\">\n",
              "    <div class=\"colab-df-container\">\n",
              "      <div>\n",
              "<style scoped>\n",
              "    .dataframe tbody tr th:only-of-type {\n",
              "        vertical-align: middle;\n",
              "    }\n",
              "\n",
              "    .dataframe tbody tr th {\n",
              "        vertical-align: top;\n",
              "    }\n",
              "\n",
              "    .dataframe thead th {\n",
              "        text-align: right;\n",
              "    }\n",
              "</style>\n",
              "<table border=\"1\" class=\"dataframe\">\n",
              "  <thead>\n",
              "    <tr style=\"text-align: right;\">\n",
              "      <th></th>\n",
              "      <th>Target Date</th>\n",
              "      <th>Target-10</th>\n",
              "      <th>Target-9</th>\n",
              "      <th>Target-8</th>\n",
              "      <th>Target-7</th>\n",
              "      <th>Target-6</th>\n",
              "      <th>Target-5</th>\n",
              "      <th>Target-4</th>\n",
              "      <th>Target-3</th>\n",
              "      <th>Target-2</th>\n",
              "      <th>Target-1</th>\n",
              "      <th>Target</th>\n",
              "    </tr>\n",
              "  </thead>\n",
              "  <tbody>\n",
              "    <tr>\n",
              "      <th>0</th>\n",
              "      <td>2017-12-25 09:40:00</td>\n",
              "      <td>73.5</td>\n",
              "      <td>73.1</td>\n",
              "      <td>73.0</td>\n",
              "      <td>73.1</td>\n",
              "      <td>73.1</td>\n",
              "      <td>73.3</td>\n",
              "      <td>73.5</td>\n",
              "      <td>73.3</td>\n",
              "      <td>73.1</td>\n",
              "      <td>73.1</td>\n",
              "      <td>73.1</td>\n",
              "    </tr>\n",
              "    <tr>\n",
              "      <th>1</th>\n",
              "      <td>2017-12-25 09:41:00</td>\n",
              "      <td>73.1</td>\n",
              "      <td>73.0</td>\n",
              "      <td>73.1</td>\n",
              "      <td>73.1</td>\n",
              "      <td>73.3</td>\n",
              "      <td>73.5</td>\n",
              "      <td>73.3</td>\n",
              "      <td>73.1</td>\n",
              "      <td>73.1</td>\n",
              "      <td>73.1</td>\n",
              "      <td>73.3</td>\n",
              "    </tr>\n",
              "    <tr>\n",
              "      <th>2</th>\n",
              "      <td>2017-12-25 09:42:00</td>\n",
              "      <td>73.0</td>\n",
              "      <td>73.1</td>\n",
              "      <td>73.1</td>\n",
              "      <td>73.3</td>\n",
              "      <td>73.5</td>\n",
              "      <td>73.3</td>\n",
              "      <td>73.1</td>\n",
              "      <td>73.1</td>\n",
              "      <td>73.1</td>\n",
              "      <td>73.3</td>\n",
              "      <td>73.3</td>\n",
              "    </tr>\n",
              "    <tr>\n",
              "      <th>3</th>\n",
              "      <td>2017-12-25 09:46:00</td>\n",
              "      <td>73.1</td>\n",
              "      <td>73.1</td>\n",
              "      <td>73.3</td>\n",
              "      <td>73.5</td>\n",
              "      <td>73.3</td>\n",
              "      <td>73.1</td>\n",
              "      <td>73.1</td>\n",
              "      <td>73.1</td>\n",
              "      <td>73.3</td>\n",
              "      <td>73.3</td>\n",
              "      <td>73.3</td>\n",
              "    </tr>\n",
              "    <tr>\n",
              "      <th>4</th>\n",
              "      <td>2017-12-25 09:48:00</td>\n",
              "      <td>73.1</td>\n",
              "      <td>73.3</td>\n",
              "      <td>73.5</td>\n",
              "      <td>73.3</td>\n",
              "      <td>73.1</td>\n",
              "      <td>73.1</td>\n",
              "      <td>73.1</td>\n",
              "      <td>73.3</td>\n",
              "      <td>73.3</td>\n",
              "      <td>73.3</td>\n",
              "      <td>73.2</td>\n",
              "    </tr>\n",
              "    <tr>\n",
              "      <th>...</th>\n",
              "      <td>...</td>\n",
              "      <td>...</td>\n",
              "      <td>...</td>\n",
              "      <td>...</td>\n",
              "      <td>...</td>\n",
              "      <td>...</td>\n",
              "      <td>...</td>\n",
              "      <td>...</td>\n",
              "      <td>...</td>\n",
              "      <td>...</td>\n",
              "      <td>...</td>\n",
              "      <td>...</td>\n",
              "    </tr>\n",
              "    <tr>\n",
              "      <th>135337</th>\n",
              "      <td>2020-12-22 14:23:00</td>\n",
              "      <td>82.7</td>\n",
              "      <td>82.7</td>\n",
              "      <td>82.7</td>\n",
              "      <td>82.7</td>\n",
              "      <td>82.7</td>\n",
              "      <td>82.7</td>\n",
              "      <td>82.9</td>\n",
              "      <td>82.7</td>\n",
              "      <td>82.8</td>\n",
              "      <td>82.8</td>\n",
              "      <td>82.8</td>\n",
              "    </tr>\n",
              "    <tr>\n",
              "      <th>135338</th>\n",
              "      <td>2020-12-22 14:24:00</td>\n",
              "      <td>82.7</td>\n",
              "      <td>82.7</td>\n",
              "      <td>82.7</td>\n",
              "      <td>82.7</td>\n",
              "      <td>82.7</td>\n",
              "      <td>82.9</td>\n",
              "      <td>82.7</td>\n",
              "      <td>82.8</td>\n",
              "      <td>82.8</td>\n",
              "      <td>82.8</td>\n",
              "      <td>82.8</td>\n",
              "    </tr>\n",
              "    <tr>\n",
              "      <th>135339</th>\n",
              "      <td>2020-12-22 14:25:00</td>\n",
              "      <td>82.7</td>\n",
              "      <td>82.7</td>\n",
              "      <td>82.7</td>\n",
              "      <td>82.7</td>\n",
              "      <td>82.9</td>\n",
              "      <td>82.7</td>\n",
              "      <td>82.8</td>\n",
              "      <td>82.8</td>\n",
              "      <td>82.8</td>\n",
              "      <td>82.8</td>\n",
              "      <td>82.8</td>\n",
              "    </tr>\n",
              "    <tr>\n",
              "      <th>135340</th>\n",
              "      <td>2020-12-22 14:27:00</td>\n",
              "      <td>82.7</td>\n",
              "      <td>82.7</td>\n",
              "      <td>82.7</td>\n",
              "      <td>82.9</td>\n",
              "      <td>82.7</td>\n",
              "      <td>82.8</td>\n",
              "      <td>82.8</td>\n",
              "      <td>82.8</td>\n",
              "      <td>82.8</td>\n",
              "      <td>82.8</td>\n",
              "      <td>82.8</td>\n",
              "    </tr>\n",
              "    <tr>\n",
              "      <th>135341</th>\n",
              "      <td>2020-12-22 14:46:00</td>\n",
              "      <td>82.7</td>\n",
              "      <td>82.7</td>\n",
              "      <td>82.9</td>\n",
              "      <td>82.7</td>\n",
              "      <td>82.8</td>\n",
              "      <td>82.8</td>\n",
              "      <td>82.8</td>\n",
              "      <td>82.8</td>\n",
              "      <td>82.8</td>\n",
              "      <td>82.8</td>\n",
              "      <td>82.8</td>\n",
              "    </tr>\n",
              "  </tbody>\n",
              "</table>\n",
              "<p>135342 rows × 12 columns</p>\n",
              "</div>\n",
              "      <button class=\"colab-df-convert\" onclick=\"convertToInteractive('df-0d71f1df-1b78-4554-aaca-cba2f68841aa')\"\n",
              "              title=\"Convert this dataframe to an interactive table.\"\n",
              "              style=\"display:none;\">\n",
              "        \n",
              "  <svg xmlns=\"http://www.w3.org/2000/svg\" height=\"24px\"viewBox=\"0 0 24 24\"\n",
              "       width=\"24px\">\n",
              "    <path d=\"M0 0h24v24H0V0z\" fill=\"none\"/>\n",
              "    <path d=\"M18.56 5.44l.94 2.06.94-2.06 2.06-.94-2.06-.94-.94-2.06-.94 2.06-2.06.94zm-11 1L8.5 8.5l.94-2.06 2.06-.94-2.06-.94L8.5 2.5l-.94 2.06-2.06.94zm10 10l.94 2.06.94-2.06 2.06-.94-2.06-.94-.94-2.06-.94 2.06-2.06.94z\"/><path d=\"M17.41 7.96l-1.37-1.37c-.4-.4-.92-.59-1.43-.59-.52 0-1.04.2-1.43.59L10.3 9.45l-7.72 7.72c-.78.78-.78 2.05 0 2.83L4 21.41c.39.39.9.59 1.41.59.51 0 1.02-.2 1.41-.59l7.78-7.78 2.81-2.81c.8-.78.8-2.07 0-2.86zM5.41 20L4 18.59l7.72-7.72 1.47 1.35L5.41 20z\"/>\n",
              "  </svg>\n",
              "      </button>\n",
              "      \n",
              "  <style>\n",
              "    .colab-df-container {\n",
              "      display:flex;\n",
              "      flex-wrap:wrap;\n",
              "      gap: 12px;\n",
              "    }\n",
              "\n",
              "    .colab-df-convert {\n",
              "      background-color: #E8F0FE;\n",
              "      border: none;\n",
              "      border-radius: 50%;\n",
              "      cursor: pointer;\n",
              "      display: none;\n",
              "      fill: #1967D2;\n",
              "      height: 32px;\n",
              "      padding: 0 0 0 0;\n",
              "      width: 32px;\n",
              "    }\n",
              "\n",
              "    .colab-df-convert:hover {\n",
              "      background-color: #E2EBFA;\n",
              "      box-shadow: 0px 1px 2px rgba(60, 64, 67, 0.3), 0px 1px 3px 1px rgba(60, 64, 67, 0.15);\n",
              "      fill: #174EA6;\n",
              "    }\n",
              "\n",
              "    [theme=dark] .colab-df-convert {\n",
              "      background-color: #3B4455;\n",
              "      fill: #D2E3FC;\n",
              "    }\n",
              "\n",
              "    [theme=dark] .colab-df-convert:hover {\n",
              "      background-color: #434B5C;\n",
              "      box-shadow: 0px 1px 3px 1px rgba(0, 0, 0, 0.15);\n",
              "      filter: drop-shadow(0px 1px 2px rgba(0, 0, 0, 0.3));\n",
              "      fill: #FFFFFF;\n",
              "    }\n",
              "  </style>\n",
              "\n",
              "      <script>\n",
              "        const buttonEl =\n",
              "          document.querySelector('#df-0d71f1df-1b78-4554-aaca-cba2f68841aa button.colab-df-convert');\n",
              "        buttonEl.style.display =\n",
              "          google.colab.kernel.accessAllowed ? 'block' : 'none';\n",
              "\n",
              "        async function convertToInteractive(key) {\n",
              "          const element = document.querySelector('#df-0d71f1df-1b78-4554-aaca-cba2f68841aa');\n",
              "          const dataTable =\n",
              "            await google.colab.kernel.invokeFunction('convertToInteractive',\n",
              "                                                     [key], {});\n",
              "          if (!dataTable) return;\n",
              "\n",
              "          const docLinkHtml = 'Like what you see? Visit the ' +\n",
              "            '<a target=\"_blank\" href=https://colab.research.google.com/notebooks/data_table.ipynb>data table notebook</a>'\n",
              "            + ' to learn more about interactive tables.';\n",
              "          element.innerHTML = '';\n",
              "          dataTable['output_type'] = 'display_data';\n",
              "          await google.colab.output.renderOutput(dataTable, element);\n",
              "          const docLink = document.createElement('div');\n",
              "          docLink.innerHTML = docLinkHtml;\n",
              "          element.appendChild(docLink);\n",
              "        }\n",
              "      </script>\n",
              "    </div>\n",
              "  </div>\n",
              "  "
            ]
          },
          "metadata": {},
          "execution_count": 8
        }
      ]
    },
    {
      "cell_type": "code",
      "source": [
        "def windowed_df_to_date_X_y(windowed_dataframe):\n",
        "  df_as_np = windowed_dataframe.to_numpy()\n",
        "  \n",
        "  dates = df_as_np[:,0]\n",
        " \n",
        "  middle_matrix = df_as_np[:, 1:-1]\n",
        "\n",
        "  X = middle_matrix.reshape((len(dates), middle_matrix.shape[1], 1))\n",
        "  \n",
        "  Y = df_as_np[:, -1]\n",
        "\n",
        "  return dates, X.astype(np.float32), Y.astype(np.float32)\n",
        "\n",
        "dates, X, y = windowed_df_to_date_X_y(windowed_df)\n",
        "\n",
        "dates.shape, X.shape, y.shape"
      ],
      "metadata": {
        "colab": {
          "base_uri": "https://localhost:8080/"
        },
        "id": "uD17zIbaIZ6n",
        "outputId": "f073e9cb-0248-4411-8829-247332a1f142"
      },
      "execution_count": 9,
      "outputs": [
        {
          "output_type": "execute_result",
          "data": {
            "text/plain": [
              "((135342,), (135342, 10, 1), (135342,))"
            ]
          },
          "metadata": {},
          "execution_count": 9
        }
      ]
    },
    {
      "cell_type": "code",
      "source": [
        "q_80 = int(len(dates) * .8)\n",
        "q_90 = int(len(dates) * .9)\n",
        "q_80, q_90, int(len(dates))"
      ],
      "metadata": {
        "colab": {
          "base_uri": "https://localhost:8080/"
        },
        "id": "UC1SN-OvvjYe",
        "outputId": "36e0b140-3cc9-4564-84ff-3606dfde052f"
      },
      "execution_count": 10,
      "outputs": [
        {
          "output_type": "execute_result",
          "data": {
            "text/plain": [
              "(108273, 121807, 135342)"
            ]
          },
          "metadata": {},
          "execution_count": 10
        }
      ]
    },
    {
      "cell_type": "code",
      "source": [
        "q_80 = int(len(dates) * .8)\n",
        "q_90 = int(len(dates) * .9)\n",
        "\n",
        "dates_train, X_train, y_train = dates[:q_80], X[:q_80], y[:q_80]\n",
        "\n",
        "dates_val, X_val, y_val = dates[q_80:q_90], X[q_80:q_90], y[q_80:q_90]\n",
        "dates_test, X_test, y_test = dates[q_90:], X[q_90:], y[q_90:]\n",
        "\n",
        "plt.plot(dates_train, y_train)\n",
        "plt.plot(dates_val, y_val)\n",
        "plt.plot(dates_test, y_test)\n",
        "\n",
        "plt.legend(['Train', 'Validation', 'Test'])"
      ],
      "metadata": {
        "colab": {
          "base_uri": "https://localhost:8080/",
          "height": 282
        },
        "id": "LPHWfwZeMZSS",
        "outputId": "56cab268-733c-4941-c316-f7184ec1ef38"
      },
      "execution_count": 11,
      "outputs": [
        {
          "output_type": "execute_result",
          "data": {
            "text/plain": [
              "<matplotlib.legend.Legend at 0x7f77d3ad80d0>"
            ]
          },
          "metadata": {},
          "execution_count": 11
        },
        {
          "output_type": "display_data",
          "data": {
            "text/plain": [
              "<Figure size 432x288 with 1 Axes>"
            ],
            "image/png": "[encoded data removed]"
          },
          "metadata": {
            "needs_background": "light"
          }
        }
      ]
    },
    {
      "cell_type": "markdown",
      "source": [
        "Mô hình xử lý dữ liệu đầu vào có hình dáng [batch,sequence length, features], sequence length chính là số lượng time steps trong 1 mẫu và features là số lượng thành phần mà model dự đoán, nếu chỉ dự đoán giá thì feature sẽ luôn là 1\n",
        "\n",
        "với hình bên dưới thì chỉ là 1 khối encoder của transformer. Tuy nhiên thì khối embedded được thay thế bằng LayerNormalization ( với nhiều bài báo thì sử dụng BatchNormalization với những layer sẽ tốt hơn nhưng trong trường hợp này thì không ) \" The positional embedding \" khối này có cũng được mà không có cũng ko ảnh hưởng đến tính chính xác của model, \"The multi-head attention\" thì vấn được thực hiện như bình thường, tiếp theo đó chính là \"feed forward\" chúng ta sẽ sử dụng conv1D( vì nó cho ra kết quả tốt ) ngoài ra thì vẫn có thể sử dụng các layer như LSTM, dense,...  \n",
        "\n",
        "![download.png](data:image/png;base64,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)\n",
        "\n",
        "\n",
        "\n",
        "\n",
        "\n"
      ],
      "metadata": {
        "id": "45Fyx-WexKNe"
      }
    },
    {
      "cell_type": "code",
      "source": [
        "import os\n",
        "import tensorflow as tf\n",
        "from tensorflow import keras\n",
        "from tensorflow.keras.optimizers import Adam\n",
        "from keras.models import Sequential\n",
        "from keras.layers import Dense\n",
        "from keras.layers import SimpleRNN,Conv1D,GRU,MaxPooling1D,Bidirectional\n",
        "from keras.layers import Dropout\n",
        "from tensorflow.keras import layers\n",
        "\n",
        "def transformer_encoder(inputs, head_size, num_heads, ff_dim, dropout=0):\n",
        "    \n",
        "    \n",
        "    # \"eMBEDDING layerr\n",
        "    x = layers.LayerNormalization(epsilon=1e-6)(inputs)\n",
        "    \n",
        "    # ATTENTION \n",
        "    x = layers.MultiHeadAttention(\n",
        "        key_dim=head_size, num_heads=num_heads, dropout=dropout)(x, x)\n",
        "    x = layers.Dropout(dropout)(x)\n",
        "    res = x + inputs\n",
        "    \n",
        "    # FEED FORWARD  \n",
        "    x = layers.LayerNormalization(epsilon=1e-6)(res)\n",
        "    x = layers.Conv1D(filters=ff_dim, kernel_size=1, activation = \"elu\")(x)\n",
        "    x = layers.Dropout(dropout)(x)\n",
        "    x = layers.Conv1D(filters=inputs.shape[-1], kernel_size=1)(x)\n",
        "    return x + res\n",
        "\n",
        "\n"
      ],
      "metadata": {
        "id": "-KFBmFBA2zbB"
      },
      "execution_count": 12,
      "outputs": []
    },
    {
      "cell_type": "markdown",
      "source": [
        " Hàm \"transformer_encoder\" này nhận các đối số sau:\n",
        "\n",
        "\n",
        "\n",
        "1.   inputs: tensor đầu vào cho khối mã hóa\n",
        "2.   head_size: một số nguyên đại diện cho kích thước của mỗi attention head bên trong lớp multi-head attention \n",
        "\n",
        "1.   num_heads: một số nguyên đại diện cho số lượng attention heads được sử dụng trong lớp multi-head attention\n",
        "2.   ff_dim: một số nguyên đại diện cho số lượng bộ lọc trong lớp feedforward\n",
        "\n",
        "1.   dropout: tỷ lệ dropout được sử dụng trong khối mã hóa\n",
        "\n",
        "đầu tiên thực hiện chuẩn hóa lớp cho tensor đầu vào (LayerNormalization). Sau đó, nó áp dụng multi-head attention với num_heads và head_size là đại lượng chính cho tensor đầu vào được chuẩn hóa. Một lớp dropout được áp dụng sau lớp multi-head attention. Kết quả sau đó được cộng lại với tensor đầu vào ban đầu bằng residual connections.\n",
        "\n",
        "Tiếp theo, một lớp normalization thứ hai được áp dụng cho đầu ra của kết nối dư. Một lớp tích chập 1D với ff_dim bộ lọc và kích thước kernel là 1 được áp dụng cho đầu ra kết nối dư đã được chuẩn hóa. Một lớp dropout được áp dụng sau lớp tích chập và một lớp Conv1D() khác được áp dụng với kích thước kernel là 1 và cùng số lượng bộ lọc như tensor đầu vào. Đầu ra của Conv1D() được cộng lại với đầu ra của lớp chuẩn hóa đầu tiên bằng một kết nối dư khác.\n",
        "\n",
        "Hàm trả về tensor đầu ra cuối cùng sau khi áp dụng kết nối dư thứ hai.\n",
        "\n",
        "Sau các vòng lặp khối transformer_encoder, một lớp GlobalAveragePooling1D() được áp dụng cho tensor đầu ra. sau đó được truyền qua một chuỗi các lớp fully connected với mlp_units là [256] cuối cùng là lớp dense với 1 đầy ra và sử dụng hàm acivation là linear được áp dụng để cho ra đầu ra cuối cùng"
      ],
      "metadata": {
        "id": "yOtb8RzO0j0Z"
      }
    },
    {
      "cell_type": "code",
      "source": [
        "def build_model(\n",
        "    input_shape,\n",
        "    head_size,\n",
        "    num_heads,\n",
        "    ff_dim,\n",
        "    num_transformer_blocks,\n",
        "    mlp_units,\n",
        "    dropout,\n",
        "    mlp_dropout=0):\n",
        "    inputs = keras.Input(shape=input_shape)\n",
        "    x = inputs\n",
        "    \n",
        "    for _ in range(num_transformer_blocks): \n",
        "        x = transformer_encoder(x, head_size, num_heads, ff_dim, dropout) # tiếp đó cho khối \" transformer_encoder \" lặp lại 5 lần ( xếp các trồng các khối )\n",
        "\n",
        "    x = layers.GlobalAveragePooling1D(data_format=\"channels_first\")(x)  # tiếp đó giống với  cnn sử dụng pooling để giảm dimension đầu ra của chúng thì với transformer\n",
        "    for dim in mlp_units:                                                # ta cũng làm tương tự như vậy tuy nhiên pooling layer chúng ta sử dụng là hàm GlobalAveragePooling1D()\n",
        "        x = layers.Dense(dim, activation=\"elu\")(x)\n",
        "        x = layers.Dropout(mlp_dropout)(x)\n",
        "    outputs = layers.Dense(1, activation=\"linear\")(x)\n",
        "    return keras.Model(inputs, outputs)\n",
        "\n",
        "    \n"
      ],
      "metadata": {
        "id": "cEvRDIik0a-K"
      },
      "execution_count": 13,
      "outputs": []
    },
    {
      "cell_type": "code",
      "source": [
        "def lr_scheduler(epoch, lr, warmup_epochs=30, decay_epochs=100, initial_lr=1e-6, base_lr=1e-3, min_lr=5e-5):\n",
        "    if epoch <= warmup_epochs:\n",
        "        pct = epoch / warmup_epochs\n",
        "        return ((base_lr - initial_lr) * pct) + initial_lr\n",
        "\n",
        "    if epoch > warmup_epochs and epoch < warmup_epochs+decay_epochs:\n",
        "        pct = 1 - ((epoch - warmup_epochs) / decay_epochs)\n",
        "        return ((base_lr - min_lr) * pct) + min_lr\n",
        "\n",
        "    return min_lr\n",
        "checkpoint_path=\"/content/gdrive/MyDrive/FPT/tensorflow/MSN.h5\"\n",
        "callbacks = [\n",
        "            keras.callbacks.ModelCheckpoint(filepath=checkpoint_path,\n",
        "                                                 save_weights_only=True,\n",
        "                                                 verbose=1,monitor='val_loss',\n",
        "                                                  mode='min',\n",
        "                                                  save_best_only=True),\n",
        "            keras.callbacks.EarlyStopping(patience=10, restore_best_weights=True),\n",
        "            keras.callbacks.LearningRateScheduler(lr_scheduler)\n",
        "            ]\n",
        "input_shape = X_train.shape[1:]\n",
        "\n",
        "model = build_model(\n",
        "    input_shape,\n",
        "    head_size=46, \n",
        "    num_heads=60, \n",
        "    ff_dim=105, \n",
        "    num_transformer_blocks=5, \n",
        "    mlp_units=[256],\n",
        "    mlp_dropout=0.1,\n",
        "    dropout=0.1,\n",
        ")\n",
        "print(model)\n",
        "model.compile(\n",
        "    loss=\"mean_squared_error\",\n",
        "    optimizer=keras.optimizers.Adam(learning_rate=1e-4),\n",
        "    metrics=[\"mean_squared_error\"],\n",
        ")\n",
        "model.summary()"
      ],
      "metadata": {
        "colab": {
          "base_uri": "https://localhost:8080/"
        },
        "id": "fBpxJh2Y0d4x",
        "outputId": "44ea54cd-b4ae-4326-a04a-a1c871d3746e"
      },
      "execution_count": 16,
      "outputs": [
        {
          "output_type": "stream",
          "name": "stdout",
          "text": [
            "<keras.engine.functional.Functional object at 0x7f774807bdc0>\n",
            "Model: \"model\"\n",
            "__________________________________________________________________________________________________\n",
            " Layer (type)                   Output Shape         Param #     Connected to                     \n",
            "==================================================================================================\n",
            " input_1 (InputLayer)           [(None, 10, 1)]      0           []                               \n",
            "                                                                                                  \n",
            " layer_normalization (LayerNorm  (None, 10, 1)       2           ['input_1[0][0]']                \n",
            " alization)                                                                                       \n",
            "                                                                                                  \n",
            " multi_head_attention (MultiHea  (None, 10, 1)       19321       ['layer_normalization[0][0]',    \n",
            " dAttention)                                                      'layer_normalization[0][0]']    \n",
            "                                                                                                  \n",
            " dropout (Dropout)              (None, 10, 1)        0           ['multi_head_attention[0][0]']   \n",
            "                                                                                                  \n",
            " tf.__operators__.add (TFOpLamb  (None, 10, 1)       0           ['dropout[0][0]',                \n",
            " da)                                                              'input_1[0][0]']                \n",
            "                                                                                                  \n",
            " layer_normalization_1 (LayerNo  (None, 10, 1)       2           ['tf.__operators__.add[0][0]']   \n",
            " rmalization)                                                                                     \n",
            "                                                                                                  \n",
            " conv1d (Conv1D)                (None, 10, 105)      210         ['layer_normalization_1[0][0]']  \n",
            "                                                                                                  \n",
            " dropout_1 (Dropout)            (None, 10, 105)      0           ['conv1d[0][0]']                 \n",
            "                                                                                                  \n",
            " conv1d_1 (Conv1D)              (None, 10, 1)        106         ['dropout_1[0][0]']              \n",
            "                                                                                                  \n",
            " tf.__operators__.add_1 (TFOpLa  (None, 10, 1)       0           ['conv1d_1[0][0]',               \n",
            " mbda)                                                            'tf.__operators__.add[0][0]']   \n",
            "                                                                                                  \n",
            " layer_normalization_2 (LayerNo  (None, 10, 1)       2           ['tf.__operators__.add_1[0][0]'] \n",
            " rmalization)                                                                                     \n",
            "                                                                                                  \n",
            " multi_head_attention_1 (MultiH  (None, 10, 1)       19321       ['layer_normalization_2[0][0]',  \n",
            " eadAttention)                                                    'layer_normalization_2[0][0]']  \n",
            "                                                                                                  \n",
            " dropout_2 (Dropout)            (None, 10, 1)        0           ['multi_head_attention_1[0][0]'] \n",
            "                                                                                                  \n",
            " tf.__operators__.add_2 (TFOpLa  (None, 10, 1)       0           ['dropout_2[0][0]',              \n",
            " mbda)                                                            'tf.__operators__.add_1[0][0]'] \n",
            "                                                                                                  \n",
            " layer_normalization_3 (LayerNo  (None, 10, 1)       2           ['tf.__operators__.add_2[0][0]'] \n",
            " rmalization)                                                                                     \n",
            "                                                                                                  \n",
            " conv1d_2 (Conv1D)              (None, 10, 105)      210         ['layer_normalization_3[0][0]']  \n",
            "                                                                                                  \n",
            " dropout_3 (Dropout)            (None, 10, 105)      0           ['conv1d_2[0][0]']               \n",
            "                                                                                                  \n",
            " conv1d_3 (Conv1D)              (None, 10, 1)        106         ['dropout_3[0][0]']              \n",
            "                                                                                                  \n",
            " tf.__operators__.add_3 (TFOpLa  (None, 10, 1)       0           ['conv1d_3[0][0]',               \n",
            " mbda)                                                            'tf.__operators__.add_2[0][0]'] \n",
            "                                                                                                  \n",
            " layer_normalization_4 (LayerNo  (None, 10, 1)       2           ['tf.__operators__.add_3[0][0]'] \n",
            " rmalization)                                                                                     \n",
            "                                                                                                  \n",
            " multi_head_attention_2 (MultiH  (None, 10, 1)       19321       ['layer_normalization_4[0][0]',  \n",
            " eadAttention)                                                    'layer_normalization_4[0][0]']  \n",
            "                                                                                                  \n",
            " dropout_4 (Dropout)            (None, 10, 1)        0           ['multi_head_attention_2[0][0]'] \n",
            "                                                                                                  \n",
            " tf.__operators__.add_4 (TFOpLa  (None, 10, 1)       0           ['dropout_4[0][0]',              \n",
            " mbda)                                                            'tf.__operators__.add_3[0][0]'] \n",
            "                                                                                                  \n",
            " layer_normalization_5 (LayerNo  (None, 10, 1)       2           ['tf.__operators__.add_4[0][0]'] \n",
            " rmalization)                                                                                     \n",
            "                                                                                                  \n",
            " conv1d_4 (Conv1D)              (None, 10, 105)      210         ['layer_normalization_5[0][0]']  \n",
            "                                                                                                  \n",
            " dropout_5 (Dropout)            (None, 10, 105)      0           ['conv1d_4[0][0]']               \n",
            "                                                                                                  \n",
            " conv1d_5 (Conv1D)              (None, 10, 1)        106         ['dropout_5[0][0]']              \n",
            "                                                                                                  \n",
            " tf.__operators__.add_5 (TFOpLa  (None, 10, 1)       0           ['conv1d_5[0][0]',               \n",
            " mbda)                                                            'tf.__operators__.add_4[0][0]'] \n",
            "                                                                                                  \n",
            " layer_normalization_6 (LayerNo  (None, 10, 1)       2           ['tf.__operators__.add_5[0][0]'] \n",
            " rmalization)                                                                                     \n",
            "                                                                                                  \n",
            " multi_head_attention_3 (MultiH  (None, 10, 1)       19321       ['layer_normalization_6[0][0]',  \n",
            " eadAttention)                                                    'layer_normalization_6[0][0]']  \n",
            "                                                                                                  \n",
            " dropout_6 (Dropout)            (None, 10, 1)        0           ['multi_head_attention_3[0][0]'] \n",
            "                                                                                                  \n",
            " tf.__operators__.add_6 (TFOpLa  (None, 10, 1)       0           ['dropout_6[0][0]',              \n",
            " mbda)                                                            'tf.__operators__.add_5[0][0]'] \n",
            "                                                                                                  \n",
            " layer_normalization_7 (LayerNo  (None, 10, 1)       2           ['tf.__operators__.add_6[0][0]'] \n",
            " rmalization)                                                                                     \n",
            "                                                                                                  \n",
            " conv1d_6 (Conv1D)              (None, 10, 105)      210         ['layer_normalization_7[0][0]']  \n",
            "                                                                                                  \n",
            " dropout_7 (Dropout)            (None, 10, 105)      0           ['conv1d_6[0][0]']               \n",
            "                                                                                                  \n",
            " conv1d_7 (Conv1D)              (None, 10, 1)        106         ['dropout_7[0][0]']              \n",
            "                                                                                                  \n",
            " tf.__operators__.add_7 (TFOpLa  (None, 10, 1)       0           ['conv1d_7[0][0]',               \n",
            " mbda)                                                            'tf.__operators__.add_6[0][0]'] \n",
            "                                                                                                  \n",
            " layer_normalization_8 (LayerNo  (None, 10, 1)       2           ['tf.__operators__.add_7[0][0]'] \n",
            " rmalization)                                                                                     \n",
            "                                                                                                  \n",
            " multi_head_attention_4 (MultiH  (None, 10, 1)       19321       ['layer_normalization_8[0][0]',  \n",
            " eadAttention)                                                    'layer_normalization_8[0][0]']  \n",
            "                                                                                                  \n",
            " dropout_8 (Dropout)            (None, 10, 1)        0           ['multi_head_attention_4[0][0]'] \n",
            "                                                                                                  \n",
            " tf.__operators__.add_8 (TFOpLa  (None, 10, 1)       0           ['dropout_8[0][0]',              \n",
            " mbda)                                                            'tf.__operators__.add_7[0][0]'] \n",
            "                                                                                                  \n",
            " layer_normalization_9 (LayerNo  (None, 10, 1)       2           ['tf.__operators__.add_8[0][0]'] \n",
            " rmalization)                                                                                     \n",
            "                                                                                                  \n",
            " conv1d_8 (Conv1D)              (None, 10, 105)      210         ['layer_normalization_9[0][0]']  \n",
            "                                                                                                  \n",
            " dropout_9 (Dropout)            (None, 10, 105)      0           ['conv1d_8[0][0]']               \n",
            "                                                                                                  \n",
            " conv1d_9 (Conv1D)              (None, 10, 1)        106         ['dropout_9[0][0]']              \n",
            "                                                                                                  \n",
            " tf.__operators__.add_9 (TFOpLa  (None, 10, 1)       0           ['conv1d_9[0][0]',               \n",
            " mbda)                                                            'tf.__operators__.add_8[0][0]'] \n",
            "                                                                                                  \n",
            " global_average_pooling1d (Glob  (None, 10)          0           ['tf.__operators__.add_9[0][0]'] \n",
            " alAveragePooling1D)                                                                              \n",
            "                                                                                                  \n",
            " dense (Dense)                  (None, 256)          2816        ['global_average_pooling1d[0][0]'\n",
            "                                                                 ]                                \n",
            "                                                                                                  \n",
            " dropout_10 (Dropout)           (None, 256)          0           ['dense[0][0]']                  \n",
            "                                                                                                  \n",
            " dense_1 (Dense)                (None, 1)            257         ['dropout_10[0][0]']             \n",
            "                                                                                                  \n",
            "==================================================================================================\n",
            "Total params: 101,278\n",
            "Trainable params: 101,278\n",
            "Non-trainable params: 0\n",
            "__________________________________________________________________________________________________\n"
          ]
        }
      ]
    },
    {
      "cell_type": "markdown",
      "source": [],
      "metadata": {
        "id": "qbb6VBnU0c62"
      }
    },
    {
      "cell_type": "code",
      "source": [
        "history = model.fit(\n",
        "    X_train,\n",
        "    y_train,\n",
        "    validation_split=0.2,\n",
        "    epochs=100,\n",
        "    batch_size=100,\n",
        "    callbacks=callbacks,\n",
        ")"
      ],
      "metadata": {
        "colab": {
          "base_uri": "https://localhost:8080/"
        },
        "id": "1nGGV-G_K7JR",
        "outputId": "82048d20-a595-44a9-a0ea-e0a733f09754"
      },
      "execution_count": 17,
      "outputs": [
        {
          "output_type": "stream",
          "name": "stdout",
          "text": [
            "Epoch 1/100\n",
            "867/867 [==============================] - ETA: 0s - loss: 7140.7563 - mean_squared_error: 7140.7563\n",
            "Epoch 1: val_loss improved from inf to 2795.41797, saving model to /content/gdrive/MyDrive/FPT/tensorflow/MSN.h5\n",
            "867/867 [==============================] - 78s 56ms/step - loss: 7140.7563 - mean_squared_error: 7140.7563 - val_loss: 2795.4180 - val_mean_squared_error: 2795.4180 - lr: 1.0000e-06\n",
            "Epoch 2/100\n",
            "866/867 [============================>.] - ETA: 0s - loss: 580.2030 - mean_squared_error: 580.2030\n",
            "Epoch 2: val_loss improved from 2795.41797 to 12.73485, saving model to /content/gdrive/MyDrive/FPT/tensorflow/MSN.h5\n",
            "867/867 [==============================] - 42s 49ms/step - loss: 580.0992 - mean_squared_error: 580.0992 - val_loss: 12.7349 - val_mean_squared_error: 12.7349 - lr: 3.4300e-05\n",
            "Epoch 3/100\n",
            "866/867 [============================>.] - ETA: 0s - loss: 75.3047 - mean_squared_error: 75.3047\n",
            "Epoch 3: val_loss improved from 12.73485 to 0.97514, saving model to /content/gdrive/MyDrive/FPT/tensorflow/MSN.h5\n",
            "867/867 [==============================] - 43s 49ms/step - loss: 75.3000 - mean_squared_error: 75.3000 - val_loss: 0.9751 - val_mean_squared_error: 0.9751 - lr: 6.7600e-05\n",
            "Epoch 4/100\n",
            "867/867 [==============================] - ETA: 0s - loss: 56.6392 - mean_squared_error: 56.6392\n",
            "Epoch 4: val_loss did not improve from 0.97514\n",
            "867/867 [==============================] - 39s 45ms/step - loss: 56.6392 - mean_squared_error: 56.6392 - val_loss: 18.7414 - val_mean_squared_error: 18.7414 - lr: 1.0090e-04\n",
            "Epoch 5/100\n",
            "866/867 [============================>.] - ETA: 0s - loss: 45.3215 - mean_squared_error: 45.3215\n",
            "Epoch 5: val_loss did not improve from 0.97514\n",
            "867/867 [==============================] - 42s 48ms/step - loss: 45.3227 - mean_squared_error: 45.3227 - val_loss: 24.3955 - val_mean_squared_error: 24.3955 - lr: 1.3420e-04\n",
            "Epoch 6/100\n",
            "866/867 [============================>.] - ETA: 0s - loss: 37.7403 - mean_squared_error: 37.7403\n",
            "Epoch 6: val_loss did not improve from 0.97514\n",
            "867/867 [==============================] - 40s 46ms/step - loss: 37.7445 - mean_squared_error: 37.7445 - val_loss: 16.1124 - val_mean_squared_error: 16.1124 - lr: 1.6750e-04\n",
            "Epoch 7/100\n",
            "867/867 [==============================] - ETA: 0s - loss: 28.1210 - mean_squared_error: 28.1210\n",
            "Epoch 7: val_loss did not improve from 0.97514\n",
            "867/867 [==============================] - 40s 46ms/step - loss: 28.1210 - mean_squared_error: 28.1210 - val_loss: 10.9737 - val_mean_squared_error: 10.9737 - lr: 2.0080e-04\n",
            "Epoch 8/100\n",
            "867/867 [==============================] - ETA: 0s - loss: 18.4606 - mean_squared_error: 18.4606\n",
            "Epoch 8: val_loss did not improve from 0.97514\n",
            "867/867 [==============================] - 41s 47ms/step - loss: 18.4606 - mean_squared_error: 18.4606 - val_loss: 3.4411 - val_mean_squared_error: 3.4411 - lr: 2.3410e-04\n",
            "Epoch 9/100\n",
            "866/867 [============================>.] - ETA: 0s - loss: 10.7267 - mean_squared_error: 10.7267\n",
            "Epoch 9: val_loss improved from 0.97514 to 0.55390, saving model to /content/gdrive/MyDrive/FPT/tensorflow/MSN.h5\n",
            "867/867 [==============================] - 41s 48ms/step - loss: 10.7273 - mean_squared_error: 10.7273 - val_loss: 0.5539 - val_mean_squared_error: 0.5539 - lr: 2.6740e-04\n",
            "Epoch 10/100\n",
            "867/867 [==============================] - ETA: 0s - loss: 6.4521 - mean_squared_error: 6.4521\n",
            "Epoch 10: val_loss improved from 0.55390 to 0.06192, saving model to /content/gdrive/MyDrive/FPT/tensorflow/MSN.h5\n",
            "867/867 [==============================] - 42s 48ms/step - loss: 6.4521 - mean_squared_error: 6.4521 - val_loss: 0.0619 - val_mean_squared_error: 0.0619 - lr: 3.0070e-04\n",
            "Epoch 11/100\n",
            "867/867 [==============================] - ETA: 0s - loss: 5.0421 - mean_squared_error: 5.0421\n",
            "Epoch 11: val_loss did not improve from 0.06192\n",
            "867/867 [==============================] - 39s 45ms/step - loss: 5.0421 - mean_squared_error: 5.0421 - val_loss: 0.1049 - val_mean_squared_error: 0.1049 - lr: 3.3400e-04\n",
            "Epoch 12/100\n",
            "866/867 [============================>.] - ETA: 0s - loss: 4.7062 - mean_squared_error: 4.7062\n",
            "Epoch 12: val_loss did not improve from 0.06192\n",
            "867/867 [==============================] - 41s 47ms/step - loss: 4.7066 - mean_squared_error: 4.7066 - val_loss: 0.0636 - val_mean_squared_error: 0.0636 - lr: 3.6730e-04\n",
            "Epoch 13/100\n",
            "866/867 [============================>.] - ETA: 0s - loss: 4.4672 - mean_squared_error: 4.4672\n",
            "Epoch 13: val_loss did not improve from 0.06192\n",
            "867/867 [==============================] - 41s 47ms/step - loss: 4.4676 - mean_squared_error: 4.4676 - val_loss: 0.0880 - val_mean_squared_error: 0.0880 - lr: 4.0060e-04\n",
            "Epoch 14/100\n",
            "867/867 [==============================] - ETA: 0s - loss: 4.3501 - mean_squared_error: 4.3501\n",
            "Epoch 14: val_loss did not improve from 0.06192\n",
            "867/867 [==============================] - 41s 47ms/step - loss: 4.3501 - mean_squared_error: 4.3501 - val_loss: 0.4222 - val_mean_squared_error: 0.4222 - lr: 4.3390e-04\n",
            "Epoch 15/100\n",
            "866/867 [============================>.] - ETA: 0s - loss: 4.2082 - mean_squared_error: 4.2082\n",
            "Epoch 15: val_loss did not improve from 0.06192\n",
            "867/867 [==============================] - 41s 47ms/step - loss: 4.2079 - mean_squared_error: 4.2079 - val_loss: 0.0931 - val_mean_squared_error: 0.0931 - lr: 4.6720e-04\n",
            "Epoch 16/100\n",
            "867/867 [==============================] - ETA: 0s - loss: 4.0906 - mean_squared_error: 4.0906\n",
            "Epoch 16: val_loss did not improve from 0.06192\n",
            "867/867 [==============================] - 41s 48ms/step - loss: 4.0906 - mean_squared_error: 4.0906 - val_loss: 0.0789 - val_mean_squared_error: 0.0789 - lr: 5.0050e-04\n",
            "Epoch 17/100\n",
            "867/867 [==============================] - ETA: 0s - loss: 3.9520 - mean_squared_error: 3.9520\n",
            "Epoch 17: val_loss did not improve from 0.06192\n",
            "867/867 [==============================] - 41s 48ms/step - loss: 3.9520 - mean_squared_error: 3.9520 - val_loss: 0.1519 - val_mean_squared_error: 0.1519 - lr: 5.3380e-04\n",
            "Epoch 18/100\n",
            "867/867 [==============================] - ETA: 0s - loss: 3.7992 - mean_squared_error: 3.7992\n",
            "Epoch 18: val_loss did not improve from 0.06192\n",
            "867/867 [==============================] - 41s 47ms/step - loss: 3.7992 - mean_squared_error: 3.7992 - val_loss: 0.1360 - val_mean_squared_error: 0.1360 - lr: 5.6710e-04\n",
            "Epoch 19/100\n",
            "866/867 [============================>.] - ETA: 0s - loss: 3.6941 - mean_squared_error: 3.6941\n",
            "Epoch 19: val_loss did not improve from 0.06192\n",
            "867/867 [==============================] - 42s 48ms/step - loss: 3.6941 - mean_squared_error: 3.6941 - val_loss: 0.1709 - val_mean_squared_error: 0.1709 - lr: 6.0040e-04\n",
            "Epoch 20/100\n",
            "867/867 [==============================] - ETA: 0s - loss: 3.6033 - mean_squared_error: 3.6033\n",
            "Epoch 20: val_loss did not improve from 0.06192\n",
            "867/867 [==============================] - 45s 52ms/step - loss: 3.6033 - mean_squared_error: 3.6033 - val_loss: 1.0499 - val_mean_squared_error: 1.0499 - lr: 6.3370e-04\n"
          ]
        }
      ]
    },
    {
      "cell_type": "code",
      "source": [
        "val_predictions = model.predict(X_val).flatten()\n",
        "\n",
        "plt.plot(dates_val, val_predictions)\n",
        "plt.legend(['Validation Predictions'])"
      ],
      "metadata": {
        "id": "UrRaAUbnWBhE",
        "colab": {
          "base_uri": "https://localhost:8080/",
          "height": 300
        },
        "outputId": "bbe139b8-b41f-43ed-9745-b92d46751cfd"
      },
      "execution_count": 26,
      "outputs": [
        {
          "output_type": "stream",
          "name": "stdout",
          "text": [
            "423/423 [==============================] - 3s 6ms/step\n"
          ]
        },
        {
          "output_type": "execute_result",
          "data": {
            "text/plain": [
              "<matplotlib.legend.Legend at 0x7f76bab904f0>"
            ]
          },
          "metadata": {},
          "execution_count": 26
        },
        {
          "output_type": "display_data",
          "data": {
            "text/plain": [
              "<Figure size 432x288 with 1 Axes>"
            ],
            "image/png": "[encoded data removed]"
          },
          "metadata": {
            "needs_background": "light"
          }
        }
      ]
    },
    {
      "cell_type": "code",
      "source": [
        "plt.plot(dates_val, y_val,'r')\n",
        "plt.legend([ 'Validation Observations'])"
      ],
      "metadata": {
        "id": "sU2K4hovyqk2",
        "colab": {
          "base_uri": "https://localhost:8080/",
          "height": 282
        },
        "outputId": "5db6c0e2-924b-46ed-d5d7-972365703732"
      },
      "execution_count": 25,
      "outputs": [
        {
          "output_type": "execute_result",
          "data": {
            "text/plain": [
              "<matplotlib.legend.Legend at 0x7f76bac4a430>"
            ]
          },
          "metadata": {},
          "execution_count": 25
        },
        {
          "output_type": "display_data",
          "data": {
            "text/plain": [
              "<Figure size 432x288 with 1 Axes>"
            ],
            "image/png": "[encoded data removed]"
          },
          "metadata": {
            "needs_background": "light"
          }
        }
      ]
    },
    {
      "cell_type": "code",
      "source": [
        "test_predictions = model.predict(X_test).flatten()\n",
        "\n",
        "plt.plot(dates_test, test_predictions)\n",
        "plt.plot(dates_test, y_test)\n",
        "plt.legend(['Testing Predictions', 'Testing Observations'])"
      ],
      "metadata": {
        "id": "wF5sDSxVWLFd",
        "colab": {
          "base_uri": "https://localhost:8080/",
          "height": 300
        },
        "outputId": "cd739b88-d2b4-4875-ea22-6c98c15464b4"
      },
      "execution_count": 22,
      "outputs": [
        {
          "output_type": "stream",
          "name": "stdout",
          "text": [
            "423/423 [==============================] - 3s 6ms/step\n"
          ]
        },
        {
          "output_type": "execute_result",
          "data": {
            "text/plain": [
              "<matplotlib.legend.Legend at 0x7f76bad2eb50>"
            ]
          },
          "metadata": {},
          "execution_count": 22
        },
        {
          "output_type": "display_data",
          "data": {
            "text/plain": [
              "<Figure size 432x288 with 1 Axes>"
            ],
            "image/png": "[encoded data removed]"
          },
          "metadata": {
            "needs_background": "light"
          }
        }
      ]
    }
  ]
}