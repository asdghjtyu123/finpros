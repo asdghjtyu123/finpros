{
  "nbformat": 4,
  "nbformat_minor": 0,
  "metadata": {
    "colab": {
      "provenance": []
    },
    "kernelspec": {
      "name": "python3",
      "display_name": "Python 3"
    },
    "language_info": {
      "name": "python"
    },
    "accelerator": "GPU",
    "gpuClass": "standard"
  },
  "cells": [
    {
      "cell_type": "code",
      "source": [
        "from google.colab import drive\n",
        "drive.mount('/content/gdrive')"
      ],
      "metadata": {
        "id": "qDmpUeF6QosO",
        "colab": {
          "base_uri": "https://localhost:8080/"
        },
        "outputId": "2060ad42-d246-497a-8f15-508d41802daa"
      },
      "execution_count": null,
      "outputs": [
        {
          "output_type": "stream",
          "name": "stdout",
          "text": [
            "Mounted at /content/gdrive\n"
          ]
        }
      ]
    },
    {
      "cell_type": "code",
      "source": [
        "import pandas as pd\n",
        "import datetime\n",
        "from keras.models import Sequential\n",
        "from keras.layers import Dense\n",
        "from keras.layers import SimpleRNN\n",
        "from keras.layers import Dropout\n",
        "\n",
        "import matplotlib.pyplot as plt\n",
        "import os\n",
        "import tensorflow as tf\n",
        "from tensorflow import keras\n",
        "from tensorflow.keras.optimizers import Adam\n",
        "df1 = pd.read_csv('/content/gdrive/MyDrive/FPT/PNJ.csv')\n",
        "df1\n"
      ],
      "metadata": {
        "colab": {
          "base_uri": "https://localhost:8080/",
          "height": 424
        },
        "id": "PSIHfWL23fBi",
        "outputId": "c02e46b8-2b2a-4977-f0fa-786e3c243528"
      },
      "execution_count": null,
      "outputs": [
        {
          "output_type": "execute_result",
          "data": {
            "text/plain": [
              "       Ticker         Date/Time   Open   High    Low  Close  Volume  \\\n",
              "0         PNJ    2/28/2018 9:15  78.14  78.99  78.14  78.99     270   \n",
              "1         PNJ    2/28/2018 9:16  78.94  78.94  78.94  78.94      10   \n",
              "2         PNJ    2/28/2018 9:19  78.14  78.14  78.14  78.14     283   \n",
              "3         PNJ    2/28/2018 9:20  78.14  78.14  78.14  78.14     480   \n",
              "4         PNJ    2/28/2018 9:21  78.14  78.14  78.14  78.14     146   \n",
              "...       ...               ...    ...    ...    ...    ...     ...   \n",
              "125304    PNJ  12/22/2020 14:22  78.20  78.20  78.20  78.20    5000   \n",
              "125305    PNJ  12/22/2020 14:23  78.20  78.20  78.20  78.20    1700   \n",
              "125306    PNJ  12/22/2020 14:24  78.20  78.20  78.20  78.20     870   \n",
              "125307    PNJ  12/22/2020 14:25  78.10  78.10  78.10  78.10   13000   \n",
              "125308    PNJ  12/22/2020 14:46  78.30  78.30  78.30  78.30    1500   \n",
              "\n",
              "        Open Interest  \n",
              "0                   0  \n",
              "1                   0  \n",
              "2                   0  \n",
              "3                   0  \n",
              "4                   0  \n",
              "...               ...  \n",
              "125304              0  \n",
              "125305              0  \n",
              "125306              0  \n",
              "125307              0  \n",
              "125308              0  \n",
              "\n",
              "[125309 rows x 8 columns]"
            ],
            "text/html": [
              "\n",
              "  <div id=\"df-f2ad9f0b-7238-4bed-8084-175498b67d33\">\n",
              "    <div class=\"colab-df-container\">\n",
              "      <div>\n",
              "<style scoped>\n",
              "    .dataframe tbody tr th:only-of-type {\n",
              "        vertical-align: middle;\n",
              "    }\n",
              "\n",
              "    .dataframe tbody tr th {\n",
              "        vertical-align: top;\n",
              "    }\n",
              "\n",
              "    .dataframe thead th {\n",
              "        text-align: right;\n",
              "    }\n",
              "</style>\n",
              "<table border=\"1\" class=\"dataframe\">\n",
              "  <thead>\n",
              "    <tr style=\"text-align: right;\">\n",
              "      <th></th>\n",
              "      <th>Ticker</th>\n",
              "      <th>Date/Time</th>\n",
              "      <th>Open</th>\n",
              "      <th>High</th>\n",
              "      <th>Low</th>\n",
              "      <th>Close</th>\n",
              "      <th>Volume</th>\n",
              "      <th>Open Interest</th>\n",
              "    </tr>\n",
              "  </thead>\n",
              "  <tbody>\n",
              "    <tr>\n",
              "      <th>0</th>\n",
              "      <td>PNJ</td>\n",
              "      <td>2/28/2018 9:15</td>\n",
              "      <td>78.14</td>\n",
              "      <td>78.99</td>\n",
              "      <td>78.14</td>\n",
              "      <td>78.99</td>\n",
              "      <td>270</td>\n",
              "      <td>0</td>\n",
              "    </tr>\n",
              "    <tr>\n",
              "      <th>1</th>\n",
              "      <td>PNJ</td>\n",
              "      <td>2/28/2018 9:16</td>\n",
              "      <td>78.94</td>\n",
              "      <td>78.94</td>\n",
              "      <td>78.94</td>\n",
              "      <td>78.94</td>\n",
              "      <td>10</td>\n",
              "      <td>0</td>\n",
              "    </tr>\n",
              "    <tr>\n",
              "      <th>2</th>\n",
              "      <td>PNJ</td>\n",
              "      <td>2/28/2018 9:19</td>\n",
              "      <td>78.14</td>\n",
              "      <td>78.14</td>\n",
              "      <td>78.14</td>\n",
              "      <td>78.14</td>\n",
              "      <td>283</td>\n",
              "      <td>0</td>\n",
              "    </tr>\n",
              "    <tr>\n",
              "      <th>3</th>\n",
              "      <td>PNJ</td>\n",
              "      <td>2/28/2018 9:20</td>\n",
              "      <td>78.14</td>\n",
              "      <td>78.14</td>\n",
              "      <td>78.14</td>\n",
              "      <td>78.14</td>\n",
              "      <td>480</td>\n",
              "      <td>0</td>\n",
              "    </tr>\n",
              "    <tr>\n",
              "      <th>4</th>\n",
              "      <td>PNJ</td>\n",
              "      <td>2/28/2018 9:21</td>\n",
              "      <td>78.14</td>\n",
              "      <td>78.14</td>\n",
              "      <td>78.14</td>\n",
              "      <td>78.14</td>\n",
              "      <td>146</td>\n",
              "      <td>0</td>\n",
              "    </tr>\n",
              "    <tr>\n",
              "      <th>...</th>\n",
              "      <td>...</td>\n",
              "      <td>...</td>\n",
              "      <td>...</td>\n",
              "      <td>...</td>\n",
              "      <td>...</td>\n",
              "      <td>...</td>\n",
              "      <td>...</td>\n",
              "      <td>...</td>\n",
              "    </tr>\n",
              "    <tr>\n",
              "      <th>125304</th>\n",
              "      <td>PNJ</td>\n",
              "      <td>12/22/2020 14:22</td>\n",
              "      <td>78.20</td>\n",
              "      <td>78.20</td>\n",
              "      <td>78.20</td>\n",
              "      <td>78.20</td>\n",
              "      <td>5000</td>\n",
              "      <td>0</td>\n",
              "    </tr>\n",
              "    <tr>\n",
              "      <th>125305</th>\n",
              "      <td>PNJ</td>\n",
              "      <td>12/22/2020 14:23</td>\n",
              "      <td>78.20</td>\n",
              "      <td>78.20</td>\n",
              "      <td>78.20</td>\n",
              "      <td>78.20</td>\n",
              "      <td>1700</td>\n",
              "      <td>0</td>\n",
              "    </tr>\n",
              "    <tr>\n",
              "      <th>125306</th>\n",
              "      <td>PNJ</td>\n",
              "      <td>12/22/2020 14:24</td>\n",
              "      <td>78.20</td>\n",
              "      <td>78.20</td>\n",
              "      <td>78.20</td>\n",
              "      <td>78.20</td>\n",
              "      <td>870</td>\n",
              "      <td>0</td>\n",
              "    </tr>\n",
              "    <tr>\n",
              "      <th>125307</th>\n",
              "      <td>PNJ</td>\n",
              "      <td>12/22/2020 14:25</td>\n",
              "      <td>78.10</td>\n",
              "      <td>78.10</td>\n",
              "      <td>78.10</td>\n",
              "      <td>78.10</td>\n",
              "      <td>13000</td>\n",
              "      <td>0</td>\n",
              "    </tr>\n",
              "    <tr>\n",
              "      <th>125308</th>\n",
              "      <td>PNJ</td>\n",
              "      <td>12/22/2020 14:46</td>\n",
              "      <td>78.30</td>\n",
              "      <td>78.30</td>\n",
              "      <td>78.30</td>\n",
              "      <td>78.30</td>\n",
              "      <td>1500</td>\n",
              "      <td>0</td>\n",
              "    </tr>\n",
              "  </tbody>\n",
              "</table>\n",
              "<p>125309 rows × 8 columns</p>\n",
              "</div>\n",
              "      <button class=\"colab-df-convert\" onclick=\"convertToInteractive('df-f2ad9f0b-7238-4bed-8084-175498b67d33')\"\n",
              "              title=\"Convert this dataframe to an interactive table.\"\n",
              "              style=\"display:none;\">\n",
              "        \n",
              "  <svg xmlns=\"http://www.w3.org/2000/svg\" height=\"24px\"viewBox=\"0 0 24 24\"\n",
              "       width=\"24px\">\n",
              "    <path d=\"M0 0h24v24H0V0z\" fill=\"none\"/>\n",
              "    <path d=\"M18.56 5.44l.94 2.06.94-2.06 2.06-.94-2.06-.94-.94-2.06-.94 2.06-2.06.94zm-11 1L8.5 8.5l.94-2.06 2.06-.94-2.06-.94L8.5 2.5l-.94 2.06-2.06.94zm10 10l.94 2.06.94-2.06 2.06-.94-2.06-.94-.94-2.06-.94 2.06-2.06.94z\"/><path d=\"M17.41 7.96l-1.37-1.37c-.4-.4-.92-.59-1.43-.59-.52 0-1.04.2-1.43.59L10.3 9.45l-7.72 7.72c-.78.78-.78 2.05 0 2.83L4 21.41c.39.39.9.59 1.41.59.51 0 1.02-.2 1.41-.59l7.78-7.78 2.81-2.81c.8-.78.8-2.07 0-2.86zM5.41 20L4 18.59l7.72-7.72 1.47 1.35L5.41 20z\"/>\n",
              "  </svg>\n",
              "      </button>\n",
              "      \n",
              "  <style>\n",
              "    .colab-df-container {\n",
              "      display:flex;\n",
              "      flex-wrap:wrap;\n",
              "      gap: 12px;\n",
              "    }\n",
              "\n",
              "    .colab-df-convert {\n",
              "      background-color: #E8F0FE;\n",
              "      border: none;\n",
              "      border-radius: 50%;\n",
              "      cursor: pointer;\n",
              "      display: none;\n",
              "      fill: #1967D2;\n",
              "      height: 32px;\n",
              "      padding: 0 0 0 0;\n",
              "      width: 32px;\n",
              "    }\n",
              "\n",
              "    .colab-df-convert:hover {\n",
              "      background-color: #E2EBFA;\n",
              "      box-shadow: 0px 1px 2px rgba(60, 64, 67, 0.3), 0px 1px 3px 1px rgba(60, 64, 67, 0.15);\n",
              "      fill: #174EA6;\n",
              "    }\n",
              "\n",
              "    [theme=dark] .colab-df-convert {\n",
              "      background-color: #3B4455;\n",
              "      fill: #D2E3FC;\n",
              "    }\n",
              "\n",
              "    [theme=dark] .colab-df-convert:hover {\n",
              "      background-color: #434B5C;\n",
              "      box-shadow: 0px 1px 3px 1px rgba(0, 0, 0, 0.15);\n",
              "      filter: drop-shadow(0px 1px 2px rgba(0, 0, 0, 0.3));\n",
              "      fill: #FFFFFF;\n",
              "    }\n",
              "  </style>\n",
              "\n",
              "      <script>\n",
              "        const buttonEl =\n",
              "          document.querySelector('#df-f2ad9f0b-7238-4bed-8084-175498b67d33 button.colab-df-convert');\n",
              "        buttonEl.style.display =\n",
              "          google.colab.kernel.accessAllowed ? 'block' : 'none';\n",
              "\n",
              "        async function convertToInteractive(key) {\n",
              "          const element = document.querySelector('#df-f2ad9f0b-7238-4bed-8084-175498b67d33');\n",
              "          const dataTable =\n",
              "            await google.colab.kernel.invokeFunction('convertToInteractive',\n",
              "                                                     [key], {});\n",
              "          if (!dataTable) return;\n",
              "\n",
              "          const docLinkHtml = 'Like what you see? Visit the ' +\n",
              "            '<a target=\"_blank\" href=https://colab.research.google.com/notebooks/data_table.ipynb>data table notebook</a>'\n",
              "            + ' to learn more about interactive tables.';\n",
              "          element.innerHTML = '';\n",
              "          dataTable['output_type'] = 'display_data';\n",
              "          await google.colab.output.renderOutput(dataTable, element);\n",
              "          const docLink = document.createElement('div');\n",
              "          docLink.innerHTML = docLinkHtml;\n",
              "          element.appendChild(docLink);\n",
              "        }\n",
              "      </script>\n",
              "    </div>\n",
              "  </div>\n",
              "  "
            ]
          },
          "metadata": {},
          "execution_count": 2
        }
      ]
    },
    {
      "cell_type": "markdown",
      "source": [
        "Phân tích biến động giá cổ phiếu dựa trên giá close cuối ngày"
      ],
      "metadata": {
        "id": "JPU8qGm0ZEQS"
      }
    },
    {
      "cell_type": "code",
      "source": [
        "df1 = df1[['Date/Time', 'Close']]\n"
      ],
      "metadata": {
        "id": "p2SXJDotRIku"
      },
      "execution_count": null,
      "outputs": []
    },
    {
      "cell_type": "code",
      "source": [
        "def str_to_datetime1(s):\n",
        "  sp = s.split(' ')[0]\n",
        "  sp1 = s.split(' ')[1]\n",
        "\n",
        "  split = sp.split('/')\n",
        "  split1 = sp1.split(':')\n",
        " \n",
        "  year, month, day,hour,minute = int(split[2]), int(split[0]), int(split[1]), int(split1[0]), int(split1[1])\n",
        "  return datetime.datetime(year=year, month=month, day=day,hour=hour,minute=minute)\n",
        "\n",
        "datetime_object1 = str_to_datetime1('12/25/2018 9:15')\n",
        "datetime_object1"
      ],
      "metadata": {
        "colab": {
          "base_uri": "https://localhost:8080/"
        },
        "id": "mtxZiZfyRbTn",
        "outputId": "1aa30a1b-9a6e-49df-9f0c-b6402e7b298f"
      },
      "execution_count": null,
      "outputs": [
        {
          "output_type": "execute_result",
          "data": {
            "text/plain": [
              "datetime.datetime(2018, 12, 25, 9, 15)"
            ]
          },
          "metadata": {},
          "execution_count": 4
        }
      ]
    },
    {
      "cell_type": "code",
      "source": [
        "df1['Date/Time'] = df1['Date/Time'].apply(str_to_datetime1)\n",
        "df1['Date/Time']"
      ],
      "metadata": {
        "colab": {
          "base_uri": "https://localhost:8080/"
        },
        "id": "WM8hIDu_SKD3",
        "outputId": "b6a7b24c-dd8e-43b0-ac79-db390df6faa9"
      },
      "execution_count": null,
      "outputs": [
        {
          "output_type": "stream",
          "name": "stderr",
          "text": [
            "<ipython-input-5-1c30a0f8f3cd>:1: SettingWithCopyWarning: \n",
            "A value is trying to be set on a copy of a slice from a DataFrame.\n",
            "Try using .loc[row_indexer,col_indexer] = value instead\n",
            "\n",
            "See the caveats in the documentation: https://pandas.pydata.org/pandas-docs/stable/user_guide/indexing.html#returning-a-view-versus-a-copy\n",
            "  df1['Date/Time'] = df1['Date/Time'].apply(str_to_datetime1)\n"
          ]
        },
        {
          "output_type": "execute_result",
          "data": {
            "text/plain": [
              "0        2018-02-28 09:15:00\n",
              "1        2018-02-28 09:16:00\n",
              "2        2018-02-28 09:19:00\n",
              "3        2018-02-28 09:20:00\n",
              "4        2018-02-28 09:21:00\n",
              "                 ...        \n",
              "125304   2020-12-22 14:22:00\n",
              "125305   2020-12-22 14:23:00\n",
              "125306   2020-12-22 14:24:00\n",
              "125307   2020-12-22 14:25:00\n",
              "125308   2020-12-22 14:46:00\n",
              "Name: Date/Time, Length: 125309, dtype: datetime64[ns]"
            ]
          },
          "metadata": {},
          "execution_count": 5
        }
      ]
    },
    {
      "cell_type": "code",
      "source": [
        "df1.index = df1.pop('Date/Time')"
      ],
      "metadata": {
        "id": "GrEeoSsNUdiu"
      },
      "execution_count": null,
      "outputs": []
    },
    {
      "cell_type": "code",
      "source": [
        "import numpy as np\n",
        "import time\n",
        "from dateutil.relativedelta import relativedelta\n",
        "def df_to_windowed_df(dataframe, first_date_str, last_date_str, n=3):\n",
        "  first_date = str_to_datetime1(first_date_str)\n",
        "  last_date  = str_to_datetime1(last_date_str)\n",
        "\n",
        "  target_date = first_date\n",
        "  \n",
        "  dates = []\n",
        "  X, Y = [], []\n",
        "\n",
        "  last_time = False\n",
        "  while True:\n",
        "    df_subset = dataframe.loc[:target_date].tail(n+1)\n",
        "    \n",
        "    if len(df_subset) != n+1:\n",
        "      print(f'Error: Window of size {n} is too large for date {target_date}')\n",
        "      return\n",
        "\n",
        "    values = df_subset['Close'].to_numpy()\n",
        "    x, y = values[:-1], values[-1]\n",
        "    # print(x,y)\n",
        "    dates.append(target_date)\n",
        "    X.append(x)\n",
        "    Y.append(y)\n",
        "    \n",
        "    next = dataframe.loc[target_date:target_date+datetime.timedelta(hours=1,days=1)+relativedelta(years=1)]\n",
        "    # print(\"next_week\",next_week)\n",
        "    next_datetime_str = str(next.head(2).tail(1).index.values[0])\n",
        "    # print(\"next_datetime_str\",next_week.head(2),\"|\",next_week.head(2).tail(1),\"|\",next_week.head(2).tail(1).index.values[0])\n",
        "    next_date_str = next_datetime_str.split('T')[0]\n",
        "    next_hour_str = next_datetime_str.split('T')[1]\n",
        "    # print(\"next_hour_str\",next_hour_str)\n",
        "    # print(\"next_date_str\",next_date_str)\n",
        "    hour_minute= next_hour_str.split(':')\n",
        "    year_month_day = next_date_str.split('-')\n",
        "    hour,minute,sc= hour_minute\n",
        "    year, month, day = year_month_day\n",
        "    next_date = datetime.datetime(day=int(day), month=int(month), year=int(year),hour=int(hour),minute=int(minute))\n",
        "    # print(next_date)\n",
        "    if last_time:\n",
        "      break\n",
        "    # time.sleep(0.1)\n",
        "    target_date = next_date\n",
        "    \n",
        "    if target_date == last_date:\n",
        "      last_time = True\n",
        "    # time.sleep(0.001)\n",
        "  ret_df = pd.DataFrame({})\n",
        "  ret_df['Target Date'] = dates\n",
        "  \n",
        "  X = np.array(X)\n",
        "  for i in range(0, n):\n",
        "    X[:, i]\n",
        "    ret_df[f'Target-{n-i}'] = X[:, i]\n",
        "  \n",
        "  ret_df['Target'] = Y\n",
        "\n",
        "  return ret_df\n",
        "\n",
        "# Start day second time around: '2021-03-25'\n",
        "windowed_df = df_to_windowed_df(df1, \n",
        "                                '12/26/2018 9:18', \n",
        "                                '12/22/2020 14:46', \n",
        "                                n=10)\n",
        "windowed_df"
      ],
      "metadata": {
        "colab": {
          "base_uri": "https://localhost:8080/",
          "height": 424
        },
        "id": "Amp8rE7mUPJf",
        "outputId": "7fc7d277-8e33-4a84-dbe1-3fa6e3ba36c3"
      },
      "execution_count": null,
      "outputs": [
        {
          "output_type": "execute_result",
          "data": {
            "text/plain": [
              "              Target Date  Target-10  Target-9  Target-8  Target-7  Target-6  \\\n",
              "0     2018-12-26 09:18:00      67.51     67.58     67.58     67.58     67.58   \n",
              "1     2018-12-26 09:21:00      67.58     67.58     67.58     67.51     67.43   \n",
              "2     2018-12-26 09:22:00      67.58     67.58     67.51     67.43     67.43   \n",
              "3     2018-12-26 09:23:00      67.58     67.51     67.43     67.43     67.36   \n",
              "4     2018-12-26 09:24:00      67.51     67.43     67.43     67.36     67.36   \n",
              "...                   ...        ...       ...       ...       ...       ...   \n",
              "89847 2020-12-22 14:22:00      78.20     78.30     78.20     78.20     78.20   \n",
              "89848 2020-12-22 14:23:00      78.30     78.20     78.20     78.20     78.20   \n",
              "89849 2020-12-22 14:24:00      78.20     78.20     78.20     78.20     78.20   \n",
              "89850 2020-12-22 14:25:00      78.20     78.20     78.20     78.20     78.20   \n",
              "89851 2020-12-22 14:46:00      78.20     78.20     78.20     78.20     78.30   \n",
              "\n",
              "       Target-5  Target-4  Target-3  Target-2  Target-1  Target  \n",
              "0         67.51     67.43     67.43     67.36     67.36   67.36  \n",
              "1         67.43     67.36     67.36     67.36     67.87   67.94  \n",
              "2         67.36     67.36     67.36     67.87     67.94   67.94  \n",
              "3         67.36     67.36     67.87     67.94     67.94   67.58  \n",
              "4         67.36     67.87     67.94     67.94     67.58   67.58  \n",
              "...         ...       ...       ...       ...       ...     ...  \n",
              "89847     78.20     78.20     78.20     78.30     78.30   78.20  \n",
              "89848     78.20     78.20     78.30     78.30     78.20   78.20  \n",
              "89849     78.20     78.30     78.30     78.20     78.20   78.20  \n",
              "89850     78.30     78.30     78.20     78.20     78.20   78.10  \n",
              "89851     78.30     78.20     78.20     78.20     78.10   78.30  \n",
              "\n",
              "[89852 rows x 12 columns]"
            ],
            "text/html": [
              "\n",
              "  <div id=\"df-c3575186-4045-4c5d-83c7-b5367ca8a966\">\n",
              "    <div class=\"colab-df-container\">\n",
              "      <div>\n",
              "<style scoped>\n",
              "    .dataframe tbody tr th:only-of-type {\n",
              "        vertical-align: middle;\n",
              "    }\n",
              "\n",
              "    .dataframe tbody tr th {\n",
              "        vertical-align: top;\n",
              "    }\n",
              "\n",
              "    .dataframe thead th {\n",
              "        text-align: right;\n",
              "    }\n",
              "</style>\n",
              "<table border=\"1\" class=\"dataframe\">\n",
              "  <thead>\n",
              "    <tr style=\"text-align: right;\">\n",
              "      <th></th>\n",
              "      <th>Target Date</th>\n",
              "      <th>Target-10</th>\n",
              "      <th>Target-9</th>\n",
              "      <th>Target-8</th>\n",
              "      <th>Target-7</th>\n",
              "      <th>Target-6</th>\n",
              "      <th>Target-5</th>\n",
              "      <th>Target-4</th>\n",
              "      <th>Target-3</th>\n",
              "      <th>Target-2</th>\n",
              "      <th>Target-1</th>\n",
              "      <th>Target</th>\n",
              "    </tr>\n",
              "  </thead>\n",
              "  <tbody>\n",
              "    <tr>\n",
              "      <th>0</th>\n",
              "      <td>2018-12-26 09:18:00</td>\n",
              "      <td>67.51</td>\n",
              "      <td>67.58</td>\n",
              "      <td>67.58</td>\n",
              "      <td>67.58</td>\n",
              "      <td>67.58</td>\n",
              "      <td>67.51</td>\n",
              "      <td>67.43</td>\n",
              "      <td>67.43</td>\n",
              "      <td>67.36</td>\n",
              "      <td>67.36</td>\n",
              "      <td>67.36</td>\n",
              "    </tr>\n",
              "    <tr>\n",
              "      <th>1</th>\n",
              "      <td>2018-12-26 09:21:00</td>\n",
              "      <td>67.58</td>\n",
              "      <td>67.58</td>\n",
              "      <td>67.58</td>\n",
              "      <td>67.51</td>\n",
              "      <td>67.43</td>\n",
              "      <td>67.43</td>\n",
              "      <td>67.36</td>\n",
              "      <td>67.36</td>\n",
              "      <td>67.36</td>\n",
              "      <td>67.87</td>\n",
              "      <td>67.94</td>\n",
              "    </tr>\n",
              "    <tr>\n",
              "      <th>2</th>\n",
              "      <td>2018-12-26 09:22:00</td>\n",
              "      <td>67.58</td>\n",
              "      <td>67.58</td>\n",
              "      <td>67.51</td>\n",
              "      <td>67.43</td>\n",
              "      <td>67.43</td>\n",
              "      <td>67.36</td>\n",
              "      <td>67.36</td>\n",
              "      <td>67.36</td>\n",
              "      <td>67.87</td>\n",
              "      <td>67.94</td>\n",
              "      <td>67.94</td>\n",
              "    </tr>\n",
              "    <tr>\n",
              "      <th>3</th>\n",
              "      <td>2018-12-26 09:23:00</td>\n",
              "      <td>67.58</td>\n",
              "      <td>67.51</td>\n",
              "      <td>67.43</td>\n",
              "      <td>67.43</td>\n",
              "      <td>67.36</td>\n",
              "      <td>67.36</td>\n",
              "      <td>67.36</td>\n",
              "      <td>67.87</td>\n",
              "      <td>67.94</td>\n",
              "      <td>67.94</td>\n",
              "      <td>67.58</td>\n",
              "    </tr>\n",
              "    <tr>\n",
              "      <th>4</th>\n",
              "      <td>2018-12-26 09:24:00</td>\n",
              "      <td>67.51</td>\n",
              "      <td>67.43</td>\n",
              "      <td>67.43</td>\n",
              "      <td>67.36</td>\n",
              "      <td>67.36</td>\n",
              "      <td>67.36</td>\n",
              "      <td>67.87</td>\n",
              "      <td>67.94</td>\n",
              "      <td>67.94</td>\n",
              "      <td>67.58</td>\n",
              "      <td>67.58</td>\n",
              "    </tr>\n",
              "    <tr>\n",
              "      <th>...</th>\n",
              "      <td>...</td>\n",
              "      <td>...</td>\n",
              "      <td>...</td>\n",
              "      <td>...</td>\n",
              "      <td>...</td>\n",
              "      <td>...</td>\n",
              "      <td>...</td>\n",
              "      <td>...</td>\n",
              "      <td>...</td>\n",
              "      <td>...</td>\n",
              "      <td>...</td>\n",
              "      <td>...</td>\n",
              "    </tr>\n",
              "    <tr>\n",
              "      <th>89847</th>\n",
              "      <td>2020-12-22 14:22:00</td>\n",
              "      <td>78.20</td>\n",
              "      <td>78.30</td>\n",
              "      <td>78.20</td>\n",
              "      <td>78.20</td>\n",
              "      <td>78.20</td>\n",
              "      <td>78.20</td>\n",
              "      <td>78.20</td>\n",
              "      <td>78.20</td>\n",
              "      <td>78.30</td>\n",
              "      <td>78.30</td>\n",
              "      <td>78.20</td>\n",
              "    </tr>\n",
              "    <tr>\n",
              "      <th>89848</th>\n",
              "      <td>2020-12-22 14:23:00</td>\n",
              "      <td>78.30</td>\n",
              "      <td>78.20</td>\n",
              "      <td>78.20</td>\n",
              "      <td>78.20</td>\n",
              "      <td>78.20</td>\n",
              "      <td>78.20</td>\n",
              "      <td>78.20</td>\n",
              "      <td>78.30</td>\n",
              "      <td>78.30</td>\n",
              "      <td>78.20</td>\n",
              "      <td>78.20</td>\n",
              "    </tr>\n",
              "    <tr>\n",
              "      <th>89849</th>\n",
              "      <td>2020-12-22 14:24:00</td>\n",
              "      <td>78.20</td>\n",
              "      <td>78.20</td>\n",
              "      <td>78.20</td>\n",
              "      <td>78.20</td>\n",
              "      <td>78.20</td>\n",
              "      <td>78.20</td>\n",
              "      <td>78.30</td>\n",
              "      <td>78.30</td>\n",
              "      <td>78.20</td>\n",
              "      <td>78.20</td>\n",
              "      <td>78.20</td>\n",
              "    </tr>\n",
              "    <tr>\n",
              "      <th>89850</th>\n",
              "      <td>2020-12-22 14:25:00</td>\n",
              "      <td>78.20</td>\n",
              "      <td>78.20</td>\n",
              "      <td>78.20</td>\n",
              "      <td>78.20</td>\n",
              "      <td>78.20</td>\n",
              "      <td>78.30</td>\n",
              "      <td>78.30</td>\n",
              "      <td>78.20</td>\n",
              "      <td>78.20</td>\n",
              "      <td>78.20</td>\n",
              "      <td>78.10</td>\n",
              "    </tr>\n",
              "    <tr>\n",
              "      <th>89851</th>\n",
              "      <td>2020-12-22 14:46:00</td>\n",
              "      <td>78.20</td>\n",
              "      <td>78.20</td>\n",
              "      <td>78.20</td>\n",
              "      <td>78.20</td>\n",
              "      <td>78.30</td>\n",
              "      <td>78.30</td>\n",
              "      <td>78.20</td>\n",
              "      <td>78.20</td>\n",
              "      <td>78.20</td>\n",
              "      <td>78.10</td>\n",
              "      <td>78.30</td>\n",
              "    </tr>\n",
              "  </tbody>\n",
              "</table>\n",
              "<p>89852 rows × 12 columns</p>\n",
              "</div>\n",
              "      <button class=\"colab-df-convert\" onclick=\"convertToInteractive('df-c3575186-4045-4c5d-83c7-b5367ca8a966')\"\n",
              "              title=\"Convert this dataframe to an interactive table.\"\n",
              "              style=\"display:none;\">\n",
              "        \n",
              "  <svg xmlns=\"http://www.w3.org/2000/svg\" height=\"24px\"viewBox=\"0 0 24 24\"\n",
              "       width=\"24px\">\n",
              "    <path d=\"M0 0h24v24H0V0z\" fill=\"none\"/>\n",
              "    <path d=\"M18.56 5.44l.94 2.06.94-2.06 2.06-.94-2.06-.94-.94-2.06-.94 2.06-2.06.94zm-11 1L8.5 8.5l.94-2.06 2.06-.94-2.06-.94L8.5 2.5l-.94 2.06-2.06.94zm10 10l.94 2.06.94-2.06 2.06-.94-2.06-.94-.94-2.06-.94 2.06-2.06.94z\"/><path d=\"M17.41 7.96l-1.37-1.37c-.4-.4-.92-.59-1.43-.59-.52 0-1.04.2-1.43.59L10.3 9.45l-7.72 7.72c-.78.78-.78 2.05 0 2.83L4 21.41c.39.39.9.59 1.41.59.51 0 1.02-.2 1.41-.59l7.78-7.78 2.81-2.81c.8-.78.8-2.07 0-2.86zM5.41 20L4 18.59l7.72-7.72 1.47 1.35L5.41 20z\"/>\n",
              "  </svg>\n",
              "      </button>\n",
              "      \n",
              "  <style>\n",
              "    .colab-df-container {\n",
              "      display:flex;\n",
              "      flex-wrap:wrap;\n",
              "      gap: 12px;\n",
              "    }\n",
              "\n",
              "    .colab-df-convert {\n",
              "      background-color: #E8F0FE;\n",
              "      border: none;\n",
              "      border-radius: 50%;\n",
              "      cursor: pointer;\n",
              "      display: none;\n",
              "      fill: #1967D2;\n",
              "      height: 32px;\n",
              "      padding: 0 0 0 0;\n",
              "      width: 32px;\n",
              "    }\n",
              "\n",
              "    .colab-df-convert:hover {\n",
              "      background-color: #E2EBFA;\n",
              "      box-shadow: 0px 1px 2px rgba(60, 64, 67, 0.3), 0px 1px 3px 1px rgba(60, 64, 67, 0.15);\n",
              "      fill: #174EA6;\n",
              "    }\n",
              "\n",
              "    [theme=dark] .colab-df-convert {\n",
              "      background-color: #3B4455;\n",
              "      fill: #D2E3FC;\n",
              "    }\n",
              "\n",
              "    [theme=dark] .colab-df-convert:hover {\n",
              "      background-color: #434B5C;\n",
              "      box-shadow: 0px 1px 3px 1px rgba(0, 0, 0, 0.15);\n",
              "      filter: drop-shadow(0px 1px 2px rgba(0, 0, 0, 0.3));\n",
              "      fill: #FFFFFF;\n",
              "    }\n",
              "  </style>\n",
              "\n",
              "      <script>\n",
              "        const buttonEl =\n",
              "          document.querySelector('#df-c3575186-4045-4c5d-83c7-b5367ca8a966 button.colab-df-convert');\n",
              "        buttonEl.style.display =\n",
              "          google.colab.kernel.accessAllowed ? 'block' : 'none';\n",
              "\n",
              "        async function convertToInteractive(key) {\n",
              "          const element = document.querySelector('#df-c3575186-4045-4c5d-83c7-b5367ca8a966');\n",
              "          const dataTable =\n",
              "            await google.colab.kernel.invokeFunction('convertToInteractive',\n",
              "                                                     [key], {});\n",
              "          if (!dataTable) return;\n",
              "\n",
              "          const docLinkHtml = 'Like what you see? Visit the ' +\n",
              "            '<a target=\"_blank\" href=https://colab.research.google.com/notebooks/data_table.ipynb>data table notebook</a>'\n",
              "            + ' to learn more about interactive tables.';\n",
              "          element.innerHTML = '';\n",
              "          dataTable['output_type'] = 'display_data';\n",
              "          await google.colab.output.renderOutput(dataTable, element);\n",
              "          const docLink = document.createElement('div');\n",
              "          docLink.innerHTML = docLinkHtml;\n",
              "          element.appendChild(docLink);\n",
              "        }\n",
              "      </script>\n",
              "    </div>\n",
              "  </div>\n",
              "  "
            ]
          },
          "metadata": {},
          "execution_count": 7
        }
      ]
    },
    {
      "cell_type": "code",
      "source": [
        "def windowed_df_to_date_X_y(windowed_dataframe):\n",
        "  df_as_np = windowed_dataframe.to_numpy()\n",
        "  \n",
        "  dates = df_as_np[:,0]\n",
        " \n",
        "  middle_matrix = df_as_np[:, 1:-1]\n",
        "\n",
        "  X = middle_matrix.reshape((len(dates), middle_matrix.shape[1], 1))\n",
        "  \n",
        "  Y = df_as_np[:, -1]\n",
        "\n",
        "  return dates, X.astype(np.float32), Y.astype(np.float32)\n",
        "\n",
        "dates, X, y = windowed_df_to_date_X_y(windowed_df)\n",
        "\n",
        "dates.shape, X.shape, y.shape"
      ],
      "metadata": {
        "colab": {
          "base_uri": "https://localhost:8080/"
        },
        "id": "uD17zIbaIZ6n",
        "outputId": "8a95ab5f-a632-4b48-ca12-bc9e7c586c3a"
      },
      "execution_count": null,
      "outputs": [
        {
          "output_type": "execute_result",
          "data": {
            "text/plain": [
              "((89852,), (89852, 10, 1), (89852,))"
            ]
          },
          "metadata": {},
          "execution_count": 8
        }
      ]
    },
    {
      "cell_type": "code",
      "source": [
        "q_80 = int(len(dates) * .8)\n",
        "q_90 = int(len(dates) * .9)\n",
        "q_80, q_90, int(len(dates))"
      ],
      "metadata": {
        "colab": {
          "base_uri": "https://localhost:8080/"
        },
        "id": "UC1SN-OvvjYe",
        "outputId": "5c6427d9-df22-4f0f-cd6b-d6f316551c4e"
      },
      "execution_count": null,
      "outputs": [
        {
          "output_type": "execute_result",
          "data": {
            "text/plain": [
              "(71881, 80866, 89852)"
            ]
          },
          "metadata": {},
          "execution_count": 9
        }
      ]
    },
    {
      "cell_type": "code",
      "source": [
        "q_80 = int(len(dates) * .8)\n",
        "q_90 = int(len(dates) * .9)\n",
        "\n",
        "dates_train, X_train, y_train = dates[:q_80], X[:q_80], y[:q_80]\n",
        "\n",
        "dates_val, X_val, y_val = dates[q_80:q_90], X[q_80:q_90], y[q_80:q_90]\n",
        "dates_test, X_test, y_test = dates[q_90:], X[q_90:], y[q_90:]\n",
        "\n",
        "plt.plot(dates_train, y_train)\n",
        "plt.plot(dates_val, y_val)\n",
        "plt.plot(dates_test, y_test)\n",
        "\n",
        "plt.legend(['Train', 'Validation', 'Test'])"
      ],
      "metadata": {
        "colab": {
          "base_uri": "https://localhost:8080/",
          "height": 282
        },
        "id": "LPHWfwZeMZSS",
        "outputId": "0cc2f2bf-256f-49d4-bb38-53d3adbb2cd6"
      },
      "execution_count": null,
      "outputs": [
        {
          "output_type": "execute_result",
          "data": {
            "text/plain": [
              "<matplotlib.legend.Legend at 0x7fda4a10c9a0>"
            ]
          },
          "metadata": {},
          "execution_count": 10
        },
        {
          "output_type": "display_data",
          "data": {
            "text/plain": [
              "<Figure size 432x288 with 1 Axes>"
            ],
            "image/png": "[encoded data removed]"
          },
          "metadata": {
            "needs_background": "light"
          }
        }
      ]
    },
    {
      "cell_type": "markdown",
      "source": [
        "\n",
        "\n",
        "\n",
        "> Input layer\n",
        "\n",
        "\n",
        "Input: Input layer có input shape là (X_train.shape[1], 1), điều này có nghĩa là nó mong đợi các chuỗi đầu vào có độ dài là X_train.shape[1] với một feature\n",
        "\n",
        "> hidden layer\n",
        "\n",
        "\n",
        "hidden layer: RNN có bốn hidden layer, mỗi lớp bao gồm một đơn vị SimpleRNN với hàm kích hoạt tanh. Tất cả các lớp SimpleRNN trừ lớp cuối cùng đều có tham số return_sequences được đặt thành True, chúng sẽ đưa ra một chuỗi các hidden states thay vì chỉ hidden states cuối cùng. Unit trong mỗi lớp SimpleRNN là 50( càng nhiều Unit có thể tăng khả năng của mô hình để bắt được các mẫu phức tạp trong dữ liệu đầu vào)\n",
        "\n",
        "> Output layer\n",
        "\n",
        "\n",
        "Output: Lớp đầu ra bao gồm một đơn vị dense duy nhất với hàm kích hoạt tuyến tính, điều này có nghĩa là nó sẽ tạo ra một giá trị đầu ra liên tục.\n",
        "\n",
        ">compile\n",
        "\n",
        "\n",
        "\n",
        "compile: Mô hình RNN được biên dịch với tối ưu hóa Adam với tốc độ học là 0.0001, và hàm mất mát là mean squared error (mse). Mô hình cũng theo dõi độ lỗi trung bình tuyệt đối (mean_absolute_error) làm chỉ số trong quá trình huấn luyện."
      ],
      "metadata": {
        "id": "IiErHaGo5npH"
      }
    },
    {
      "cell_type": "code",
      "source": [
        "# BUILD RNN\n",
        "\n",
        "def Regressor():\n",
        " \n",
        "  regressor = Sequential()\n",
        "\n",
        "  regressor.add(SimpleRNN(units = 50, activation = \"tanh\", return_sequences = True, input_shape = (X_train.shape[1],1)))\n",
        "  regressor.add(SimpleRNN(units = 50, activation = \"tanh\", return_sequences = True))\n",
        "  regressor.add(SimpleRNN(units = 50,  activation = \"tanh\",  return_sequences = True) )\n",
        "  regressor.add(SimpleRNN(units = 50) )\n",
        "  regressor.add(Dense(units = 1))\n",
        "\n",
        "  regressor.compile(\n",
        "      optimizer = Adam(learning_rate=0.0001), \n",
        "      loss = \"mse\",\n",
        "      metrics = [\"mean_absolute_error\"])\n",
        "  return regressor\n",
        "model= Regressor()\n",
        "model.summary()\n",
        "\n"
      ],
      "metadata": {
        "colab": {
          "base_uri": "https://localhost:8080/"
        },
        "id": "-KFBmFBA2zbB",
        "outputId": "f5738191-6c6d-49fb-80f1-dba31e85c104"
      },
      "execution_count": null,
      "outputs": [
        {
          "output_type": "stream",
          "name": "stdout",
          "text": [
            "Model: \"sequential\"\n",
            "_________________________________________________________________\n",
            " Layer (type)                Output Shape              Param #   \n",
            "=================================================================\n",
            " simple_rnn (SimpleRNN)      (None, 10, 50)            2600      \n",
            "                                                                 \n",
            " simple_rnn_1 (SimpleRNN)    (None, 10, 50)            5050      \n",
            "                                                                 \n",
            " simple_rnn_2 (SimpleRNN)    (None, 10, 50)            5050      \n",
            "                                                                 \n",
            " simple_rnn_3 (SimpleRNN)    (None, 50)                5050      \n",
            "                                                                 \n",
            " dense (Dense)               (None, 1)                 51        \n",
            "                                                                 \n",
            "=================================================================\n",
            "Total params: 17,801\n",
            "Trainable params: 17,801\n",
            "Non-trainable params: 0\n",
            "_________________________________________________________________\n"
          ]
        }
      ]
    },
    {
      "cell_type": "code",
      "source": [
        "checkpoint_path = \"/content/gdrive/MyDrive/FPT/tensorflow/PNJ.h5\"\n",
        "# model.save(checkpoint_path)\n",
        "cp_callback = tf.keras.callbacks.ModelCheckpoint(filepath=checkpoint_path,\n",
        "                                                 save_weights_only=True,\n",
        "                                                 verbose=1,monitor='val_loss',\n",
        "                                                  mode='min',\n",
        "                                                  save_best_only=True)\n",
        "model.load_weights(checkpoint_path)\n",
        "\n",
        "history = model.fit(X_train, y_train, validation_data=(X_val, y_val),epochs = 50, batch_size = 2247, callbacks=[cp_callback])"
      ],
      "metadata": {
        "colab": {
          "base_uri": "https://localhost:8080/",
          "height": 1000
        },
        "id": "uLJtrHkT4nTm",
        "outputId": "93607283-dfc5-49f1-a673-691ccfbfe117"
      },
      "execution_count": null,
      "outputs": [
        {
          "output_type": "stream",
          "name": "stdout",
          "text": [
            "Epoch 1/50\n",
            "32/32 [==============================] - ETA: 0s - loss: 0.3315 - mean_absolute_error: 0.3872\n",
            "Epoch 1: val_loss improved from inf to 0.02522, saving model to /content/gdrive/MyDrive/FPT/tensorflow/PNJ.h5\n",
            "32/32 [==============================] - 16s 245ms/step - loss: 0.3315 - mean_absolute_error: 0.3872 - val_loss: 0.0252 - val_mean_absolute_error: 0.1150\n",
            "Epoch 2/50\n",
            "32/32 [==============================] - ETA: 0s - loss: 0.2983 - mean_absolute_error: 0.3340\n",
            "Epoch 2: val_loss improved from 0.02522 to 0.01710, saving model to /content/gdrive/MyDrive/FPT/tensorflow/PNJ.h5\n",
            "32/32 [==============================] - 7s 213ms/step - loss: 0.2983 - mean_absolute_error: 0.3340 - val_loss: 0.0171 - val_mean_absolute_error: 0.0794\n",
            "Epoch 3/50\n",
            "32/32 [==============================] - ETA: 0s - loss: 0.2979 - mean_absolute_error: 0.3336\n",
            "Epoch 3: val_loss did not improve from 0.01710\n",
            "32/32 [==============================] - 7s 216ms/step - loss: 0.2979 - mean_absolute_error: 0.3336 - val_loss: 0.0178 - val_mean_absolute_error: 0.0849\n",
            "Epoch 4/50\n",
            "32/32 [==============================] - ETA: 0s - loss: 0.2979 - mean_absolute_error: 0.3335\n",
            "Epoch 4: val_loss did not improve from 0.01710\n",
            "32/32 [==============================] - 10s 318ms/step - loss: 0.2979 - mean_absolute_error: 0.3335 - val_loss: 0.0179 - val_mean_absolute_error: 0.0828\n",
            "Epoch 5/50\n",
            "32/32 [==============================] - ETA: 0s - loss: 0.2976 - mean_absolute_error: 0.3324\n",
            "Epoch 5: val_loss did not improve from 0.01710\n",
            "32/32 [==============================] - 9s 275ms/step - loss: 0.2976 - mean_absolute_error: 0.3324 - val_loss: 0.0185 - val_mean_absolute_error: 0.0859\n",
            "Epoch 6/50\n",
            "32/32 [==============================] - ETA: 0s - loss: 0.2980 - mean_absolute_error: 0.3336\n",
            "Epoch 6: val_loss did not improve from 0.01710\n",
            "32/32 [==============================] - 7s 233ms/step - loss: 0.2980 - mean_absolute_error: 0.3336 - val_loss: 0.0175 - val_mean_absolute_error: 0.0797\n",
            "Epoch 7/50\n",
            "32/32 [==============================] - ETA: 0s - loss: 0.2974 - mean_absolute_error: 0.3330\n",
            "Epoch 7: val_loss improved from 0.01710 to 0.01695, saving model to /content/gdrive/MyDrive/FPT/tensorflow/PNJ.h5\n",
            "32/32 [==============================] - 5s 173ms/step - loss: 0.2974 - mean_absolute_error: 0.3330 - val_loss: 0.0170 - val_mean_absolute_error: 0.0773\n",
            "Epoch 8/50\n",
            "32/32 [==============================] - ETA: 0s - loss: 0.2973 - mean_absolute_error: 0.3331\n",
            "Epoch 8: val_loss did not improve from 0.01695\n",
            "32/32 [==============================] - 6s 196ms/step - loss: 0.2973 - mean_absolute_error: 0.3331 - val_loss: 0.0180 - val_mean_absolute_error: 0.0859\n",
            "Epoch 9/50\n",
            "32/32 [==============================] - ETA: 0s - loss: 0.2977 - mean_absolute_error: 0.3348\n",
            "Epoch 9: val_loss did not improve from 0.01695\n",
            "32/32 [==============================] - 6s 190ms/step - loss: 0.2977 - mean_absolute_error: 0.3348 - val_loss: 0.0170 - val_mean_absolute_error: 0.0776\n",
            "Epoch 10/50\n",
            "32/32 [==============================] - ETA: 0s - loss: 0.2975 - mean_absolute_error: 0.3349\n",
            "Epoch 10: val_loss did not improve from 0.01695\n",
            "32/32 [==============================] - 5s 168ms/step - loss: 0.2975 - mean_absolute_error: 0.3349 - val_loss: 0.0185 - val_mean_absolute_error: 0.0852\n",
            "Epoch 11/50\n",
            " 4/32 [==>...........................] - ETA: 3s - loss: 0.2950 - mean_absolute_error: 0.3371"
          ]
        },
        {
          "output_type": "error",
          "ename": "KeyboardInterrupt",
          "evalue": "ignored",
          "traceback": [
            "\u001b[0;31m---------------------------------------------------------------------------\u001b[0m",
            "\u001b[0;31mKeyboardInterrupt\u001b[0m                         Traceback (most recent call last)",
            "\u001b[0;32m<ipython-input-12-ca40e1e80483>\u001b[0m in \u001b[0;36m<module>\u001b[0;34m\u001b[0m\n\u001b[1;32m      8\u001b[0m \u001b[0mmodel\u001b[0m\u001b[0;34m.\u001b[0m\u001b[0mload_weights\u001b[0m\u001b[0;34m(\u001b[0m\u001b[0mcheckpoint_path\u001b[0m\u001b[0;34m)\u001b[0m\u001b[0;34m\u001b[0m\u001b[0;34m\u001b[0m\u001b[0m\n\u001b[1;32m      9\u001b[0m \u001b[0;34m\u001b[0m\u001b[0m\n\u001b[0;32m---> 10\u001b[0;31m \u001b[0mhistory\u001b[0m \u001b[0;34m=\u001b[0m \u001b[0mmodel\u001b[0m\u001b[0;34m.\u001b[0m\u001b[0mfit\u001b[0m\u001b[0;34m(\u001b[0m\u001b[0mX_train\u001b[0m\u001b[0;34m,\u001b[0m \u001b[0my_train\u001b[0m\u001b[0;34m,\u001b[0m \u001b[0mvalidation_data\u001b[0m\u001b[0;34m=\u001b[0m\u001b[0;34m(\u001b[0m\u001b[0mX_val\u001b[0m\u001b[0;34m,\u001b[0m \u001b[0my_val\u001b[0m\u001b[0;34m)\u001b[0m\u001b[0;34m,\u001b[0m\u001b[0mepochs\u001b[0m \u001b[0;34m=\u001b[0m \u001b[0;36m50\u001b[0m\u001b[0;34m,\u001b[0m \u001b[0mbatch_size\u001b[0m \u001b[0;34m=\u001b[0m \u001b[0;36m2247\u001b[0m\u001b[0;34m,\u001b[0m \u001b[0mcallbacks\u001b[0m\u001b[0;34m=\u001b[0m\u001b[0;34m[\u001b[0m\u001b[0mcp_callback\u001b[0m\u001b[0;34m]\u001b[0m\u001b[0;34m)\u001b[0m\u001b[0;34m\u001b[0m\u001b[0;34m\u001b[0m\u001b[0m\n\u001b[0m",
            "\u001b[0;32m/usr/local/lib/python3.9/dist-packages/keras/utils/traceback_utils.py\u001b[0m in \u001b[0;36merror_handler\u001b[0;34m(*args, **kwargs)\u001b[0m\n\u001b[1;32m     63\u001b[0m         \u001b[0mfiltered_tb\u001b[0m \u001b[0;34m=\u001b[0m \u001b[0;32mNone\u001b[0m\u001b[0;34m\u001b[0m\u001b[0;34m\u001b[0m\u001b[0m\n\u001b[1;32m     64\u001b[0m         \u001b[0;32mtry\u001b[0m\u001b[0;34m:\u001b[0m\u001b[0;34m\u001b[0m\u001b[0;34m\u001b[0m\u001b[0m\n\u001b[0;32m---> 65\u001b[0;31m             \u001b[0;32mreturn\u001b[0m \u001b[0mfn\u001b[0m\u001b[0;34m(\u001b[0m\u001b[0;34m*\u001b[0m\u001b[0margs\u001b[0m\u001b[0;34m,\u001b[0m \u001b[0;34m**\u001b[0m\u001b[0mkwargs\u001b[0m\u001b[0;34m)\u001b[0m\u001b[0;34m\u001b[0m\u001b[0;34m\u001b[0m\u001b[0m\n\u001b[0m\u001b[1;32m     66\u001b[0m         \u001b[0;32mexcept\u001b[0m \u001b[0mException\u001b[0m \u001b[0;32mas\u001b[0m \u001b[0me\u001b[0m\u001b[0;34m:\u001b[0m\u001b[0;34m\u001b[0m\u001b[0;34m\u001b[0m\u001b[0m\n\u001b[1;32m     67\u001b[0m             \u001b[0mfiltered_tb\u001b[0m \u001b[0;34m=\u001b[0m \u001b[0m_process_traceback_frames\u001b[0m\u001b[0;34m(\u001b[0m\u001b[0me\u001b[0m\u001b[0;34m.\u001b[0m\u001b[0m__traceback__\u001b[0m\u001b[0;34m)\u001b[0m\u001b[0;34m\u001b[0m\u001b[0;34m\u001b[0m\u001b[0m\n",
            "\u001b[0;32m/usr/local/lib/python3.9/dist-packages/keras/engine/training.py\u001b[0m in \u001b[0;36mfit\u001b[0;34m(self, x, y, batch_size, epochs, verbose, callbacks, validation_split, validation_data, shuffle, class_weight, sample_weight, initial_epoch, steps_per_epoch, validation_steps, validation_batch_size, validation_freq, max_queue_size, workers, use_multiprocessing)\u001b[0m\n\u001b[1;32m   1648\u001b[0m                         ):\n\u001b[1;32m   1649\u001b[0m                             \u001b[0mcallbacks\u001b[0m\u001b[0;34m.\u001b[0m\u001b[0mon_train_batch_begin\u001b[0m\u001b[0;34m(\u001b[0m\u001b[0mstep\u001b[0m\u001b[0;34m)\u001b[0m\u001b[0;34m\u001b[0m\u001b[0;34m\u001b[0m\u001b[0m\n\u001b[0;32m-> 1650\u001b[0;31m                             \u001b[0mtmp_logs\u001b[0m \u001b[0;34m=\u001b[0m \u001b[0mself\u001b[0m\u001b[0;34m.\u001b[0m\u001b[0mtrain_function\u001b[0m\u001b[0;34m(\u001b[0m\u001b[0miterator\u001b[0m\u001b[0;34m)\u001b[0m\u001b[0;34m\u001b[0m\u001b[0;34m\u001b[0m\u001b[0m\n\u001b[0m\u001b[1;32m   1651\u001b[0m                             \u001b[0;32mif\u001b[0m \u001b[0mdata_handler\u001b[0m\u001b[0;34m.\u001b[0m\u001b[0mshould_sync\u001b[0m\u001b[0;34m:\u001b[0m\u001b[0;34m\u001b[0m\u001b[0;34m\u001b[0m\u001b[0m\n\u001b[1;32m   1652\u001b[0m                                 \u001b[0mcontext\u001b[0m\u001b[0;34m.\u001b[0m\u001b[0masync_wait\u001b[0m\u001b[0;34m(\u001b[0m\u001b[0;34m)\u001b[0m\u001b[0;34m\u001b[0m\u001b[0;34m\u001b[0m\u001b[0m\n",
            "\u001b[0;32m/usr/local/lib/python3.9/dist-packages/tensorflow/python/util/traceback_utils.py\u001b[0m in \u001b[0;36merror_handler\u001b[0;34m(*args, **kwargs)\u001b[0m\n\u001b[1;32m    148\u001b[0m     \u001b[0mfiltered_tb\u001b[0m \u001b[0;34m=\u001b[0m \u001b[0;32mNone\u001b[0m\u001b[0;34m\u001b[0m\u001b[0;34m\u001b[0m\u001b[0m\n\u001b[1;32m    149\u001b[0m     \u001b[0;32mtry\u001b[0m\u001b[0;34m:\u001b[0m\u001b[0;34m\u001b[0m\u001b[0;34m\u001b[0m\u001b[0m\n\u001b[0;32m--> 150\u001b[0;31m       \u001b[0;32mreturn\u001b[0m \u001b[0mfn\u001b[0m\u001b[0;34m(\u001b[0m\u001b[0;34m*\u001b[0m\u001b[0margs\u001b[0m\u001b[0;34m,\u001b[0m \u001b[0;34m**\u001b[0m\u001b[0mkwargs\u001b[0m\u001b[0;34m)\u001b[0m\u001b[0;34m\u001b[0m\u001b[0;34m\u001b[0m\u001b[0m\n\u001b[0m\u001b[1;32m    151\u001b[0m     \u001b[0;32mexcept\u001b[0m \u001b[0mException\u001b[0m \u001b[0;32mas\u001b[0m \u001b[0me\u001b[0m\u001b[0;34m:\u001b[0m\u001b[0;34m\u001b[0m\u001b[0;34m\u001b[0m\u001b[0m\n\u001b[1;32m    152\u001b[0m       \u001b[0mfiltered_tb\u001b[0m \u001b[0;34m=\u001b[0m \u001b[0m_process_traceback_frames\u001b[0m\u001b[0;34m(\u001b[0m\u001b[0me\u001b[0m\u001b[0;34m.\u001b[0m\u001b[0m__traceback__\u001b[0m\u001b[0;34m)\u001b[0m\u001b[0;34m\u001b[0m\u001b[0;34m\u001b[0m\u001b[0m\n",
            "\u001b[0;32m/usr/local/lib/python3.9/dist-packages/tensorflow/python/eager/polymorphic_function/polymorphic_function.py\u001b[0m in \u001b[0;36m__call__\u001b[0;34m(self, *args, **kwds)\u001b[0m\n\u001b[1;32m    878\u001b[0m \u001b[0;34m\u001b[0m\u001b[0m\n\u001b[1;32m    879\u001b[0m       \u001b[0;32mwith\u001b[0m \u001b[0mOptionalXlaContext\u001b[0m\u001b[0;34m(\u001b[0m\u001b[0mself\u001b[0m\u001b[0;34m.\u001b[0m\u001b[0m_jit_compile\u001b[0m\u001b[0;34m)\u001b[0m\u001b[0;34m:\u001b[0m\u001b[0;34m\u001b[0m\u001b[0;34m\u001b[0m\u001b[0m\n\u001b[0;32m--> 880\u001b[0;31m         \u001b[0mresult\u001b[0m \u001b[0;34m=\u001b[0m \u001b[0mself\u001b[0m\u001b[0;34m.\u001b[0m\u001b[0m_call\u001b[0m\u001b[0;34m(\u001b[0m\u001b[0;34m*\u001b[0m\u001b[0margs\u001b[0m\u001b[0;34m,\u001b[0m \u001b[0;34m**\u001b[0m\u001b[0mkwds\u001b[0m\u001b[0;34m)\u001b[0m\u001b[0;34m\u001b[0m\u001b[0;34m\u001b[0m\u001b[0m\n\u001b[0m\u001b[1;32m    881\u001b[0m \u001b[0;34m\u001b[0m\u001b[0m\n\u001b[1;32m    882\u001b[0m       \u001b[0mnew_tracing_count\u001b[0m \u001b[0;34m=\u001b[0m \u001b[0mself\u001b[0m\u001b[0;34m.\u001b[0m\u001b[0mexperimental_get_tracing_count\u001b[0m\u001b[0;34m(\u001b[0m\u001b[0;34m)\u001b[0m\u001b[0;34m\u001b[0m\u001b[0;34m\u001b[0m\u001b[0m\n",
            "\u001b[0;32m/usr/local/lib/python3.9/dist-packages/tensorflow/python/eager/polymorphic_function/polymorphic_function.py\u001b[0m in \u001b[0;36m_call\u001b[0;34m(self, *args, **kwds)\u001b[0m\n\u001b[1;32m    910\u001b[0m       \u001b[0;31m# In this case we have created variables on the first call, so we run the\u001b[0m\u001b[0;34m\u001b[0m\u001b[0;34m\u001b[0m\u001b[0m\n\u001b[1;32m    911\u001b[0m       \u001b[0;31m# defunned version which is guaranteed to never create variables.\u001b[0m\u001b[0;34m\u001b[0m\u001b[0;34m\u001b[0m\u001b[0m\n\u001b[0;32m--> 912\u001b[0;31m       \u001b[0;32mreturn\u001b[0m \u001b[0mself\u001b[0m\u001b[0;34m.\u001b[0m\u001b[0m_no_variable_creation_fn\u001b[0m\u001b[0;34m(\u001b[0m\u001b[0;34m*\u001b[0m\u001b[0margs\u001b[0m\u001b[0;34m,\u001b[0m \u001b[0;34m**\u001b[0m\u001b[0mkwds\u001b[0m\u001b[0;34m)\u001b[0m  \u001b[0;31m# pylint: disable=not-callable\u001b[0m\u001b[0;34m\u001b[0m\u001b[0;34m\u001b[0m\u001b[0m\n\u001b[0m\u001b[1;32m    913\u001b[0m     \u001b[0;32melif\u001b[0m \u001b[0mself\u001b[0m\u001b[0;34m.\u001b[0m\u001b[0m_variable_creation_fn\u001b[0m \u001b[0;32mis\u001b[0m \u001b[0;32mnot\u001b[0m \u001b[0;32mNone\u001b[0m\u001b[0;34m:\u001b[0m\u001b[0;34m\u001b[0m\u001b[0;34m\u001b[0m\u001b[0m\n\u001b[1;32m    914\u001b[0m       \u001b[0;31m# Release the lock early so that multiple threads can perform the call\u001b[0m\u001b[0;34m\u001b[0m\u001b[0;34m\u001b[0m\u001b[0m\n",
            "\u001b[0;32m/usr/local/lib/python3.9/dist-packages/tensorflow/python/eager/polymorphic_function/tracing_compiler.py\u001b[0m in \u001b[0;36m__call__\u001b[0;34m(self, *args, **kwargs)\u001b[0m\n\u001b[1;32m    132\u001b[0m       (concrete_function,\n\u001b[1;32m    133\u001b[0m        filtered_flat_args) = self._maybe_define_function(args, kwargs)\n\u001b[0;32m--> 134\u001b[0;31m     return concrete_function._call_flat(\n\u001b[0m\u001b[1;32m    135\u001b[0m         filtered_flat_args, captured_inputs=concrete_function.captured_inputs)  # pylint: disable=protected-access\n\u001b[1;32m    136\u001b[0m \u001b[0;34m\u001b[0m\u001b[0m\n",
            "\u001b[0;32m/usr/local/lib/python3.9/dist-packages/tensorflow/python/eager/polymorphic_function/monomorphic_function.py\u001b[0m in \u001b[0;36m_call_flat\u001b[0;34m(self, args, captured_inputs, cancellation_manager)\u001b[0m\n\u001b[1;32m   1743\u001b[0m         and executing_eagerly):\n\u001b[1;32m   1744\u001b[0m       \u001b[0;31m# No tape is watching; skip to running the function.\u001b[0m\u001b[0;34m\u001b[0m\u001b[0;34m\u001b[0m\u001b[0m\n\u001b[0;32m-> 1745\u001b[0;31m       return self._build_call_outputs(self._inference_function.call(\n\u001b[0m\u001b[1;32m   1746\u001b[0m           ctx, args, cancellation_manager=cancellation_manager))\n\u001b[1;32m   1747\u001b[0m     forward_backward = self._select_forward_and_backward_functions(\n",
            "\u001b[0;32m/usr/local/lib/python3.9/dist-packages/tensorflow/python/eager/polymorphic_function/monomorphic_function.py\u001b[0m in \u001b[0;36mcall\u001b[0;34m(self, ctx, args, cancellation_manager)\u001b[0m\n\u001b[1;32m    376\u001b[0m       \u001b[0;32mwith\u001b[0m \u001b[0m_InterpolateFunctionError\u001b[0m\u001b[0;34m(\u001b[0m\u001b[0mself\u001b[0m\u001b[0;34m)\u001b[0m\u001b[0;34m:\u001b[0m\u001b[0;34m\u001b[0m\u001b[0;34m\u001b[0m\u001b[0m\n\u001b[1;32m    377\u001b[0m         \u001b[0;32mif\u001b[0m \u001b[0mcancellation_manager\u001b[0m \u001b[0;32mis\u001b[0m \u001b[0;32mNone\u001b[0m\u001b[0;34m:\u001b[0m\u001b[0;34m\u001b[0m\u001b[0;34m\u001b[0m\u001b[0m\n\u001b[0;32m--> 378\u001b[0;31m           outputs = execute.execute(\n\u001b[0m\u001b[1;32m    379\u001b[0m               \u001b[0mstr\u001b[0m\u001b[0;34m(\u001b[0m\u001b[0mself\u001b[0m\u001b[0;34m.\u001b[0m\u001b[0msignature\u001b[0m\u001b[0;34m.\u001b[0m\u001b[0mname\u001b[0m\u001b[0;34m)\u001b[0m\u001b[0;34m,\u001b[0m\u001b[0;34m\u001b[0m\u001b[0;34m\u001b[0m\u001b[0m\n\u001b[1;32m    380\u001b[0m               \u001b[0mnum_outputs\u001b[0m\u001b[0;34m=\u001b[0m\u001b[0mself\u001b[0m\u001b[0;34m.\u001b[0m\u001b[0m_num_outputs\u001b[0m\u001b[0;34m,\u001b[0m\u001b[0;34m\u001b[0m\u001b[0;34m\u001b[0m\u001b[0m\n",
            "\u001b[0;32m/usr/local/lib/python3.9/dist-packages/tensorflow/python/eager/execute.py\u001b[0m in \u001b[0;36mquick_execute\u001b[0;34m(op_name, num_outputs, inputs, attrs, ctx, name)\u001b[0m\n\u001b[1;32m     50\u001b[0m   \u001b[0;32mtry\u001b[0m\u001b[0;34m:\u001b[0m\u001b[0;34m\u001b[0m\u001b[0;34m\u001b[0m\u001b[0m\n\u001b[1;32m     51\u001b[0m     \u001b[0mctx\u001b[0m\u001b[0;34m.\u001b[0m\u001b[0mensure_initialized\u001b[0m\u001b[0;34m(\u001b[0m\u001b[0;34m)\u001b[0m\u001b[0;34m\u001b[0m\u001b[0;34m\u001b[0m\u001b[0m\n\u001b[0;32m---> 52\u001b[0;31m     tensors = pywrap_tfe.TFE_Py_Execute(ctx._handle, device_name, op_name,\n\u001b[0m\u001b[1;32m     53\u001b[0m                                         inputs, attrs, num_outputs)\n\u001b[1;32m     54\u001b[0m   \u001b[0;32mexcept\u001b[0m \u001b[0mcore\u001b[0m\u001b[0;34m.\u001b[0m\u001b[0m_NotOkStatusException\u001b[0m \u001b[0;32mas\u001b[0m \u001b[0me\u001b[0m\u001b[0;34m:\u001b[0m\u001b[0;34m\u001b[0m\u001b[0;34m\u001b[0m\u001b[0m\n",
            "\u001b[0;31mKeyboardInterrupt\u001b[0m: "
          ]
        }
      ]
    },
    {
      "cell_type": "markdown",
      "source": [
        "DỰ ĐOÁN BIẾN ĐỘNG TRÊN LƯỢNG DATA ĐÃ TRAIN\n",
        "\n",
        "---\n",
        "\n"
      ],
      "metadata": {
        "id": "hLaPZXnSYwAj"
      }
    },
    {
      "cell_type": "code",
      "source": [
        "train_predictions = model.predict(X_train).flatten()\n",
        "print(train_predictions)\n",
        "plt.plot(dates_train, train_predictions)\n",
        "\n",
        "plt.legend(['Training Predictions'])\n"
      ],
      "metadata": {
        "id": "gG8eOTzEVl_X",
        "colab": {
          "base_uri": "https://localhost:8080/",
          "height": 317
        },
        "outputId": "29c4f4d1-2cdc-4062-dca3-e8b7537af638"
      },
      "execution_count": null,
      "outputs": [
        {
          "output_type": "stream",
          "name": "stdout",
          "text": [
            "2247/2247 [==============================] - 26s 11ms/step\n",
            "[67.414825 67.480286 67.61683  ... 55.893944 55.848736 55.889816]\n"
          ]
        },
        {
          "output_type": "execute_result",
          "data": {
            "text/plain": [
              "<matplotlib.legend.Legend at 0x7fda4332bfa0>"
            ]
          },
          "metadata": {},
          "execution_count": 13
        },
        {
          "output_type": "display_data",
          "data": {
            "text/plain": [
              "<Figure size 432x288 with 1 Axes>"
            ],
            "image/png": "[encoded data removed]"
          },
          "metadata": {
            "needs_background": "light"
          }
        }
      ]
    },
    {
      "cell_type": "code",
      "source": [
        "plt.plot(dates_train, y_train,'r')\n",
        "print(y_train)\n",
        "plt.legend(['Training Observation'])"
      ],
      "metadata": {
        "id": "Gy158rYKx1UG",
        "colab": {
          "base_uri": "https://localhost:8080/",
          "height": 300
        },
        "outputId": "63482d4d-8c08-42c3-a378-6aae5862514f"
      },
      "execution_count": null,
      "outputs": [
        {
          "output_type": "stream",
          "name": "stdout",
          "text": [
            "[67.36 67.94 67.94 ... 55.87 56.07 56.07]\n"
          ]
        },
        {
          "output_type": "execute_result",
          "data": {
            "text/plain": [
              "<matplotlib.legend.Legend at 0x7fda342db4f0>"
            ]
          },
          "metadata": {},
          "execution_count": 14
        },
        {
          "output_type": "display_data",
          "data": {
            "text/plain": [
              "<Figure size 432x288 with 1 Axes>"
            ],
            "image/png": "[encoded data removed]"
          },
          "metadata": {
            "needs_background": "light"
          }
        }
      ]
    },
    {
      "cell_type": "markdown",
      "source": [
        "DỰ ĐOÁN TRÊN LƯỢNG DATA VALIDATION"
      ],
      "metadata": {
        "id": "kwa_O9l3ZyMn"
      }
    },
    {
      "cell_type": "code",
      "source": [
        "val_predictions = model.predict(X_val).flatten()\n",
        "\n",
        "plt.plot(dates_val, val_predictions)\n",
        "\n",
        "plt.legend(['Validation Predictions'])"
      ],
      "metadata": {
        "id": "UrRaAUbnWBhE",
        "colab": {
          "base_uri": "https://localhost:8080/",
          "height": 300
        },
        "outputId": "9791ef37-e127-485f-9487-9f29070b7279"
      },
      "execution_count": null,
      "outputs": [
        {
          "output_type": "stream",
          "name": "stdout",
          "text": [
            "281/281 [==============================] - 1s 4ms/step\n"
          ]
        },
        {
          "output_type": "execute_result",
          "data": {
            "text/plain": [
              "<matplotlib.legend.Legend at 0x7fda342b4730>"
            ]
          },
          "metadata": {},
          "execution_count": 15
        },
        {
          "output_type": "display_data",
          "data": {
            "text/plain": [
              "<Figure size 432x288 with 1 Axes>"
            ],
            "image/png": "[encoded data removed]"
          },
          "metadata": {
            "needs_background": "light"
          }
        }
      ]
    },
    {
      "cell_type": "code",
      "source": [
        "plt.plot(dates_val, y_val)\n",
        "plt.legend([ 'Validation Observations'])"
      ],
      "metadata": {
        "id": "sU2K4hovyqk2",
        "colab": {
          "base_uri": "https://localhost:8080/",
          "height": 282
        },
        "outputId": "3af1bae6-d0d1-43b0-c313-215279261c2d"
      },
      "execution_count": null,
      "outputs": [
        {
          "output_type": "execute_result",
          "data": {
            "text/plain": [
              "<matplotlib.legend.Legend at 0x7fda3429b430>"
            ]
          },
          "metadata": {},
          "execution_count": 16
        },
        {
          "output_type": "display_data",
          "data": {
            "text/plain": [
              "<Figure size 432x288 with 1 Axes>"
            ],
            "image/png": "[encoded data removed]"
          },
          "metadata": {
            "needs_background": "light"
          }
        }
      ]
    },
    {
      "cell_type": "code",
      "source": [
        "test_predictions = model.predict(X_test).flatten()\n",
        "\n",
        "plt.plot(dates_test, test_predictions)\n",
        "plt.plot(dates_test, y_test)\n",
        "plt.legend(['Testing Predictions', 'Testing Observations'])"
      ],
      "metadata": {
        "id": "wF5sDSxVWLFd",
        "colab": {
          "base_uri": "https://localhost:8080/",
          "height": 301
        },
        "outputId": "05d4d6ab-f8e5-421a-9fd3-719ae2eb283b"
      },
      "execution_count": null,
      "outputs": [
        {
          "output_type": "stream",
          "name": "stdout",
          "text": [
            "281/281 [==============================] - 1s 4ms/step\n"
          ]
        },
        {
          "output_type": "execute_result",
          "data": {
            "text/plain": [
              "<matplotlib.legend.Legend at 0x7fda36db4ac0>"
            ]
          },
          "metadata": {},
          "execution_count": 17
        },
        {
          "output_type": "display_data",
          "data": {
            "text/plain": [
              "<Figure size 432x288 with 1 Axes>"
            ],
            "image/png": "[encoded data removed]"
          },
          "metadata": {
            "needs_background": "light"
          }
        }
      ]
    },
    {
      "cell_type": "code",
      "source": [],
      "metadata": {
        "id": "zhWT0Pd-b4ab"
      },
      "execution_count": null,
      "outputs": []
    }
  ]
}