{
  "nbformat": 4,
  "nbformat_minor": 0,
  "metadata": {
    "colab": {
      "provenance": []
    },
    "kernelspec": {
      "name": "python3",
      "display_name": "Python 3"
    },
    "accelerator": "GPU"
  },
  "cells": [
    {
      "cell_type": "code",
      "metadata": {
        "id": "ZOsD6-wB-ekN",
        "colab": {
          "base_uri": "https://localhost:8080/"
        },
        "outputId": "098c5b45-2fef-44aa-dbbe-4de2eff0fd6f"
      },
      "source": [
        "!pip install ktrain"
      ],
      "execution_count": 1,
      "outputs": [
        {
          "output_type": "stream",
          "name": "stdout",
          "text": [
            "Looking in indexes: https://pypi.org/simple, https://us-python.pkg.dev/colab-wheels/public/simple/\n",
            "Collecting ktrain\n",
            "  Downloading ktrain-0.33.2.tar.gz (25.3 MB)\n",
            "\u001b[2K     \u001b[90m━━━━━━━━━━━━━━━━━━━━━━━━━━━━━━━━━━━━━━━━\u001b[0m \u001b[32m25.3/25.3 MB\u001b[0m \u001b[31m42.3 MB/s\u001b[0m eta \u001b[36m0:00:00\u001b[0m\n",
            "\u001b[?25h  Preparing metadata (setup.py) ... \u001b[?25l\u001b[?25hdone\n",
            "Requirement already satisfied: scikit-learn in /usr/local/lib/python3.9/dist-packages (from ktrain) (1.2.1)\n",
            "Requirement already satisfied: matplotlib>=3.0.0 in /usr/local/lib/python3.9/dist-packages (from ktrain) (3.5.3)\n",
            "Requirement already satisfied: pandas>=1.0.1 in /usr/local/lib/python3.9/dist-packages (from ktrain) (1.3.5)\n",
            "Requirement already satisfied: fastprogress>=0.1.21 in /usr/local/lib/python3.9/dist-packages (from ktrain) (1.0.3)\n",
            "Requirement already satisfied: requests in /usr/local/lib/python3.9/dist-packages (from ktrain) (2.25.1)\n",
            "Requirement already satisfied: joblib in /usr/local/lib/python3.9/dist-packages (from ktrain) (1.2.0)\n",
            "Requirement already satisfied: packaging in /usr/local/lib/python3.9/dist-packages (from ktrain) (23.0)\n",
            "Collecting langdetect\n",
            "  Downloading langdetect-1.0.9.tar.gz (981 kB)\n",
            "\u001b[2K     \u001b[90m━━━━━━━━━━━━━━━━━━━━━━━━━━━━━━━━━━━━━━\u001b[0m \u001b[32m981.5/981.5 KB\u001b[0m \u001b[31m40.3 MB/s\u001b[0m eta \u001b[36m0:00:00\u001b[0m\n",
            "\u001b[?25h  Preparing metadata (setup.py) ... \u001b[?25l\u001b[?25hdone\n",
            "Requirement already satisfied: jieba in /usr/local/lib/python3.9/dist-packages (from ktrain) (0.42.1)\n",
            "Collecting cchardet\n",
            "  Downloading cchardet-2.1.7-cp39-cp39-manylinux2010_x86_64.whl (265 kB)\n",
            "\u001b[2K     \u001b[90m━━━━━━━━━━━━━━━━━━━━━━━━━━━━━━━━━━━━━━\u001b[0m \u001b[32m265.4/265.4 KB\u001b[0m \u001b[31m14.0 MB/s\u001b[0m eta \u001b[36m0:00:00\u001b[0m\n",
            "\u001b[?25hRequirement already satisfied: chardet in /usr/local/lib/python3.9/dist-packages (from ktrain) (4.0.0)\n",
            "Collecting syntok>1.3.3\n",
            "  Downloading syntok-1.4.4-py3-none-any.whl (24 kB)\n",
            "Collecting transformers>=4.17.0\n",
            "  Downloading transformers-4.26.1-py3-none-any.whl (6.3 MB)\n",
            "\u001b[2K     \u001b[90m━━━━━━━━━━━━━━━━━━━━━━━━━━━━━━━━━━━━━━━━\u001b[0m \u001b[32m6.3/6.3 MB\u001b[0m \u001b[31m27.2 MB/s\u001b[0m eta \u001b[36m0:00:00\u001b[0m\n",
            "\u001b[?25hCollecting sentencepiece\n",
            "  Downloading sentencepiece-0.1.97-cp39-cp39-manylinux_2_17_x86_64.manylinux2014_x86_64.whl (1.3 MB)\n",
            "\u001b[2K     \u001b[90m━━━━━━━━━━━━━━━━━━━━━━━━━━━━━━━━━━━━━━━━\u001b[0m \u001b[32m1.3/1.3 MB\u001b[0m \u001b[31m21.8 MB/s\u001b[0m eta \u001b[36m0:00:00\u001b[0m\n",
            "\u001b[?25hCollecting keras_bert>=0.86.0\n",
            "  Downloading keras-bert-0.89.0.tar.gz (25 kB)\n",
            "  Preparing metadata (setup.py) ... \u001b[?25l\u001b[?25hdone\n",
            "Collecting whoosh\n",
            "  Downloading Whoosh-2.7.4-py2.py3-none-any.whl (468 kB)\n",
            "\u001b[2K     \u001b[90m━━━━━━━━━━━━━━━━━━━━━━━━━━━━━━━━━━━━━━\u001b[0m \u001b[32m468.8/468.8 KB\u001b[0m \u001b[31m11.1 MB/s\u001b[0m eta \u001b[36m0:00:00\u001b[0m\n",
            "\u001b[?25hRequirement already satisfied: numpy in /usr/local/lib/python3.9/dist-packages (from keras_bert>=0.86.0->ktrain) (1.22.4)\n",
            "Collecting keras-transformer==0.40.0\n",
            "  Downloading keras-transformer-0.40.0.tar.gz (9.7 kB)\n",
            "  Preparing metadata (setup.py) ... \u001b[?25l\u001b[?25hdone\n",
            "Collecting keras-pos-embd==0.13.0\n",
            "  Downloading keras-pos-embd-0.13.0.tar.gz (5.6 kB)\n",
            "  Preparing metadata (setup.py) ... \u001b[?25l\u001b[?25hdone\n",
            "Collecting keras-multi-head==0.29.0\n",
            "  Downloading keras-multi-head-0.29.0.tar.gz (13 kB)\n",
            "  Preparing metadata (setup.py) ... \u001b[?25l\u001b[?25hdone\n",
            "Collecting keras-layer-normalization==0.16.0\n",
            "  Downloading keras-layer-normalization-0.16.0.tar.gz (3.9 kB)\n",
            "  Preparing metadata (setup.py) ... \u001b[?25l\u001b[?25hdone\n",
            "Collecting keras-position-wise-feed-forward==0.8.0\n",
            "  Downloading keras-position-wise-feed-forward-0.8.0.tar.gz (4.1 kB)\n",
            "  Preparing metadata (setup.py) ... \u001b[?25l\u001b[?25hdone\n",
            "Collecting keras-embed-sim==0.10.0\n",
            "  Downloading keras-embed-sim-0.10.0.tar.gz (3.6 kB)\n",
            "  Preparing metadata (setup.py) ... \u001b[?25l\u001b[?25hdone\n",
            "Collecting keras-self-attention==0.51.0\n",
            "  Downloading keras-self-attention-0.51.0.tar.gz (11 kB)\n",
            "  Preparing metadata (setup.py) ... \u001b[?25l\u001b[?25hdone\n",
            "Requirement already satisfied: fonttools>=4.22.0 in /usr/local/lib/python3.9/dist-packages (from matplotlib>=3.0.0->ktrain) (4.39.0)\n",
            "Requirement already satisfied: pillow>=6.2.0 in /usr/local/lib/python3.9/dist-packages (from matplotlib>=3.0.0->ktrain) (8.4.0)\n",
            "Requirement already satisfied: python-dateutil>=2.7 in /usr/local/lib/python3.9/dist-packages (from matplotlib>=3.0.0->ktrain) (2.8.2)\n",
            "Requirement already satisfied: kiwisolver>=1.0.1 in /usr/local/lib/python3.9/dist-packages (from matplotlib>=3.0.0->ktrain) (1.4.4)\n",
            "Requirement already satisfied: pyparsing>=2.2.1 in /usr/local/lib/python3.9/dist-packages (from matplotlib>=3.0.0->ktrain) (3.0.9)\n",
            "Requirement already satisfied: cycler>=0.10 in /usr/local/lib/python3.9/dist-packages (from matplotlib>=3.0.0->ktrain) (0.11.0)\n",
            "Requirement already satisfied: pytz>=2017.3 in /usr/local/lib/python3.9/dist-packages (from pandas>=1.0.1->ktrain) (2022.7.1)\n",
            "Requirement already satisfied: regex>2016 in /usr/local/lib/python3.9/dist-packages (from syntok>1.3.3->ktrain) (2022.6.2)\n",
            "Requirement already satisfied: tqdm>=4.27 in /usr/local/lib/python3.9/dist-packages (from transformers>=4.17.0->ktrain) (4.65.0)\n",
            "Collecting tokenizers!=0.11.3,<0.14,>=0.11.1\n",
            "  Downloading tokenizers-0.13.2-cp39-cp39-manylinux_2_17_x86_64.manylinux2014_x86_64.whl (7.6 MB)\n",
            "\u001b[2K     \u001b[90m━━━━━━━━━━━━━━━━━━━━━━━━━━━━━━━━━━━━━━━━\u001b[0m \u001b[32m7.6/7.6 MB\u001b[0m \u001b[31m31.9 MB/s\u001b[0m eta \u001b[36m0:00:00\u001b[0m\n",
            "\u001b[?25hCollecting huggingface-hub<1.0,>=0.11.0\n",
            "  Downloading huggingface_hub-0.13.1-py3-none-any.whl (199 kB)\n",
            "\u001b[2K     \u001b[90m━━━━━━━━━━━━━━━━━━━━━━━━━━━━━━━━━━━━━━\u001b[0m \u001b[32m199.2/199.2 KB\u001b[0m \u001b[31m17.4 MB/s\u001b[0m eta \u001b[36m0:00:00\u001b[0m\n",
            "\u001b[?25hRequirement already satisfied: pyyaml>=5.1 in /usr/local/lib/python3.9/dist-packages (from transformers>=4.17.0->ktrain) (6.0)\n",
            "Requirement already satisfied: filelock in /usr/local/lib/python3.9/dist-packages (from transformers>=4.17.0->ktrain) (3.9.0)\n",
            "Requirement already satisfied: six in /usr/local/lib/python3.9/dist-packages (from langdetect->ktrain) (1.15.0)\n",
            "Requirement already satisfied: certifi>=2017.4.17 in /usr/local/lib/python3.9/dist-packages (from requests->ktrain) (2022.12.7)\n",
            "Requirement already satisfied: idna<3,>=2.5 in /usr/local/lib/python3.9/dist-packages (from requests->ktrain) (2.10)\n",
            "Requirement already satisfied: urllib3<1.27,>=1.21.1 in /usr/local/lib/python3.9/dist-packages (from requests->ktrain) (1.26.14)\n",
            "Requirement already satisfied: scipy>=1.3.2 in /usr/local/lib/python3.9/dist-packages (from scikit-learn->ktrain) (1.10.1)\n",
            "Requirement already satisfied: threadpoolctl>=2.0.0 in /usr/local/lib/python3.9/dist-packages (from scikit-learn->ktrain) (3.1.0)\n",
            "Requirement already satisfied: typing-extensions>=3.7.4.3 in /usr/local/lib/python3.9/dist-packages (from huggingface-hub<1.0,>=0.11.0->transformers>=4.17.0->ktrain) (4.5.0)\n",
            "Building wheels for collected packages: ktrain, keras_bert, keras-transformer, keras-embed-sim, keras-layer-normalization, keras-multi-head, keras-pos-embd, keras-position-wise-feed-forward, keras-self-attention, langdetect\n",
            "  Building wheel for ktrain (setup.py) ... \u001b[?25l\u001b[?25hdone\n",
            "  Created wheel for ktrain: filename=ktrain-0.33.2-py3-none-any.whl size=25313840 sha256=037c8866e69df92eb6fb2a2fdc70d5ca18736d18a6d615540016249e6b137835\n",
            "  Stored in directory: /root/.cache/pip/wheels/95/20/1f/309ffe6e6ff88187ad19e1bc684dcaf27d67d886c5315a6203\n",
            "  Building wheel for keras_bert (setup.py) ... \u001b[?25l\u001b[?25hdone\n",
            "  Created wheel for keras_bert: filename=keras_bert-0.89.0-py3-none-any.whl size=33516 sha256=94ce6090f8a6f08ec4eb4a38db0b2f0db524ec8eed016155fae294839cc2037b\n",
            "  Stored in directory: /root/.cache/pip/wheels/4e/26/24/14ecbc0166364db7f5500164b7d796263cf3cd10c57e892180\n",
            "  Building wheel for keras-transformer (setup.py) ... \u001b[?25l\u001b[?25hdone\n",
            "  Created wheel for keras-transformer: filename=keras_transformer-0.40.0-py3-none-any.whl size=12304 sha256=ad5c14348a93cb013243908992f62a24ab5825912cdeae792e1c3496c851c6be\n",
            "  Stored in directory: /root/.cache/pip/wheels/5e/d6/d1/c588c3b2b112c8f1173934995836ab2f2de8323cce99fa998f\n",
            "  Building wheel for keras-embed-sim (setup.py) ... \u001b[?25l\u001b[?25hdone\n",
            "  Created wheel for keras-embed-sim: filename=keras_embed_sim-0.10.0-py3-none-any.whl size=3959 sha256=b144741b5d3cc2a5a2f33953b3bdc3075e23a00a391fae2d013ad7ae4dcb8418\n",
            "  Stored in directory: /root/.cache/pip/wheels/cb/25/02/4bb438785ef9c10d07f6b3519f080b38917153fdac3108d738\n",
            "  Building wheel for keras-layer-normalization (setup.py) ... \u001b[?25l\u001b[?25hdone\n",
            "  Created wheel for keras-layer-normalization: filename=keras_layer_normalization-0.16.0-py3-none-any.whl size=4668 sha256=df403e9596626d8cb8e4c7fb324b248128a31ef78ab3545404d19c73578b9473\n",
            "  Stored in directory: /root/.cache/pip/wheels/c1/df/15/a88cdf68ce687574649f65063a743123e1bee79932b6eea3b6\n",
            "  Building wheel for keras-multi-head (setup.py) ... \u001b[?25l\u001b[?25hdone\n",
            "  Created wheel for keras-multi-head: filename=keras_multi_head-0.29.0-py3-none-any.whl size=14993 sha256=b66ebf87a1b74289d0c3ca6f44a5c35ff28fbbcd39a375227d2379fdf74eb816\n",
            "  Stored in directory: /root/.cache/pip/wheels/b3/85/50/f232cac81ed1eb4dc20db31a9d1f4a8a1a8c696d4d27bff442\n",
            "  Building wheel for keras-pos-embd (setup.py) ... \u001b[?25l\u001b[?25hdone\n",
            "  Created wheel for keras-pos-embd: filename=keras_pos_embd-0.13.0-py3-none-any.whl size=6961 sha256=a27219c3870509584d61f3f2f7881fbd787258d7849384fd259718dc699f0a9d\n",
            "  Stored in directory: /root/.cache/pip/wheels/f5/8c/9a/917bf72d493e084ca1706a02679185789c2715f50770d8c987\n",
            "  Building wheel for keras-position-wise-feed-forward (setup.py) ... \u001b[?25l\u001b[?25hdone\n",
            "  Created wheel for keras-position-wise-feed-forward: filename=keras_position_wise_feed_forward-0.8.0-py3-none-any.whl size=4983 sha256=baaa33f63c2bd1093ffd8d621266a6825a82b6018ed0686750ae2292ed3744f2\n",
            "  Stored in directory: /root/.cache/pip/wheels/20/36/25/efb605ab1742a179274a6f7cb113da1c6758f45e212b59bb4d\n",
            "  Building wheel for keras-self-attention (setup.py) ... \u001b[?25l\u001b[?25hdone\n",
            "  Created wheel for keras-self-attention: filename=keras_self_attention-0.51.0-py3-none-any.whl size=18913 sha256=90892b24bbd0b0be1daf054e38decca2be84b0af418aa456acc9fa0f6155d4ab\n",
            "  Stored in directory: /root/.cache/pip/wheels/78/c1/84/b83a2fd6f1d63e136cba74bac4126bee3b8705eef6486635fd\n",
            "  Building wheel for langdetect (setup.py) ... \u001b[?25l\u001b[?25hdone\n",
            "  Created wheel for langdetect: filename=langdetect-1.0.9-py3-none-any.whl size=993242 sha256=6ce1ccb111fd3f26694b82739deb20a3d127e7f11802e5fbcc130815cff5e727\n",
            "  Stored in directory: /root/.cache/pip/wheels/d1/c1/d9/7e068de779d863bc8f8fc9467d85e25cfe47fa5051fff1a1bb\n",
            "Successfully built ktrain keras_bert keras-transformer keras-embed-sim keras-layer-normalization keras-multi-head keras-pos-embd keras-position-wise-feed-forward keras-self-attention langdetect\n",
            "Installing collected packages: whoosh, tokenizers, sentencepiece, cchardet, syntok, langdetect, keras-self-attention, keras-position-wise-feed-forward, keras-pos-embd, keras-layer-normalization, keras-embed-sim, keras-multi-head, huggingface-hub, transformers, keras-transformer, keras_bert, ktrain\n",
            "Successfully installed cchardet-2.1.7 huggingface-hub-0.13.1 keras-embed-sim-0.10.0 keras-layer-normalization-0.16.0 keras-multi-head-0.29.0 keras-pos-embd-0.13.0 keras-position-wise-feed-forward-0.8.0 keras-self-attention-0.51.0 keras-transformer-0.40.0 keras_bert-0.89.0 ktrain-0.33.2 langdetect-1.0.9 sentencepiece-0.1.97 syntok-1.4.4 tokenizers-0.13.2 transformers-4.26.1 whoosh-2.7.4\n"
          ]
        }
      ]
    },
    {
      "cell_type": "code",
      "metadata": {
        "id": "75r2S8-1_Yv8",
        "outputId": "15a2a330-d84b-4994-aed5-8dd938d5ef8f",
        "colab": {
          "base_uri": "https://localhost:8080/"
        }
      },
      "source": [
        "!pip install yahoo-fin"
      ],
      "execution_count": 2,
      "outputs": [
        {
          "output_type": "stream",
          "name": "stdout",
          "text": [
            "Looking in indexes: https://pypi.org/simple, https://us-python.pkg.dev/colab-wheels/public/simple/\n",
            "Collecting yahoo-fin\n",
            "  Downloading yahoo_fin-0.8.9.1-py3-none-any.whl (10 kB)\n",
            "Collecting requests-html\n",
            "  Downloading requests_html-0.10.0-py3-none-any.whl (13 kB)\n",
            "Collecting feedparser\n",
            "  Downloading feedparser-6.0.10-py3-none-any.whl (81 kB)\n",
            "\u001b[2K     \u001b[90m━━━━━━━━━━━━━━━━━━━━━━━━━━━━━━━━━━━━━━━━\u001b[0m \u001b[32m81.1/81.1 KB\u001b[0m \u001b[31m5.5 MB/s\u001b[0m eta \u001b[36m0:00:00\u001b[0m\n",
            "\u001b[?25hRequirement already satisfied: requests in /usr/local/lib/python3.9/dist-packages (from yahoo-fin) (2.25.1)\n",
            "Requirement already satisfied: pandas in /usr/local/lib/python3.9/dist-packages (from yahoo-fin) (1.3.5)\n",
            "Collecting sgmllib3k\n",
            "  Downloading sgmllib3k-1.0.0.tar.gz (5.8 kB)\n",
            "  Preparing metadata (setup.py) ... \u001b[?25l\u001b[?25hdone\n",
            "Requirement already satisfied: python-dateutil>=2.7.3 in /usr/local/lib/python3.9/dist-packages (from pandas->yahoo-fin) (2.8.2)\n",
            "Requirement already satisfied: pytz>=2017.3 in /usr/local/lib/python3.9/dist-packages (from pandas->yahoo-fin) (2022.7.1)\n",
            "Requirement already satisfied: numpy>=1.17.3 in /usr/local/lib/python3.9/dist-packages (from pandas->yahoo-fin) (1.22.4)\n",
            "Requirement already satisfied: certifi>=2017.4.17 in /usr/local/lib/python3.9/dist-packages (from requests->yahoo-fin) (2022.12.7)\n",
            "Requirement already satisfied: urllib3<1.27,>=1.21.1 in /usr/local/lib/python3.9/dist-packages (from requests->yahoo-fin) (1.26.14)\n",
            "Requirement already satisfied: idna<3,>=2.5 in /usr/local/lib/python3.9/dist-packages (from requests->yahoo-fin) (2.10)\n",
            "Requirement already satisfied: chardet<5,>=3.0.2 in /usr/local/lib/python3.9/dist-packages (from requests->yahoo-fin) (4.0.0)\n",
            "Collecting w3lib\n",
            "  Downloading w3lib-2.1.1-py3-none-any.whl (21 kB)\n",
            "Collecting fake-useragent\n",
            "  Downloading fake_useragent-1.1.1-py3-none-any.whl (50 kB)\n",
            "\u001b[2K     \u001b[90m━━━━━━━━━━━━━━━━━━━━━━━━━━━━━━━━━━━━━━━\u001b[0m \u001b[32m50.4/50.4 KB\u001b[0m \u001b[31m658.8 kB/s\u001b[0m eta \u001b[36m0:00:00\u001b[0m\n",
            "\u001b[?25hCollecting pyppeteer>=0.0.14\n",
            "  Downloading pyppeteer-1.0.2-py3-none-any.whl (83 kB)\n",
            "\u001b[2K     \u001b[90m━━━━━━━━━━━━━━━━━━━━━━━━━━━━━━━━━━━━━━━━\u001b[0m \u001b[32m83.4/83.4 KB\u001b[0m \u001b[31m1.0 MB/s\u001b[0m eta \u001b[36m0:00:00\u001b[0m\n",
            "\u001b[?25hCollecting parse\n",
            "  Downloading parse-1.19.0.tar.gz (30 kB)\n",
            "  Preparing metadata (setup.py) ... \u001b[?25l\u001b[?25hdone\n",
            "Requirement already satisfied: bs4 in /usr/local/lib/python3.9/dist-packages (from requests-html->yahoo-fin) (0.0.1)\n",
            "Collecting pyquery\n",
            "  Downloading pyquery-2.0.0-py3-none-any.whl (22 kB)\n",
            "Collecting appdirs<2.0.0,>=1.4.3\n",
            "  Downloading appdirs-1.4.4-py2.py3-none-any.whl (9.6 kB)\n",
            "Collecting pyee<9.0.0,>=8.1.0\n",
            "  Downloading pyee-8.2.2-py2.py3-none-any.whl (12 kB)\n",
            "Collecting websockets<11.0,>=10.0\n",
            "  Downloading websockets-10.4-cp39-cp39-manylinux_2_5_x86_64.manylinux1_x86_64.manylinux_2_17_x86_64.manylinux2014_x86_64.whl (106 kB)\n",
            "\u001b[2K     \u001b[90m━━━━━━━━━━━━━━━━━━━━━━━━━━━━━━━━━━━━━━\u001b[0m \u001b[32m106.5/106.5 KB\u001b[0m \u001b[31m11.8 MB/s\u001b[0m eta \u001b[36m0:00:00\u001b[0m\n",
            "\u001b[?25hRequirement already satisfied: tqdm<5.0.0,>=4.42.1 in /usr/local/lib/python3.9/dist-packages (from pyppeteer>=0.0.14->requests-html->yahoo-fin) (4.65.0)\n",
            "Requirement already satisfied: importlib-metadata>=1.4 in /usr/local/lib/python3.9/dist-packages (from pyppeteer>=0.0.14->requests-html->yahoo-fin) (6.0.0)\n",
            "Requirement already satisfied: six>=1.5 in /usr/local/lib/python3.9/dist-packages (from python-dateutil>=2.7.3->pandas->yahoo-fin) (1.15.0)\n",
            "Requirement already satisfied: beautifulsoup4 in /usr/local/lib/python3.9/dist-packages (from bs4->requests-html->yahoo-fin) (4.6.3)\n",
            "Requirement already satisfied: importlib-resources>=5.0 in /usr/local/lib/python3.9/dist-packages (from fake-useragent->requests-html->yahoo-fin) (5.12.0)\n",
            "Collecting cssselect>=1.2.0\n",
            "  Downloading cssselect-1.2.0-py2.py3-none-any.whl (18 kB)\n",
            "Requirement already satisfied: lxml>=2.1 in /usr/local/lib/python3.9/dist-packages (from pyquery->requests-html->yahoo-fin) (4.9.2)\n",
            "Requirement already satisfied: zipp>=0.5 in /usr/local/lib/python3.9/dist-packages (from importlib-metadata>=1.4->pyppeteer>=0.0.14->requests-html->yahoo-fin) (3.15.0)\n",
            "Building wheels for collected packages: parse, sgmllib3k\n",
            "  Building wheel for parse (setup.py) ... \u001b[?25l\u001b[?25hdone\n",
            "  Created wheel for parse: filename=parse-1.19.0-py3-none-any.whl size=24591 sha256=c0221bac455fa0d949063efb8690c4848a7bb3dce6d4a1a5d065385a42e4ea26\n",
            "  Stored in directory: /root/.cache/pip/wheels/d6/9c/58/ee3ba36897e890f3ad81e9b730791a153fce20caa4a8a474df\n",
            "  Building wheel for sgmllib3k (setup.py) ... \u001b[?25l\u001b[?25hdone\n",
            "  Created wheel for sgmllib3k: filename=sgmllib3k-1.0.0-py3-none-any.whl size=6066 sha256=75f817786f572600c3abda2f235ae72e4121fce9cf9726d1717fd97b73c0b2aa\n",
            "  Stored in directory: /root/.cache/pip/wheels/65/7a/a7/78c287f64e401255dff4c13fdbc672fed5efbfd21c530114e1\n",
            "Successfully built parse sgmllib3k\n",
            "Installing collected packages: sgmllib3k, pyee, parse, appdirs, websockets, w3lib, feedparser, cssselect, pyquery, pyppeteer, fake-useragent, requests-html, yahoo-fin\n",
            "Successfully installed appdirs-1.4.4 cssselect-1.2.0 fake-useragent-1.1.1 feedparser-6.0.10 parse-1.19.0 pyee-8.2.2 pyppeteer-1.0.2 pyquery-2.0.0 requests-html-0.10.0 sgmllib3k-1.0.0 w3lib-2.1.1 websockets-10.4 yahoo-fin-0.8.9.1\n"
          ]
        }
      ]
    },
    {
      "cell_type": "code",
      "metadata": {
        "id": "R2r4Lh6w_ZuG",
        "colab": {
          "base_uri": "https://localhost:8080/"
        },
        "outputId": "5d72a01c-947b-491e-b647-5eebaedaeec6"
      },
      "source": [
        "!pip install requests_html\n",
        "!git clone https://github.com/laxmimerit/IMDB-Movie-Reviews-Large-Dataset-50k.git"
      ],
      "execution_count": 3,
      "outputs": [
        {
          "output_type": "stream",
          "name": "stdout",
          "text": [
            "Looking in indexes: https://pypi.org/simple, https://us-python.pkg.dev/colab-wheels/public/simple/\n",
            "Requirement already satisfied: requests_html in /usr/local/lib/python3.9/dist-packages (0.10.0)\n",
            "Requirement already satisfied: fake-useragent in /usr/local/lib/python3.9/dist-packages (from requests_html) (1.1.1)\n",
            "Requirement already satisfied: parse in /usr/local/lib/python3.9/dist-packages (from requests_html) (1.19.0)\n",
            "Requirement already satisfied: pyquery in /usr/local/lib/python3.9/dist-packages (from requests_html) (2.0.0)\n",
            "Requirement already satisfied: w3lib in /usr/local/lib/python3.9/dist-packages (from requests_html) (2.1.1)\n",
            "Requirement already satisfied: requests in /usr/local/lib/python3.9/dist-packages (from requests_html) (2.25.1)\n",
            "Requirement already satisfied: pyppeteer>=0.0.14 in /usr/local/lib/python3.9/dist-packages (from requests_html) (1.0.2)\n",
            "Requirement already satisfied: bs4 in /usr/local/lib/python3.9/dist-packages (from requests_html) (0.0.1)\n",
            "Requirement already satisfied: importlib-metadata>=1.4 in /usr/local/lib/python3.9/dist-packages (from pyppeteer>=0.0.14->requests_html) (6.0.0)\n",
            "Requirement already satisfied: tqdm<5.0.0,>=4.42.1 in /usr/local/lib/python3.9/dist-packages (from pyppeteer>=0.0.14->requests_html) (4.65.0)\n",
            "Requirement already satisfied: pyee<9.0.0,>=8.1.0 in /usr/local/lib/python3.9/dist-packages (from pyppeteer>=0.0.14->requests_html) (8.2.2)\n",
            "Requirement already satisfied: appdirs<2.0.0,>=1.4.3 in /usr/local/lib/python3.9/dist-packages (from pyppeteer>=0.0.14->requests_html) (1.4.4)\n",
            "Requirement already satisfied: websockets<11.0,>=10.0 in /usr/local/lib/python3.9/dist-packages (from pyppeteer>=0.0.14->requests_html) (10.4)\n",
            "Requirement already satisfied: urllib3<2.0.0,>=1.25.8 in /usr/local/lib/python3.9/dist-packages (from pyppeteer>=0.0.14->requests_html) (1.26.14)\n",
            "Requirement already satisfied: certifi>=2021 in /usr/local/lib/python3.9/dist-packages (from pyppeteer>=0.0.14->requests_html) (2022.12.7)\n",
            "Requirement already satisfied: beautifulsoup4 in /usr/local/lib/python3.9/dist-packages (from bs4->requests_html) (4.6.3)\n",
            "Requirement already satisfied: importlib-resources>=5.0 in /usr/local/lib/python3.9/dist-packages (from fake-useragent->requests_html) (5.12.0)\n",
            "Requirement already satisfied: cssselect>=1.2.0 in /usr/local/lib/python3.9/dist-packages (from pyquery->requests_html) (1.2.0)\n",
            "Requirement already satisfied: lxml>=2.1 in /usr/local/lib/python3.9/dist-packages (from pyquery->requests_html) (4.9.2)\n",
            "Requirement already satisfied: chardet<5,>=3.0.2 in /usr/local/lib/python3.9/dist-packages (from requests->requests_html) (4.0.0)\n",
            "Requirement already satisfied: idna<3,>=2.5 in /usr/local/lib/python3.9/dist-packages (from requests->requests_html) (2.10)\n",
            "Requirement already satisfied: zipp>=0.5 in /usr/local/lib/python3.9/dist-packages (from importlib-metadata>=1.4->pyppeteer>=0.0.14->requests_html) (3.15.0)\n",
            "Cloning into 'IMDB-Movie-Reviews-Large-Dataset-50k'...\n",
            "remote: Enumerating objects: 10, done.\u001b[K\n",
            "remote: Counting objects: 100% (10/10), done.\u001b[K\n",
            "remote: Compressing objects: 100% (8/8), done.\u001b[K\n",
            "remote: Total 10 (delta 1), reused 0 (delta 0), pack-reused 0\u001b[K\n",
            "Unpacking objects: 100% (10/10), 25.78 MiB | 8.83 MiB/s, done.\n"
          ]
        }
      ]
    },
    {
      "cell_type": "code",
      "metadata": {
        "id": "KMlSbnIg_VMO"
      },
      "source": [
        "from urllib.request import urlopen, Request\n",
        "from bs4 import BeautifulSoup\n",
        "import datetime\n",
        "import pandas as pd\n",
        "import numpy as np\n",
        "import seaborn as sns\n",
        "import matplotlib.pyplot as plt\n",
        "import yahoo_fin.stock_info as si\n",
        "from yahoo_fin import options"
      ],
      "execution_count": 4,
      "outputs": []
    },
    {
      "cell_type": "code",
      "metadata": {
        "id": "YeCHeYjj_iUu"
      },
      "source": [
        "import tensorflow as tf\n",
        "import ktrain\n",
        "from ktrain import text"
      ],
      "execution_count": 5,
      "outputs": []
    },
    {
      "cell_type": "code",
      "metadata": {
        "id": "41hitCKq_lLO",
        "outputId": "02788105-b19b-4f26-80e2-4f65a922e12b",
        "colab": {
          "base_uri": "https://localhost:8080/",
          "height": 206
        }
      },
      "source": [
        "data_train = pd.read_excel('/content/IMDB-Movie-Reviews-Large-Dataset-50k/train.xlsx', dtype=str)\n",
        "data_train.head()"
      ],
      "execution_count": 9,
      "outputs": [
        {
          "output_type": "execute_result",
          "data": {
            "text/plain": [
              "                                             Reviews Sentiment\n",
              "0  When I first tuned in on this morning news, I ...       neg\n",
              "1  Mere thoughts of \"Going Overboard\" (aka \"Babes...       neg\n",
              "2  Why does this movie fall WELL below standards?...       neg\n",
              "3  Wow and I thought that any Steven Segal movie ...       neg\n",
              "4  The story is seen before, but that does'n matt...       neg"
            ],
            "text/html": [
              "\n",
              "  <div id=\"df-7118b300-52fe-4a6a-b88c-147c1445101c\">\n",
              "    <div class=\"colab-df-container\">\n",
              "      <div>\n",
              "<style scoped>\n",
              "    .dataframe tbody tr th:only-of-type {\n",
              "        vertical-align: middle;\n",
              "    }\n",
              "\n",
              "    .dataframe tbody tr th {\n",
              "        vertical-align: top;\n",
              "    }\n",
              "\n",
              "    .dataframe thead th {\n",
              "        text-align: right;\n",
              "    }\n",
              "</style>\n",
              "<table border=\"1\" class=\"dataframe\">\n",
              "  <thead>\n",
              "    <tr style=\"text-align: right;\">\n",
              "      <th></th>\n",
              "      <th>Reviews</th>\n",
              "      <th>Sentiment</th>\n",
              "    </tr>\n",
              "  </thead>\n",
              "  <tbody>\n",
              "    <tr>\n",
              "      <th>0</th>\n",
              "      <td>When I first tuned in on this morning news, I ...</td>\n",
              "      <td>neg</td>\n",
              "    </tr>\n",
              "    <tr>\n",
              "      <th>1</th>\n",
              "      <td>Mere thoughts of \"Going Overboard\" (aka \"Babes...</td>\n",
              "      <td>neg</td>\n",
              "    </tr>\n",
              "    <tr>\n",
              "      <th>2</th>\n",
              "      <td>Why does this movie fall WELL below standards?...</td>\n",
              "      <td>neg</td>\n",
              "    </tr>\n",
              "    <tr>\n",
              "      <th>3</th>\n",
              "      <td>Wow and I thought that any Steven Segal movie ...</td>\n",
              "      <td>neg</td>\n",
              "    </tr>\n",
              "    <tr>\n",
              "      <th>4</th>\n",
              "      <td>The story is seen before, but that does'n matt...</td>\n",
              "      <td>neg</td>\n",
              "    </tr>\n",
              "  </tbody>\n",
              "</table>\n",
              "</div>\n",
              "      <button class=\"colab-df-convert\" onclick=\"convertToInteractive('df-7118b300-52fe-4a6a-b88c-147c1445101c')\"\n",
              "              title=\"Convert this dataframe to an interactive table.\"\n",
              "              style=\"display:none;\">\n",
              "        \n",
              "  <svg xmlns=\"http://www.w3.org/2000/svg\" height=\"24px\"viewBox=\"0 0 24 24\"\n",
              "       width=\"24px\">\n",
              "    <path d=\"M0 0h24v24H0V0z\" fill=\"none\"/>\n",
              "    <path d=\"M18.56 5.44l.94 2.06.94-2.06 2.06-.94-2.06-.94-.94-2.06-.94 2.06-2.06.94zm-11 1L8.5 8.5l.94-2.06 2.06-.94-2.06-.94L8.5 2.5l-.94 2.06-2.06.94zm10 10l.94 2.06.94-2.06 2.06-.94-2.06-.94-.94-2.06-.94 2.06-2.06.94z\"/><path d=\"M17.41 7.96l-1.37-1.37c-.4-.4-.92-.59-1.43-.59-.52 0-1.04.2-1.43.59L10.3 9.45l-7.72 7.72c-.78.78-.78 2.05 0 2.83L4 21.41c.39.39.9.59 1.41.59.51 0 1.02-.2 1.41-.59l7.78-7.78 2.81-2.81c.8-.78.8-2.07 0-2.86zM5.41 20L4 18.59l7.72-7.72 1.47 1.35L5.41 20z\"/>\n",
              "  </svg>\n",
              "      </button>\n",
              "      \n",
              "  <style>\n",
              "    .colab-df-container {\n",
              "      display:flex;\n",
              "      flex-wrap:wrap;\n",
              "      gap: 12px;\n",
              "    }\n",
              "\n",
              "    .colab-df-convert {\n",
              "      background-color: #E8F0FE;\n",
              "      border: none;\n",
              "      border-radius: 50%;\n",
              "      cursor: pointer;\n",
              "      display: none;\n",
              "      fill: #1967D2;\n",
              "      height: 32px;\n",
              "      padding: 0 0 0 0;\n",
              "      width: 32px;\n",
              "    }\n",
              "\n",
              "    .colab-df-convert:hover {\n",
              "      background-color: #E2EBFA;\n",
              "      box-shadow: 0px 1px 2px rgba(60, 64, 67, 0.3), 0px 1px 3px 1px rgba(60, 64, 67, 0.15);\n",
              "      fill: #174EA6;\n",
              "    }\n",
              "\n",
              "    [theme=dark] .colab-df-convert {\n",
              "      background-color: #3B4455;\n",
              "      fill: #D2E3FC;\n",
              "    }\n",
              "\n",
              "    [theme=dark] .colab-df-convert:hover {\n",
              "      background-color: #434B5C;\n",
              "      box-shadow: 0px 1px 3px 1px rgba(0, 0, 0, 0.15);\n",
              "      filter: drop-shadow(0px 1px 2px rgba(0, 0, 0, 0.3));\n",
              "      fill: #FFFFFF;\n",
              "    }\n",
              "  </style>\n",
              "\n",
              "      <script>\n",
              "        const buttonEl =\n",
              "          document.querySelector('#df-7118b300-52fe-4a6a-b88c-147c1445101c button.colab-df-convert');\n",
              "        buttonEl.style.display =\n",
              "          google.colab.kernel.accessAllowed ? 'block' : 'none';\n",
              "\n",
              "        async function convertToInteractive(key) {\n",
              "          const element = document.querySelector('#df-7118b300-52fe-4a6a-b88c-147c1445101c');\n",
              "          const dataTable =\n",
              "            await google.colab.kernel.invokeFunction('convertToInteractive',\n",
              "                                                     [key], {});\n",
              "          if (!dataTable) return;\n",
              "\n",
              "          const docLinkHtml = 'Like what you see? Visit the ' +\n",
              "            '<a target=\"_blank\" href=https://colab.research.google.com/notebooks/data_table.ipynb>data table notebook</a>'\n",
              "            + ' to learn more about interactive tables.';\n",
              "          element.innerHTML = '';\n",
              "          dataTable['output_type'] = 'display_data';\n",
              "          await google.colab.output.renderOutput(dataTable, element);\n",
              "          const docLink = document.createElement('div');\n",
              "          docLink.innerHTML = docLinkHtml;\n",
              "          element.appendChild(docLink);\n",
              "        }\n",
              "      </script>\n",
              "    </div>\n",
              "  </div>\n",
              "  "
            ]
          },
          "metadata": {},
          "execution_count": 9
        }
      ]
    },
    {
      "cell_type": "code",
      "metadata": {
        "id": "I6sffKEZAUr9",
        "outputId": "4cc87865-1718-41d0-cf6a-597121e53141",
        "colab": {
          "base_uri": "https://localhost:8080/",
          "height": 206
        }
      },
      "source": [
        "data_test = pd.read_excel('/content/IMDB-Movie-Reviews-Large-Dataset-50k/test.xlsx', dtype=str)\n",
        "data_test.head()"
      ],
      "execution_count": 10,
      "outputs": [
        {
          "output_type": "execute_result",
          "data": {
            "text/plain": [
              "                                             Reviews Sentiment\n",
              "0  Who would have thought that a movie about a ma...       pos\n",
              "1  After realizing what is going on around us ......       pos\n",
              "2  I grew up watching the original Disney Cindere...       neg\n",
              "3  David Mamet wrote the screenplay and made his ...       pos\n",
              "4  Admittedly, I didn't have high expectations of...       neg"
            ],
            "text/html": [
              "\n",
              "  <div id=\"df-9bf016ca-68b3-4a19-9a0e-b5d1c22d799f\">\n",
              "    <div class=\"colab-df-container\">\n",
              "      <div>\n",
              "<style scoped>\n",
              "    .dataframe tbody tr th:only-of-type {\n",
              "        vertical-align: middle;\n",
              "    }\n",
              "\n",
              "    .dataframe tbody tr th {\n",
              "        vertical-align: top;\n",
              "    }\n",
              "\n",
              "    .dataframe thead th {\n",
              "        text-align: right;\n",
              "    }\n",
              "</style>\n",
              "<table border=\"1\" class=\"dataframe\">\n",
              "  <thead>\n",
              "    <tr style=\"text-align: right;\">\n",
              "      <th></th>\n",
              "      <th>Reviews</th>\n",
              "      <th>Sentiment</th>\n",
              "    </tr>\n",
              "  </thead>\n",
              "  <tbody>\n",
              "    <tr>\n",
              "      <th>0</th>\n",
              "      <td>Who would have thought that a movie about a ma...</td>\n",
              "      <td>pos</td>\n",
              "    </tr>\n",
              "    <tr>\n",
              "      <th>1</th>\n",
              "      <td>After realizing what is going on around us ......</td>\n",
              "      <td>pos</td>\n",
              "    </tr>\n",
              "    <tr>\n",
              "      <th>2</th>\n",
              "      <td>I grew up watching the original Disney Cindere...</td>\n",
              "      <td>neg</td>\n",
              "    </tr>\n",
              "    <tr>\n",
              "      <th>3</th>\n",
              "      <td>David Mamet wrote the screenplay and made his ...</td>\n",
              "      <td>pos</td>\n",
              "    </tr>\n",
              "    <tr>\n",
              "      <th>4</th>\n",
              "      <td>Admittedly, I didn't have high expectations of...</td>\n",
              "      <td>neg</td>\n",
              "    </tr>\n",
              "  </tbody>\n",
              "</table>\n",
              "</div>\n",
              "      <button class=\"colab-df-convert\" onclick=\"convertToInteractive('df-9bf016ca-68b3-4a19-9a0e-b5d1c22d799f')\"\n",
              "              title=\"Convert this dataframe to an interactive table.\"\n",
              "              style=\"display:none;\">\n",
              "        \n",
              "  <svg xmlns=\"http://www.w3.org/2000/svg\" height=\"24px\"viewBox=\"0 0 24 24\"\n",
              "       width=\"24px\">\n",
              "    <path d=\"M0 0h24v24H0V0z\" fill=\"none\"/>\n",
              "    <path d=\"M18.56 5.44l.94 2.06.94-2.06 2.06-.94-2.06-.94-.94-2.06-.94 2.06-2.06.94zm-11 1L8.5 8.5l.94-2.06 2.06-.94-2.06-.94L8.5 2.5l-.94 2.06-2.06.94zm10 10l.94 2.06.94-2.06 2.06-.94-2.06-.94-.94-2.06-.94 2.06-2.06.94z\"/><path d=\"M17.41 7.96l-1.37-1.37c-.4-.4-.92-.59-1.43-.59-.52 0-1.04.2-1.43.59L10.3 9.45l-7.72 7.72c-.78.78-.78 2.05 0 2.83L4 21.41c.39.39.9.59 1.41.59.51 0 1.02-.2 1.41-.59l7.78-7.78 2.81-2.81c.8-.78.8-2.07 0-2.86zM5.41 20L4 18.59l7.72-7.72 1.47 1.35L5.41 20z\"/>\n",
              "  </svg>\n",
              "      </button>\n",
              "      \n",
              "  <style>\n",
              "    .colab-df-container {\n",
              "      display:flex;\n",
              "      flex-wrap:wrap;\n",
              "      gap: 12px;\n",
              "    }\n",
              "\n",
              "    .colab-df-convert {\n",
              "      background-color: #E8F0FE;\n",
              "      border: none;\n",
              "      border-radius: 50%;\n",
              "      cursor: pointer;\n",
              "      display: none;\n",
              "      fill: #1967D2;\n",
              "      height: 32px;\n",
              "      padding: 0 0 0 0;\n",
              "      width: 32px;\n",
              "    }\n",
              "\n",
              "    .colab-df-convert:hover {\n",
              "      background-color: #E2EBFA;\n",
              "      box-shadow: 0px 1px 2px rgba(60, 64, 67, 0.3), 0px 1px 3px 1px rgba(60, 64, 67, 0.15);\n",
              "      fill: #174EA6;\n",
              "    }\n",
              "\n",
              "    [theme=dark] .colab-df-convert {\n",
              "      background-color: #3B4455;\n",
              "      fill: #D2E3FC;\n",
              "    }\n",
              "\n",
              "    [theme=dark] .colab-df-convert:hover {\n",
              "      background-color: #434B5C;\n",
              "      box-shadow: 0px 1px 3px 1px rgba(0, 0, 0, 0.15);\n",
              "      filter: drop-shadow(0px 1px 2px rgba(0, 0, 0, 0.3));\n",
              "      fill: #FFFFFF;\n",
              "    }\n",
              "  </style>\n",
              "\n",
              "      <script>\n",
              "        const buttonEl =\n",
              "          document.querySelector('#df-9bf016ca-68b3-4a19-9a0e-b5d1c22d799f button.colab-df-convert');\n",
              "        buttonEl.style.display =\n",
              "          google.colab.kernel.accessAllowed ? 'block' : 'none';\n",
              "\n",
              "        async function convertToInteractive(key) {\n",
              "          const element = document.querySelector('#df-9bf016ca-68b3-4a19-9a0e-b5d1c22d799f');\n",
              "          const dataTable =\n",
              "            await google.colab.kernel.invokeFunction('convertToInteractive',\n",
              "                                                     [key], {});\n",
              "          if (!dataTable) return;\n",
              "\n",
              "          const docLinkHtml = 'Like what you see? Visit the ' +\n",
              "            '<a target=\"_blank\" href=https://colab.research.google.com/notebooks/data_table.ipynb>data table notebook</a>'\n",
              "            + ' to learn more about interactive tables.';\n",
              "          element.innerHTML = '';\n",
              "          dataTable['output_type'] = 'display_data';\n",
              "          await google.colab.output.renderOutput(dataTable, element);\n",
              "          const docLink = document.createElement('div');\n",
              "          docLink.innerHTML = docLinkHtml;\n",
              "          element.appendChild(docLink);\n",
              "        }\n",
              "      </script>\n",
              "    </div>\n",
              "  </div>\n",
              "  "
            ]
          },
          "metadata": {},
          "execution_count": 10
        }
      ]
    },
    {
      "cell_type": "code",
      "metadata": {
        "id": "ettoozmkAjr2",
        "outputId": "f0057046-7f4c-4da7-dae3-e514b2e6ae16",
        "colab": {
          "base_uri": "https://localhost:8080/",
          "height": 520
        }
      },
      "source": [
        "(X_train, y_train), (X_test, y_test), preprocess = text.texts_from_df(train_df=data_train, \n",
        "                   text_column='Reviews', label_columns='Sentiment', \n",
        "                   val_df=data_test, \n",
        "                   maxlen=400, \n",
        "                   preprocess_mode='bert')"
      ],
      "execution_count": 11,
      "outputs": [
        {
          "output_type": "stream",
          "name": "stdout",
          "text": [
            "['neg', 'pos']\n",
            "   neg  pos\n",
            "0  1.0  0.0\n",
            "1  1.0  0.0\n",
            "2  1.0  0.0\n",
            "3  1.0  0.0\n",
            "4  1.0  0.0\n",
            "['neg', 'pos']\n",
            "   neg  pos\n",
            "0  0.0  1.0\n",
            "1  0.0  1.0\n",
            "2  1.0  0.0\n",
            "3  0.0  1.0\n",
            "4  1.0  0.0\n",
            "downloading pretrained BERT model (uncased_L-12_H-768_A-12.zip)...\n",
            "[██████████████████████████████████████████████████]\n",
            "extracting pretrained BERT model...\n",
            "done.\n",
            "\n",
            "cleanup downloaded zip...\n",
            "done.\n",
            "\n",
            "preprocessing train...\n",
            "language: en\n"
          ]
        },
        {
          "output_type": "display_data",
          "data": {
            "text/plain": [
              "<IPython.core.display.HTML object>"
            ],
            "text/html": [
              "\n",
              "<style>\n",
              "    /* Turns off some styling */\n",
              "    progress {\n",
              "        /* gets rid of default border in Firefox and Opera. */\n",
              "        border: none;\n",
              "        /* Needs to be in here for Safari polyfill so background images work as expected. */\n",
              "        background-size: auto;\n",
              "    }\n",
              "    progress:not([value]), progress:not([value])::-webkit-progress-bar {\n",
              "        background: repeating-linear-gradient(45deg, #7e7e7e, #7e7e7e 10px, #5c5c5c 10px, #5c5c5c 20px);\n",
              "    }\n",
              "    .progress-bar-interrupted, .progress-bar-interrupted::-webkit-progress-bar {\n",
              "        background: #F44336;\n",
              "    }\n",
              "</style>\n"
            ]
          },
          "metadata": {}
        },
        {
          "output_type": "display_data",
          "data": {
            "text/plain": [
              "<IPython.core.display.HTML object>"
            ],
            "text/html": [
              "done."
            ]
          },
          "metadata": {}
        },
        {
          "output_type": "stream",
          "name": "stdout",
          "text": [
            "Is Multi-Label? False\n",
            "preprocessing test...\n",
            "language: en\n"
          ]
        },
        {
          "output_type": "display_data",
          "data": {
            "text/plain": [
              "<IPython.core.display.HTML object>"
            ],
            "text/html": [
              "\n",
              "<style>\n",
              "    /* Turns off some styling */\n",
              "    progress {\n",
              "        /* gets rid of default border in Firefox and Opera. */\n",
              "        border: none;\n",
              "        /* Needs to be in here for Safari polyfill so background images work as expected. */\n",
              "        background-size: auto;\n",
              "    }\n",
              "    progress:not([value]), progress:not([value])::-webkit-progress-bar {\n",
              "        background: repeating-linear-gradient(45deg, #7e7e7e, #7e7e7e 10px, #5c5c5c 10px, #5c5c5c 20px);\n",
              "    }\n",
              "    .progress-bar-interrupted, .progress-bar-interrupted::-webkit-progress-bar {\n",
              "        background: #F44336;\n",
              "    }\n",
              "</style>\n"
            ]
          },
          "metadata": {}
        },
        {
          "output_type": "display_data",
          "data": {
            "text/plain": [
              "<IPython.core.display.HTML object>"
            ],
            "text/html": [
              "done."
            ]
          },
          "metadata": {}
        }
      ]
    },
    {
      "cell_type": "code",
      "metadata": {
        "id": "JmpTtniTBouO",
        "outputId": "5860604f-bf3d-4485-d0ee-85992ae84967",
        "colab": {
          "base_uri": "https://localhost:8080/"
        }
      },
      "source": [
        "X_train[0].shape"
      ],
      "execution_count": 12,
      "outputs": [
        {
          "output_type": "execute_result",
          "data": {
            "text/plain": [
              "(25000, 400)"
            ]
          },
          "metadata": {},
          "execution_count": 12
        }
      ]
    },
    {
      "cell_type": "code",
      "metadata": {
        "id": "RGbBSV2FBtv2",
        "outputId": "7eba7cad-cd8c-4599-8817-c1c89bdb21bc",
        "colab": {
          "base_uri": "https://localhost:8080/"
        }
      },
      "source": [
        "model = text.text_classifier(name='bert', train_data=(X_train, y_train), \n",
        "                             preproc=preprocess)"
      ],
      "execution_count": 13,
      "outputs": [
        {
          "output_type": "stream",
          "name": "stdout",
          "text": [
            "Is Multi-Label? False\n",
            "maxlen is 400\n"
          ]
        },
        {
          "output_type": "stream",
          "name": "stderr",
          "text": [
            "/usr/local/lib/python3.9/dist-packages/keras/initializers/initializers_v2.py:120: UserWarning: The initializer GlorotNormal is unseeded and being called multiple times, which will return identical values  each time (even if the initializer is unseeded). Please update your code to provide a seed to the initializer, or avoid using the same initalizer instance more than once.\n",
            "  warnings.warn(\n"
          ]
        },
        {
          "output_type": "stream",
          "name": "stdout",
          "text": [
            "done.\n"
          ]
        }
      ]
    },
    {
      "cell_type": "code",
      "metadata": {
        "id": "h8fVeF60C0zw"
      },
      "source": [
        "learner = ktrain.get_learner(model=model, \n",
        "                             train_data=(X_train, y_train), \n",
        "                             val_data=(X_test, y_test), \n",
        "                             batch_size=6)"
      ],
      "execution_count": 14,
      "outputs": []
    },
    {
      "cell_type": "code",
      "metadata": {
        "id": "NNyyhE8eC2vr",
        "colab": {
          "base_uri": "https://localhost:8080/",
          "height": 380
        },
        "outputId": "8dc4b8d4-8d52-4854-caad-42b0810a1b56"
      },
      "source": [
        "# learner.fit_onecycle(lr=2e-5, epochs=1) \n",
        "#có thể bỏ comment train BERT tiếp"
      ],
      "execution_count": 15,
      "outputs": [
        {
          "output_type": "stream",
          "name": "stdout",
          "text": [
            "\n",
            "\n",
            "begin training using onecycle policy with max lr of 2e-05...\n",
            "1951/4167 [=============>................] - ETA: 23:08 - loss: 0.3047 - accuracy: 0.8692"
          ]
        },
        {
          "output_type": "error",
          "ename": "KeyboardInterrupt",
          "evalue": "ignored",
          "traceback": [
            "\u001b[0;31m---------------------------------------------------------------------------\u001b[0m",
            "\u001b[0;31mKeyboardInterrupt\u001b[0m                         Traceback (most recent call last)",
            "\u001b[0;32m<ipython-input-15-b56513465fb1>\u001b[0m in \u001b[0;36m<module>\u001b[0;34m\u001b[0m\n\u001b[0;32m----> 1\u001b[0;31m \u001b[0mlearner\u001b[0m\u001b[0;34m.\u001b[0m\u001b[0mfit_onecycle\u001b[0m\u001b[0;34m(\u001b[0m\u001b[0mlr\u001b[0m\u001b[0;34m=\u001b[0m\u001b[0;36m2e-5\u001b[0m\u001b[0;34m,\u001b[0m \u001b[0mepochs\u001b[0m\u001b[0;34m=\u001b[0m\u001b[0;36m1\u001b[0m\u001b[0;34m)\u001b[0m\u001b[0;34m\u001b[0m\u001b[0;34m\u001b[0m\u001b[0m\n\u001b[0m",
            "\u001b[0;32m/usr/local/lib/python3.9/dist-packages/ktrain/core.py\u001b[0m in \u001b[0;36mfit_onecycle\u001b[0;34m(self, lr, epochs, checkpoint_folder, cycle_momentum, max_momentum, min_momentum, class_weight, callbacks, steps_per_epoch, verbose)\u001b[0m\n\u001b[1;32m   1035\u001b[0m             \u001b[0mverbose\u001b[0m\u001b[0;34m=\u001b[0m\u001b[0mverbose\u001b[0m\u001b[0;34m,\u001b[0m\u001b[0;34m\u001b[0m\u001b[0;34m\u001b[0m\u001b[0m\n\u001b[1;32m   1036\u001b[0m         )\n\u001b[0;32m-> 1037\u001b[0;31m         hist = self.fit(\n\u001b[0m\u001b[1;32m   1038\u001b[0m             \u001b[0mlr\u001b[0m\u001b[0;34m,\u001b[0m\u001b[0;34m\u001b[0m\u001b[0;34m\u001b[0m\u001b[0m\n\u001b[1;32m   1039\u001b[0m             \u001b[0mepochs\u001b[0m\u001b[0;34m,\u001b[0m\u001b[0;34m\u001b[0m\u001b[0;34m\u001b[0m\u001b[0m\n",
            "\u001b[0;32m/usr/local/lib/python3.9/dist-packages/ktrain/core.py\u001b[0m in \u001b[0;36mfit\u001b[0;34m(self, lr, n_cycles, cycle_len, cycle_mult, lr_decay, checkpoint_folder, early_stopping, verbose, class_weight, callbacks, steps_per_epoch)\u001b[0m\n\u001b[1;32m   1393\u001b[0m         \u001b[0;32mwith\u001b[0m \u001b[0mwarnings\u001b[0m\u001b[0;34m.\u001b[0m\u001b[0mcatch_warnings\u001b[0m\u001b[0;34m(\u001b[0m\u001b[0;34m)\u001b[0m\u001b[0;34m:\u001b[0m\u001b[0;34m\u001b[0m\u001b[0;34m\u001b[0m\u001b[0m\n\u001b[1;32m   1394\u001b[0m             \u001b[0mwarnings\u001b[0m\u001b[0;34m.\u001b[0m\u001b[0mfilterwarnings\u001b[0m\u001b[0;34m(\u001b[0m\u001b[0;34m\"ignore\"\u001b[0m\u001b[0;34m,\u001b[0m \u001b[0mmessage\u001b[0m\u001b[0;34m=\u001b[0m\u001b[0;34m\".*Check your callbacks.*\"\u001b[0m\u001b[0;34m)\u001b[0m\u001b[0;34m\u001b[0m\u001b[0;34m\u001b[0m\u001b[0m\n\u001b[0;32m-> 1395\u001b[0;31m             hist = self.model.fit(\n\u001b[0m\u001b[1;32m   1396\u001b[0m                 \u001b[0mself\u001b[0m\u001b[0;34m.\u001b[0m\u001b[0m_prepare\u001b[0m\u001b[0;34m(\u001b[0m\u001b[0mx_train\u001b[0m\u001b[0;34m)\u001b[0m\u001b[0;34m,\u001b[0m\u001b[0;34m\u001b[0m\u001b[0;34m\u001b[0m\u001b[0m\n\u001b[1;32m   1397\u001b[0m                 \u001b[0mself\u001b[0m\u001b[0;34m.\u001b[0m\u001b[0m_prepare\u001b[0m\u001b[0;34m(\u001b[0m\u001b[0my_train\u001b[0m\u001b[0;34m,\u001b[0m \u001b[0mtrain\u001b[0m\u001b[0;34m=\u001b[0m\u001b[0;32mFalse\u001b[0m\u001b[0;34m)\u001b[0m\u001b[0;34m,\u001b[0m\u001b[0;34m\u001b[0m\u001b[0;34m\u001b[0m\u001b[0m\n",
            "\u001b[0;32m/usr/local/lib/python3.9/dist-packages/keras/utils/traceback_utils.py\u001b[0m in \u001b[0;36merror_handler\u001b[0;34m(*args, **kwargs)\u001b[0m\n\u001b[1;32m     63\u001b[0m         \u001b[0mfiltered_tb\u001b[0m \u001b[0;34m=\u001b[0m \u001b[0;32mNone\u001b[0m\u001b[0;34m\u001b[0m\u001b[0;34m\u001b[0m\u001b[0m\n\u001b[1;32m     64\u001b[0m         \u001b[0;32mtry\u001b[0m\u001b[0;34m:\u001b[0m\u001b[0;34m\u001b[0m\u001b[0;34m\u001b[0m\u001b[0m\n\u001b[0;32m---> 65\u001b[0;31m             \u001b[0;32mreturn\u001b[0m \u001b[0mfn\u001b[0m\u001b[0;34m(\u001b[0m\u001b[0;34m*\u001b[0m\u001b[0margs\u001b[0m\u001b[0;34m,\u001b[0m \u001b[0;34m**\u001b[0m\u001b[0mkwargs\u001b[0m\u001b[0;34m)\u001b[0m\u001b[0;34m\u001b[0m\u001b[0;34m\u001b[0m\u001b[0m\n\u001b[0m\u001b[1;32m     66\u001b[0m         \u001b[0;32mexcept\u001b[0m \u001b[0mException\u001b[0m \u001b[0;32mas\u001b[0m \u001b[0me\u001b[0m\u001b[0;34m:\u001b[0m\u001b[0;34m\u001b[0m\u001b[0;34m\u001b[0m\u001b[0m\n\u001b[1;32m     67\u001b[0m             \u001b[0mfiltered_tb\u001b[0m \u001b[0;34m=\u001b[0m \u001b[0m_process_traceback_frames\u001b[0m\u001b[0;34m(\u001b[0m\u001b[0me\u001b[0m\u001b[0;34m.\u001b[0m\u001b[0m__traceback__\u001b[0m\u001b[0;34m)\u001b[0m\u001b[0;34m\u001b[0m\u001b[0;34m\u001b[0m\u001b[0m\n",
            "\u001b[0;32m/usr/local/lib/python3.9/dist-packages/keras/engine/training.py\u001b[0m in \u001b[0;36mfit\u001b[0;34m(self, x, y, batch_size, epochs, verbose, callbacks, validation_split, validation_data, shuffle, class_weight, sample_weight, initial_epoch, steps_per_epoch, validation_steps, validation_batch_size, validation_freq, max_queue_size, workers, use_multiprocessing)\u001b[0m\n\u001b[1;32m   1648\u001b[0m                         ):\n\u001b[1;32m   1649\u001b[0m                             \u001b[0mcallbacks\u001b[0m\u001b[0;34m.\u001b[0m\u001b[0mon_train_batch_begin\u001b[0m\u001b[0;34m(\u001b[0m\u001b[0mstep\u001b[0m\u001b[0;34m)\u001b[0m\u001b[0;34m\u001b[0m\u001b[0;34m\u001b[0m\u001b[0m\n\u001b[0;32m-> 1650\u001b[0;31m                             \u001b[0mtmp_logs\u001b[0m \u001b[0;34m=\u001b[0m \u001b[0mself\u001b[0m\u001b[0;34m.\u001b[0m\u001b[0mtrain_function\u001b[0m\u001b[0;34m(\u001b[0m\u001b[0miterator\u001b[0m\u001b[0;34m)\u001b[0m\u001b[0;34m\u001b[0m\u001b[0;34m\u001b[0m\u001b[0m\n\u001b[0m\u001b[1;32m   1651\u001b[0m                             \u001b[0;32mif\u001b[0m \u001b[0mdata_handler\u001b[0m\u001b[0;34m.\u001b[0m\u001b[0mshould_sync\u001b[0m\u001b[0;34m:\u001b[0m\u001b[0;34m\u001b[0m\u001b[0;34m\u001b[0m\u001b[0m\n\u001b[1;32m   1652\u001b[0m                                 \u001b[0mcontext\u001b[0m\u001b[0;34m.\u001b[0m\u001b[0masync_wait\u001b[0m\u001b[0;34m(\u001b[0m\u001b[0;34m)\u001b[0m\u001b[0;34m\u001b[0m\u001b[0;34m\u001b[0m\u001b[0m\n",
            "\u001b[0;32m/usr/local/lib/python3.9/dist-packages/tensorflow/python/util/traceback_utils.py\u001b[0m in \u001b[0;36merror_handler\u001b[0;34m(*args, **kwargs)\u001b[0m\n\u001b[1;32m    148\u001b[0m     \u001b[0mfiltered_tb\u001b[0m \u001b[0;34m=\u001b[0m \u001b[0;32mNone\u001b[0m\u001b[0;34m\u001b[0m\u001b[0;34m\u001b[0m\u001b[0m\n\u001b[1;32m    149\u001b[0m     \u001b[0;32mtry\u001b[0m\u001b[0;34m:\u001b[0m\u001b[0;34m\u001b[0m\u001b[0;34m\u001b[0m\u001b[0m\n\u001b[0;32m--> 150\u001b[0;31m       \u001b[0;32mreturn\u001b[0m \u001b[0mfn\u001b[0m\u001b[0;34m(\u001b[0m\u001b[0;34m*\u001b[0m\u001b[0margs\u001b[0m\u001b[0;34m,\u001b[0m \u001b[0;34m**\u001b[0m\u001b[0mkwargs\u001b[0m\u001b[0;34m)\u001b[0m\u001b[0;34m\u001b[0m\u001b[0;34m\u001b[0m\u001b[0m\n\u001b[0m\u001b[1;32m    151\u001b[0m     \u001b[0;32mexcept\u001b[0m \u001b[0mException\u001b[0m \u001b[0;32mas\u001b[0m \u001b[0me\u001b[0m\u001b[0;34m:\u001b[0m\u001b[0;34m\u001b[0m\u001b[0;34m\u001b[0m\u001b[0m\n\u001b[1;32m    152\u001b[0m       \u001b[0mfiltered_tb\u001b[0m \u001b[0;34m=\u001b[0m \u001b[0m_process_traceback_frames\u001b[0m\u001b[0;34m(\u001b[0m\u001b[0me\u001b[0m\u001b[0;34m.\u001b[0m\u001b[0m__traceback__\u001b[0m\u001b[0;34m)\u001b[0m\u001b[0;34m\u001b[0m\u001b[0;34m\u001b[0m\u001b[0m\n",
            "\u001b[0;32m/usr/local/lib/python3.9/dist-packages/tensorflow/python/eager/polymorphic_function/polymorphic_function.py\u001b[0m in \u001b[0;36m__call__\u001b[0;34m(self, *args, **kwds)\u001b[0m\n\u001b[1;32m    878\u001b[0m \u001b[0;34m\u001b[0m\u001b[0m\n\u001b[1;32m    879\u001b[0m       \u001b[0;32mwith\u001b[0m \u001b[0mOptionalXlaContext\u001b[0m\u001b[0;34m(\u001b[0m\u001b[0mself\u001b[0m\u001b[0;34m.\u001b[0m\u001b[0m_jit_compile\u001b[0m\u001b[0;34m)\u001b[0m\u001b[0;34m:\u001b[0m\u001b[0;34m\u001b[0m\u001b[0;34m\u001b[0m\u001b[0m\n\u001b[0;32m--> 880\u001b[0;31m         \u001b[0mresult\u001b[0m \u001b[0;34m=\u001b[0m \u001b[0mself\u001b[0m\u001b[0;34m.\u001b[0m\u001b[0m_call\u001b[0m\u001b[0;34m(\u001b[0m\u001b[0;34m*\u001b[0m\u001b[0margs\u001b[0m\u001b[0;34m,\u001b[0m \u001b[0;34m**\u001b[0m\u001b[0mkwds\u001b[0m\u001b[0;34m)\u001b[0m\u001b[0;34m\u001b[0m\u001b[0;34m\u001b[0m\u001b[0m\n\u001b[0m\u001b[1;32m    881\u001b[0m \u001b[0;34m\u001b[0m\u001b[0m\n\u001b[1;32m    882\u001b[0m       \u001b[0mnew_tracing_count\u001b[0m \u001b[0;34m=\u001b[0m \u001b[0mself\u001b[0m\u001b[0;34m.\u001b[0m\u001b[0mexperimental_get_tracing_count\u001b[0m\u001b[0;34m(\u001b[0m\u001b[0;34m)\u001b[0m\u001b[0;34m\u001b[0m\u001b[0;34m\u001b[0m\u001b[0m\n",
            "\u001b[0;32m/usr/local/lib/python3.9/dist-packages/tensorflow/python/eager/polymorphic_function/polymorphic_function.py\u001b[0m in \u001b[0;36m_call\u001b[0;34m(self, *args, **kwds)\u001b[0m\n\u001b[1;32m    910\u001b[0m       \u001b[0;31m# In this case we have created variables on the first call, so we run the\u001b[0m\u001b[0;34m\u001b[0m\u001b[0;34m\u001b[0m\u001b[0m\n\u001b[1;32m    911\u001b[0m       \u001b[0;31m# defunned version which is guaranteed to never create variables.\u001b[0m\u001b[0;34m\u001b[0m\u001b[0;34m\u001b[0m\u001b[0m\n\u001b[0;32m--> 912\u001b[0;31m       \u001b[0;32mreturn\u001b[0m \u001b[0mself\u001b[0m\u001b[0;34m.\u001b[0m\u001b[0m_no_variable_creation_fn\u001b[0m\u001b[0;34m(\u001b[0m\u001b[0;34m*\u001b[0m\u001b[0margs\u001b[0m\u001b[0;34m,\u001b[0m \u001b[0;34m**\u001b[0m\u001b[0mkwds\u001b[0m\u001b[0;34m)\u001b[0m  \u001b[0;31m# pylint: disable=not-callable\u001b[0m\u001b[0;34m\u001b[0m\u001b[0;34m\u001b[0m\u001b[0m\n\u001b[0m\u001b[1;32m    913\u001b[0m     \u001b[0;32melif\u001b[0m \u001b[0mself\u001b[0m\u001b[0;34m.\u001b[0m\u001b[0m_variable_creation_fn\u001b[0m \u001b[0;32mis\u001b[0m \u001b[0;32mnot\u001b[0m \u001b[0;32mNone\u001b[0m\u001b[0;34m:\u001b[0m\u001b[0;34m\u001b[0m\u001b[0;34m\u001b[0m\u001b[0m\n\u001b[1;32m    914\u001b[0m       \u001b[0;31m# Release the lock early so that multiple threads can perform the call\u001b[0m\u001b[0;34m\u001b[0m\u001b[0;34m\u001b[0m\u001b[0m\n",
            "\u001b[0;32m/usr/local/lib/python3.9/dist-packages/tensorflow/python/eager/polymorphic_function/tracing_compiler.py\u001b[0m in \u001b[0;36m__call__\u001b[0;34m(self, *args, **kwargs)\u001b[0m\n\u001b[1;32m    132\u001b[0m       (concrete_function,\n\u001b[1;32m    133\u001b[0m        filtered_flat_args) = self._maybe_define_function(args, kwargs)\n\u001b[0;32m--> 134\u001b[0;31m     return concrete_function._call_flat(\n\u001b[0m\u001b[1;32m    135\u001b[0m         filtered_flat_args, captured_inputs=concrete_function.captured_inputs)  # pylint: disable=protected-access\n\u001b[1;32m    136\u001b[0m \u001b[0;34m\u001b[0m\u001b[0m\n",
            "\u001b[0;32m/usr/local/lib/python3.9/dist-packages/tensorflow/python/eager/polymorphic_function/monomorphic_function.py\u001b[0m in \u001b[0;36m_call_flat\u001b[0;34m(self, args, captured_inputs, cancellation_manager)\u001b[0m\n\u001b[1;32m   1743\u001b[0m         and executing_eagerly):\n\u001b[1;32m   1744\u001b[0m       \u001b[0;31m# No tape is watching; skip to running the function.\u001b[0m\u001b[0;34m\u001b[0m\u001b[0;34m\u001b[0m\u001b[0m\n\u001b[0;32m-> 1745\u001b[0;31m       return self._build_call_outputs(self._inference_function.call(\n\u001b[0m\u001b[1;32m   1746\u001b[0m           ctx, args, cancellation_manager=cancellation_manager))\n\u001b[1;32m   1747\u001b[0m     forward_backward = self._select_forward_and_backward_functions(\n",
            "\u001b[0;32m/usr/local/lib/python3.9/dist-packages/tensorflow/python/eager/polymorphic_function/monomorphic_function.py\u001b[0m in \u001b[0;36mcall\u001b[0;34m(self, ctx, args, cancellation_manager)\u001b[0m\n\u001b[1;32m    376\u001b[0m       \u001b[0;32mwith\u001b[0m \u001b[0m_InterpolateFunctionError\u001b[0m\u001b[0;34m(\u001b[0m\u001b[0mself\u001b[0m\u001b[0;34m)\u001b[0m\u001b[0;34m:\u001b[0m\u001b[0;34m\u001b[0m\u001b[0;34m\u001b[0m\u001b[0m\n\u001b[1;32m    377\u001b[0m         \u001b[0;32mif\u001b[0m \u001b[0mcancellation_manager\u001b[0m \u001b[0;32mis\u001b[0m \u001b[0;32mNone\u001b[0m\u001b[0;34m:\u001b[0m\u001b[0;34m\u001b[0m\u001b[0;34m\u001b[0m\u001b[0m\n\u001b[0;32m--> 378\u001b[0;31m           outputs = execute.execute(\n\u001b[0m\u001b[1;32m    379\u001b[0m               \u001b[0mstr\u001b[0m\u001b[0;34m(\u001b[0m\u001b[0mself\u001b[0m\u001b[0;34m.\u001b[0m\u001b[0msignature\u001b[0m\u001b[0;34m.\u001b[0m\u001b[0mname\u001b[0m\u001b[0;34m)\u001b[0m\u001b[0;34m,\u001b[0m\u001b[0;34m\u001b[0m\u001b[0;34m\u001b[0m\u001b[0m\n\u001b[1;32m    380\u001b[0m               \u001b[0mnum_outputs\u001b[0m\u001b[0;34m=\u001b[0m\u001b[0mself\u001b[0m\u001b[0;34m.\u001b[0m\u001b[0m_num_outputs\u001b[0m\u001b[0;34m,\u001b[0m\u001b[0;34m\u001b[0m\u001b[0;34m\u001b[0m\u001b[0m\n",
            "\u001b[0;32m/usr/local/lib/python3.9/dist-packages/tensorflow/python/eager/execute.py\u001b[0m in \u001b[0;36mquick_execute\u001b[0;34m(op_name, num_outputs, inputs, attrs, ctx, name)\u001b[0m\n\u001b[1;32m     50\u001b[0m   \u001b[0;32mtry\u001b[0m\u001b[0;34m:\u001b[0m\u001b[0;34m\u001b[0m\u001b[0;34m\u001b[0m\u001b[0m\n\u001b[1;32m     51\u001b[0m     \u001b[0mctx\u001b[0m\u001b[0;34m.\u001b[0m\u001b[0mensure_initialized\u001b[0m\u001b[0;34m(\u001b[0m\u001b[0;34m)\u001b[0m\u001b[0;34m\u001b[0m\u001b[0;34m\u001b[0m\u001b[0m\n\u001b[0;32m---> 52\u001b[0;31m     tensors = pywrap_tfe.TFE_Py_Execute(ctx._handle, device_name, op_name,\n\u001b[0m\u001b[1;32m     53\u001b[0m                                         inputs, attrs, num_outputs)\n\u001b[1;32m     54\u001b[0m   \u001b[0;32mexcept\u001b[0m \u001b[0mcore\u001b[0m\u001b[0;34m.\u001b[0m\u001b[0m_NotOkStatusException\u001b[0m \u001b[0;32mas\u001b[0m \u001b[0me\u001b[0m\u001b[0;34m:\u001b[0m\u001b[0;34m\u001b[0m\u001b[0;34m\u001b[0m\u001b[0m\n",
            "\u001b[0;31mKeyboardInterrupt\u001b[0m: "
          ]
        }
      ]
    },
    {
      "cell_type": "code",
      "metadata": {
        "id": "hSBJG_NVOhCP",
        "outputId": "cb5e8e33-1243-4abf-8cbe-a8cb9f0082cd",
        "colab": {
          "base_uri": "https://localhost:8080/"
        }
      },
      "source": [
        "learner"
      ],
      "execution_count": 16,
      "outputs": [
        {
          "output_type": "execute_result",
          "data": {
            "text/plain": [
              "<ktrain.text.learner.BERTTextClassLearner at 0x7f2be9118b80>"
            ]
          },
          "metadata": {},
          "execution_count": 16
        }
      ]
    },
    {
      "cell_type": "code",
      "metadata": {
        "id": "CCKeq0ESOmgO"
      },
      "source": [
        "predictor = ktrain.get_predictor(model=  .model, preproc=preprocess)"
      ],
      "execution_count": 17,
      "outputs": []
    },
    {
      "cell_type": "code",
      "metadata": {
        "id": "ea5erx3VOqcL"
      },
      "source": [
        "testing_data = [ 'This movie was horrible! The plot was boring. Acting was okay, though.',\n",
        "                'The film really sucked. I want my money back.',\n",
        "                'The plot had too many holes.',\n",
        "                'What a beautiful romantic comedy. 10/10 would see again!',\n",
        "                ]"
      ],
      "execution_count": 18,
      "outputs": []
    },
    {
      "cell_type": "code",
      "metadata": {
        "id": "Rxn9WyGgOsUG",
        "outputId": "816d281a-43f6-4120-83cb-b1b74c90eea2",
        "colab": {
          "base_uri": "https://localhost:8080/"
        }
      },
      "source": [
        "predictor.predict(texts=testing_data)"
      ],
      "execution_count": 19,
      "outputs": [
        {
          "output_type": "stream",
          "name": "stdout",
          "text": [
            "1/1 [==============================] - 7s 7s/step\n"
          ]
        },
        {
          "output_type": "execute_result",
          "data": {
            "text/plain": [
              "['neg', 'neg', 'neg', 'pos']"
            ]
          },
          "metadata": {},
          "execution_count": 19
        }
      ]
    },
    {
      "cell_type": "code",
      "metadata": {
        "id": "5tGWvA4kTRrV",
        "outputId": "e9bfd06e-d96a-42c4-81b8-c5675121b39a",
        "colab": {
          "base_uri": "https://localhost:8080/"
        }
      },
      "source": [
        "predictor.predict(texts=testing_data, return_proba=True)"
      ],
      "execution_count": 20,
      "outputs": [
        {
          "output_type": "stream",
          "name": "stdout",
          "text": [
            "1/1 [==============================] - 0s 186ms/step\n"
          ]
        },
        {
          "output_type": "execute_result",
          "data": {
            "text/plain": [
              "array([[0.9947642 , 0.00523578],\n",
              "       [0.9909999 , 0.00900009],\n",
              "       [0.99171644, 0.00828362],\n",
              "       [0.00962423, 0.9903758 ]], dtype=float32)"
            ]
          },
          "metadata": {},
          "execution_count": 20
        }
      ]
    },
    {
      "cell_type": "code",
      "metadata": {
        "id": "aDkixOisO7Xy"
      },
      "source": [
        "website_url = 'https://finviz.com/quote.ashx?t='\n",
        "company_tikcers = ['AMD', 'AMZN', 'FB', 'GOOG']"
      ],
      "execution_count": 21,
      "outputs": []
    },
    {
      "cell_type": "code",
      "metadata": {
        "id": "CiCnSdrkPLYq",
        "colab": {
          "base_uri": "https://localhost:8080/"
        },
        "outputId": "83ed080e-8509-486a-c219-30d3219a6d5a"
      },
      "source": [
        "news_tables = {}\n",
        "from urllib.request import urlopen\n",
        "for ticker in company_tikcers:\n",
        "  url = website_url + ticker\n",
        "\n",
        "  req = Request(url=url, headers={'user-agent': 'my-scrape'})\n",
        "  try:\n",
        "        response=urlopen(req)\n",
        "  except:\n",
        "      pass\n",
        "  # response = urlopen(req)\n",
        "  html = BeautifulSoup(response, 'html')\n",
        "  news_data = html.find(id='news-table')\n",
        "  print(news_data)\n",
        "  news_tables[ticker] = news_data\n",
        "  "
      ],
      "execution_count": 37,
      "outputs": [
        {
          "output_type": "stream",
          "name": "stdout",
          "text": [
            "<table border=\"0\" cellpadding=\"1\" cellspacing=\"0\" class=\"fullview-news-outer\" id=\"news-table\" width=\"100%\">\n",
            "<tr><td align=\"right\" width=\"130\">Mar-10-23 05:00PM</td><td align=\"left\"><div class=\"news-link-container\"><div class=\"news-link-left\"><a class=\"tab-link-news\" href=\"https://finance.yahoo.com/m/b390fde6-9c73-3c05-ad47-aea6671177b3/2-hypergrowth-stocks-to-buy.html\" onclick=\"trackAndOpenNews(event, 'Motley Fool', 'https://finance.yahoo.com/m/b390fde6-9c73-3c05-ad47-aea6671177b3/2-hypergrowth-stocks-to-buy.html');\" rel=\"nofollow\" target=\"_blank\">2 Hypergrowth Stocks to Buy in 2023 and Beyond</a></div><div class=\"news-link-right\"><span style=\"color:#aa6dc0;font-size:9px\"> Motley Fool</span></div></div></td></tr>\n",
            "<tr><td align=\"right\" width=\"130\">11:56AM</td><td align=\"left\"><div class=\"news-link-container\"><div class=\"news-link-left\"><a class=\"tab-link-news\" href=\"https://finance.yahoo.com/m/af4822fd-839f-39d4-9481-789e25263fd4/best-stock-to-buy%3A-tsmc-vs..html\" onclick=\"trackAndOpenNews(event, 'Motley Fool', 'https://finance.yahoo.com/m/af4822fd-839f-39d4-9481-789e25263fd4/best-stock-to-buy%3A-tsmc-vs..html');\" rel=\"nofollow\" target=\"_blank\">Best Stock to Buy: TSMC vs. AMD</a></div><div class=\"news-link-right\"><span style=\"color:#aa6dc0;font-size:9px\"> Motley Fool</span></div></div></td></tr>\n",
            "<tr><td align=\"right\" width=\"130\">11:30AM</td><td align=\"left\"><div class=\"news-link-container\"><div class=\"news-link-left\"><a class=\"tab-link-news\" href=\"https://finance.yahoo.com/news/formfactor-form-down-11-since-163004023.html\" onclick=\"trackAndOpenNews(event, 'Zacks', 'https://finance.yahoo.com/news/formfactor-form-down-11-since-163004023.html');\" rel=\"nofollow\" target=\"_blank\">FormFactor (FORM) Down 11% Since Last Earnings Report: Can It Rebound?</a></div><div class=\"news-link-right\"><span style=\"color:#aa6dc0;font-size:9px\"> Zacks</span></div></div></td></tr>\n",
            "<tr><td align=\"right\" width=\"130\">10:22AM</td><td align=\"left\"><div class=\"news-link-container\"><div class=\"news-link-left\"><a class=\"tab-link-news\" href=\"https://finance.yahoo.com/m/ebe80278-b2dc-3d0c-a9ac-f4905588260b/what-amd%2C-intel%2C-and-nvidia.html\" onclick=\"trackAndOpenNews(event, 'Motley Fool', 'https://finance.yahoo.com/m/ebe80278-b2dc-3d0c-a9ac-f4905588260b/what-amd%2C-intel%2C-and-nvidia.html');\" rel=\"nofollow\" target=\"_blank\">What AMD, Intel, and Nvidia Stock Investors Should Know About Recent Updates</a></div><div class=\"news-link-right\"><span style=\"color:#aa6dc0;font-size:9px\"> Motley Fool</span></div></div></td></tr>\n",
            "<tr><td align=\"right\" width=\"130\">09:30AM</td><td align=\"left\"><div class=\"news-link-container\"><div class=\"news-link-left\"><a class=\"tab-link-news\" href=\"https://finance.yahoo.com/news/wall-street-analysts-think-advanced-143002343.html\" onclick=\"trackAndOpenNews(event, 'Zacks', 'https://finance.yahoo.com/news/wall-street-analysts-think-advanced-143002343.html');\" rel=\"nofollow\" target=\"_blank\">Wall Street Analysts Think Advanced Micro (AMD) Is a Good Investment: Is It?</a></div><div class=\"news-link-right\"><span style=\"color:#aa6dc0;font-size:9px\"> Zacks</span></div></div></td></tr>\n",
            "<tr><td align=\"right\" width=\"130\">08:36AM</td><td align=\"left\"><div class=\"news-link-container\"><div class=\"news-link-left\"><a class=\"tab-link-news\" href=\"https://finance.yahoo.com/news/salesforce-advanced-micro-devices-highlighted-133601975.html\" onclick=\"trackAndOpenNews(event, 'Zacks', 'https://finance.yahoo.com/news/salesforce-advanced-micro-devices-highlighted-133601975.html');\" rel=\"nofollow\" target=\"_blank\">Salesforce and Advanced Micro Devices have been highlighted as Zacks Bull and Bear of the Day</a></div><div class=\"news-link-right\"><span style=\"color:#aa6dc0;font-size:9px\"> Zacks</span></div></div></td></tr>\n",
            "<tr><td align=\"right\" width=\"130\">04:00AM</td><td align=\"left\"><div class=\"news-link-container\"><div class=\"news-link-left\"><a class=\"tab-link-news\" href=\"https://finance.yahoo.com/news/bear-day-advanced-micro-devices-090009771.html\" onclick=\"trackAndOpenNews(event, 'Zacks', 'https://finance.yahoo.com/news/bear-day-advanced-micro-devices-090009771.html');\" rel=\"nofollow\" target=\"_blank\">Bear of the Day: Advanced Micro Devices (AMD)</a></div><div class=\"news-link-right\"><span style=\"color:#aa6dc0;font-size:9px\"> Zacks</span></div></div></td></tr>\n",
            "<tr><td align=\"right\" width=\"130\">Mar-09-23 05:45PM</td><td align=\"left\"><div class=\"news-link-container\"><div class=\"news-link-left\"><a class=\"tab-link-news\" href=\"https://finance.yahoo.com/news/advanced-micro-devices-amd-stock-224510897.html\" onclick=\"trackAndOpenNews(event, 'Zacks', 'https://finance.yahoo.com/news/advanced-micro-devices-amd-stock-224510897.html');\" rel=\"nofollow\" target=\"_blank\">Advanced Micro Devices (AMD) Stock Moves -1.57%: What You Should Know</a></div><div class=\"news-link-right\"><span style=\"color:#aa6dc0;font-size:9px\"> Zacks</span></div></div></td></tr>\n",
            "<tr><td align=\"right\" width=\"130\">09:41AM</td><td align=\"left\"><div class=\"news-link-container\"><div class=\"news-link-left\"><a class=\"tab-link-news\" href=\"https://finance.yahoo.com/news/mark-mobius-betting-big-us-144144225.html\" onclick=\"trackAndOpenNews(event, 'Benzinga', 'https://finance.yahoo.com/news/mark-mobius-betting-big-us-144144225.html');\" rel=\"nofollow\" target=\"_blank\">What Mark Mobius Is Betting Big On As US-China Rivalry Heats Up: 'Number One Category In Our Portfolio'</a></div><div class=\"news-link-right\"><span style=\"color:#aa6dc0;font-size:9px\"> Benzinga</span></div></div></td></tr>\n",
            "<tr><td align=\"right\" width=\"130\">08:08AM</td><td align=\"left\"><div class=\"news-link-container\"><div class=\"news-link-left\"><a class=\"tab-link-news\" href=\"https://finance.yahoo.com/m/60201179-dd18-311d-b9ec-278042efc6ba/dow-jones-futures-fall-with.html\" onclick=\"trackAndOpenNews(event, 'Investor\\u0027s Business Daily', 'https://finance.yahoo.com/m/60201179-dd18-311d-b9ec-278042efc6ba/dow-jones-futures-fall-with.html');\" rel=\"nofollow\" target=\"_blank\">Dow Jones Futures Fall With Market Rally Stuck At Key Levels; Tesla Extends Slide</a></div><div class=\"news-link-right\"><span style=\"color:#aa6dc0;font-size:9px\"> Investor's Business Daily</span></div></div></td></tr>\n",
            "<tr><td align=\"right\" width=\"130\">08:00AM</td><td align=\"left\"><div class=\"news-link-container\"><div class=\"news-link-left\"><a class=\"tab-link-news\" href=\"https://finance.yahoo.com/news/positive-week-advanced-micro-devices-130014277.html\" onclick=\"trackAndOpenNews(event, 'Simply Wall St.', 'https://finance.yahoo.com/news/positive-week-advanced-micro-devices-130014277.html');\" rel=\"nofollow\" target=\"_blank\">Positive week for Advanced Micro Devices, Inc. (NASDAQ:AMD) institutional investors who lost 20% over the past year</a></div><div class=\"news-link-right\"><span style=\"color:#aa6dc0;font-size:9px\"> Simply Wall St.</span></div></div></td></tr>\n",
            "<tr><td align=\"right\" width=\"130\">07:50AM</td><td align=\"left\"><div class=\"news-link-container\"><div class=\"news-link-left\"><a class=\"tab-link-news\" href=\"https://finance.yahoo.com/news/strong-sell-stocks-march-9th-125012087.html\" onclick=\"trackAndOpenNews(event, 'Zacks', 'https://finance.yahoo.com/news/strong-sell-stocks-march-9th-125012087.html');\" rel=\"nofollow\" target=\"_blank\">New Strong Sell Stocks for March 9th</a></div><div class=\"news-link-right\"><span style=\"color:#aa6dc0;font-size:9px\"> Zacks</span></div></div></td></tr>\n",
            "<tr><td align=\"right\" width=\"130\">07:23AM</td><td align=\"left\"><div class=\"news-link-container\"><div class=\"news-link-left\"><a class=\"tab-link-news\" href=\"https://finance.yahoo.com/m/60201179-dd18-311d-b9ec-278042efc6ba/dow-jones-futures%3A-market.html\" onclick=\"trackAndOpenNews(event, 'Investor\\u0027s Business Daily', 'https://finance.yahoo.com/m/60201179-dd18-311d-b9ec-278042efc6ba/dow-jones-futures%3A-market.html');\" rel=\"nofollow\" target=\"_blank\">Dow Jones Futures: Market Rally Stuck At Key Levels; Tesla Extends Slide</a></div><div class=\"news-link-right\"><span style=\"color:#aa6dc0;font-size:9px\"> Investor's Business Daily</span></div></div></td></tr>\n",
            "<tr><td align=\"right\" width=\"130\">Mar-08-23 10:09PM</td><td align=\"left\"><div class=\"news-link-container\"><div class=\"news-link-left\"><a class=\"tab-link-news\" href=\"https://finance.yahoo.com/m/60201179-dd18-311d-b9ec-278042efc6ba/dow-jones-futures-fall%3A.html\" onclick=\"trackAndOpenNews(event, 'Investor\\u0027s Business Daily', 'https://finance.yahoo.com/m/60201179-dd18-311d-b9ec-278042efc6ba/dow-jones-futures-fall%3A.html');\" rel=\"nofollow\" target=\"_blank\">Dow Jones Futures Fall: Market Rally Stuck At Key Levels; Tesla Extends Slide</a></div><div class=\"news-link-right\"><span style=\"color:#aa6dc0;font-size:9px\"> Investor's Business Daily</span></div></div></td></tr>\n",
            "<tr><td align=\"right\" width=\"130\">10:06PM</td><td align=\"left\"><div class=\"news-link-container\"><div class=\"news-link-left\"><a class=\"tab-link-news\" href=\"https://finance.yahoo.com/m/60201179-dd18-311d-b9ec-278042efc6ba/market-rally-stuck-at-key.html\" onclick=\"trackAndOpenNews(event, 'Investor\\u0027s Business Daily', 'https://finance.yahoo.com/m/60201179-dd18-311d-b9ec-278042efc6ba/market-rally-stuck-at-key.html');\" rel=\"nofollow\" target=\"_blank\">Market Rally Stuck At Key Levels, Tesla Extends Slide; Silvergate Crashes On Liquidation</a></div><div class=\"news-link-right\"><span style=\"color:#aa6dc0;font-size:9px\"> Investor's Business Daily</span></div></div></td></tr>\n",
            "<tr><td align=\"right\" width=\"130\">06:01PM</td><td align=\"left\"><div class=\"news-link-container\"><div class=\"news-link-left\"><a class=\"tab-link-news\" href=\"https://finance.yahoo.com/m/c9d0eec7-fca6-3a25-ac8d-e5b65d0a1986/markets-end-mixed-on-jobs.html\" onclick=\"trackAndOpenNews(event, 'Investopedia', 'https://finance.yahoo.com/m/c9d0eec7-fca6-3a25-ac8d-e5b65d0a1986/markets-end-mixed-on-jobs.html');\" rel=\"nofollow\" target=\"_blank\">Markets End Mixed on Jobs Data and Powell's Comments</a></div><div class=\"news-link-right\"><span style=\"color:#aa6dc0;font-size:9px\"> Investopedia</span></div></div></td></tr>\n",
            "<tr><td align=\"right\" width=\"130\">04:13PM</td><td align=\"left\"><div class=\"news-link-container\"><div class=\"news-link-left\"><a class=\"tab-link-news\" href=\"https://finance.yahoo.com/m/cc12da92-3713-31b0-b013-e0b9e66bcbdd/when-women-lead%2C-stocks-can.html\" onclick=\"trackAndOpenNews(event, 'Barrons.com', 'https://finance.yahoo.com/m/cc12da92-3713-31b0-b013-e0b9e66bcbdd/when-women-lead%2C-stocks-can.html');\" rel=\"nofollow\" target=\"_blank\">When Women Lead, Stocks Can Win. These 6 Female CEOs Stand Out.</a></div><div class=\"news-link-right\"><span style=\"color:#aa6dc0;font-size:9px\"> Barrons.com</span></div></div></td></tr>\n",
            "<tr><td align=\"right\" width=\"130\">11:32AM</td><td align=\"left\"><div class=\"news-link-container\"><div class=\"news-link-left\"><a class=\"tab-link-news\" href=\"https://finance.yahoo.com/news/stock-market-today-dow-slips-163215992.html\" onclick=\"trackAndOpenNews(event, 'Investing.com', 'https://finance.yahoo.com/news/stock-market-today-dow-slips-163215992.html');\" rel=\"nofollow\" target=\"_blank\">Stock market today: Dow slips on Fed fears after fresh signs of tight labor market</a></div><div class=\"news-link-right\"><span style=\"color:#aa6dc0;font-size:9px\"> Investing.com</span></div></div></td></tr>\n",
            "<tr><td align=\"right\" width=\"130\">10:41AM</td><td align=\"left\"><div class=\"news-link-container\"><div class=\"news-link-left\"><a class=\"tab-link-news\" href=\"https://finance.yahoo.com/news/p-500-stumbles-signs-tight-154137083.html\" onclick=\"trackAndOpenNews(event, 'Investing.com', 'https://finance.yahoo.com/news/p-500-stumbles-signs-tight-154137083.html');\" rel=\"nofollow\" target=\"_blank\">S&amp;P 500 stumbles as signs of tight labor market add to Fed fears</a></div><div class=\"news-link-right\"><span style=\"color:#aa6dc0;font-size:9px\"> Investing.com</span></div></div></td></tr>\n",
            "<tr><td align=\"right\" width=\"130\">10:00AM</td><td align=\"left\"><div class=\"news-link-container\"><div class=\"news-link-left\"><a class=\"tab-link-news\" href=\"https://finance.yahoo.com/m/90e30acf-3ba5-3211-9606-e08605e8de15/most-large-cryptocurrencies.html\" onclick=\"trackAndOpenNews(event, 'MarketWatch', 'https://finance.yahoo.com/m/90e30acf-3ba5-3211-9606-e08605e8de15/most-large-cryptocurrencies.html');\" rel=\"nofollow\" target=\"_blank\">Most large cryptocurrencies decrease on Polkadot, Litecoin drops</a></div><div class=\"news-link-right\"><span style=\"color:#aa6dc0;font-size:9px\"> MarketWatch</span></div></div></td></tr>\n",
            "<tr><td align=\"right\" width=\"130\">10:00AM</td><td align=\"left\"><div class=\"news-link-container\"><div class=\"news-link-left\"><a class=\"tab-link-news\" href=\"https://finance.yahoo.com/m/cf71a10a-0828-33c9-99b7-d3b0b2e14bb8/3-things-about-amd-that-smart.html\" onclick=\"trackAndOpenNews(event, 'Motley Fool', 'https://finance.yahoo.com/m/cf71a10a-0828-33c9-99b7-d3b0b2e14bb8/3-things-about-amd-that-smart.html');\" rel=\"nofollow\" target=\"_blank\">3 Things About AMD That Smart Investors Know</a></div><div class=\"news-link-right\"><span style=\"color:#aa6dc0;font-size:9px\"> Motley Fool</span></div></div></td></tr>\n",
            "<tr><td align=\"right\" width=\"130\">Mar-07-23 01:46PM</td><td align=\"left\"><div class=\"news-link-container\"><div class=\"news-link-left\"><a class=\"tab-link-news\" href=\"https://finance.yahoo.com/m/2a1b2c95-c9d2-3359-8e36-8f9a5a3477dc/salesforce-unveils-generative.html\" onclick=\"trackAndOpenNews(event, 'Barrons.com', 'https://finance.yahoo.com/m/2a1b2c95-c9d2-3359-8e36-8f9a5a3477dc/salesforce-unveils-generative.html');\" rel=\"nofollow\" target=\"_blank\">Salesforce Unveils Generative AI Tools Einstein GPT</a></div><div class=\"news-link-right\"><span style=\"color:#aa6dc0;font-size:9px\"> Barrons.com</span></div></div></td></tr>\n",
            "<tr><td align=\"right\" width=\"130\">10:39AM</td><td align=\"left\"><div class=\"news-link-container\"><div class=\"news-link-left\"><a class=\"tab-link-news\" href=\"https://finance.yahoo.com/m/020e2875-757d-376c-bdb4-d2fc15032c4f/my-take%3A-4-strong-growth.html\" onclick=\"trackAndOpenNews(event, 'Motley Fool', 'https://finance.yahoo.com/m/020e2875-757d-376c-bdb4-d2fc15032c4f/my-take%3A-4-strong-growth.html');\" rel=\"nofollow\" target=\"_blank\">My Take: 4 Strong Growth Stocks to Buy This Week</a></div><div class=\"news-link-right\"><span style=\"color:#aa6dc0;font-size:9px\"> Motley Fool</span></div></div></td></tr>\n",
            "<tr><td align=\"right\" width=\"130\">10:23AM</td><td align=\"left\"><div class=\"news-link-container\"><div class=\"news-link-left\"><a class=\"tab-link-news\" href=\"https://finance.yahoo.com/m/7246b17c-a8c0-3587-bb65-3fa247824cad/meet-the-european-chiplet.html\" onclick=\"trackAndOpenNews(event, 'Motley Fool', 'https://finance.yahoo.com/m/7246b17c-a8c0-3587-bb65-3fa247824cad/meet-the-european-chiplet.html');\" rel=\"nofollow\" target=\"_blank\">Meet the European Chiplet Company AMD Investors Can't Ignore</a></div><div class=\"news-link-right\"><span style=\"color:#aa6dc0;font-size:9px\"> Motley Fool</span></div></div></td></tr>\n",
            "<tr><td align=\"right\" width=\"130\">10:00AM</td><td align=\"left\"><div class=\"news-link-container\"><div class=\"news-link-left\"><a class=\"tab-link-news\" href=\"https://finance.yahoo.com/m/9342d46b-ae18-3b05-9a6f-fb0b181b96e4/litecoin-leads-way-as-most.html\" onclick=\"trackAndOpenNews(event, 'MarketWatch', 'https://finance.yahoo.com/m/9342d46b-ae18-3b05-9a6f-fb0b181b96e4/litecoin-leads-way-as-most.html');\" rel=\"nofollow\" target=\"_blank\">Litecoin leads way as most big cryptocurrencies post drops</a></div><div class=\"news-link-right\"><span style=\"color:#aa6dc0;font-size:9px\"> MarketWatch</span></div></div></td></tr>\n",
            "<tr><td align=\"right\" width=\"130\">09:55AM</td><td align=\"left\"><div class=\"news-link-container\"><div class=\"news-link-left\"><a class=\"tab-link-news\" href=\"https://finance.yahoo.com/m/c35c3145-db26-3f8c-953e-3e195ec0f295/intel%27s-roadmap-changes-a.html\" onclick=\"trackAndOpenNews(event, 'Motley Fool', 'https://finance.yahoo.com/m/c35c3145-db26-3f8c-953e-3e195ec0f295/intel%27s-roadmap-changes-a.html');\" rel=\"nofollow\" target=\"_blank\">Intel's Roadmap Changes -- a Sign of Desperation or a Bold Move?</a></div><div class=\"news-link-right\"><span style=\"color:#aa6dc0;font-size:9px\"> Motley Fool</span></div></div></td></tr>\n",
            "<tr><td align=\"right\" width=\"130\">05:00AM</td><td align=\"left\"><div class=\"news-link-container\"><div class=\"news-link-left\"><a class=\"tab-link-news\" href=\"https://finance.yahoo.com/m/e37958bb-83f5-37be-a864-7069d7de9ed2/2-stocks-to-invest-in-virtual.html\" onclick=\"trackAndOpenNews(event, 'Motley Fool', 'https://finance.yahoo.com/m/e37958bb-83f5-37be-a864-7069d7de9ed2/2-stocks-to-invest-in-virtual.html');\" rel=\"nofollow\" target=\"_blank\">2 Stocks to Invest in Virtual Reality</a></div><div class=\"news-link-right\"><span style=\"color:#aa6dc0;font-size:9px\"> Motley Fool</span></div></div></td></tr>\n",
            "<tr><td align=\"right\" width=\"130\">Mar-06-23 06:09PM</td><td align=\"left\"><div class=\"news-link-container\"><div class=\"news-link-left\"><a class=\"tab-link-news\" href=\"https://finance.yahoo.com/news/10-hot-growth-stocks-buy-230958244.html\" onclick=\"trackAndOpenNews(event, 'Insider Monkey', 'https://finance.yahoo.com/news/10-hot-growth-stocks-buy-230958244.html');\" rel=\"nofollow\" target=\"_blank\">10 Hot Growth Stocks To Buy Now</a></div><div class=\"news-link-right\"><span style=\"color:#aa6dc0;font-size:9px\"> Insider Monkey</span></div></div></td></tr>\n",
            "<tr><td align=\"right\" width=\"130\">04:48PM</td><td align=\"left\"><div class=\"news-link-container\"><div class=\"news-link-left\"><a class=\"tab-link-news\" href=\"https://finance.yahoo.com/m/36466dfa-a386-3fec-aba1-ebc0e331ca3e/as-chip-sales-dry-up%2C-nvidia.html\" onclick=\"trackAndOpenNews(event, 'MarketWatch', 'https://finance.yahoo.com/m/36466dfa-a386-3fec-aba1-ebc0e331ca3e/as-chip-sales-dry-up%2C-nvidia.html');\" rel=\"nofollow\" target=\"_blank\">As chip sales dry up, Nvidia CFO says spending on AI will save companies money</a></div><div class=\"news-link-right\"><span style=\"color:#aa6dc0;font-size:9px\"> MarketWatch</span></div></div></td></tr>\n",
            "<tr><td align=\"right\" width=\"130\">04:28PM</td><td align=\"left\"><div class=\"news-link-container\"><div class=\"news-link-left\"><a class=\"tab-link-news\" href=\"https://finance.yahoo.com/m/97a6bf94-ce5e-35ff-8f8a-5fe2e15bff4e/sell-intel-stock.-the-chip.html\" onclick=\"trackAndOpenNews(event, 'Barrons.com', 'https://finance.yahoo.com/m/97a6bf94-ce5e-35ff-8f8a-5fe2e15bff4e/sell-intel-stock.-the-chip.html');\" rel=\"nofollow\" target=\"_blank\">Sell Intel Stock. The Chip Makers Business Model Makes No Sense, Says Analyst.</a></div><div class=\"news-link-right\"><span style=\"color:#aa6dc0;font-size:9px\"> Barrons.com</span></div></div></td></tr>\n",
            "<tr><td align=\"right\" width=\"130\">02:06PM</td><td align=\"left\"><div class=\"news-link-container\"><div class=\"news-link-left\"><a class=\"tab-link-news\" href=\"https://finance.yahoo.com/m/e5ffda0e-2346-3d8c-82cb-51c76f707f08/why-did-nvidia-stock-climb.html\" onclick=\"trackAndOpenNews(event, 'Motley Fool', 'https://finance.yahoo.com/m/e5ffda0e-2346-3d8c-82cb-51c76f707f08/why-did-nvidia-stock-climb.html');\" rel=\"nofollow\" target=\"_blank\">Why Did Nvidia Stock Climb 19% in February?</a></div><div class=\"news-link-right\"><span style=\"color:#aa6dc0;font-size:9px\"> Motley Fool</span></div></div></td></tr>\n",
            "<tr><td align=\"right\" width=\"130\">12:42PM</td><td align=\"left\"><div class=\"news-link-container\"><div class=\"news-link-left\"><a class=\"tab-link-news\" href=\"https://finance.yahoo.com/news/10-most-promising-metaverse-stocks-174246297.html\" onclick=\"trackAndOpenNews(event, 'Insider Monkey', 'https://finance.yahoo.com/news/10-most-promising-metaverse-stocks-174246297.html');\" rel=\"nofollow\" target=\"_blank\">10 Most Promising Metaverse Stocks to Buy</a></div><div class=\"news-link-right\"><span style=\"color:#aa6dc0;font-size:9px\"> Insider Monkey</span></div></div></td></tr>\n",
            "<tr><td align=\"right\" width=\"130\">03:00AM</td><td align=\"left\"><div class=\"news-link-container\"><div class=\"news-link-left\"><a class=\"tab-link-news\" href=\"https://finance.yahoo.com/m/89416c9d-5dbe-359a-993f-4acc6cc2e20c/big-fund-slashes-stakes-in.html\" onclick=\"trackAndOpenNews(event, 'Barrons.com', 'https://finance.yahoo.com/m/89416c9d-5dbe-359a-993f-4acc6cc2e20c/big-fund-slashes-stakes-in.html');\" rel=\"nofollow\" target=\"_blank\">Big Fund Slashes Stakes in Chip Stocks AMD, Intel, Nvidia, and Micron</a></div><div class=\"news-link-right\"><span style=\"color:#aa6dc0;font-size:9px\"> Barrons.com</span></div></div></td></tr>\n",
            "<tr><td align=\"right\" width=\"130\">12:56AM</td><td align=\"left\"><div class=\"news-link-container\"><div class=\"news-link-left\"><a class=\"tab-link-news\" href=\"https://finance.yahoo.com/news/hedge-funds-c-suites-dan-055653096.html\" onclick=\"trackAndOpenNews(event, 'Investing.com', 'https://finance.yahoo.com/news/hedge-funds-c-suites-dan-055653096.html');\" rel=\"nofollow\" target=\"_blank\">Hedge funds and C-suites: Dan Loeb picks up AMD stake | Pro Recap</a></div><div class=\"news-link-right\"><span style=\"color:#aa6dc0;font-size:9px\"> Investing.com</span></div></div></td></tr>\n",
            "<tr><td align=\"right\" width=\"130\">Mar-05-23 09:00AM</td><td align=\"left\"><div class=\"news-link-container\"><div class=\"news-link-left\"><a class=\"tab-link-news\" href=\"https://finance.yahoo.com/m/c4d042da-fe5e-3c83-ba65-eff4fd99f5c1/3-best-cloud-stocks-to-buy-in.html\" onclick=\"trackAndOpenNews(event, 'Motley Fool', 'https://finance.yahoo.com/m/c4d042da-fe5e-3c83-ba65-eff4fd99f5c1/3-best-cloud-stocks-to-buy-in.html');\" rel=\"nofollow\" target=\"_blank\">3 Best Cloud Stocks to Buy in March</a></div><div class=\"news-link-right\"><span style=\"color:#aa6dc0;font-size:9px\"> Motley Fool</span></div></div></td></tr>\n",
            "<tr><td align=\"right\" width=\"130\">07:10AM</td><td align=\"left\"><div class=\"news-link-container\"><div class=\"news-link-left\"><a class=\"tab-link-news\" href=\"https://finance.yahoo.com/m/14bb1c00-a729-39a3-b346-694c23d699eb/3-top-artificial-intelligence.html\" onclick=\"trackAndOpenNews(event, 'Motley Fool', 'https://finance.yahoo.com/m/14bb1c00-a729-39a3-b346-694c23d699eb/3-top-artificial-intelligence.html');\" rel=\"nofollow\" target=\"_blank\">3 Top Artificial Intelligence Stocks to Buy Right Now</a></div><div class=\"news-link-right\"><span style=\"color:#aa6dc0;font-size:9px\"> Motley Fool</span></div></div></td></tr>\n",
            "<tr><td align=\"right\" width=\"130\">07:00AM</td><td align=\"left\"><div class=\"news-link-container\"><div class=\"news-link-left\"><a class=\"tab-link-news\" href=\"https://finance.yahoo.com/news/4-measures-indicate-advanced-micro-120027931.html\" onclick=\"trackAndOpenNews(event, 'Simply Wall St.', 'https://finance.yahoo.com/news/4-measures-indicate-advanced-micro-120027931.html');\" rel=\"nofollow\" target=\"_blank\">These 4 Measures Indicate That Advanced Micro Devices (NASDAQ:AMD) Is Using Debt Reasonably Well</a></div><div class=\"news-link-right\"><span style=\"color:#aa6dc0;font-size:9px\"> Simply Wall St.</span></div></div></td></tr>\n",
            "<tr><td align=\"right\" width=\"130\">Mar-03-23 05:00PM</td><td align=\"left\"><div class=\"news-link-container\"><div class=\"news-link-left\"><a class=\"tab-link-news\" href=\"https://finance.yahoo.com/m/3edac5fa-875f-3210-821a-d8a6396b0f0e/better-buy%3A-nvidia-vs.-amd.html\" onclick=\"trackAndOpenNews(event, 'Motley Fool', 'https://finance.yahoo.com/m/3edac5fa-875f-3210-821a-d8a6396b0f0e/better-buy%3A-nvidia-vs.-amd.html');\" rel=\"nofollow\" target=\"_blank\">Better Buy: Nvidia vs. AMD</a></div><div class=\"news-link-right\"><span style=\"color:#aa6dc0;font-size:9px\"> Motley Fool</span></div></div></td></tr>\n",
            "<tr><td align=\"right\" width=\"130\">02:13PM</td><td align=\"left\"><div class=\"news-link-container\"><div class=\"news-link-left\"><a class=\"tab-link-news\" href=\"https://finance.yahoo.com/m/158ebd18-cf54-3fd8-af13-9b8899c4da8d/can-amd-stock-break-out-as-a.html\" onclick=\"trackAndOpenNews(event, 'TheStreet.com', 'https://finance.yahoo.com/m/158ebd18-cf54-3fd8-af13-9b8899c4da8d/can-amd-stock-break-out-as-a.html');\" rel=\"nofollow\" target=\"_blank\">Can AMD Stock Break Out as a Big Investor Takes a Stake?</a></div><div class=\"news-link-right\"><span style=\"color:#aa6dc0;font-size:9px\"> TheStreet.com</span></div></div></td></tr>\n",
            "<tr><td align=\"right\" width=\"130\">09:00AM</td><td align=\"left\"><div class=\"news-link-container\"><div class=\"news-link-left\"><a class=\"tab-link-news\" href=\"https://finance.yahoo.com/news/advanced-micro-devices-inc-amd-140002519.html\" onclick=\"trackAndOpenNews(event, 'Zacks', 'https://finance.yahoo.com/news/advanced-micro-devices-inc-amd-140002519.html');\" rel=\"nofollow\" target=\"_blank\">Advanced Micro Devices, Inc. (AMD) Is a Trending Stock: Facts to Know Before Betting on It</a></div><div class=\"news-link-right\"><span style=\"color:#aa6dc0;font-size:9px\"> Zacks</span></div></div></td></tr>\n",
            "<tr><td align=\"right\" width=\"130\">08:45AM</td><td align=\"left\"><div class=\"news-link-container\"><div class=\"news-link-left\"><a class=\"tab-link-news\" href=\"https://finance.yahoo.com/m/b7ec3723-e64b-3346-bd68-87a3c5dec118/want-to-get-richer%3F-3-top.html\" onclick=\"trackAndOpenNews(event, 'Motley Fool', 'https://finance.yahoo.com/m/b7ec3723-e64b-3346-bd68-87a3c5dec118/want-to-get-richer%3F-3-top.html');\" rel=\"nofollow\" target=\"_blank\">Want to Get Richer? 3 Top Stocks to Buy Now and Hold Forever</a></div><div class=\"news-link-right\"><span style=\"color:#aa6dc0;font-size:9px\"> Motley Fool</span></div></div></td></tr>\n",
            "<tr><td align=\"right\" width=\"130\">Mar-02-23 05:54PM</td><td align=\"left\"><div class=\"news-link-container\"><div class=\"news-link-left\"><a class=\"tab-link-news\" href=\"https://finance.yahoo.com/m/da1fa778-3c3b-32bf-918c-117b44aea03f/why-qualcomm-stock-lagged-the.html\" onclick=\"trackAndOpenNews(event, 'Motley Fool', 'https://finance.yahoo.com/m/da1fa778-3c3b-32bf-918c-117b44aea03f/why-qualcomm-stock-lagged-the.html');\" rel=\"nofollow\" target=\"_blank\">Why Qualcomm Stock Lagged the Market on Thursday</a></div><div class=\"news-link-right\"><span style=\"color:#aa6dc0;font-size:9px\"> Motley Fool</span></div></div></td></tr>\n",
            "<tr><td align=\"right\" width=\"130\">03:58PM</td><td align=\"left\"><div class=\"news-link-container\"><div class=\"news-link-left\"><a class=\"tab-link-news\" href=\"https://finance.yahoo.com/video/microsoft-google-openai-dont-want-205838933.html\" onclick=\"trackAndOpenNews(event, 'Yahoo Finance Video', 'https://finance.yahoo.com/video/microsoft-google-openai-dont-want-205838933.html');\" rel=\"nofollow\" target=\"_blank\">What Microsoft, Google and OpenAI don't want you to know about artificial intelligence: Raoul Pal</a></div><div class=\"news-link-right\"><span style=\"color:#aa6dc0;font-size:9px\"> Yahoo Finance Video</span></div></div></td></tr>\n",
            "<tr><td align=\"right\" width=\"130\">02:45PM</td><td align=\"left\"><div class=\"news-link-container\"><div class=\"news-link-left\"><a class=\"tab-link-news\" href=\"https://finance.yahoo.com/news/activist-investor-dan-loeb-builds-194505770.html\" onclick=\"trackAndOpenNews(event, 'Reuters', 'https://finance.yahoo.com/news/activist-investor-dan-loeb-builds-194505770.html');\" rel=\"nofollow\" target=\"_blank\">Activist investor Dan Loeb builds passive stake in AMD</a></div><div class=\"news-link-right\"><span style=\"color:#aa6dc0;font-size:9px\"> Reuters</span></div></div></td></tr>\n",
            "<tr><td align=\"right\" width=\"130\">11:30AM</td><td align=\"left\"><div class=\"news-link-container\"><div class=\"news-link-left\"><a class=\"tab-link-news\" href=\"https://finance.yahoo.com/news/why-advanced-micro-amd-down-163004846.html\" onclick=\"trackAndOpenNews(event, 'Zacks', 'https://finance.yahoo.com/news/why-advanced-micro-amd-down-163004846.html');\" rel=\"nofollow\" target=\"_blank\">Why Is Advanced Micro (AMD) Down 7.5% Since Last Earnings Report?</a></div><div class=\"news-link-right\"><span style=\"color:#aa6dc0;font-size:9px\"> Zacks</span></div></div></td></tr>\n",
            "<tr><td align=\"right\" width=\"130\">11:21AM</td><td align=\"left\"><div class=\"news-link-container\"><div class=\"news-link-left\"><a class=\"tab-link-news\" href=\"https://finance.yahoo.com/news/stock-market-today-dow-shakes-162136707.html\" onclick=\"trackAndOpenNews(event, 'Investing.com', 'https://finance.yahoo.com/news/stock-market-today-dow-shakes-162136707.html');\" rel=\"nofollow\" target=\"_blank\">Stock market today: Dow shakes off higher rates as Fed's Bostic touts summer pause</a></div><div class=\"news-link-right\"><span style=\"color:#aa6dc0;font-size:9px\"> Investing.com</span></div></div></td></tr>\n",
            "<tr><td align=\"right\" width=\"130\">10:55AM</td><td align=\"left\"><div class=\"news-link-container\"><div class=\"news-link-left\"><a class=\"tab-link-news\" href=\"https://finance.yahoo.com/news/p-500-jumps-feds-bostic-155520330.html\" onclick=\"trackAndOpenNews(event, 'Investing.com', 'https://finance.yahoo.com/news/p-500-jumps-feds-bostic-155520330.html');\" rel=\"nofollow\" target=\"_blank\">S&amp;P 500 jumps as Fed's Bostic rules out support for return to aggressive Fed hikes</a></div><div class=\"news-link-right\"><span style=\"color:#aa6dc0;font-size:9px\"> Investing.com</span></div></div></td></tr>\n",
            "<tr><td align=\"right\" width=\"130\">09:01AM</td><td align=\"left\"><div class=\"news-link-container\"><div class=\"news-link-left\"><a class=\"tab-link-news\" href=\"https://finance.yahoo.com/news/amd-turns-positive-report-activist-140155469.html\" onclick=\"trackAndOpenNews(event, 'Investing.com', 'https://finance.yahoo.com/news/amd-turns-positive-report-activist-140155469.html');\" rel=\"nofollow\" target=\"_blank\">AMD turns positive on report activist investor Dan Loeb owns passive stake</a></div><div class=\"news-link-right\"><span style=\"color:#aa6dc0;font-size:9px\"> Investing.com</span></div></div></td></tr>\n",
            "<tr><td align=\"right\" width=\"130\">09:00AM</td><td align=\"left\"><div class=\"news-link-container\"><div class=\"news-link-left\"><a class=\"tab-link-news\" href=\"https://finance.yahoo.com/video/heres-anchored-vwap-became-most-140052632.html\" onclick=\"trackAndOpenNews(event, 'Yahoo Finance Video', 'https://finance.yahoo.com/video/heres-anchored-vwap-became-most-140052632.html');\" rel=\"nofollow\" target=\"_blank\">Here's how anchored VWAP became my most reliable chart indicator: veteran trader</a></div><div class=\"news-link-right\"><span style=\"color:#aa6dc0;font-size:9px\"> Yahoo Finance Video</span></div></div></td></tr>\n",
            "<tr><td align=\"right\" width=\"130\">Mar-01-23 09:31AM</td><td align=\"left\"><div class=\"news-link-container\"><div class=\"news-link-left\"><a class=\"tab-link-news\" href=\"https://finance.yahoo.com/news/15-best-short-term-stocks-143112369.html\" onclick=\"trackAndOpenNews(event, 'Insider Monkey', 'https://finance.yahoo.com/news/15-best-short-term-stocks-143112369.html');\" rel=\"nofollow\" target=\"_blank\">15 Best Short-Term Stocks To Buy Now</a></div><div class=\"news-link-right\"><span style=\"color:#aa6dc0;font-size:9px\"> Insider Monkey</span></div></div></td></tr>\n",
            "<tr><td align=\"right\" width=\"130\">09:00AM</td><td align=\"left\"><div class=\"news-link-container\"><div class=\"news-link-left\"><a class=\"tab-link-news\" href=\"https://finance.yahoo.com/news/investing-advanced-micro-devices-nasdaq-140017944.html\" onclick=\"trackAndOpenNews(event, 'Simply Wall St.', 'https://finance.yahoo.com/news/investing-advanced-micro-devices-nasdaq-140017944.html');\" rel=\"nofollow\" target=\"_blank\">Investing in Advanced Micro Devices (NASDAQ:AMD) five years ago would have delivered you a 542% gain</a></div><div class=\"news-link-right\"><span style=\"color:#aa6dc0;font-size:9px\"> Simply Wall St.</span></div></div></td></tr>\n",
            "<tr><td align=\"right\" width=\"130\">04:51AM</td><td align=\"left\"><div class=\"news-link-container\"><div class=\"news-link-left\"><a class=\"tab-link-news\" href=\"https://finance.yahoo.com/news/consider-adding-advanced-micro-devices-095151784.html\" onclick=\"trackAndOpenNews(event, 'Insider Monkey', 'https://finance.yahoo.com/news/consider-adding-advanced-micro-devices-095151784.html');\" rel=\"nofollow\" target=\"_blank\">Should You Consider Adding Advanced Micro Devices (AMD) to Your Portfolio?</a></div><div class=\"news-link-right\"><span style=\"color:#aa6dc0;font-size:9px\"> Insider Monkey</span></div></div></td></tr>\n",
            "<tr><td align=\"right\" width=\"130\">Feb-28-23 10:28PM</td><td align=\"left\"><div class=\"news-link-container\"><div class=\"news-link-left\"><a class=\"tab-link-news\" href=\"https://finance.yahoo.com/news/10-best-stocks-buy-high-032804170.html\" onclick=\"trackAndOpenNews(event, 'Insider Monkey', 'https://finance.yahoo.com/news/10-best-stocks-buy-high-032804170.html');\" rel=\"nofollow\" target=\"_blank\">10 Best Stocks to Buy for High Returns</a></div><div class=\"news-link-right\"><span style=\"color:#aa6dc0;font-size:9px\"> Insider Monkey</span></div></div></td></tr>\n",
            "<tr><td align=\"right\" width=\"130\">08:57PM</td><td align=\"left\"><div class=\"news-link-container\"><div class=\"news-link-left\"><a class=\"tab-link-news\" href=\"https://finance.yahoo.com/m/7544e810-b3e5-377a-b2e1-d3a8016ada65/%22winning-requires-losing-in.html\" onclick=\"trackAndOpenNews(event, 'Motley Fool', 'https://finance.yahoo.com/m/7544e810-b3e5-377a-b2e1-d3a8016ada65/%22winning-requires-losing-in.html');\" rel=\"nofollow\" target=\"_blank\">\"Winning Requires Losing in the Short Term, at Least the Way That We Invest.\"</a></div><div class=\"news-link-right\"><span style=\"color:#aa6dc0;font-size:9px\"> Motley Fool</span></div></div></td></tr>\n",
            "<tr><td align=\"right\" width=\"130\">04:27PM</td><td align=\"left\"><div class=\"news-link-container\"><div class=\"news-link-left\"><a class=\"tab-link-news\" href=\"https://finance.yahoo.com/m/c9924722-3c74-36a3-85b8-ee4241445a64/cathie-wood%3A-ark-builds-amd.html\" onclick=\"trackAndOpenNews(event, 'TheStreet.com', 'https://finance.yahoo.com/m/c9924722-3c74-36a3-85b8-ee4241445a64/cathie-wood%3A-ark-builds-amd.html');\" rel=\"nofollow\" target=\"_blank\">Cathie Wood: Ark Builds AMD Position, Cuts Adobe</a></div><div class=\"news-link-right\"><span style=\"color:#aa6dc0;font-size:9px\"> TheStreet.com</span></div></div></td></tr>\n",
            "<tr><td align=\"right\" width=\"130\">10:00AM</td><td align=\"left\"><div class=\"news-link-container\"><div class=\"news-link-left\"><a class=\"tab-link-news\" href=\"https://finance.yahoo.com/m/69b4290c-32eb-3541-9572-da811348a3f7/polkadot-leads-slumps-as.html\" onclick=\"trackAndOpenNews(event, 'MarketWatch', 'https://finance.yahoo.com/m/69b4290c-32eb-3541-9572-da811348a3f7/polkadot-leads-slumps-as.html');\" rel=\"nofollow\" target=\"_blank\">Polkadot leads slumps as largest cryptocurrencies start mixed</a></div><div class=\"news-link-right\"><span style=\"color:#aa6dc0;font-size:9px\"> MarketWatch</span></div></div></td></tr>\n",
            "<tr><td align=\"right\" width=\"130\">08:00AM</td><td align=\"left\"><div class=\"news-link-container\"><div class=\"news-link-left\"><a class=\"tab-link-news\" href=\"https://finance.yahoo.com/news/the-us-needs-more-than-the-chips-act-to-stay-ahead-of-china-mit-report-130047752.html\" onclick=\"trackAndOpenNews(event, 'Yahoo Finance', 'https://finance.yahoo.com/news/the-us-needs-more-than-the-chips-act-to-stay-ahead-of-china-mit-report-130047752.html');\" rel=\"nofollow\" target=\"_blank\">The U.S. needs more than the CHIPS Act to stay ahead of China: MIT report</a></div><div class=\"news-link-right\"><span style=\"color:#aa6dc0;font-size:9px\"> Yahoo Finance</span></div></div></td></tr>\n",
            "<tr><td align=\"right\" width=\"130\">06:45AM</td><td align=\"left\"><div class=\"news-link-container\"><div class=\"news-link-left\"><a class=\"tab-link-news\" href=\"https://finance.yahoo.com/m/d9113f72-e132-33e2-bcbd-0f09e15aba89/amd-retakes-the-gaming-crown.html\" onclick=\"trackAndOpenNews(event, 'Motley Fool', 'https://finance.yahoo.com/m/d9113f72-e132-33e2-bcbd-0f09e15aba89/amd-retakes-the-gaming-crown.html');\" rel=\"nofollow\" target=\"_blank\">AMD Retakes the Gaming Crown From Intel</a></div><div class=\"news-link-right\"><span style=\"color:#aa6dc0;font-size:9px\"> Motley Fool</span></div></div></td></tr>\n",
            "<tr><td align=\"right\" width=\"130\">Feb-27-23 04:49PM</td><td align=\"left\"><div class=\"news-link-container\"><div class=\"news-link-left\"><a class=\"tab-link-news\" href=\"https://finance.yahoo.com/m/394689a8-f8b5-34eb-a0ca-5ae08cf2f4a0/in-the-whirl-of-chatgpt%2C.html\" onclick=\"trackAndOpenNews(event, 'The Wall Street Journal', 'https://finance.yahoo.com/m/394689a8-f8b5-34eb-a0ca-5ae08cf2f4a0/in-the-whirl-of-chatgpt%2C.html');\" rel=\"nofollow\" target=\"_blank\">In the Whirl of ChatGPT, Startups See an Opening for Their AI Chips</a></div><div class=\"news-link-right\"><span style=\"color:#aa6dc0;font-size:9px\"> The Wall Street Journal</span></div></div></td></tr>\n",
            "<tr><td align=\"right\" width=\"130\">02:28PM</td><td align=\"left\"><div class=\"news-link-container\"><div class=\"news-link-left\"><a class=\"tab-link-news\" href=\"https://finance.yahoo.com/m/25c16086-d421-3081-95bb-1fde09381e62/better-bear-market-buy%3A-amd.html\" onclick=\"trackAndOpenNews(event, 'Motley Fool', 'https://finance.yahoo.com/m/25c16086-d421-3081-95bb-1fde09381e62/better-bear-market-buy%3A-amd.html');\" rel=\"nofollow\" target=\"_blank\">Better Bear Market Buy: AMD vs. Taiwan Semiconductor</a></div><div class=\"news-link-right\"><span style=\"color:#aa6dc0;font-size:9px\"> Motley Fool</span></div></div></td></tr>\n",
            "<tr><td align=\"right\" width=\"130\">08:34AM</td><td align=\"left\"><div class=\"news-link-container\"><div class=\"news-link-left\"><a class=\"tab-link-news\" href=\"https://finance.yahoo.com/m/6c438973-1861-39d9-8d2c-ab4f94c9521c/where-will-nvidia-stock-be-in.html\" onclick=\"trackAndOpenNews(event, 'Motley Fool', 'https://finance.yahoo.com/m/6c438973-1861-39d9-8d2c-ab4f94c9521c/where-will-nvidia-stock-be-in.html');\" rel=\"nofollow\" target=\"_blank\">Where Will Nvidia Stock Be in 1 Year?</a></div><div class=\"news-link-right\"><span style=\"color:#aa6dc0;font-size:9px\"> Motley Fool</span></div></div></td></tr>\n",
            "<tr><td align=\"right\" width=\"130\">Feb-25-23 09:00AM</td><td align=\"left\"><div class=\"news-link-container\"><div class=\"news-link-left\"><a class=\"tab-link-news\" href=\"https://finance.yahoo.com/m/f96a1e2d-2a68-3d99-87c7-8fd44f9a9438/better-buy%3A-amd-vs.-amazon.html\" onclick=\"trackAndOpenNews(event, 'Motley Fool', 'https://finance.yahoo.com/m/f96a1e2d-2a68-3d99-87c7-8fd44f9a9438/better-buy%3A-amd-vs.-amazon.html');\" rel=\"nofollow\" target=\"_blank\">Better Buy: AMD vs. Amazon</a></div><div class=\"news-link-right\"><span style=\"color:#aa6dc0;font-size:9px\"> Motley Fool</span></div></div></td></tr>\n",
            "<tr><td align=\"right\" width=\"130\">Feb-24-23 05:23PM</td><td align=\"left\"><div class=\"news-link-container\"><div class=\"news-link-left\"><a class=\"tab-link-news\" href=\"https://finance.yahoo.com/news/invest-growing-gaming-market-3-222330968.html\" onclick=\"trackAndOpenNews(event, 'TipRanks', 'https://finance.yahoo.com/news/invest-growing-gaming-market-3-222330968.html');\" rel=\"nofollow\" target=\"_blank\">Invest in the Growing Gaming Market With These 3 ETFs</a></div><div class=\"news-link-right\"><span style=\"color:#aa6dc0;font-size:9px\"> TipRanks</span></div></div></td></tr>\n",
            "<tr><td align=\"right\" width=\"130\">06:00AM</td><td align=\"left\"><div class=\"news-link-container\"><div class=\"news-link-left\"><a class=\"tab-link-news\" href=\"https://finance.yahoo.com/news/us-79-75-advanced-micro-110055742.html\" onclick=\"trackAndOpenNews(event, 'Simply Wall St.', 'https://finance.yahoo.com/news/us-79-75-advanced-micro-110055742.html');\" rel=\"nofollow\" target=\"_blank\">At US$79.75, Is Advanced Micro Devices, Inc. (NASDAQ:AMD) Worth Looking At Closely?</a></div><div class=\"news-link-right\"><span style=\"color:#aa6dc0;font-size:9px\"> Simply Wall St.</span></div></div></td></tr>\n",
            "<tr><td align=\"right\" width=\"130\">Feb-23-23 05:41PM</td><td align=\"left\"><div class=\"news-link-container\"><div class=\"news-link-left\"><a class=\"tab-link-news\" href=\"https://finance.yahoo.com/m/7bf9cf89-5595-3066-854e-97b2908d0bb7/us-markets-rise-ahead-of-key.html\" onclick=\"trackAndOpenNews(event, 'Investopedia', 'https://finance.yahoo.com/m/7bf9cf89-5595-3066-854e-97b2908d0bb7/us-markets-rise-ahead-of-key.html');\" rel=\"nofollow\" target=\"_blank\">US Markets Rise Ahead of Key Inflation Report</a></div><div class=\"news-link-right\"><span style=\"color:#aa6dc0;font-size:9px\"> Investopedia</span></div></div></td></tr>\n",
            "<tr><td align=\"right\" width=\"130\">02:49PM</td><td align=\"left\"><div class=\"news-link-container\"><div class=\"news-link-left\"><a class=\"tab-link-news\" href=\"https://finance.yahoo.com/m/fd2aca58-67fc-398e-87c6-80d7e323041b/why-amd-and-taiwan.html\" onclick=\"trackAndOpenNews(event, 'Motley Fool', 'https://finance.yahoo.com/m/fd2aca58-67fc-398e-87c6-80d7e323041b/why-amd-and-taiwan.html');\" rel=\"nofollow\" target=\"_blank\">Why AMD and Taiwan Semiconductor Stocks Followed Nvidia Higher Today</a></div><div class=\"news-link-right\"><span style=\"color:#aa6dc0;font-size:9px\"> Motley Fool</span></div></div></td></tr>\n",
            "<tr><td align=\"right\" width=\"130\">02:28PM</td><td align=\"left\"><div class=\"news-link-container\"><div class=\"news-link-left\"><a class=\"tab-link-news\" href=\"https://finance.yahoo.com/m/7c110e84-b0ef-3416-9ae2-a2563ba8fab3/will-intel-stock-make-new.html\" onclick=\"trackAndOpenNews(event, 'TheStreet.com', 'https://finance.yahoo.com/m/7c110e84-b0ef-3416-9ae2-a2563ba8fab3/will-intel-stock-make-new.html');\" rel=\"nofollow\" target=\"_blank\">Will Intel Stock Make New 52-Week Lows After Slashing Its Dividend?</a></div><div class=\"news-link-right\"><span style=\"color:#aa6dc0;font-size:9px\"> TheStreet.com</span></div></div></td></tr>\n",
            "<tr><td align=\"right\" width=\"130\">10:18AM</td><td align=\"left\"><div class=\"news-link-container\"><div class=\"news-link-left\"><a class=\"tab-link-news\" href=\"https://finance.yahoo.com/news/1-nvidia-results-show-growing-151823934.html\" onclick=\"trackAndOpenNews(event, 'Reuters', 'https://finance.yahoo.com/news/1-nvidia-results-show-growing-151823934.html');\" rel=\"nofollow\" target=\"_blank\">UPDATE 1-Nvidia results show its growing lead in AI chip race</a></div><div class=\"news-link-right\"><span style=\"color:#aa6dc0;font-size:9px\"> Reuters</span></div></div></td></tr>\n",
            "<tr><td align=\"right\" width=\"130\">09:55AM</td><td align=\"left\"><div class=\"news-link-container\"><div class=\"news-link-left\"><a class=\"tab-link-news\" href=\"https://finance.yahoo.com/m/57904446-c054-3d4a-afa0-913bbfc37b03/3-chip-stocks-to-consider-in.html\" onclick=\"trackAndOpenNews(event, 'Motley Fool', 'https://finance.yahoo.com/m/57904446-c054-3d4a-afa0-913bbfc37b03/3-chip-stocks-to-consider-in.html');\" rel=\"nofollow\" target=\"_blank\">3 Chip Stocks to Consider in 2023</a></div><div class=\"news-link-right\"><span style=\"color:#aa6dc0;font-size:9px\"> Motley Fool</span></div></div></td></tr>\n",
            "<tr><td align=\"right\" width=\"130\">09:53AM</td><td align=\"left\"><div class=\"news-link-container\"><div class=\"news-link-left\"><a class=\"tab-link-news\" href=\"https://finance.yahoo.com/m/2eaadd0c-370d-3a21-a3a2-744e46f9c563/why-amd%2C-warner-bros..html\" onclick=\"trackAndOpenNews(event, 'Motley Fool', 'https://finance.yahoo.com/m/2eaadd0c-370d-3a21-a3a2-744e46f9c563/why-amd%2C-warner-bros..html');\" rel=\"nofollow\" target=\"_blank\">Why AMD, Warner Bros. Discovery, and Take-Two Are No-Brainer Buys Right Now</a></div><div class=\"news-link-right\"><span style=\"color:#aa6dc0;font-size:9px\"> Motley Fool</span></div></div></td></tr>\n",
            "<tr><td align=\"right\" width=\"130\">09:38AM</td><td align=\"left\"><div class=\"news-link-container\"><div class=\"news-link-left\"><a class=\"tab-link-news\" href=\"https://finance.yahoo.com/m/c622e451-02b6-3338-8279-b379adad3432/nvidia%2C-other-chip-companies.html\" onclick=\"trackAndOpenNews(event, 'The Wall Street Journal', 'https://finance.yahoo.com/m/c622e451-02b6-3338-8279-b379adad3432/nvidia%2C-other-chip-companies.html');\" rel=\"nofollow\" target=\"_blank\">Nvidia, Other Chip Companies Race to Cash In on ChatGPT Frenzy</a></div><div class=\"news-link-right\"><span style=\"color:#aa6dc0;font-size:9px\"> The Wall Street Journal</span></div></div></td></tr>\n",
            "<tr><td align=\"right\" width=\"130\">09:38AM</td><td align=\"left\"><div class=\"news-link-container\"><div class=\"news-link-left\"><a class=\"tab-link-news\" href=\"https://finance.yahoo.com/m/c622e451-02b6-3338-8279-b379adad3432/chip-makers-see-chatgpt.html\" onclick=\"trackAndOpenNews(event, 'The Wall Street Journal', 'https://finance.yahoo.com/m/c622e451-02b6-3338-8279-b379adad3432/chip-makers-see-chatgpt.html');\" rel=\"nofollow\" target=\"_blank\">Chip Makers See ChatGPT Stirring Strong Demand for Advanced Processors</a></div><div class=\"news-link-right\"><span style=\"color:#aa6dc0;font-size:9px\"> The Wall Street Journal</span></div></div></td></tr>\n",
            "<tr><td align=\"right\" width=\"130\">09:05AM</td><td align=\"left\"><div class=\"news-link-container\"><div class=\"news-link-left\"><a class=\"tab-link-news\" href=\"https://finance.yahoo.com/m/c8972acb-0b68-3d96-98ec-e75c38c920b9/better-buy%3A-amd-vs.-intel.html\" onclick=\"trackAndOpenNews(event, 'Motley Fool', 'https://finance.yahoo.com/m/c8972acb-0b68-3d96-98ec-e75c38c920b9/better-buy%3A-amd-vs.-intel.html');\" rel=\"nofollow\" target=\"_blank\">Better Buy: AMD vs. Intel</a></div><div class=\"news-link-right\"><span style=\"color:#aa6dc0;font-size:9px\"> Motley Fool</span></div></div></td></tr>\n",
            "<tr><td align=\"right\" width=\"130\">07:58AM</td><td align=\"left\"><div class=\"news-link-container\"><div class=\"news-link-left\"><a class=\"tab-link-news\" href=\"https://finance.yahoo.com/news/nvidia-results-show-growing-lead-125858336.html\" onclick=\"trackAndOpenNews(event, 'Reuters', 'https://finance.yahoo.com/news/nvidia-results-show-growing-lead-125858336.html');\" rel=\"nofollow\" target=\"_blank\">Nvidia stock pops as results show its growing lead in AI chip race</a></div><div class=\"news-link-right\"><span style=\"color:#aa6dc0;font-size:9px\"> Reuters</span></div></div></td></tr>\n",
            "<tr><td align=\"right\" width=\"130\">07:55AM</td><td align=\"left\"><div class=\"news-link-container\"><div class=\"news-link-left\"><a class=\"tab-link-news\" href=\"https://finance.yahoo.com/news/nvidia-results-show-growing-lead-125512380.html\" onclick=\"trackAndOpenNews(event, 'Reuters', 'https://finance.yahoo.com/news/nvidia-results-show-growing-lead-125512380.html');\" rel=\"nofollow\" target=\"_blank\">Nvidia results show its growing lead in AI chip race</a></div><div class=\"news-link-right\"><span style=\"color:#aa6dc0;font-size:9px\"> Reuters</span></div></div></td></tr>\n",
            "<tr><td align=\"right\" width=\"130\">07:37AM</td><td align=\"left\"><div class=\"news-link-container\"><div class=\"news-link-left\"><a class=\"tab-link-news\" href=\"https://finance.yahoo.com/news/biden-official-drops-new-details-on-how-they-will-spend-50-billion-on-semiconductors-123723548.html\" onclick=\"trackAndOpenNews(event, 'Yahoo Finance', 'https://finance.yahoo.com/news/biden-official-drops-new-details-on-how-they-will-spend-50-billion-on-semiconductors-123723548.html');\" rel=\"nofollow\" target=\"_blank\">Biden official drops new details on how they will spend $50 billion on semiconductors</a></div><div class=\"news-link-right\"><span style=\"color:#aa6dc0;font-size:9px\"> Yahoo Finance</span></div></div></td></tr>\n",
            "<tr><td align=\"right\" width=\"130\">07:37AM</td><td align=\"left\"><div class=\"news-link-container\"><div class=\"news-link-left\"><a class=\"tab-link-news\" href=\"https://finance.yahoo.com/news/biden-official-drops-new-details-on-how-it-will-spend-50-billion-on-semiconductors-123723542.html\" onclick=\"trackAndOpenNews(event, 'Yahoo Finance', 'https://finance.yahoo.com/news/biden-official-drops-new-details-on-how-it-will-spend-50-billion-on-semiconductors-123723542.html');\" rel=\"nofollow\" target=\"_blank\">Biden official drops new details on how it will spend $50 billion on semiconductors</a></div><div class=\"news-link-right\"><span style=\"color:#aa6dc0;font-size:9px\"> Yahoo Finance</span></div></div></td></tr>\n",
            "<tr><td align=\"right\" width=\"130\">06:32AM</td><td align=\"left\"><div class=\"news-link-container\"><div class=\"news-link-left\"><a class=\"tab-link-news\" href=\"https://finance.yahoo.com/m/9d217425-6cc2-31db-85de-9e96231fbce5/amd-gains-server-market-share.html\" onclick=\"trackAndOpenNews(event, 'Motley Fool', 'https://finance.yahoo.com/m/9d217425-6cc2-31db-85de-9e96231fbce5/amd-gains-server-market-share.html');\" rel=\"nofollow\" target=\"_blank\">AMD Gains Server Market Share in Q4 -- Can It Continue?</a></div><div class=\"news-link-right\"><span style=\"color:#aa6dc0;font-size:9px\"> Motley Fool</span></div></div></td></tr>\n",
            "<tr><td align=\"right\" width=\"130\">06:14AM</td><td align=\"left\"><div class=\"news-link-container\"><div class=\"news-link-left\"><a class=\"tab-link-news\" href=\"https://finance.yahoo.com/m/6efc2840-af53-3462-a428-91911644060e/history-suggests-the-nasdaq.html\" onclick=\"trackAndOpenNews(event, 'Motley Fool', 'https://finance.yahoo.com/m/6efc2840-af53-3462-a428-91911644060e/history-suggests-the-nasdaq.html');\" rel=\"nofollow\" target=\"_blank\">History Suggests the Nasdaq Could Soar in 2023 -- 2 Super Semiconductor Stocks to Buy if It Does</a></div><div class=\"news-link-right\"><span style=\"color:#aa6dc0;font-size:9px\"> Motley Fool</span></div></div></td></tr>\n",
            "<tr><td align=\"right\" width=\"130\">05:40AM</td><td align=\"left\"><div class=\"news-link-container\"><div class=\"news-link-left\"><a class=\"tab-link-news\" href=\"https://finance.yahoo.com/m/03fcddf7-af62-3573-800b-259eef0c8eff/amd-stock%3A-bear-vs.-bull.html\" onclick=\"trackAndOpenNews(event, 'Motley Fool', 'https://finance.yahoo.com/m/03fcddf7-af62-3573-800b-259eef0c8eff/amd-stock%3A-bear-vs.-bull.html');\" rel=\"nofollow\" target=\"_blank\">AMD Stock: Bear vs. Bull</a></div><div class=\"news-link-right\"><span style=\"color:#aa6dc0;font-size:9px\"> Motley Fool</span></div></div></td></tr>\n",
            "<tr><td align=\"right\" width=\"130\">Feb-22-23 07:22PM</td><td align=\"left\"><div class=\"news-link-container\"><div class=\"news-link-left\"><a class=\"tab-link-news\" href=\"https://finance.yahoo.com/news/why-amd-stock-rising-hours-002212471.html\" onclick=\"trackAndOpenNews(event, 'Benzinga', 'https://finance.yahoo.com/news/why-amd-stock-rising-hours-002212471.html');\" rel=\"nofollow\" target=\"_blank\">Why AMD Stock Is Rising After Hours</a></div><div class=\"news-link-right\"><span style=\"color:#aa6dc0;font-size:9px\"> Benzinga</span></div></div></td></tr>\n",
            "<tr><td align=\"right\" width=\"130\">03:55PM</td><td align=\"left\"><div class=\"news-link-container\"><div class=\"news-link-left\"><a class=\"tab-link-news\" href=\"https://finance.yahoo.com/m/bcbd8914-7f2e-31c3-8a5c-a266dc723a48/intel-is-cutting-its.html\" onclick=\"trackAndOpenNews(event, 'Barrons.com', 'https://finance.yahoo.com/m/bcbd8914-7f2e-31c3-8a5c-a266dc723a48/intel-is-cutting-its.html');\" rel=\"nofollow\" target=\"_blank\">Intel Is Cutting Its Dividend. Its a Smart Move.</a></div><div class=\"news-link-right\"><span style=\"color:#aa6dc0;font-size:9px\"> Barrons.com</span></div></div></td></tr>\n",
            "<tr><td align=\"right\" width=\"130\">02:46PM</td><td align=\"left\"><div class=\"news-link-container\"><div class=\"news-link-left\"><a class=\"tab-link-news\" href=\"https://finance.yahoo.com/m/7950b98a-1ffb-3c4a-83b4-1acd670500ad/cathie-wood-is-pulling-back.html\" onclick=\"trackAndOpenNews(event, 'TheStreet.com', 'https://finance.yahoo.com/m/7950b98a-1ffb-3c4a-83b4-1acd670500ad/cathie-wood-is-pulling-back.html');\" rel=\"nofollow\" target=\"_blank\">Cathie Wood Is Pulling Back on This Tech Stock</a></div><div class=\"news-link-right\"><span style=\"color:#aa6dc0;font-size:9px\"> TheStreet.com</span></div></div></td></tr>\n",
            "<tr><td align=\"right\" width=\"130\">02:38PM</td><td align=\"left\"><div class=\"news-link-container\"><div class=\"news-link-left\"><a class=\"tab-link-news\" href=\"https://finance.yahoo.com/news/15-most-promising-qqq-stocks-193849815.html\" onclick=\"trackAndOpenNews(event, 'Insider Monkey', 'https://finance.yahoo.com/news/15-most-promising-qqq-stocks-193849815.html');\" rel=\"nofollow\" target=\"_blank\">15 Most Promising QQQ Stocks According to Hedge Funds</a></div><div class=\"news-link-right\"><span style=\"color:#aa6dc0;font-size:9px\"> Insider Monkey</span></div></div></td></tr>\n",
            "<tr><td align=\"right\" width=\"130\">01:03PM</td><td align=\"left\"><div class=\"news-link-container\"><div class=\"news-link-left\"><a class=\"tab-link-news\" href=\"https://finance.yahoo.com/m/587ae545-b3e7-3be8-9ecd-865db8fe0c00/cathie-wood-watch%3A-ark-snags.html\" onclick=\"trackAndOpenNews(event, 'TheStreet.com', 'https://finance.yahoo.com/m/587ae545-b3e7-3be8-9ecd-865db8fe0c00/cathie-wood-watch%3A-ark-snags.html');\" rel=\"nofollow\" target=\"_blank\">Cathie Wood Watch: Ark Snags a Top Chipmaker, Pares Another</a></div><div class=\"news-link-right\"><span style=\"color:#aa6dc0;font-size:9px\"> TheStreet.com</span></div></div></td></tr>\n",
            "<tr><td align=\"right\" width=\"130\">12:19PM</td><td align=\"left\"><div class=\"news-link-container\"><div class=\"news-link-left\"><a class=\"tab-link-news\" href=\"https://finance.yahoo.com/m/0d8d61ab-678b-3d3b-b9c8-4d562dfd00b1/nvidia-earnings-preview%3A-can.html\" onclick=\"trackAndOpenNews(event, 'TheStreet.com', 'https://finance.yahoo.com/m/0d8d61ab-678b-3d3b-b9c8-4d562dfd00b1/nvidia-earnings-preview%3A-can.html');\" rel=\"nofollow\" target=\"_blank\">Nvidia Earnings Preview: Can the Bulls Regain Control? Check the Chart.</a></div><div class=\"news-link-right\"><span style=\"color:#aa6dc0;font-size:9px\"> TheStreet.com</span></div></div></td></tr>\n",
            "<tr><td align=\"right\" width=\"130\">11:09AM</td><td align=\"left\"><div class=\"news-link-container\"><div class=\"news-link-left\"><a class=\"tab-link-news\" href=\"https://finance.yahoo.com/news/12-most-promising-future-stocks-160919538.html\" onclick=\"trackAndOpenNews(event, 'Insider Monkey', 'https://finance.yahoo.com/news/12-most-promising-future-stocks-160919538.html');\" rel=\"nofollow\" target=\"_blank\">12 Most Promising Future Stocks to Buy</a></div><div class=\"news-link-right\"><span style=\"color:#aa6dc0;font-size:9px\"> Insider Monkey</span></div></div></td></tr>\n",
            "<tr><td align=\"right\" width=\"130\">09:30AM</td><td align=\"left\"><div class=\"news-link-container\"><div class=\"news-link-left\"><a class=\"tab-link-news\" href=\"https://finance.yahoo.com/news/advanced-micro-amd-considered-good-143002743.html\" onclick=\"trackAndOpenNews(event, 'Zacks', 'https://finance.yahoo.com/news/advanced-micro-amd-considered-good-143002743.html');\" rel=\"nofollow\" target=\"_blank\">Advanced Micro (AMD) Is Considered a Good Investment by Brokers: Is That True?</a></div><div class=\"news-link-right\"><span style=\"color:#aa6dc0;font-size:9px\"> Zacks</span></div></div></td></tr>\n",
            "<tr><td align=\"right\" width=\"130\">09:27AM</td><td align=\"left\"><div class=\"news-link-container\"><div class=\"news-link-left\"><a class=\"tab-link-news\" href=\"https://finance.yahoo.com/m/5fafc0c8-4c46-3c09-b2e7-c390cb28075d/intel-slashes-quarterly.html\" onclick=\"trackAndOpenNews(event, 'The Wall Street Journal', 'https://finance.yahoo.com/m/5fafc0c8-4c46-3c09-b2e7-c390cb28075d/intel-slashes-quarterly.html');\" rel=\"nofollow\" target=\"_blank\">Intel Slashes Quarterly Dividend by 66%</a></div><div class=\"news-link-right\"><span style=\"color:#aa6dc0;font-size:9px\"> The Wall Street Journal</span></div></div></td></tr>\n",
            "<tr><td align=\"right\" width=\"130\">09:27AM</td><td align=\"left\"><div class=\"news-link-container\"><div class=\"news-link-left\"><a class=\"tab-link-news\" href=\"https://finance.yahoo.com/m/5fafc0c8-4c46-3c09-b2e7-c390cb28075d/intel-corp.-slashes-quarterly.html\" onclick=\"trackAndOpenNews(event, 'The Wall Street Journal', 'https://finance.yahoo.com/m/5fafc0c8-4c46-3c09-b2e7-c390cb28075d/intel-corp.-slashes-quarterly.html');\" rel=\"nofollow\" target=\"_blank\">Intel Corp. Slashes Quarterly Dividend by 66%</a></div><div class=\"news-link-right\"><span style=\"color:#aa6dc0;font-size:9px\"> The Wall Street Journal</span></div></div></td></tr>\n",
            "<tr><td align=\"right\" width=\"130\">09:00AM</td><td align=\"left\"><div class=\"news-link-container\"><div class=\"news-link-left\"><a class=\"tab-link-news\" href=\"https://finance.yahoo.com/news/amd-expands-5g-telco-market-140000269.html\" onclick=\"trackAndOpenNews(event, 'GlobeNewswire', 'https://finance.yahoo.com/news/amd-expands-5g-telco-market-140000269.html');\" rel=\"nofollow\" target=\"_blank\">AMD Expands 5G Telco Market Leadership with New High-Performance and Adaptive Computing Products and Testing Services at MWC 2023</a></div><div class=\"news-link-right\"><span style=\"color:#aa6dc0;font-size:9px\"> GlobeNewswire</span></div></div></td></tr>\n",
            "<tr><td align=\"right\" width=\"130\">08:32AM</td><td align=\"left\"><div class=\"news-link-container\"><div class=\"news-link-left\"><a class=\"tab-link-news\" href=\"https://finance.yahoo.com/m/aa38535b-7b14-3f33-b1b4-d04422916a46/2-top-tech-stocks-ready-for-a.html\" onclick=\"trackAndOpenNews(event, 'Motley Fool', 'https://finance.yahoo.com/m/aa38535b-7b14-3f33-b1b4-d04422916a46/2-top-tech-stocks-ready-for-a.html');\" rel=\"nofollow\" target=\"_blank\">2 Top Tech Stocks Ready for a Bull Run</a></div><div class=\"news-link-right\"><span style=\"color:#aa6dc0;font-size:9px\"> Motley Fool</span></div></div></td></tr>\n",
            "<tr><td align=\"right\" width=\"130\">Feb-20-23 04:10PM</td><td align=\"left\"><div class=\"news-link-container\"><div class=\"news-link-left\"><a class=\"tab-link-news\" href=\"https://finance.yahoo.com/news/amd-present-morgan-stanley-technology-211000088.html\" onclick=\"trackAndOpenNews(event, 'GlobeNewswire', 'https://finance.yahoo.com/news/amd-present-morgan-stanley-technology-211000088.html');\" rel=\"nofollow\" target=\"_blank\">AMD to Present at Morgan Stanleys Technology, Media and Telecom Conference</a></div><div class=\"news-link-right\"><span style=\"color:#aa6dc0;font-size:9px\"> GlobeNewswire</span></div></div></td></tr>\n",
            "<tr><td align=\"right\" width=\"130\">10:30AM</td><td align=\"left\"><div class=\"news-link-container\"><div class=\"news-link-left\"><a class=\"tab-link-news\" href=\"https://finance.yahoo.com/m/eaef45d9-b747-31d7-bf09-376d5e23ad16/3-breakout-growth-stocks-you.html\" onclick=\"trackAndOpenNews(event, 'Motley Fool', 'https://finance.yahoo.com/m/eaef45d9-b747-31d7-bf09-376d5e23ad16/3-breakout-growth-stocks-you.html');\" rel=\"nofollow\" target=\"_blank\">3 Breakout Growth Stocks You Can Buy and Hold for the Next Decade</a></div><div class=\"news-link-right\"><span style=\"color:#aa6dc0;font-size:9px\"> Motley Fool</span></div></div></td></tr>\n",
            "<tr><td align=\"right\" width=\"130\">09:00AM</td><td align=\"left\"><div class=\"news-link-container\"><div class=\"news-link-left\"><a class=\"tab-link-news\" href=\"https://finance.yahoo.com/news/advanced-micro-devices-inc-amd-140002528.html\" onclick=\"trackAndOpenNews(event, 'Zacks', 'https://finance.yahoo.com/news/advanced-micro-devices-inc-amd-140002528.html');\" rel=\"nofollow\" target=\"_blank\">Advanced Micro Devices, Inc. (AMD) is Attracting Investor Attention: Here is What You Should Know</a></div><div class=\"news-link-right\"><span style=\"color:#aa6dc0;font-size:9px\"> Zacks</span></div></div></td></tr>\n",
            "<tr><td align=\"right\" width=\"130\">08:05AM</td><td align=\"left\"><div class=\"news-link-container\"><div class=\"news-link-left\"><a class=\"tab-link-news\" href=\"https://finance.yahoo.com/m/8acb04d3-b655-394d-93e7-8508b64085e8/3-ai-stocks-to-buy-before-the.html\" onclick=\"trackAndOpenNews(event, 'Motley Fool', 'https://finance.yahoo.com/m/8acb04d3-b655-394d-93e7-8508b64085e8/3-ai-stocks-to-buy-before-the.html');\" rel=\"nofollow\" target=\"_blank\">3 AI Stocks to Buy Before the Coming Bull Market</a></div><div class=\"news-link-right\"><span style=\"color:#aa6dc0;font-size:9px\"> Motley Fool</span></div></div></td></tr>\n",
            "<tr><td align=\"right\" width=\"130\">Feb-18-23 01:00AM</td><td align=\"left\"><div class=\"news-link-container\"><div class=\"news-link-left\"><a class=\"tab-link-news\" href=\"https://finance.yahoo.com/news/airbnb-seagen-lucid-pace-nasdaq-060000172.html\" onclick=\"trackAndOpenNews(event, 'Investing.com', 'https://finance.yahoo.com/news/airbnb-seagen-lucid-pace-nasdaq-060000172.html');\" rel=\"nofollow\" target=\"_blank\">Airbnb, Seagen, Lucid pace Nasdaq 100 weekly gainers; Diamondback leads losers</a></div><div class=\"news-link-right\"><span style=\"color:#aa6dc0;font-size:9px\"> Investing.com</span></div></div></td></tr>\n",
            "<tr><td align=\"right\" width=\"130\">Feb-17-23 10:55AM</td><td align=\"left\"><div class=\"news-link-container\"><div class=\"news-link-left\"><a class=\"tab-link-news\" href=\"https://finance.yahoo.com/video/amd-nvidia-making-really-easy-155535169.html\" onclick=\"trackAndOpenNews(event, 'Yahoo Finance Video', 'https://finance.yahoo.com/video/amd-nvidia-making-really-easy-155535169.html');\" rel=\"nofollow\" target=\"_blank\">AMD, Nvidia making it really easy to power AI, former Apple exec says</a></div><div class=\"news-link-right\"><span style=\"color:#aa6dc0;font-size:9px\"> Yahoo Finance Video</span></div></div></td></tr>\n",
            "<tr><td align=\"right\" width=\"130\">09:06AM</td><td align=\"left\"><div class=\"news-link-container\"><div class=\"news-link-left\"><a class=\"tab-link-news\" href=\"https://finance.yahoo.com/m/6df0c915-49b6-369b-af10-5f48b9ff1e8b/what-amd-and-nvidia-investors.html\" onclick=\"trackAndOpenNews(event, 'Motley Fool', 'https://finance.yahoo.com/m/6df0c915-49b6-369b-af10-5f48b9ff1e8b/what-amd-and-nvidia-investors.html');\" rel=\"nofollow\" target=\"_blank\">What AMD and Nvidia Investors Should Know About Recent Updates</a></div><div class=\"news-link-right\"><span style=\"color:#aa6dc0;font-size:9px\"> Motley Fool</span></div></div></td></tr>\n",
            "<tr><td align=\"right\" width=\"130\">Feb-16-23 05:34PM</td><td align=\"left\"><div class=\"news-link-container\"><div class=\"news-link-left\"><a class=\"tab-link-news\" href=\"https://finance.yahoo.com/news/nvidia-q4-preview-rebound-quarter-223410811.html\" onclick=\"trackAndOpenNews(event, 'Zacks', 'https://finance.yahoo.com/news/nvidia-q4-preview-rebound-quarter-223410811.html');\" rel=\"nofollow\" target=\"_blank\">NVIDIA Q4 Preview: Rebound Quarter Inbound?</a></div><div class=\"news-link-right\"><span style=\"color:#aa6dc0;font-size:9px\"> Zacks</span> <span class=\"body-table-news-loss\">-5.99%</span></div></div></td></tr>\n",
            "</table>\n",
            "<table border=\"0\" cellpadding=\"1\" cellspacing=\"0\" class=\"fullview-news-outer\" id=\"news-table\" width=\"100%\">\n",
            "<tr><td align=\"right\" width=\"130\">Mar-12-23 09:45AM</td><td align=\"left\"><div class=\"news-link-container\"><div class=\"news-link-left\"><a class=\"tab-link-news\" href=\"https://finance.yahoo.com/m/90936d56-af5c-3f11-b145-7f8edaaea952/is-now-the-time-to-go-all-in.html\" onclick=\"trackAndOpenNews(event, 'Motley Fool', 'https://finance.yahoo.com/m/90936d56-af5c-3f11-b145-7f8edaaea952/is-now-the-time-to-go-all-in.html');\" rel=\"nofollow\" target=\"_blank\">Is Now the Time to Go All-In on Rivian Stock?</a></div><div class=\"news-link-right\"><span style=\"color:#aa6dc0;font-size:9px\"> Motley Fool</span></div></div></td></tr>\n",
            "<tr><td align=\"right\" width=\"130\">09:06AM</td><td align=\"left\"><div class=\"news-link-container\"><div class=\"news-link-left\"><a class=\"tab-link-news\" href=\"https://finance.yahoo.com/m/1fba762f-4d88-31d1-81bf-18d418b1d1b8/2-top-bargain-stocks-ready.html\" onclick=\"trackAndOpenNews(event, 'Motley Fool', 'https://finance.yahoo.com/m/1fba762f-4d88-31d1-81bf-18d418b1d1b8/2-top-bargain-stocks-ready.html');\" rel=\"nofollow\" target=\"_blank\">2 Top Bargain Stocks Ready for Bull Runs</a></div><div class=\"news-link-right\"><span style=\"color:#aa6dc0;font-size:9px\"> Motley Fool</span></div></div></td></tr>\n",
            "<tr><td align=\"right\" width=\"130\">08:38AM</td><td align=\"left\"><div class=\"news-link-container\"><div class=\"news-link-left\"><a class=\"tab-link-news\" href=\"https://finance.yahoo.com/m/a0aa174a-d5e0-388f-812a-89e5890dcbd5/better-ai-stock%3A-amazon-vs..html\" onclick=\"trackAndOpenNews(event, 'Motley Fool', 'https://finance.yahoo.com/m/a0aa174a-d5e0-388f-812a-89e5890dcbd5/better-ai-stock%3A-amazon-vs..html');\" rel=\"nofollow\" target=\"_blank\">Better AI Stock: Amazon vs. Nvidia</a></div><div class=\"news-link-right\"><span style=\"color:#aa6dc0;font-size:9px\"> Motley Fool</span></div></div></td></tr>\n",
            "<tr><td align=\"right\" width=\"130\">07:35AM</td><td align=\"left\"><div class=\"news-link-container\"><div class=\"news-link-left\"><a class=\"tab-link-news\" href=\"https://finance.yahoo.com/m/52e55ec9-0096-32d0-8227-44ad7975c7f5/got-%241%2C000%3F-5-buffett-stocks.html\" onclick=\"trackAndOpenNews(event, 'Motley Fool', 'https://finance.yahoo.com/m/52e55ec9-0096-32d0-8227-44ad7975c7f5/got-%241%2C000%3F-5-buffett-stocks.html');\" rel=\"nofollow\" target=\"_blank\">Got $1,000? 5 Buffett Stocks to Buy and Hold Forever</a></div><div class=\"news-link-right\"><span style=\"color:#aa6dc0;font-size:9px\"> Motley Fool</span></div></div></td></tr>\n",
            "<tr><td align=\"right\" width=\"130\">07:30AM</td><td align=\"left\"><div class=\"news-link-container\"><div class=\"news-link-left\"><a class=\"tab-link-news\" href=\"https://finance.yahoo.com/m/f1828cb2-6901-3fd3-ab67-a124184fe240/got-%243%2C000%3F-3-tech-stocks-to.html\" onclick=\"trackAndOpenNews(event, 'Motley Fool', 'https://finance.yahoo.com/m/f1828cb2-6901-3fd3-ab67-a124184fe240/got-%243%2C000%3F-3-tech-stocks-to.html');\" rel=\"nofollow\" target=\"_blank\">Got $3,000? 3 Tech Stocks to Buy and Hold for the Long Term</a></div><div class=\"news-link-right\"><span style=\"color:#aa6dc0;font-size:9px\"> Motley Fool</span></div></div></td></tr>\n",
            "<tr><td align=\"right\" width=\"130\">07:10AM</td><td align=\"left\"><div class=\"news-link-container\"><div class=\"news-link-left\"><a class=\"tab-link-news\" href=\"https://finance.yahoo.com/m/23ac2c62-11c4-3d70-9653-e041eee4828b/1-growth-stock-down-51%25-to.html\" onclick=\"trackAndOpenNews(event, 'Motley Fool', 'https://finance.yahoo.com/m/23ac2c62-11c4-3d70-9653-e041eee4828b/1-growth-stock-down-51%25-to.html');\" rel=\"nofollow\" target=\"_blank\">1 Growth Stock Down 51% to Buy in 2023 and Hold Forever</a></div><div class=\"news-link-right\"><span style=\"color:#aa6dc0;font-size:9px\"> Motley Fool</span></div></div></td></tr>\n",
            "<tr><td align=\"right\" width=\"130\">05:30AM</td><td align=\"left\"><div class=\"news-link-container\"><div class=\"news-link-left\"><a class=\"tab-link-news\" href=\"https://finance.yahoo.com/m/06ee42fc-a762-3e2a-9d66-28ad9190ade0/should-you-really-buy-stocks.html\" onclick=\"trackAndOpenNews(event, 'Motley Fool', 'https://finance.yahoo.com/m/06ee42fc-a762-3e2a-9d66-28ad9190ade0/should-you-really-buy-stocks.html');\" rel=\"nofollow\" target=\"_blank\">Should You Really Buy Stocks Right Now? Here's What Warren Buffett Says.</a></div><div class=\"news-link-right\"><span style=\"color:#aa6dc0;font-size:9px\"> Motley Fool</span></div></div></td></tr>\n",
            "<tr><td align=\"right\" width=\"130\">Mar-11-23 11:13PM</td><td align=\"left\"><div class=\"news-link-container\"><div class=\"news-link-left\"><a class=\"tab-link-news\" href=\"https://finance.yahoo.com/m/085095ec-57f8-31ae-8612-49d4dcba2f88/10-biggest-%26-most-valuable.html\" onclick=\"trackAndOpenNews(event, 'Investopedia', 'https://finance.yahoo.com/m/085095ec-57f8-31ae-8612-49d4dcba2f88/10-biggest-%26-most-valuable.html');\" rel=\"nofollow\" target=\"_blank\">10 Biggest &amp; Most Valuable Companies in the World</a></div><div class=\"news-link-right\"><span style=\"color:#aa6dc0;font-size:9px\"> Investopedia</span></div></div></td></tr>\n",
            "<tr><td align=\"right\" width=\"130\">01:00PM</td><td align=\"left\"><div class=\"news-link-container\"><div class=\"news-link-left\"><a class=\"tab-link-news\" href=\"https://finance.yahoo.com/m/9ef4264c-5b71-3ad7-aa8a-eb0b7a6bbb8b/3-little-known-ways-to-boost.html\" onclick=\"trackAndOpenNews(event, 'Motley Fool', 'https://finance.yahoo.com/m/9ef4264c-5b71-3ad7-aa8a-eb0b7a6bbb8b/3-little-known-ways-to-boost.html');\" rel=\"nofollow\" target=\"_blank\">3 Little-Known Ways to Boost Your Savings This March</a></div><div class=\"news-link-right\"><span style=\"color:#aa6dc0;font-size:9px\"> Motley Fool</span></div></div></td></tr>\n",
            "<tr><td align=\"right\" width=\"130\">10:40AM</td><td align=\"left\"><div class=\"news-link-container\"><div class=\"news-link-left\"><a class=\"tab-link-news\" href=\"https://finance.yahoo.com/m/d9ad3539-6907-3ccc-8aad-7847c2463fa8/amazon%27s-ai-push-should-not.html\" onclick=\"trackAndOpenNews(event, 'Motley Fool', 'https://finance.yahoo.com/m/d9ad3539-6907-3ccc-8aad-7847c2463fa8/amazon%27s-ai-push-should-not.html');\" rel=\"nofollow\" target=\"_blank\">Amazon's AI Push Should Not Be Overlooked</a></div><div class=\"news-link-right\"><span style=\"color:#aa6dc0;font-size:9px\"> Motley Fool</span></div></div></td></tr>\n",
            "<tr><td align=\"right\" width=\"130\">09:54AM</td><td align=\"left\"><div class=\"news-link-container\"><div class=\"news-link-left\"><a class=\"tab-link-news\" href=\"https://finance.yahoo.com/m/c60157d7-6fd4-37e0-85d8-b974c8eab84a/zoom%27s-growth-is-slowing-but.html\" onclick=\"trackAndOpenNews(event, 'Motley Fool', 'https://finance.yahoo.com/m/c60157d7-6fd4-37e0-85d8-b974c8eab84a/zoom%27s-growth-is-slowing-but.html');\" rel=\"nofollow\" target=\"_blank\">Zoom's Growth Is Slowing but It's Not Done</a></div><div class=\"news-link-right\"><span style=\"color:#aa6dc0;font-size:9px\"> Motley Fool</span></div></div></td></tr>\n",
            "<tr><td align=\"right\" width=\"130\">09:40AM</td><td align=\"left\"><div class=\"news-link-container\"><div class=\"news-link-left\"><a class=\"tab-link-news\" href=\"https://finance.yahoo.com/m/486b92b1-dff6-34bd-a7ff-d43fe82b8740/this-unstoppable-stock-has.html\" onclick=\"trackAndOpenNews(event, 'Motley Fool', 'https://finance.yahoo.com/m/486b92b1-dff6-34bd-a7ff-d43fe82b8740/this-unstoppable-stock-has.html');\" rel=\"nofollow\" target=\"_blank\">This Unstoppable Stock Has Grown Sales by 1,092% in 5 Years. Here's Why It's a Buy Right Now</a></div><div class=\"news-link-right\"><span style=\"color:#aa6dc0;font-size:9px\"> Motley Fool</span></div></div></td></tr>\n",
            "<tr><td align=\"right\" width=\"130\">07:30AM</td><td align=\"left\"><div class=\"news-link-container\"><div class=\"news-link-left\"><a class=\"tab-link-news\" href=\"https://finance.yahoo.com/m/933788b5-b5e4-323f-9088-5c6b875a3da9/where-will-oracle-stock-be-in.html\" onclick=\"trackAndOpenNews(event, 'Motley Fool', 'https://finance.yahoo.com/m/933788b5-b5e4-323f-9088-5c6b875a3da9/where-will-oracle-stock-be-in.html');\" rel=\"nofollow\" target=\"_blank\">Where Will Oracle Stock Be in 1 Year?</a></div><div class=\"news-link-right\"><span style=\"color:#aa6dc0;font-size:9px\"> Motley Fool</span></div></div></td></tr>\n",
            "<tr><td align=\"right\" width=\"130\">06:37AM</td><td align=\"left\"><div class=\"news-link-container\"><div class=\"news-link-left\"><a class=\"tab-link-news\" href=\"https://finance.yahoo.com/m/1732220e-fd50-35fa-b469-ddb0a54ad903/what-will-change-at-berkshire.html\" onclick=\"trackAndOpenNews(event, 'Motley Fool', 'https://finance.yahoo.com/m/1732220e-fd50-35fa-b469-ddb0a54ad903/what-will-change-at-berkshire.html');\" rel=\"nofollow\" target=\"_blank\">What Will Change at Berkshire Hathaway Once Warren Buffett Is No Longer in Charge?</a></div><div class=\"news-link-right\"><span style=\"color:#aa6dc0;font-size:9px\"> Motley Fool</span></div></div></td></tr>\n",
            "<tr><td align=\"right\" width=\"130\">Mar-10-23 07:00PM</td><td align=\"left\"><div class=\"news-link-container\"><div class=\"news-link-left\"><a class=\"tab-link-news\" href=\"https://finance.yahoo.com/news/amazon-shopping-8-dos-don-000013547.html\" onclick=\"trackAndOpenNews(event, 'GOBankingRates', 'https://finance.yahoo.com/news/amazon-shopping-8-dos-don-000013547.html');\" rel=\"nofollow\" target=\"_blank\">Amazon Shopping: 8 Dos and Donts</a></div><div class=\"news-link-right\"><span style=\"color:#aa6dc0;font-size:9px\"> GOBankingRates</span></div></div></td></tr>\n",
            "<tr><td align=\"right\" width=\"130\">04:29PM</td><td align=\"left\"><div class=\"news-link-container\"><div class=\"news-link-left\"><a class=\"tab-link-news\" href=\"https://finance.yahoo.com/video/retail-layoffs-big-tech-biggest-212939392.html\" onclick=\"trackAndOpenNews(event, 'Yahoo Finance Video', 'https://finance.yahoo.com/video/retail-layoffs-big-tech-biggest-212939392.html');\" rel=\"nofollow\" target=\"_blank\">Retail, layoffs, Big Tech  The biggest takeaways from earnings season</a></div><div class=\"news-link-right\"><span style=\"color:#aa6dc0;font-size:9px\"> Yahoo Finance Video</span></div></div></td></tr>\n",
            "<tr><td align=\"right\" width=\"130\">02:08PM</td><td align=\"left\"><div class=\"news-link-container\"><div class=\"news-link-left\"><a class=\"tab-link-news\" href=\"https://finance.yahoo.com/news/amazon-selling-nfts-impact-marketplace-190841860.html\" onclick=\"trackAndOpenNews(event, 'GOBankingRates', 'https://finance.yahoo.com/news/amazon-selling-nfts-impact-marketplace-190841860.html');\" rel=\"nofollow\" target=\"_blank\">Amazon Selling NFTs: How Will It Impact Marketplace?</a></div><div class=\"news-link-right\"><span style=\"color:#aa6dc0;font-size:9px\"> GOBankingRates</span></div></div></td></tr>\n",
            "<tr><td align=\"right\" width=\"130\">12:08PM</td><td align=\"left\"><div class=\"news-link-container\"><div class=\"news-link-left\"><a class=\"tab-link-news\" href=\"https://finance.yahoo.com/video/walmart-vs-amazon-prime-convenience-170815639.html\" onclick=\"trackAndOpenNews(event, 'Yahoo Finance Video', 'https://finance.yahoo.com/video/walmart-vs-amazon-prime-convenience-170815639.html');\" rel=\"nofollow\" target=\"_blank\">Walmart+ vs. Amazon Prime: Convenience is something consumers value, analyst says</a></div><div class=\"news-link-right\"><span style=\"color:#aa6dc0;font-size:9px\"> Yahoo Finance Video</span></div></div></td></tr>\n",
            "<tr><td align=\"right\" width=\"130\">11:00AM</td><td align=\"left\"><div class=\"news-link-container\"><div class=\"news-link-left\"><a class=\"tab-link-news\" href=\"https://finance.yahoo.com/news/target-amazon-4-more-retailers-130111844.html\" onclick=\"trackAndOpenNews(event, 'GOBankingRates', 'https://finance.yahoo.com/news/target-amazon-4-more-retailers-130111844.html');\" rel=\"nofollow\" target=\"_blank\">Target, Amazon and 4 More Retailers That Will Reward You for Turning in Your Old Stuff</a></div><div class=\"news-link-right\"><span style=\"color:#aa6dc0;font-size:9px\"> GOBankingRates</span></div></div></td></tr>\n",
            "<tr><td align=\"right\" width=\"130\">10:41AM</td><td align=\"left\"><div class=\"news-link-container\"><div class=\"news-link-left\"><a class=\"tab-link-news\" href=\"https://finance.yahoo.com/news/walmart-starts-making-inroads-amazons-154152727.html\" onclick=\"trackAndOpenNews(event, 'Benzinga', 'https://finance.yahoo.com/news/walmart-starts-making-inroads-amazons-154152727.html');\" rel=\"nofollow\" target=\"_blank\">Walmart Starts Making Inroads In Amazon's Forte By Transforming Business Model; Targets Affluent Customers</a></div><div class=\"news-link-right\"><span style=\"color:#aa6dc0;font-size:9px\"> Benzinga</span></div></div></td></tr>\n",
            "<tr><td align=\"right\" width=\"130\">10:25AM</td><td align=\"left\"><div class=\"news-link-container\"><div class=\"news-link-left\"><a class=\"tab-link-news\" href=\"https://finance.yahoo.com/news/11-best-long-term-growth-152504443.html\" onclick=\"trackAndOpenNews(event, 'Insider Monkey', 'https://finance.yahoo.com/news/11-best-long-term-growth-152504443.html');\" rel=\"nofollow\" target=\"_blank\">11 Best Long-term Growth Stocks for Strong Returns</a></div><div class=\"news-link-right\"><span style=\"color:#aa6dc0;font-size:9px\"> Insider Monkey</span></div></div></td></tr>\n",
            "<tr><td align=\"right\" width=\"130\">09:45AM</td><td align=\"left\"><div class=\"news-link-container\"><div class=\"news-link-left\"><a class=\"tab-link-news\" href=\"https://finance.yahoo.com/m/2503988a-72f2-3c33-8950-1be3ec0aa5f9/walmart%27s-cfo-just-dropped-a.html\" onclick=\"trackAndOpenNews(event, 'Motley Fool', 'https://finance.yahoo.com/m/2503988a-72f2-3c33-8950-1be3ec0aa5f9/walmart%27s-cfo-just-dropped-a.html');\" rel=\"nofollow\" target=\"_blank\">Walmart's CFO Just Dropped a Bombshell Reason to Buy The Stock</a></div><div class=\"news-link-right\"><span style=\"color:#aa6dc0;font-size:9px\"> Motley Fool</span></div></div></td></tr>\n",
            "<tr><td align=\"right\" width=\"130\">07:17AM</td><td align=\"left\"><div class=\"news-link-container\"><div class=\"news-link-left\"><a class=\"tab-link-news\" href=\"https://finance.yahoo.com/news/q4-2022-aterian-inc-earnings-121731606.html\" onclick=\"trackAndOpenNews(event, 'Thomson Reuters StreetEvents', 'https://finance.yahoo.com/news/q4-2022-aterian-inc-earnings-121731606.html');\" rel=\"nofollow\" target=\"_blank\">Q4 2022 Aterian Inc Earnings Call</a></div><div class=\"news-link-right\"><span style=\"color:#aa6dc0;font-size:9px\"> Thomson Reuters StreetEvents</span></div></div></td></tr>\n",
            "<tr><td align=\"right\" width=\"130\">06:09AM</td><td align=\"left\"><div class=\"news-link-container\"><div class=\"news-link-left\"><a class=\"tab-link-news\" href=\"https://finance.yahoo.com/news/recession-fears-impacted-amazon-com-110925835.html\" onclick=\"trackAndOpenNews(event, 'Insider Monkey', 'https://finance.yahoo.com/news/recession-fears-impacted-amazon-com-110925835.html');\" rel=\"nofollow\" target=\"_blank\">Recession Fears Impacted Amazon.com (AMZN) in Q4</a></div><div class=\"news-link-right\"><span style=\"color:#aa6dc0;font-size:9px\"> Insider Monkey</span></div></div></td></tr>\n",
            "<tr><td align=\"right\" width=\"130\">06:05AM</td><td align=\"left\"><div class=\"news-link-container\"><div class=\"news-link-left\"><a class=\"tab-link-news\" href=\"https://finance.yahoo.com/video/sxsw-2023-austin-becomes-global-110508691.html\" onclick=\"trackAndOpenNews(event, 'Yahoo Finance Video', 'https://finance.yahoo.com/video/sxsw-2023-austin-becomes-global-110508691.html');\" rel=\"nofollow\" target=\"_blank\">SXSW 2023: Austin becomes the global center for AI &amp; deep tech</a></div><div class=\"news-link-right\"><span style=\"color:#aa6dc0;font-size:9px\"> Yahoo Finance Video</span></div></div></td></tr>\n",
            "<tr><td align=\"right\" width=\"130\">05:50AM</td><td align=\"left\"><div class=\"news-link-container\"><div class=\"news-link-left\"><a class=\"tab-link-news\" href=\"https://finance.yahoo.com/m/3312f41d-778c-3d82-867f-79f2bbb01fec/want-a-stock-that-can-double%3F.html\" onclick=\"trackAndOpenNews(event, 'Motley Fool', 'https://finance.yahoo.com/m/3312f41d-778c-3d82-867f-79f2bbb01fec/want-a-stock-that-can-double%3F.html');\" rel=\"nofollow\" target=\"_blank\">Want a Stock That Can Double? Focus on Free Cash Flow</a></div><div class=\"news-link-right\"><span style=\"color:#aa6dc0;font-size:9px\"> Motley Fool</span></div></div></td></tr>\n",
            "<tr><td align=\"right\" width=\"130\">05:17AM</td><td align=\"left\"><div class=\"news-link-container\"><div class=\"news-link-left\"><a class=\"tab-link-news\" href=\"https://finance.yahoo.com/m/3504b49b-5b35-3915-b0e4-da62778e3458/why-amazon%2C-disney%2C-and.html\" onclick=\"trackAndOpenNews(event, 'Motley Fool', 'https://finance.yahoo.com/m/3504b49b-5b35-3915-b0e4-da62778e3458/why-amazon%2C-disney%2C-and.html');\" rel=\"nofollow\" target=\"_blank\">Why Amazon, Disney, and Alphabet Are No-Brainer Buys Right Now</a></div><div class=\"news-link-right\"><span style=\"color:#aa6dc0;font-size:9px\"> Motley Fool</span></div></div></td></tr>\n",
            "<tr><td align=\"right\" width=\"130\">Mar-09-23 08:00PM</td><td align=\"left\"><div class=\"news-link-container\"><div class=\"news-link-left\"><a class=\"tab-link-news\" href=\"https://finance.yahoo.com/video/oscars-2023-streaming-giants-back-010052044.html\" onclick=\"trackAndOpenNews(event, 'Yahoo Finance Video', 'https://finance.yahoo.com/video/oscars-2023-streaming-giants-back-010052044.html');\" rel=\"nofollow\" target=\"_blank\">Oscars 2023: Streaming Giants Take a Back Seat</a></div><div class=\"news-link-right\"><span style=\"color:#aa6dc0;font-size:9px\"> Yahoo Finance Video</span></div></div></td></tr>\n",
            "<tr><td align=\"right\" width=\"130\">02:33PM</td><td align=\"left\"><div class=\"news-link-container\"><div class=\"news-link-left\"><a class=\"tab-link-news\" href=\"https://finance.yahoo.com/m/b4154673-402a-3e9a-b4cf-54b75bbb6626/amazon%2C-alphabet%2C-and-other.html\" onclick=\"trackAndOpenNews(event, 'Barrons.com', 'https://finance.yahoo.com/m/b4154673-402a-3e9a-b4cf-54b75bbb6626/amazon%2C-alphabet%2C-and-other.html');\" rel=\"nofollow\" target=\"_blank\">Amazon, Alphabet, and Other Growth Stocks Appeal to This Value Investor</a></div><div class=\"news-link-right\"><span style=\"color:#aa6dc0;font-size:9px\"> Barrons.com</span></div></div></td></tr>\n",
            "<tr><td align=\"right\" width=\"130\">10:00AM</td><td align=\"left\"><div class=\"news-link-container\"><div class=\"news-link-left\"><a class=\"tab-link-news\" href=\"https://finance.yahoo.com/news/walmart-chips-away-amazon-lead-150000346.html\" onclick=\"trackAndOpenNews(event, 'Bloomberg', 'https://finance.yahoo.com/news/walmart-chips-away-amazon-lead-150000346.html');\" rel=\"nofollow\" target=\"_blank\">Walmart Chips Away at Amazons Lead in a Key Area: Wealthy Online Shoppers</a></div><div class=\"news-link-right\"><span style=\"color:#aa6dc0;font-size:9px\"> Bloomberg</span></div></div></td></tr>\n",
            "<tr><td align=\"right\" width=\"130\">09:50AM</td><td align=\"left\"><div class=\"news-link-container\"><div class=\"news-link-left\"><a class=\"tab-link-news\" href=\"https://finance.yahoo.com/m/62215a4e-4f10-3509-ac86-92e9702257a4/a-bull-market-is-coming%3A-2.html\" onclick=\"trackAndOpenNews(event, 'Motley Fool', 'https://finance.yahoo.com/m/62215a4e-4f10-3509-ac86-92e9702257a4/a-bull-market-is-coming%3A-2.html');\" rel=\"nofollow\" target=\"_blank\">A Bull Market Is Coming: 2 Reasons to Buy Amazon Stock Before It's Too Late</a></div><div class=\"news-link-right\"><span style=\"color:#aa6dc0;font-size:9px\"> Motley Fool</span></div></div></td></tr>\n",
            "<tr><td align=\"right\" width=\"130\">09:45AM</td><td align=\"left\"><div class=\"news-link-container\"><div class=\"news-link-left\"><a class=\"tab-link-news\" href=\"https://finance.yahoo.com/m/d966af72-dae0-3911-9349-89cccb0ff23d/better-buy%3A-amazon-stock-vs..html\" onclick=\"trackAndOpenNews(event, 'Motley Fool', 'https://finance.yahoo.com/m/d966af72-dae0-3911-9349-89cccb0ff23d/better-buy%3A-amazon-stock-vs..html');\" rel=\"nofollow\" target=\"_blank\">Better Buy: Amazon Stock vs. Disney Stock</a></div><div class=\"news-link-right\"><span style=\"color:#aa6dc0;font-size:9px\"> Motley Fool</span></div></div></td></tr>\n",
            "<tr><td align=\"right\" width=\"130\">09:35AM</td><td align=\"left\"><div class=\"news-link-container\"><div class=\"news-link-left\"><a class=\"tab-link-news\" href=\"https://finance.yahoo.com/news/amazons-amzn-aws-gets-selected-143502974.html\" onclick=\"trackAndOpenNews(event, 'Zacks', 'https://finance.yahoo.com/news/amazons-amzn-aws-gets-selected-143502974.html');\" rel=\"nofollow\" target=\"_blank\">Amazon's (AMZN) AWS Gets Selected by Southwest Airlines</a></div><div class=\"news-link-right\"><span style=\"color:#aa6dc0;font-size:9px\"> Zacks</span></div></div></td></tr>\n",
            "<tr><td align=\"right\" width=\"130\">08:40AM</td><td align=\"left\"><div class=\"news-link-container\"><div class=\"news-link-left\"><a class=\"tab-link-news\" href=\"https://finance.yahoo.com/m/75d210d8-381a-3ddd-b99f-d39c6c982fd4/fang-stocks-news-%26-quotes%3A.html\" onclick=\"trackAndOpenNews(event, 'Investor\\u0027s Business Daily', 'https://finance.yahoo.com/m/75d210d8-381a-3ddd-b99f-d39c6c982fd4/fang-stocks-news-%26-quotes%3A.html');\" rel=\"nofollow\" target=\"_blank\">FANG Stocks News &amp; Quotes: Facebook, Amazon, Netflix, Google</a></div><div class=\"news-link-right\"><span style=\"color:#aa6dc0;font-size:9px\"> Investor's Business Daily</span></div></div></td></tr>\n",
            "<tr><td align=\"right\" width=\"130\">08:21AM</td><td align=\"left\"><div class=\"news-link-container\"><div class=\"news-link-left\"><a class=\"tab-link-news\" href=\"https://finance.yahoo.com/m/d48b2b7f-e7aa-3028-ade8-738783e50b35/this-online-retailer-wants-to.html\" onclick=\"trackAndOpenNews(event, 'Barrons.com', 'https://finance.yahoo.com/m/d48b2b7f-e7aa-3028-ade8-738783e50b35/this-online-retailer-wants-to.html');\" rel=\"nofollow\" target=\"_blank\">This Online Retailer Wants to Be the Amazon of Fashion. Watch the Stock.</a></div><div class=\"news-link-right\"><span style=\"color:#aa6dc0;font-size:9px\"> Barrons.com</span></div></div></td></tr>\n",
            "<tr><td align=\"right\" width=\"130\">05:52AM</td><td align=\"left\"><div class=\"news-link-container\"><div class=\"news-link-left\"><a class=\"tab-link-news\" href=\"https://finance.yahoo.com/m/e509b17a-cef3-3adf-9567-2c918691e8c3/4-growth-stocks-to-buy-and.html\" onclick=\"trackAndOpenNews(event, 'Motley Fool', 'https://finance.yahoo.com/m/e509b17a-cef3-3adf-9567-2c918691e8c3/4-growth-stocks-to-buy-and.html');\" rel=\"nofollow\" target=\"_blank\">4 Growth Stocks to Buy and Hold Forever</a></div><div class=\"news-link-right\"><span style=\"color:#aa6dc0;font-size:9px\"> Motley Fool</span></div></div></td></tr>\n",
            "<tr><td align=\"right\" width=\"130\">05:49AM</td><td align=\"left\"><div class=\"news-link-container\"><div class=\"news-link-left\"><a class=\"tab-link-news\" href=\"https://finance.yahoo.com/m/05c7d70e-0c74-3941-bd1b-c88719f7ac53/2-leading-tech-stocks-to-buy.html\" onclick=\"trackAndOpenNews(event, 'Motley Fool', 'https://finance.yahoo.com/m/05c7d70e-0c74-3941-bd1b-c88719f7ac53/2-leading-tech-stocks-to-buy.html');\" rel=\"nofollow\" target=\"_blank\">2 Leading Tech Stocks to Buy in 2023 and Beyond</a></div><div class=\"news-link-right\"><span style=\"color:#aa6dc0;font-size:9px\"> Motley Fool</span></div></div></td></tr>\n",
            "<tr><td align=\"right\" width=\"130\">12:40AM</td><td align=\"left\"><div class=\"news-link-container\"><div class=\"news-link-left\"><a class=\"tab-link-news\" href=\"https://finance.yahoo.com/m/a3edeac1-a96b-36d1-851e-4900912f65c8/data-rises-up-the-eu.html\" onclick=\"trackAndOpenNews(event, 'Financial Times', 'https://finance.yahoo.com/m/a3edeac1-a96b-36d1-851e-4900912f65c8/data-rises-up-the-eu.html');\" rel=\"nofollow\" target=\"_blank\">Data rises up the EU antitrust agenda</a></div><div class=\"news-link-right\"><span style=\"color:#aa6dc0;font-size:9px\"> Financial Times</span></div></div></td></tr>\n",
            "<tr><td align=\"right\" width=\"130\">Mar-08-23 03:46PM</td><td align=\"left\"><div class=\"news-link-container\"><div class=\"news-link-left\"><a class=\"tab-link-news\" href=\"https://finance.yahoo.com/m/247e8759-7e52-3815-b3b1-d8708cd64bb3/jeff-bezos-shows-that-mega.html\" onclick=\"trackAndOpenNews(event, 'Barrons.com', 'https://finance.yahoo.com/m/247e8759-7e52-3815-b3b1-d8708cd64bb3/jeff-bezos-shows-that-mega.html');\" rel=\"nofollow\" target=\"_blank\">Jeff Bezos Shows That Mega Yachts Arent Just for Russian Oligarchs</a></div><div class=\"news-link-right\"><span style=\"color:#aa6dc0;font-size:9px\"> Barrons.com</span></div></div></td></tr>\n",
            "<tr><td align=\"right\" width=\"130\">03:25PM</td><td align=\"left\"><div class=\"news-link-container\"><div class=\"news-link-left\"><a class=\"tab-link-news\" href=\"https://finance.yahoo.com/news/southwest-airlines-taps-amazon-cloud-202545469.html\" onclick=\"trackAndOpenNews(event, 'Benzinga', 'https://finance.yahoo.com/news/southwest-airlines-taps-amazon-cloud-202545469.html');\" rel=\"nofollow\" target=\"_blank\">Southwest Airlines Taps Amazon Cloud Unit To Optimize Operations - What's On The Cards?</a></div><div class=\"news-link-right\"><span style=\"color:#aa6dc0;font-size:9px\"> Benzinga</span></div></div></td></tr>\n",
            "<tr><td align=\"right\" width=\"130\">01:08PM</td><td align=\"left\"><div class=\"news-link-container\"><div class=\"news-link-left\"><a class=\"tab-link-news\" href=\"https://finance.yahoo.com/news/roku-ropes-stitch-fixs-dan-180822233.html\" onclick=\"trackAndOpenNews(event, 'Benzinga', 'https://finance.yahoo.com/news/roku-ropes-stitch-fixs-dan-180822233.html');\" rel=\"nofollow\" target=\"_blank\">Roku Ropes In Stitch Fix's Dan Jedda As New CFO; The Former Amazon Veteran Succeeds Steve Loudon</a></div><div class=\"news-link-right\"><span style=\"color:#aa6dc0;font-size:9px\"> Benzinga</span></div></div></td></tr>\n",
            "<tr><td align=\"right\" width=\"130\">11:50AM</td><td align=\"left\"><div class=\"news-link-container\"><div class=\"news-link-left\"><a class=\"tab-link-news\" href=\"https://finance.yahoo.com/news/amazon-amzn-launch-nft-marketplace-165004578.html\" onclick=\"trackAndOpenNews(event, 'Zacks', 'https://finance.yahoo.com/news/amazon-amzn-launch-nft-marketplace-165004578.html');\" rel=\"nofollow\" target=\"_blank\">Amazon (AMZN) to Launch NFT Marketplace &amp; 15 Collectibles</a></div><div class=\"news-link-right\"><span style=\"color:#aa6dc0;font-size:9px\"> Zacks</span></div></div></td></tr>\n",
            "<tr><td align=\"right\" width=\"130\">11:49AM</td><td align=\"left\"><div class=\"news-link-container\"><div class=\"news-link-left\"><a class=\"tab-link-news\" href=\"https://finance.yahoo.com/m/6017ad10-bcae-3f3e-b060-412a77cdceb2/can-roku-keep-these-key.html\" onclick=\"trackAndOpenNews(event, 'Motley Fool', 'https://finance.yahoo.com/m/6017ad10-bcae-3f3e-b060-412a77cdceb2/can-roku-keep-these-key.html');\" rel=\"nofollow\" target=\"_blank\">Can Roku Keep These Key Customers From Switching?</a></div><div class=\"news-link-right\"><span style=\"color:#aa6dc0;font-size:9px\"> Motley Fool</span></div></div></td></tr>\n",
            "<tr><td align=\"right\" width=\"130\">11:45AM</td><td align=\"left\"><div class=\"news-link-container\"><div class=\"news-link-left\"><a class=\"tab-link-news\" href=\"https://finance.yahoo.com/m/fb2d6e02-b1bc-3242-b8bb-7c0cac98f46a/the-chip-downturn-finally.html\" onclick=\"trackAndOpenNews(event, 'Motley Fool', 'https://finance.yahoo.com/m/fb2d6e02-b1bc-3242-b8bb-7c0cac98f46a/the-chip-downturn-finally.html');\" rel=\"nofollow\" target=\"_blank\">The Chip Downturn Finally Comes for Marvell Technology: Is the Stock Still a Buy?</a></div><div class=\"news-link-right\"><span style=\"color:#aa6dc0;font-size:9px\"> Motley Fool</span></div></div></td></tr>\n",
            "<tr><td align=\"right\" width=\"130\">10:36AM</td><td align=\"left\"><div class=\"news-link-container\"><div class=\"news-link-left\"><a class=\"tab-link-news\" href=\"https://finance.yahoo.com/video/media-giants-aiming-improve-shaky-153611936.html\" onclick=\"trackAndOpenNews(event, 'Yahoo Finance Video', 'https://finance.yahoo.com/video/media-giants-aiming-improve-shaky-153611936.html');\" rel=\"nofollow\" target=\"_blank\">Media giants hint at improving ad market but the macro picture still 'uncertain'</a></div><div class=\"news-link-right\"><span style=\"color:#aa6dc0;font-size:9px\"> Yahoo Finance Video</span></div></div></td></tr>\n",
            "<tr><td align=\"right\" width=\"130\">10:30AM</td><td align=\"left\"><div class=\"news-link-container\"><div class=\"news-link-left\"><a class=\"tab-link-news\" href=\"https://finance.yahoo.com/news/7-items-always-cheaper-amazon-110115908.html\" onclick=\"trackAndOpenNews(event, 'GOBankingRates', 'https://finance.yahoo.com/news/7-items-always-cheaper-amazon-110115908.html');\" rel=\"nofollow\" target=\"_blank\">7 Items That Are Always Cheaper on Amazon</a></div><div class=\"news-link-right\"><span style=\"color:#aa6dc0;font-size:9px\"> GOBankingRates</span></div></div></td></tr>\n",
            "<tr><td align=\"right\" width=\"130\">10:05AM</td><td align=\"left\"><div class=\"news-link-container\"><div class=\"news-link-left\"><a class=\"tab-link-news\" href=\"https://finance.yahoo.com/m/2187fe9e-34e8-36a0-b3af-87b9dbeb98f4/amazon-owns-the.html\" onclick=\"trackAndOpenNews(event, 'Motley Fool', 'https://finance.yahoo.com/m/2187fe9e-34e8-36a0-b3af-87b9dbeb98f4/amazon-owns-the.html');\" rel=\"nofollow\" target=\"_blank\">Amazon Owns the Fastest-Growing Digital Ad Business -- and It's Not Even Close</a></div><div class=\"news-link-right\"><span style=\"color:#aa6dc0;font-size:9px\"> Motley Fool</span></div></div></td></tr>\n",
            "<tr><td align=\"right\" width=\"130\">09:00AM</td><td align=\"left\"><div class=\"news-link-container\"><div class=\"news-link-left\"><a class=\"tab-link-news\" href=\"https://finance.yahoo.com/news/amazon-com-nasdaq-amzn-using-140015933.html\" onclick=\"trackAndOpenNews(event, 'Simply Wall St.', 'https://finance.yahoo.com/news/amazon-com-nasdaq-amzn-using-140015933.html');\" rel=\"nofollow\" target=\"_blank\">Is Amazon.com (NASDAQ:AMZN) Using Too Much Debt?</a></div><div class=\"news-link-right\"><span style=\"color:#aa6dc0;font-size:9px\"> Simply Wall St.</span></div></div></td></tr>\n",
            "<tr><td align=\"right\" width=\"130\">09:00AM</td><td align=\"left\"><div class=\"news-link-container\"><div class=\"news-link-left\"><a class=\"tab-link-news\" href=\"https://finance.yahoo.com/news/southwest-modernizing-technology-help-amazon-140000098.html\" onclick=\"trackAndOpenNews(event, 'Bloomberg', 'https://finance.yahoo.com/news/southwest-modernizing-technology-help-amazon-140000098.html');\" rel=\"nofollow\" target=\"_blank\">Southwest Is Modernizing Its Technology With Help From Amazon After Holiday Meltdown</a></div><div class=\"news-link-right\"><span style=\"color:#aa6dc0;font-size:9px\"> Bloomberg</span></div></div></td></tr>\n",
            "<tr><td align=\"right\" width=\"130\">09:00AM</td><td align=\"left\"><div class=\"news-link-container\"><div class=\"news-link-left\"><a class=\"tab-link-news\" href=\"https://finance.yahoo.com/news/aws-selected-southwest-airlines-preferred-140000981.html\" onclick=\"trackAndOpenNews(event, 'Business Wire', 'https://finance.yahoo.com/news/aws-selected-southwest-airlines-preferred-140000981.html');\" rel=\"nofollow\" target=\"_blank\">AWS Selected as Southwest Airlines Preferred Cloud Provider</a></div><div class=\"news-link-right\"><span style=\"color:#aa6dc0;font-size:9px\"> Business Wire</span></div></div></td></tr>\n",
            "<tr><td align=\"right\" width=\"130\">08:53AM</td><td align=\"left\"><div class=\"news-link-container\"><div class=\"news-link-left\"><a class=\"tab-link-news\" href=\"https://finance.yahoo.com/m/07bcc383-23cc-32cd-a398-1f2757ac93fa/roku-names-ex-amazon.html\" onclick=\"trackAndOpenNews(event, 'MarketWatch', 'https://finance.yahoo.com/m/07bcc383-23cc-32cd-a398-1f2757ac93fa/roku-names-ex-amazon.html');\" rel=\"nofollow\" target=\"_blank\">Roku names ex-Amazon executive as CFO</a></div><div class=\"news-link-right\"><span style=\"color:#aa6dc0;font-size:9px\"> MarketWatch</span></div></div></td></tr>\n",
            "<tr><td align=\"right\" width=\"130\">08:15AM</td><td align=\"left\"><div class=\"news-link-container\"><div class=\"news-link-left\"><a class=\"tab-link-news\" href=\"https://finance.yahoo.com/m/84ab41aa-2e9f-31a8-8626-ac4c321f88c8/2-dirt-cheap-stocks-that.html\" onclick=\"trackAndOpenNews(event, 'Motley Fool', 'https://finance.yahoo.com/m/84ab41aa-2e9f-31a8-8626-ac4c321f88c8/2-dirt-cheap-stocks-that.html');\" rel=\"nofollow\" target=\"_blank\">2 Dirt-Cheap Stocks That Could Skyrocket When the Market Rallies</a></div><div class=\"news-link-right\"><span style=\"color:#aa6dc0;font-size:9px\"> Motley Fool</span></div></div></td></tr>\n",
            "<tr><td align=\"right\" width=\"130\">08:07AM</td><td align=\"left\"><div class=\"news-link-container\"><div class=\"news-link-left\"><a class=\"tab-link-news\" href=\"https://finance.yahoo.com/m/2a26f2f1-4f9a-32e8-b78e-1b86102ce717/is-walmart-taking-market.html\" onclick=\"trackAndOpenNews(event, 'Motley Fool', 'https://finance.yahoo.com/m/2a26f2f1-4f9a-32e8-b78e-1b86102ce717/is-walmart-taking-market.html');\" rel=\"nofollow\" target=\"_blank\">Is Walmart Taking Market Share From Amazon?</a></div><div class=\"news-link-right\"><span style=\"color:#aa6dc0;font-size:9px\"> Motley Fool</span></div></div></td></tr>\n",
            "<tr><td align=\"right\" width=\"130\">07:32AM</td><td align=\"left\"><div class=\"news-link-container\"><div class=\"news-link-left\"><a class=\"tab-link-news\" href=\"https://finance.yahoo.com/news/disney-hotstar-cease-streaming-hbo-123237226.html\" onclick=\"trackAndOpenNews(event, 'Benzinga', 'https://finance.yahoo.com/news/disney-hotstar-cease-streaming-hbo-123237226.html');\" rel=\"nofollow\" target=\"_blank\">Disney+ Hotstar Will Cease Streaming HBO Content From March 31; Potential Amazon-Warner Bros Deal Reportedly In Works</a></div><div class=\"news-link-right\"><span style=\"color:#aa6dc0;font-size:9px\"> Benzinga</span></div></div></td></tr>\n",
            "<tr><td align=\"right\" width=\"130\">07:24AM</td><td align=\"left\"><div class=\"news-link-container\"><div class=\"news-link-left\"><a class=\"tab-link-news\" href=\"https://finance.yahoo.com/news/amazon-prepares-cut-more-fluff-122444475.html\" onclick=\"trackAndOpenNews(event, 'Benzinga', 'https://finance.yahoo.com/news/amazon-prepares-cut-more-fluff-122444475.html');\" rel=\"nofollow\" target=\"_blank\">Amazon Prepares To Cut More Fluff, Shut 8 Amazon Go stores In Seattle, San Francisco, NYC</a></div><div class=\"news-link-right\"><span style=\"color:#aa6dc0;font-size:9px\"> Benzinga</span></div></div></td></tr>\n",
            "<tr><td align=\"right\" width=\"130\">07:00AM</td><td align=\"left\"><div class=\"news-link-container\"><div class=\"news-link-left\"><a class=\"tab-link-news\" href=\"https://finance.yahoo.com/m/343d7cdb-1c7e-3d17-8eb2-f4566bea714e/best-warren-buffett-stock-to.html\" onclick=\"trackAndOpenNews(event, 'Motley Fool', 'https://finance.yahoo.com/m/343d7cdb-1c7e-3d17-8eb2-f4566bea714e/best-warren-buffett-stock-to.html');\" rel=\"nofollow\" target=\"_blank\">Best Warren Buffett Stock to Buy: Amazon vs. Apple vs. Mastercard</a></div><div class=\"news-link-right\"><span style=\"color:#aa6dc0;font-size:9px\"> Motley Fool</span></div></div></td></tr>\n",
            "<tr><td align=\"right\" width=\"130\">06:18AM</td><td align=\"left\"><div class=\"news-link-container\"><div class=\"news-link-left\"><a class=\"tab-link-news\" href=\"https://finance.yahoo.com/m/219a3ff4-5990-3e4e-aa43-10e628f22d80/my-top-faang-stock-to-buy-for.html\" onclick=\"trackAndOpenNews(event, 'Motley Fool', 'https://finance.yahoo.com/m/219a3ff4-5990-3e4e-aa43-10e628f22d80/my-top-faang-stock-to-buy-for.html');\" rel=\"nofollow\" target=\"_blank\">My Top FAANG Stock to Buy for the Second Half of 2023 (and Beyond)</a></div><div class=\"news-link-right\"><span style=\"color:#aa6dc0;font-size:9px\"> Motley Fool</span></div></div></td></tr>\n",
            "<tr><td align=\"right\" width=\"130\">05:30AM</td><td align=\"left\"><div class=\"news-link-container\"><div class=\"news-link-left\"><a class=\"tab-link-news\" href=\"https://finance.yahoo.com/m/5db3a2ca-3aa5-3706-aa8a-7ad621d03e51/3-things-you-shouldn%27t-do-if.html\" onclick=\"trackAndOpenNews(event, 'Motley Fool', 'https://finance.yahoo.com/m/5db3a2ca-3aa5-3706-aa8a-7ad621d03e51/3-things-you-shouldn%27t-do-if.html');\" rel=\"nofollow\" target=\"_blank\">3 Things You Shouldn't Do If the Stock Market Crashes</a></div><div class=\"news-link-right\"><span style=\"color:#aa6dc0;font-size:9px\"> Motley Fool</span></div></div></td></tr>\n",
            "<tr><td align=\"right\" width=\"130\">05:17AM</td><td align=\"left\"><div class=\"news-link-container\"><div class=\"news-link-left\"><a class=\"tab-link-news\" href=\"https://finance.yahoo.com/m/a72db41b-83c0-36a9-bb4f-657202f04c18/2-exceptional-growth-stocks.html\" onclick=\"trackAndOpenNews(event, 'Motley Fool', 'https://finance.yahoo.com/m/a72db41b-83c0-36a9-bb4f-657202f04c18/2-exceptional-growth-stocks.html');\" rel=\"nofollow\" target=\"_blank\">2 Exceptional Growth Stocks That Could Jump 37.6% to 40.2% Higher, According to Wall Street</a></div><div class=\"news-link-right\"><span style=\"color:#aa6dc0;font-size:9px\"> Motley Fool</span></div></div></td></tr>\n",
            "<tr><td align=\"right\" width=\"130\">Mar-07-23 06:42PM</td><td align=\"left\"><div class=\"news-link-container\"><div class=\"news-link-left\"><a class=\"tab-link-news\" href=\"https://finance.yahoo.com/m/b4af1b36-1e18-388e-b74e-077ea87cb30e/why-amazon-and-uber-stocks.html\" onclick=\"trackAndOpenNews(event, 'Motley Fool', 'https://finance.yahoo.com/m/b4af1b36-1e18-388e-b74e-077ea87cb30e/why-amazon-and-uber-stocks.html');\" rel=\"nofollow\" target=\"_blank\">Why Amazon and Uber Stocks Topped the Market on Tuesday</a></div><div class=\"news-link-right\"><span style=\"color:#aa6dc0;font-size:9px\"> Motley Fool</span></div></div></td></tr>\n",
            "<tr><td align=\"right\" width=\"130\">06:00PM</td><td align=\"left\"><div class=\"news-link-container\"><div class=\"news-link-left\"><a class=\"tab-link-news\" href=\"https://finance.yahoo.com/m/884ae608-ced8-39d3-8f68-9890057cfb19/why-i-always-check-reddit.html\" onclick=\"trackAndOpenNews(event, 'Motley Fool', 'https://finance.yahoo.com/m/884ae608-ced8-39d3-8f68-9890057cfb19/why-i-always-check-reddit.html');\" rel=\"nofollow\" target=\"_blank\">Why I Always Check Reddit Before Making a Major Purchase</a></div><div class=\"news-link-right\"><span style=\"color:#aa6dc0;font-size:9px\"> Motley Fool</span></div></div></td></tr>\n",
            "<tr><td align=\"right\" width=\"130\">04:58PM</td><td align=\"left\"><div class=\"news-link-container\"><div class=\"news-link-left\"><a class=\"tab-link-news\" href=\"https://finance.yahoo.com/video/sports-streaming-rights-won-t-215858289.html\" onclick=\"trackAndOpenNews(event, 'Yahoo Finance Video', 'https://finance.yahoo.com/video/sports-streaming-rights-won-t-215858289.html');\" rel=\"nofollow\" target=\"_blank\">Sports streaming rights wont just go to one or two FAANGs: Analyst</a></div><div class=\"news-link-right\"><span style=\"color:#aa6dc0;font-size:9px\"> Yahoo Finance Video</span></div></div></td></tr>\n",
            "<tr><td align=\"right\" width=\"130\">03:35PM</td><td align=\"left\"><div class=\"news-link-container\"><div class=\"news-link-left\"><a class=\"tab-link-news\" href=\"https://finance.yahoo.com/video/big-tech-performed-earnings-season-203553108.html\" onclick=\"trackAndOpenNews(event, 'Yahoo Finance Video', 'https://finance.yahoo.com/video/big-tech-performed-earnings-season-203553108.html');\" rel=\"nofollow\" target=\"_blank\">How Big Tech performed this earnings season amid layoffs, AI integration trends</a></div><div class=\"news-link-right\"><span style=\"color:#aa6dc0;font-size:9px\"> Yahoo Finance Video</span></div></div></td></tr>\n",
            "<tr><td align=\"right\" width=\"130\">02:27PM</td><td align=\"left\"><div class=\"news-link-container\"><div class=\"news-link-left\"><a class=\"tab-link-news\" href=\"https://finance.yahoo.com/news/amazon-worker-loses-bid-california-192746583.html\" onclick=\"trackAndOpenNews(event, 'Reuters', 'https://finance.yahoo.com/news/amazon-worker-loses-bid-california-192746583.html');\" rel=\"nofollow\" target=\"_blank\">Amazon worker loses bid for California class action over remote work expenses</a></div><div class=\"news-link-right\"><span style=\"color:#aa6dc0;font-size:9px\"> Reuters</span></div></div></td></tr>\n",
            "<tr><td align=\"right\" width=\"130\">02:25PM</td><td align=\"left\"><div class=\"news-link-container\"><div class=\"news-link-left\"><a class=\"tab-link-news\" href=\"https://finance.yahoo.com/news/amazon-worker-loses-bid-california-192540451.html\" onclick=\"trackAndOpenNews(event, 'Reuters', 'https://finance.yahoo.com/news/amazon-worker-loses-bid-california-192540451.html');\" rel=\"nofollow\" target=\"_blank\">REFILE-Amazon worker loses bid for California class action over remote work expenses</a></div><div class=\"news-link-right\"><span style=\"color:#aa6dc0;font-size:9px\"> Reuters</span></div></div></td></tr>\n",
            "<tr><td align=\"right\" width=\"130\">01:47PM</td><td align=\"left\"><div class=\"news-link-container\"><div class=\"news-link-left\"><a class=\"tab-link-news\" href=\"https://finance.yahoo.com/news/walmart-derive-more-profit-services-184752704.html\" onclick=\"trackAndOpenNews(event, 'Reuters', 'https://finance.yahoo.com/news/walmart-derive-more-profit-services-184752704.html');\" rel=\"nofollow\" target=\"_blank\">Walmart will derive more profit from services, ad sales in next 5 years -CFO</a></div><div class=\"news-link-right\"><span style=\"color:#aa6dc0;font-size:9px\"> Reuters</span></div></div></td></tr>\n",
            "<tr><td align=\"right\" width=\"130\">12:00PM</td><td align=\"left\"><div class=\"news-link-container\"><div class=\"news-link-left\"><a class=\"tab-link-news\" href=\"https://finance.yahoo.com/news/imdb-heads-austin-bring-star-170000482.html\" onclick=\"trackAndOpenNews(event, 'Business Wire', 'https://finance.yahoo.com/news/imdb-heads-austin-bring-star-170000482.html');\" rel=\"nofollow\" target=\"_blank\">IMDb Heads to Austin to Bring Star-Studded Coverage of the SXSW Film &amp; TV Festival to Entertainment Fans Across the Globe</a></div><div class=\"news-link-right\"><span style=\"color:#aa6dc0;font-size:9px\"> Business Wire</span></div></div></td></tr>\n",
            "<tr><td align=\"right\" width=\"130\">11:00AM</td><td align=\"left\"><div class=\"news-link-container\"><div class=\"news-link-left\"><a class=\"tab-link-news\" href=\"https://finance.yahoo.com/news/amazon-amzn-ups-cloud-game-160004079.html\" onclick=\"trackAndOpenNews(event, 'Zacks', 'https://finance.yahoo.com/news/amazon-amzn-ups-cloud-game-160004079.html');\" rel=\"nofollow\" target=\"_blank\">Amazon (AMZN) Ups Cloud Game in APAC With AWS Malaysia Region</a></div><div class=\"news-link-right\"><span style=\"color:#aa6dc0;font-size:9px\"> Zacks</span></div></div></td></tr>\n",
            "<tr><td align=\"right\" width=\"130\">10:51AM</td><td align=\"left\"><div class=\"news-link-container\"><div class=\"news-link-left\"><a class=\"tab-link-news\" href=\"https://finance.yahoo.com/m/2f7ab76c-0e97-31fd-afed-1e85901fc293/3-unstoppable-stocks-wall.html\" onclick=\"trackAndOpenNews(event, 'Motley Fool', 'https://finance.yahoo.com/m/2f7ab76c-0e97-31fd-afed-1e85901fc293/3-unstoppable-stocks-wall.html');\" rel=\"nofollow\" target=\"_blank\">3 Unstoppable Stocks Wall Street Says to Buy Right This Minute</a></div><div class=\"news-link-right\"><span style=\"color:#aa6dc0;font-size:9px\"> Motley Fool</span></div></div></td></tr>\n",
            "<tr><td align=\"right\" width=\"130\">10:39AM</td><td align=\"left\"><div class=\"news-link-container\"><div class=\"news-link-left\"><a class=\"tab-link-news\" href=\"https://finance.yahoo.com/m/020e2875-757d-376c-bdb4-d2fc15032c4f/my-take%3A-4-strong-growth.html\" onclick=\"trackAndOpenNews(event, 'Motley Fool', 'https://finance.yahoo.com/m/020e2875-757d-376c-bdb4-d2fc15032c4f/my-take%3A-4-strong-growth.html');\" rel=\"nofollow\" target=\"_blank\">My Take: 4 Strong Growth Stocks to Buy This Week</a></div><div class=\"news-link-right\"><span style=\"color:#aa6dc0;font-size:9px\"> Motley Fool</span></div></div></td></tr>\n",
            "<tr><td align=\"right\" width=\"130\">10:07AM</td><td align=\"left\"><div class=\"news-link-container\"><div class=\"news-link-left\"><a class=\"tab-link-news\" href=\"https://finance.yahoo.com/m/966793bd-ffbe-3065-a3db-db988f55e1d5/is-walmart-stock-a-yellow.html\" onclick=\"trackAndOpenNews(event, 'Motley Fool', 'https://finance.yahoo.com/m/966793bd-ffbe-3065-a3db-db988f55e1d5/is-walmart-stock-a-yellow.html');\" rel=\"nofollow\" target=\"_blank\">Is Walmart Stock a Yellow Flag for a Coming Market Sell-Off?</a></div><div class=\"news-link-right\"><span style=\"color:#aa6dc0;font-size:9px\"> Motley Fool</span></div></div></td></tr>\n",
            "<tr><td align=\"right\" width=\"130\">07:02AM</td><td align=\"left\"><div class=\"news-link-container\"><div class=\"news-link-left\"><a class=\"tab-link-news\" href=\"https://finance.yahoo.com/news/q4-2022-gaia-inc-earnings-120214413.html\" onclick=\"trackAndOpenNews(event, 'Thomson Reuters StreetEvents', 'https://finance.yahoo.com/news/q4-2022-gaia-inc-earnings-120214413.html');\" rel=\"nofollow\" target=\"_blank\">Q4 2022 Gaia Inc Earnings Call</a></div><div class=\"news-link-right\"><span style=\"color:#aa6dc0;font-size:9px\"> Thomson Reuters StreetEvents</span></div></div></td></tr>\n",
            "<tr><td align=\"right\" width=\"130\">05:35AM</td><td align=\"left\"><div class=\"news-link-container\"><div class=\"news-link-left\"><a class=\"tab-link-news\" href=\"https://finance.yahoo.com/m/890764e7-6405-3428-a18b-a38c9d23ac24/2-growth-stocks-the-smartest.html\" onclick=\"trackAndOpenNews(event, 'Motley Fool', 'https://finance.yahoo.com/m/890764e7-6405-3428-a18b-a38c9d23ac24/2-growth-stocks-the-smartest.html');\" rel=\"nofollow\" target=\"_blank\">2 Growth Stocks the Smartest Investors Are Buying in a Bear Market</a></div><div class=\"news-link-right\"><span style=\"color:#aa6dc0;font-size:9px\"> Motley Fool</span></div></div></td></tr>\n",
            "<tr><td align=\"right\" width=\"130\">05:20AM</td><td align=\"left\"><div class=\"news-link-container\"><div class=\"news-link-left\"><a class=\"tab-link-news\" href=\"https://finance.yahoo.com/m/95c2cd4d-434a-3d72-b1be-61daef99b745/amazon-is-growing-revenue-in.html\" onclick=\"trackAndOpenNews(event, 'Motley Fool', 'https://finance.yahoo.com/m/95c2cd4d-434a-3d72-b1be-61daef99b745/amazon-is-growing-revenue-in.html');\" rel=\"nofollow\" target=\"_blank\">Amazon Is Growing Revenue in All the Right Places</a></div><div class=\"news-link-right\"><span style=\"color:#aa6dc0;font-size:9px\"> Motley Fool</span></div></div></td></tr>\n",
            "<tr><td align=\"right\" width=\"130\">03:22AM</td><td align=\"left\"><div class=\"news-link-container\"><div class=\"news-link-left\"><a class=\"tab-link-news\" href=\"https://finance.yahoo.com/news/macroeconomic-concerns-pressured-amazon-com-082222146.html\" onclick=\"trackAndOpenNews(event, 'Insider Monkey', 'https://finance.yahoo.com/news/macroeconomic-concerns-pressured-amazon-com-082222146.html');\" rel=\"nofollow\" target=\"_blank\">Macroeconomic Concerns Pressured Amazon.com (AMZN) in Q4</a></div><div class=\"news-link-right\"><span style=\"color:#aa6dc0;font-size:9px\"> Insider Monkey</span></div></div></td></tr>\n",
            "<tr><td align=\"right\" width=\"130\">Mar-06-23 06:37PM</td><td align=\"left\"><div class=\"news-link-container\"><div class=\"news-link-left\"><a class=\"tab-link-news\" href=\"https://finance.yahoo.com/news/time-buy-apple-alphabet-amazon-233711567.html\" onclick=\"trackAndOpenNews(event, 'Zacks', 'https://finance.yahoo.com/news/time-buy-apple-alphabet-amazon-233711567.html');\" rel=\"nofollow\" target=\"_blank\">Time to Buy Apple, Alphabet, or Amazon Stock for More Upside?</a></div><div class=\"news-link-right\"><span style=\"color:#aa6dc0;font-size:9px\"> Zacks</span></div></div></td></tr>\n",
            "<tr><td align=\"right\" width=\"130\">05:45PM</td><td align=\"left\"><div class=\"news-link-container\"><div class=\"news-link-left\"><a class=\"tab-link-news\" href=\"https://finance.yahoo.com/news/amazon-amzn-stock-sinks-market-224510170.html\" onclick=\"trackAndOpenNews(event, 'Zacks', 'https://finance.yahoo.com/news/amazon-amzn-stock-sinks-market-224510170.html');\" rel=\"nofollow\" target=\"_blank\">Amazon (AMZN) Stock Sinks As Market Gains: What You Should Know</a></div><div class=\"news-link-right\"><span style=\"color:#aa6dc0;font-size:9px\"> Zacks</span></div></div></td></tr>\n",
            "<tr><td align=\"right\" width=\"130\">05:05PM</td><td align=\"left\"><div class=\"news-link-container\"><div class=\"news-link-left\"><a class=\"tab-link-news\" href=\"https://finance.yahoo.com/video/creed-iii-grosses-over-100-220540220.html\" onclick=\"trackAndOpenNews(event, 'Yahoo Finance Video', 'https://finance.yahoo.com/video/creed-iii-grosses-over-100-220540220.html');\" rel=\"nofollow\" target=\"_blank\">Creed III grosses over $100 million in global box office for opening weekend knockout</a></div><div class=\"news-link-right\"><span style=\"color:#aa6dc0;font-size:9px\"> Yahoo Finance Video</span></div></div></td></tr>\n",
            "<tr><td align=\"right\" width=\"130\">02:11PM</td><td align=\"left\"><div class=\"news-link-container\"><div class=\"news-link-left\"><a class=\"tab-link-news\" href=\"https://finance.yahoo.com/news/apple-stock-jumps-as-goldman-sachs-puts-buy-rating-on-stock-191123444.html\" onclick=\"trackAndOpenNews(event, 'Yahoo Finance', 'https://finance.yahoo.com/news/apple-stock-jumps-as-goldman-sachs-puts-buy-rating-on-stock-191123444.html');\" rel=\"nofollow\" target=\"_blank\">Apple stock jumps as Goldman Sachs puts Buy rating on stock</a></div><div class=\"news-link-right\"><span style=\"color:#aa6dc0;font-size:9px\"> Yahoo Finance</span></div></div></td></tr>\n",
            "<tr><td align=\"right\" width=\"130\">02:00PM</td><td align=\"left\"><div class=\"news-link-container\"><div class=\"news-link-left\"><a class=\"tab-link-news\" href=\"https://finance.yahoo.com/m/04ba2f17-f59a-34e2-b3a5-db3843f400b3/4-reasons-to-delete-your.html\" onclick=\"trackAndOpenNews(event, 'Motley Fool', 'https://finance.yahoo.com/m/04ba2f17-f59a-34e2-b3a5-db3843f400b3/4-reasons-to-delete-your.html');\" rel=\"nofollow\" target=\"_blank\">4 Reasons to Delete Your Credit Cards From Amazon</a></div><div class=\"news-link-right\"><span style=\"color:#aa6dc0;font-size:9px\"> Motley Fool</span></div></div></td></tr>\n",
            "<tr><td align=\"right\" width=\"130\">01:52PM</td><td align=\"left\"><div class=\"news-link-container\"><div class=\"news-link-left\"><a class=\"tab-link-news\" href=\"https://finance.yahoo.com/news/1-u-opens-probe-amazons-185218069.html\" onclick=\"trackAndOpenNews(event, 'Reuters', 'https://finance.yahoo.com/news/1-u-opens-probe-amazons-185218069.html');\" rel=\"nofollow\" target=\"_blank\">UPDATE 1-U.S. opens probe into Amazon's Zoox robotaxi self-certification</a></div><div class=\"news-link-right\"><span style=\"color:#aa6dc0;font-size:9px\"> Reuters</span></div></div></td></tr>\n",
            "<tr><td align=\"right\" width=\"130\">12:58PM</td><td align=\"left\"><div class=\"news-link-container\"><div class=\"news-link-left\"><a class=\"tab-link-news\" href=\"https://finance.yahoo.com/news/were-dumb-rock-microsoft-ceo-175818204.html\" onclick=\"trackAndOpenNews(event, 'Fortune', 'https://finance.yahoo.com/news/were-dumb-rock-microsoft-ceo-175818204.html');\" rel=\"nofollow\" target=\"_blank\">They were all dumb as a rock: Microsofts CEO slams voice assistants like Alexa and his own companys Cortana as A.I. is poised to take over</a></div><div class=\"news-link-right\"><span style=\"color:#aa6dc0;font-size:9px\"> Fortune</span></div></div></td></tr>\n",
            "<tr><td align=\"right\" width=\"130\">12:51PM</td><td align=\"left\"><div class=\"news-link-container\"><div class=\"news-link-left\"><a class=\"tab-link-news\" href=\"https://finance.yahoo.com/news/jeffs-brands-acquires-fort-products-175113877.html\" onclick=\"trackAndOpenNews(event, 'Benzinga', 'https://finance.yahoo.com/news/jeffs-brands-acquires-fort-products-175113877.html');\" rel=\"nofollow\" target=\"_blank\">Jeffs' Brands Acquires Fort Products For $1.9M</a></div><div class=\"news-link-right\"><span style=\"color:#aa6dc0;font-size:9px\"> Benzinga</span></div></div></td></tr>\n",
            "<tr><td align=\"right\" width=\"130\">11:16AM</td><td align=\"left\"><div class=\"news-link-container\"><div class=\"news-link-left\"><a class=\"tab-link-news\" href=\"https://finance.yahoo.com/m/10d80756-df5e-352b-8709-51e9ad2ea038/amazon%27s-biggest-competitive.html\" onclick=\"trackAndOpenNews(event, 'Motley Fool', 'https://finance.yahoo.com/m/10d80756-df5e-352b-8709-51e9ad2ea038/amazon%27s-biggest-competitive.html');\" rel=\"nofollow\" target=\"_blank\">Amazon's Biggest Competitive Advantage Keeps Growing</a></div><div class=\"news-link-right\"><span style=\"color:#aa6dc0;font-size:9px\"> Motley Fool</span></div></div></td></tr>\n",
            "<tr><td align=\"right\" width=\"130\">11:01AM</td><td align=\"left\"><div class=\"news-link-container\"><div class=\"news-link-left\"><a class=\"tab-link-news\" href=\"https://finance.yahoo.com/m/114ff27b-57eb-37e6-aeee-119a2bd3d8d8/2-robinhood-stocks-with.html\" onclick=\"trackAndOpenNews(event, 'Motley Fool', 'https://finance.yahoo.com/m/114ff27b-57eb-37e6-aeee-119a2bd3d8d8/2-robinhood-stocks-with.html');\" rel=\"nofollow\" target=\"_blank\">2 Robinhood Stocks With Market-Beating Potential</a></div><div class=\"news-link-right\"><span style=\"color:#aa6dc0;font-size:9px\"> Motley Fool</span></div></div></td></tr>\n",
            "<tr><td align=\"right\" width=\"130\">10:00AM</td><td align=\"left\"><div class=\"news-link-container\"><div class=\"news-link-left\"><a class=\"tab-link-news\" href=\"https://finance.yahoo.com/m/c1e8f9b2-1c31-32b7-bd60-38e6c8b24ffe/better-buy%3A-amazon-stock-vs..html\" onclick=\"trackAndOpenNews(event, 'Motley Fool', 'https://finance.yahoo.com/m/c1e8f9b2-1c31-32b7-bd60-38e6c8b24ffe/better-buy%3A-amazon-stock-vs..html');\" rel=\"nofollow\" target=\"_blank\">Better Buy: Amazon Stock vs. Apple Stock</a></div><div class=\"news-link-right\"><span style=\"color:#aa6dc0;font-size:9px\"> Motley Fool</span></div></div></td></tr>\n",
            "<tr><td align=\"right\" width=\"130\">09:24AM</td><td align=\"left\"><div class=\"news-link-container\"><div class=\"news-link-left\"><a class=\"tab-link-news\" href=\"https://finance.yahoo.com/m/b88b6fc5-3a91-3403-a7ab-2051b81bc3a6/5-things-to-know-before.html\" onclick=\"trackAndOpenNews(event, 'Investopedia', 'https://finance.yahoo.com/m/b88b6fc5-3a91-3403-a7ab-2051b81bc3a6/5-things-to-know-before.html');\" rel=\"nofollow\" target=\"_blank\">5 Things to Know Before Markets Open</a></div><div class=\"news-link-right\"><span style=\"color:#aa6dc0;font-size:9px\"> Investopedia</span></div></div></td></tr>\n",
            "<tr><td align=\"right\" width=\"130\">07:00AM</td><td align=\"left\"><div class=\"news-link-container\"><div class=\"news-link-left\"><a class=\"tab-link-news\" href=\"https://finance.yahoo.com/m/69abf155-ea82-3277-bee0-37290fa3f8af/inspirational-quotes%3A-nat.html\" onclick=\"trackAndOpenNews(event, 'Investor\\u0027s Business Daily', 'https://finance.yahoo.com/m/69abf155-ea82-3277-bee0-37290fa3f8af/inspirational-quotes%3A-nat.html');\" rel=\"nofollow\" target=\"_blank\">Inspirational Quotes: Nat King Cole, Jeff Bezos And Others</a></div><div class=\"news-link-right\"><span style=\"color:#aa6dc0;font-size:9px\"> Investor's Business Daily</span></div></div></td></tr>\n",
            "<tr><td align=\"right\" width=\"130\">06:07AM</td><td align=\"left\"><div class=\"news-link-container\"><div class=\"news-link-left\"><a class=\"tab-link-news\" href=\"https://finance.yahoo.com/m/3c836d6a-98ed-38d3-b38a-b9bcfef8fb27/spacex-is-launching-fewer.html\" onclick=\"trackAndOpenNews(event, 'Motley Fool', 'https://finance.yahoo.com/m/3c836d6a-98ed-38d3-b38a-b9bcfef8fb27/spacex-is-launching-fewer.html');\" rel=\"nofollow\" target=\"_blank\">SpaceX Is Launching Fewer Starlinks, And That's Bad News for Amazon</a></div><div class=\"news-link-right\"><span style=\"color:#aa6dc0;font-size:9px\"> Motley Fool</span></div></div></td></tr>\n",
            "<tr><td align=\"right\" width=\"130\">05:52AM</td><td align=\"left\"><div class=\"news-link-container\"><div class=\"news-link-left\"><a class=\"tab-link-news\" href=\"https://finance.yahoo.com/m/538f1819-b3aa-36f7-9a2f-451542a3f7d5/nasdaq-bear-market%3A-3.html\" onclick=\"trackAndOpenNews(event, 'Motley Fool', 'https://finance.yahoo.com/m/538f1819-b3aa-36f7-9a2f-451542a3f7d5/nasdaq-bear-market%3A-3.html');\" rel=\"nofollow\" target=\"_blank\">Nasdaq Bear Market: 3 Unstoppable Stocks Still Down 37% or More That You'll Regret Not Buying on the Dip</a></div><div class=\"news-link-right\"><span style=\"color:#aa6dc0;font-size:9px\"> Motley Fool</span></div></div></td></tr>\n",
            "<tr><td align=\"right\" width=\"130\">05:06AM</td><td align=\"left\"><div class=\"news-link-container\"><div class=\"news-link-left\"><a class=\"tab-link-news\" href=\"https://finance.yahoo.com/m/afe030e3-0f0e-39dd-bc88-532c8c4ff1b1/1-stock-split-stock-that%27s-a.html\" onclick=\"trackAndOpenNews(event, 'Motley Fool', 'https://finance.yahoo.com/m/afe030e3-0f0e-39dd-bc88-532c8c4ff1b1/1-stock-split-stock-that%27s-a.html');\" rel=\"nofollow\" target=\"_blank\">1 Stock-Split Stock That's a Surefire March Buy and 1 to Avoid Like the Plague</a></div><div class=\"news-link-right\"><span style=\"color:#aa6dc0;font-size:9px\"> Motley Fool</span></div></div></td></tr>\n",
            "<tr><td align=\"right\" width=\"130\">Mar-05-23 09:44PM</td><td align=\"left\"><div class=\"news-link-container\"><div class=\"news-link-left\"><a class=\"tab-link-news\" href=\"https://finance.yahoo.com/m/4edc234e-e5fe-3d50-8e17-eaa05b97cf92/amazon-to-close-8-of-its.html\" onclick=\"trackAndOpenNews(event, 'MarketWatch', 'https://finance.yahoo.com/m/4edc234e-e5fe-3d50-8e17-eaa05b97cf92/amazon-to-close-8-of-its.html');\" rel=\"nofollow\" target=\"_blank\">Amazon to close 8 of its cashierless Go convenience stores</a></div><div class=\"news-link-right\"><span style=\"color:#aa6dc0;font-size:9px\"> MarketWatch</span></div></div></td></tr>\n",
            "<tr><td align=\"right\" width=\"130\">04:51PM</td><td align=\"left\"><div class=\"news-link-container\"><div class=\"news-link-left\"><a class=\"tab-link-news\" href=\"https://finance.yahoo.com/m/a6339128-2c7d-3c92-9339-cbb64ec03f96/%E2%80%98creed-iii%E2%80%99-clobbers.html\" onclick=\"trackAndOpenNews(event, 'MarketWatch', 'https://finance.yahoo.com/m/a6339128-2c7d-3c92-9339-cbb64ec03f96/%E2%80%98creed-iii%E2%80%99-clobbers.html');\" rel=\"nofollow\" target=\"_blank\">Creed III clobbers box-office competition with $58.7 million debut</a></div><div class=\"news-link-right\"><span style=\"color:#aa6dc0;font-size:9px\"> MarketWatch</span></div></div></td></tr>\n",
            "<tr><td align=\"right\" width=\"130\">11:10AM</td><td align=\"left\"><div class=\"news-link-container\"><div class=\"news-link-left\"><a class=\"tab-link-news\" href=\"https://finance.yahoo.com/m/d58a76d8-4176-3eb3-8d4b-0539986aeaf4/3-top-trends-to-invest-%241%2C000.html\" onclick=\"trackAndOpenNews(event, 'Motley Fool', 'https://finance.yahoo.com/m/d58a76d8-4176-3eb3-8d4b-0539986aeaf4/3-top-trends-to-invest-%241%2C000.html');\" rel=\"nofollow\" target=\"_blank\">3 Top Trends to Invest $1,000 in Right Now</a></div><div class=\"news-link-right\"><span style=\"color:#aa6dc0;font-size:9px\"> Motley Fool</span></div></div></td></tr>\n",
            "<tr><td align=\"right\" width=\"130\">09:00AM</td><td align=\"left\"><div class=\"news-link-container\"><div class=\"news-link-left\"><a class=\"tab-link-news\" href=\"https://finance.yahoo.com/m/c4d042da-fe5e-3c83-ba65-eff4fd99f5c1/3-best-cloud-stocks-to-buy-in.html\" onclick=\"trackAndOpenNews(event, 'Motley Fool', 'https://finance.yahoo.com/m/c4d042da-fe5e-3c83-ba65-eff4fd99f5c1/3-best-cloud-stocks-to-buy-in.html');\" rel=\"nofollow\" target=\"_blank\">3 Best Cloud Stocks to Buy in March</a></div><div class=\"news-link-right\"><span style=\"color:#aa6dc0;font-size:9px\"> Motley Fool</span></div></div></td></tr>\n",
            "<tr><td align=\"right\" width=\"130\">07:45AM</td><td align=\"left\"><div class=\"news-link-container\"><div class=\"news-link-left\"><a class=\"tab-link-news\" href=\"https://finance.yahoo.com/m/d7e8e6ea-800d-3570-98e5-d9d9dd4a09e1/these-stocks-are-down-more.html\" onclick=\"trackAndOpenNews(event, 'Motley Fool', 'https://finance.yahoo.com/m/d7e8e6ea-800d-3570-98e5-d9d9dd4a09e1/these-stocks-are-down-more.html');\" rel=\"nofollow\" target=\"_blank\">These Stocks Are Down More Than 39% and I'm Not Worried At All</a></div><div class=\"news-link-right\"><span style=\"color:#aa6dc0;font-size:9px\"> Motley Fool</span></div></div></td></tr>\n",
            "<tr><td align=\"right\" width=\"130\">07:30AM</td><td align=\"left\"><div class=\"news-link-container\"><div class=\"news-link-left\"><a class=\"tab-link-news\" href=\"https://finance.yahoo.com/m/f2a986be-e935-37a1-b9c5-c4e91b5b33d6/the-ai-revolution-is-here%3A-3.html\" onclick=\"trackAndOpenNews(event, 'Motley Fool', 'https://finance.yahoo.com/m/f2a986be-e935-37a1-b9c5-c4e91b5b33d6/the-ai-revolution-is-here%3A-3.html');\" rel=\"nofollow\" target=\"_blank\">The AI Revolution Is Here: 3 Stocks You'll Regret Not Buying on the Dip</a></div><div class=\"news-link-right\"><span style=\"color:#aa6dc0;font-size:9px\"> Motley Fool</span></div></div></td></tr>\n",
            "<tr><td align=\"right\" width=\"130\">07:25AM</td><td align=\"left\"><div class=\"news-link-container\"><div class=\"news-link-left\"><a class=\"tab-link-news\" href=\"https://finance.yahoo.com/m/2d2be107-710c-338d-997e-c487006bcc7b/amazon%2C-microsoft%2C-and.html\" onclick=\"trackAndOpenNews(event, 'Motley Fool', 'https://finance.yahoo.com/m/2d2be107-710c-338d-997e-c487006bcc7b/amazon%2C-microsoft%2C-and.html');\" rel=\"nofollow\" target=\"_blank\">Amazon, Microsoft, and Alphabet Have Partnered With This Cloud Stock. Here's Why It's a Buy Now</a></div><div class=\"news-link-right\"><span style=\"color:#aa6dc0;font-size:9px\"> Motley Fool</span></div></div></td></tr>\n",
            "<tr><td align=\"right\" width=\"130\">07:14AM</td><td align=\"left\"><div class=\"news-link-container\"><div class=\"news-link-left\"><a class=\"tab-link-news\" href=\"https://finance.yahoo.com/m/028e4354-bd3c-3127-889a-dfe44776cf25/2-top-growth-stocks-to-buy.html\" onclick=\"trackAndOpenNews(event, 'Motley Fool', 'https://finance.yahoo.com/m/028e4354-bd3c-3127-889a-dfe44776cf25/2-top-growth-stocks-to-buy.html');\" rel=\"nofollow\" target=\"_blank\">2 Top Growth Stocks to Buy Right Now</a></div><div class=\"news-link-right\"><span style=\"color:#aa6dc0;font-size:9px\"> Motley Fool</span></div></div></td></tr>\n",
            "<tr><td align=\"right\" width=\"130\">07:10AM</td><td align=\"left\"><div class=\"news-link-container\"><div class=\"news-link-left\"><a class=\"tab-link-news\" href=\"https://finance.yahoo.com/m/14bb1c00-a729-39a3-b346-694c23d699eb/3-top-artificial-intelligence.html\" onclick=\"trackAndOpenNews(event, 'Motley Fool', 'https://finance.yahoo.com/m/14bb1c00-a729-39a3-b346-694c23d699eb/3-top-artificial-intelligence.html');\" rel=\"nofollow\" target=\"_blank\">3 Top Artificial Intelligence Stocks to Buy Right Now</a></div><div class=\"news-link-right\"><span style=\"color:#aa6dc0;font-size:9px\"> Motley Fool</span></div></div></td></tr>\n",
            "</table>\n",
            "None\n",
            "<table border=\"0\" cellpadding=\"1\" cellspacing=\"0\" class=\"fullview-news-outer\" id=\"news-table\" width=\"100%\">\n",
            "<tr><td align=\"right\" width=\"130\">Mar-10-23 07:02PM</td><td align=\"left\"><div class=\"news-link-container\"><div class=\"news-link-left\"><a class=\"tab-link-news\" href=\"https://finance.yahoo.com/video/earnings-season-report-card-were-000234299.html\" onclick=\"trackAndOpenNews(event, 'Yahoo Finance Video', 'https://finance.yahoo.com/video/earnings-season-report-card-were-000234299.html');\" rel=\"nofollow\" target=\"_blank\">Earnings season report card: Who were the big winners &amp; losers, top picks in A.I. and retail</a></div><div class=\"news-link-right\"><span style=\"color:#aa6dc0;font-size:9px\"> Yahoo Finance Video</span></div></div></td></tr>\n",
            "<tr><td align=\"right\" width=\"130\">06:05AM</td><td align=\"left\"><div class=\"news-link-container\"><div class=\"news-link-left\"><a class=\"tab-link-news\" href=\"https://finance.yahoo.com/video/sxsw-2023-austin-becomes-global-110508691.html\" onclick=\"trackAndOpenNews(event, 'Yahoo Finance Video', 'https://finance.yahoo.com/video/sxsw-2023-austin-becomes-global-110508691.html');\" rel=\"nofollow\" target=\"_blank\">SXSW 2023: Austin becomes the global center for AI &amp; deep tech</a></div><div class=\"news-link-right\"><span style=\"color:#aa6dc0;font-size:9px\"> Yahoo Finance Video</span></div></div></td></tr>\n",
            "<tr><td align=\"right\" width=\"130\">Mar-09-23 03:40PM</td><td align=\"left\"><div class=\"news-link-container\"><div class=\"news-link-left\"><a class=\"tab-link-news\" href=\"https://finance.yahoo.com/video/microsoft-search-engine-bing-reaches-204004690.html\" onclick=\"trackAndOpenNews(event, 'Yahoo Finance Video', 'https://finance.yahoo.com/video/microsoft-search-engine-bing-reaches-204004690.html');\" rel=\"nofollow\" target=\"_blank\">Microsoft search engine Bing reaches 100 million daily active users after ChatGPT adoption</a></div><div class=\"news-link-right\"><span style=\"color:#aa6dc0;font-size:9px\"> Yahoo Finance Video</span></div></div></td></tr>\n",
            "<tr><td align=\"right\" width=\"130\">10:15AM</td><td align=\"left\"><div class=\"news-link-container\"><div class=\"news-link-left\"><a class=\"tab-link-news\" href=\"https://finance.yahoo.com/news/meta-alphabet-appear-safe-from-regulatory-action-in-2023-as-tiktok-ban-gains-steam-analyst-151526210.html\" onclick=\"trackAndOpenNews(event, 'Yahoo Finance', 'https://finance.yahoo.com/news/meta-alphabet-appear-safe-from-regulatory-action-in-2023-as-tiktok-ban-gains-steam-analyst-151526210.html');\" rel=\"nofollow\" target=\"_blank\">Meta, Alphabet appear safe from regulatory action in 2023 as TikTok ban gains steam: Analyst</a></div><div class=\"news-link-right\"><span style=\"color:#aa6dc0;font-size:9px\"> Yahoo Finance</span></div></div></td></tr>\n",
            "<tr><td align=\"right\" width=\"130\">05:00AM</td><td align=\"left\"><div class=\"news-link-container\"><div class=\"news-link-left\"><a class=\"tab-link-news\" href=\"https://finance.yahoo.com/news/social-media-stock-plays-radar-100000952.html\" onclick=\"trackAndOpenNews(event, 'News Direct', 'https://finance.yahoo.com/news/social-media-stock-plays-radar-100000952.html');\" rel=\"nofollow\" target=\"_blank\">Social Media Stock Plays To Radar Today</a></div><div class=\"news-link-right\"><span style=\"color:#aa6dc0;font-size:9px\"> News Direct</span></div></div></td></tr>\n",
            "<tr><td align=\"right\" width=\"130\">Mar-08-23 07:35AM</td><td align=\"left\"><div class=\"news-link-container\"><div class=\"news-link-left\"><a class=\"tab-link-news\" href=\"https://finance.yahoo.com/news/netflix-live-chris-rock-special-wont-move-the-needle-but-better-move-than-sports-analyst-123513128.html\" onclick=\"trackAndOpenNews(event, 'Yahoo Finance', 'https://finance.yahoo.com/news/netflix-live-chris-rock-special-wont-move-the-needle-but-better-move-than-sports-analyst-123513128.html');\" rel=\"nofollow\" target=\"_blank\">Netflix live Chris Rock special won't 'move the needle,' but better move than sports: Analyst</a></div><div class=\"news-link-right\"><span style=\"color:#aa6dc0;font-size:9px\"> Yahoo Finance</span></div></div></td></tr>\n",
            "<tr><td align=\"right\" width=\"130\">05:30AM</td><td align=\"left\"><div class=\"news-link-container\"><div class=\"news-link-left\"><a class=\"tab-link-news\" href=\"https://finance.yahoo.com/m/5683f59f-743a-3cdf-84d9-257e9e7eb5f4/big-companies-seeing-tax.html\" onclick=\"trackAndOpenNews(event, 'The Wall Street Journal', 'https://finance.yahoo.com/m/5683f59f-743a-3cdf-84d9-257e9e7eb5f4/big-companies-seeing-tax.html');\" rel=\"nofollow\" target=\"_blank\">Big Companies Seeing Tax Benefits From Law Change Some of Them Fought</a></div><div class=\"news-link-right\"><span style=\"color:#aa6dc0;font-size:9px\"> The Wall Street Journal</span></div></div></td></tr>\n",
            "<tr><td align=\"right\" width=\"130\">Mar-07-23 05:51PM</td><td align=\"left\"><div class=\"news-link-container\"><div class=\"news-link-left\"><a class=\"tab-link-news\" href=\"https://finance.yahoo.com/video/tiktok-ban-bill-could-win-225115478.html\" onclick=\"trackAndOpenNews(event, 'Yahoo Finance Video', 'https://finance.yahoo.com/video/tiktok-ban-bill-could-win-225115478.html');\" rel=\"nofollow\" target=\"_blank\">TikTok ban: New bill could be 'win' for social media stocks</a></div><div class=\"news-link-right\"><span style=\"color:#aa6dc0;font-size:9px\"> Yahoo Finance Video</span></div></div></td></tr>\n",
            "<tr><td align=\"right\" width=\"130\">04:07PM</td><td align=\"left\"><div class=\"news-link-container\"><div class=\"news-link-left\"><a class=\"tab-link-news\" href=\"https://finance.yahoo.com/video/senate-tiktok-ban-could-material-210711175.html\" onclick=\"trackAndOpenNews(event, 'Yahoo Finance Video', 'https://finance.yahoo.com/video/senate-tiktok-ban-could-material-210711175.html');\" rel=\"nofollow\" target=\"_blank\">Senate TikTok ban could be material for social media competitors like Meta and Snap: Analyst</a></div><div class=\"news-link-right\"><span style=\"color:#aa6dc0;font-size:9px\"> Yahoo Finance Video</span></div></div></td></tr>\n",
            "<tr><td align=\"right\" width=\"130\">03:35PM</td><td align=\"left\"><div class=\"news-link-container\"><div class=\"news-link-left\"><a class=\"tab-link-news\" href=\"https://finance.yahoo.com/video/big-tech-performed-earnings-season-203553108.html\" onclick=\"trackAndOpenNews(event, 'Yahoo Finance Video', 'https://finance.yahoo.com/video/big-tech-performed-earnings-season-203553108.html');\" rel=\"nofollow\" target=\"_blank\">How Big Tech performed this earnings season amid layoffs, AI integration trends</a></div><div class=\"news-link-right\"><span style=\"color:#aa6dc0;font-size:9px\"> Yahoo Finance Video</span></div></div></td></tr>\n",
            "<tr><td align=\"right\" width=\"130\">09:44AM</td><td align=\"left\"><div class=\"news-link-container\"><div class=\"news-link-left\"><a class=\"tab-link-news\" href=\"https://finance.yahoo.com/m/1f22723c-4c7c-3d0e-ba75-4d5f865cc57e/how-google-became-cautious-of.html\" onclick=\"trackAndOpenNews(event, 'The Wall Street Journal', 'https://finance.yahoo.com/m/1f22723c-4c7c-3d0e-ba75-4d5f865cc57e/how-google-became-cautious-of.html');\" rel=\"nofollow\" target=\"_blank\">How Google Became Cautious of AI and Gave Microsoft an Opening</a></div><div class=\"news-link-right\"><span style=\"color:#aa6dc0;font-size:9px\"> The Wall Street Journal</span></div></div></td></tr>\n",
            "<tr><td align=\"right\" width=\"130\">Mar-06-23 02:11PM</td><td align=\"left\"><div class=\"news-link-container\"><div class=\"news-link-left\"><a class=\"tab-link-news\" href=\"https://finance.yahoo.com/news/apple-stock-jumps-as-goldman-sachs-puts-buy-rating-on-stock-191123444.html\" onclick=\"trackAndOpenNews(event, 'Yahoo Finance', 'https://finance.yahoo.com/news/apple-stock-jumps-as-goldman-sachs-puts-buy-rating-on-stock-191123444.html');\" rel=\"nofollow\" target=\"_blank\">Apple stock jumps as Goldman Sachs puts Buy rating on stock</a></div><div class=\"news-link-right\"><span style=\"color:#aa6dc0;font-size:9px\"> Yahoo Finance</span></div></div></td></tr>\n",
            "<tr><td align=\"right\" width=\"130\">09:00AM</td><td align=\"left\"><div class=\"news-link-container\"><div class=\"news-link-left\"><a class=\"tab-link-news\" href=\"https://finance.yahoo.com/m/9ff42189-1049-3f32-8b55-934153bcd0b0/youtube%2C-facebook-and.html\" onclick=\"trackAndOpenNews(event, 'The Wall Street Journal', 'https://finance.yahoo.com/m/9ff42189-1049-3f32-8b55-934153bcd0b0/youtube%2C-facebook-and.html');\" rel=\"nofollow\" target=\"_blank\">YouTube, Facebook and Instagram Gave Platforms to Indian Cow-Protection Vigilante</a></div><div class=\"news-link-right\"><span style=\"color:#aa6dc0;font-size:9px\"> The Wall Street Journal</span></div></div></td></tr>\n",
            "<tr><td align=\"right\" width=\"130\">08:15AM</td><td align=\"left\"><div class=\"news-link-container\"><div class=\"news-link-left\"><a class=\"tab-link-news\" href=\"https://finance.yahoo.com/m/07be4bbb-f67f-3942-b632-8eae330fe8d0/is-google-a-buy-amid.html\" onclick=\"trackAndOpenNews(event, 'Investor\\u0027s Business Daily', 'https://finance.yahoo.com/m/07be4bbb-f67f-3942-b632-8eae330fe8d0/is-google-a-buy-amid.html');\" rel=\"nofollow\" target=\"_blank\">Is Google A Buy Amid Regulatory Headwinds, Artificial Intelligence Race?</a></div><div class=\"news-link-right\"><span style=\"color:#aa6dc0;font-size:9px\"> Investor's Business Daily</span></div></div></td></tr>\n",
            "<tr><td align=\"right\" width=\"130\">Mar-04-23 04:58PM</td><td align=\"left\"><div class=\"news-link-container\"><div class=\"news-link-left\"><a class=\"tab-link-news\" href=\"https://finance.yahoo.com/news/apple-tops-ranking-of-global-companies-with-the-most-green-revenue-215828440.html\" onclick=\"trackAndOpenNews(event, 'Yahoo Finance', 'https://finance.yahoo.com/news/apple-tops-ranking-of-global-companies-with-the-most-green-revenue-215828440.html');\" rel=\"nofollow\" target=\"_blank\">Apple tops ranking of global companies with the most 'green' revenue</a></div><div class=\"news-link-right\"><span style=\"color:#aa6dc0;font-size:9px\"> Yahoo Finance</span></div></div></td></tr>\n",
            "<tr><td align=\"right\" width=\"130\">Mar-03-23 07:55PM</td><td align=\"left\"><div class=\"news-link-container\"><div class=\"news-link-left\"><a class=\"tab-link-news\" href=\"https://finance.yahoo.com/m/aa4b7c11-e75c-3f9f-a8c3-7aec7009b242/technology-chiefs-seek-help.html\" onclick=\"trackAndOpenNews(event, 'The Wall Street Journal', 'https://finance.yahoo.com/m/aa4b7c11-e75c-3f9f-a8c3-7aec7009b242/technology-chiefs-seek-help.html');\" rel=\"nofollow\" target=\"_blank\">Technology Chiefs Seek Help Wrangling Cloud Costs</a></div><div class=\"news-link-right\"><span style=\"color:#aa6dc0;font-size:9px\"> The Wall Street Journal</span></div></div></td></tr>\n",
            "<tr><td align=\"right\" width=\"130\">03:37PM</td><td align=\"left\"><div class=\"news-link-container\"><div class=\"news-link-left\"><a class=\"tab-link-news\" href=\"https://finance.yahoo.com/m/56ecb342-a926-3ed7-8468-8083e03f7585/amazon%E2%80%99s-and-other-tech.html\" onclick=\"trackAndOpenNews(event, 'The Wall Street Journal', 'https://finance.yahoo.com/m/56ecb342-a926-3ed7-8468-8083e03f7585/amazon%E2%80%99s-and-other-tech.html');\" rel=\"nofollow\" target=\"_blank\">Amazons and Other Tech Firms Dwindling Demand Upends Office Market</a></div><div class=\"news-link-right\"><span style=\"color:#aa6dc0;font-size:9px\"> The Wall Street Journal</span></div></div></td></tr>\n",
            "<tr><td align=\"right\" width=\"130\">03:37PM</td><td align=\"left\"><div class=\"news-link-container\"><div class=\"news-link-left\"><a class=\"tab-link-news\" href=\"https://finance.yahoo.com/m/56ecb342-a926-3ed7-8468-8083e03f7585/amazon-and-other-tech-firms%E2%80%99.html\" onclick=\"trackAndOpenNews(event, 'The Wall Street Journal', 'https://finance.yahoo.com/m/56ecb342-a926-3ed7-8468-8083e03f7585/amazon-and-other-tech-firms%E2%80%99.html');\" rel=\"nofollow\" target=\"_blank\">Amazon and Other Tech Firms Dwindling Demand Upends Office Market</a></div><div class=\"news-link-right\"><span style=\"color:#aa6dc0;font-size:9px\"> The Wall Street Journal</span></div></div></td></tr>\n",
            "<tr><td align=\"right\" width=\"130\">Mar-02-23 05:07PM</td><td align=\"left\"><div class=\"news-link-container\"><div class=\"news-link-left\"><a class=\"tab-link-news\" href=\"https://finance.yahoo.com/video/salesforce-ceo-marc-benioff-responds-220700392.html\" onclick=\"trackAndOpenNews(event, 'Yahoo Finance Video', 'https://finance.yahoo.com/video/salesforce-ceo-marc-benioff-responds-220700392.html');\" rel=\"nofollow\" target=\"_blank\">Salesforce CEO Marc Benioff Responds to Shareholders Push For Change</a></div><div class=\"news-link-right\"><span style=\"color:#aa6dc0;font-size:9px\"> Yahoo Finance Video</span></div></div></td></tr>\n",
            "<tr><td align=\"right\" width=\"130\">03:58PM</td><td align=\"left\"><div class=\"news-link-container\"><div class=\"news-link-left\"><a class=\"tab-link-news\" href=\"https://finance.yahoo.com/video/microsoft-google-openai-dont-want-205838933.html\" onclick=\"trackAndOpenNews(event, 'Yahoo Finance Video', 'https://finance.yahoo.com/video/microsoft-google-openai-dont-want-205838933.html');\" rel=\"nofollow\" target=\"_blank\">What Microsoft, Google and OpenAI don't want you to know about artificial intelligence: Raoul Pal</a></div><div class=\"news-link-right\"><span style=\"color:#aa6dc0;font-size:9px\"> Yahoo Finance Video</span></div></div></td></tr>\n",
            "<tr><td align=\"right\" width=\"130\">10:53AM</td><td align=\"left\"><div class=\"news-link-container\"><div class=\"news-link-left\"><a class=\"tab-link-news\" href=\"https://finance.yahoo.com/video/breaking-down-anchored-vwap-alphatrends-155349084.html\" onclick=\"trackAndOpenNews(event, 'Yahoo Finance Video', 'https://finance.yahoo.com/video/breaking-down-anchored-vwap-alphatrends-155349084.html');\" rel=\"nofollow\" target=\"_blank\">Breaking down anchored VWAP with AlphaTrends.net Founder Brian Shannon, CMT: YF Uncut</a></div><div class=\"news-link-right\"><span style=\"color:#aa6dc0;font-size:9px\"> Yahoo Finance Video</span></div></div></td></tr>\n",
            "<tr><td align=\"right\" width=\"130\">09:08AM</td><td align=\"left\"><div class=\"news-link-container\"><div class=\"news-link-left\"><a class=\"tab-link-news\" href=\"https://finance.yahoo.com/m/611de7bb-e7ef-375f-aa41-f863d0d162c6/u.s.-jobless-claims-ticked.html\" onclick=\"trackAndOpenNews(event, 'The Wall Street Journal', 'https://finance.yahoo.com/m/611de7bb-e7ef-375f-aa41-f863d0d162c6/u.s.-jobless-claims-ticked.html');\" rel=\"nofollow\" target=\"_blank\">U.S. Jobless Claims Ticked Down Last Week</a></div><div class=\"news-link-right\"><span style=\"color:#aa6dc0;font-size:9px\"> The Wall Street Journal</span></div></div></td></tr>\n",
            "<tr><td align=\"right\" width=\"130\">Mar-01-23 10:30PM</td><td align=\"left\"><div class=\"news-link-container\"><div class=\"news-link-left\"><a class=\"tab-link-news\" href=\"https://finance.yahoo.com/video/salesforce-ceo-marc-benioff-were-033045094.html\" onclick=\"trackAndOpenNews(event, 'Yahoo Finance Video', 'https://finance.yahoo.com/video/salesforce-ceo-marc-benioff-were-033045094.html');\" rel=\"nofollow\" target=\"_blank\">Salesforce CEO Marc Benioff: This Is How We're Going To Win</a></div><div class=\"news-link-right\"><span style=\"color:#aa6dc0;font-size:9px\"> Yahoo Finance Video</span></div></div></td></tr>\n",
            "<tr><td align=\"right\" width=\"130\">05:56PM</td><td align=\"left\"><div class=\"news-link-container\"><div class=\"news-link-left\"><a class=\"tab-link-news\" href=\"https://finance.yahoo.com/m/98f6fe31-3414-34e3-b51c-f2c33f4fcc7f/long-robust-u.s.-labor-market.html\" onclick=\"trackAndOpenNews(event, 'The Wall Street Journal', 'https://finance.yahoo.com/m/98f6fe31-3414-34e3-b51c-f2c33f4fcc7f/long-robust-u.s.-labor-market.html');\" rel=\"nofollow\" target=\"_blank\">Long-Robust U.S. Labor Market Shows Signs of Cooling</a></div><div class=\"news-link-right\"><span style=\"color:#aa6dc0;font-size:9px\"> The Wall Street Journal</span></div></div></td></tr>\n",
            "<tr><td align=\"right\" width=\"130\">03:54PM</td><td align=\"left\"><div class=\"news-link-container\"><div class=\"news-link-left\"><a class=\"tab-link-news\" href=\"https://finance.yahoo.com/news/chatgpt-has-the-tech-industry-chasing-hype-but-there-are-risks-205447999.html\" onclick=\"trackAndOpenNews(event, 'Yahoo Finance', 'https://finance.yahoo.com/news/chatgpt-has-the-tech-industry-chasing-hype-but-there-are-risks-205447999.html');\" rel=\"nofollow\" target=\"_blank\">ChatGPT has the tech industry chasing hype, but there are risks</a></div><div class=\"news-link-right\"><span style=\"color:#aa6dc0;font-size:9px\"> Yahoo Finance</span></div></div></td></tr>\n",
            "<tr><td align=\"right\" width=\"130\">Feb-27-23 05:31PM</td><td align=\"left\"><div class=\"news-link-container\"><div class=\"news-link-left\"><a class=\"tab-link-news\" href=\"https://finance.yahoo.com/video/why-jeff-bezos-other-billionaires-223104826.html\" onclick=\"trackAndOpenNews(event, 'Yahoo Finance Video', 'https://finance.yahoo.com/video/why-jeff-bezos-other-billionaires-223104826.html');\" rel=\"nofollow\" target=\"_blank\">Why Jeff Bezos and other billionaires want NFL teams</a></div><div class=\"news-link-right\"><span style=\"color:#aa6dc0;font-size:9px\"> Yahoo Finance Video</span></div></div></td></tr>\n",
            "<tr><td align=\"right\" width=\"130\">03:29PM</td><td align=\"left\"><div class=\"news-link-container\"><div class=\"news-link-left\"><a class=\"tab-link-news\" href=\"https://finance.yahoo.com/video/being-woven-fabric-every-tech-202956335.html\" onclick=\"trackAndOpenNews(event, 'Yahoo Finance Video', 'https://finance.yahoo.com/video/being-woven-fabric-every-tech-202956335.html');\" rel=\"nofollow\" target=\"_blank\">A.I. is being woven into the fabric of every tech company: Analyst</a></div><div class=\"news-link-right\"><span style=\"color:#aa6dc0;font-size:9px\"> Yahoo Finance Video</span></div></div></td></tr>\n",
            "<tr><td align=\"right\" width=\"130\">05:30AM</td><td align=\"left\"><div class=\"news-link-container\"><div class=\"news-link-left\"><a class=\"tab-link-news\" href=\"https://finance.yahoo.com/news/salesforce-and-billionaire-marc-benioff-face-a-defining-moment-morning-brief-103049640.html\" onclick=\"trackAndOpenNews(event, 'Yahoo Finance', 'https://finance.yahoo.com/news/salesforce-and-billionaire-marc-benioff-face-a-defining-moment-morning-brief-103049640.html');\" rel=\"nofollow\" target=\"_blank\">Salesforce and billionaire Marc Benioff face a defining moment: Morning Brief</a></div><div class=\"news-link-right\"><span style=\"color:#aa6dc0;font-size:9px\"> Yahoo Finance</span></div></div></td></tr>\n",
            "<tr><td align=\"right\" width=\"130\">Feb-26-23 12:55PM</td><td align=\"left\"><div class=\"news-link-container\"><div class=\"news-link-left\"><a class=\"tab-link-news\" href=\"https://finance.yahoo.com/video/wsj-opinion-google-twitter-liable-175500574.html\" onclick=\"trackAndOpenNews(event, 'WSJ', 'https://finance.yahoo.com/video/wsj-opinion-google-twitter-liable-175500574.html');\" rel=\"nofollow\" target=\"_blank\">WSJ Opinion: Should Google and Twitter Be Liable for Terrorist Websites?</a></div><div class=\"news-link-right\"><span style=\"color:#aa6dc0;font-size:9px\"> WSJ</span></div></div></td></tr>\n",
            "<tr><td align=\"right\" width=\"130\">08:00AM</td><td align=\"left\"><div class=\"news-link-container\"><div class=\"news-link-left\"><a class=\"tab-link-news\" href=\"https://finance.yahoo.com/video/why-investing-ai-reminds-3d-130048642.html\" onclick=\"trackAndOpenNews(event, 'Yahoo Finance Video', 'https://finance.yahoo.com/video/why-investing-ai-reminds-3d-130048642.html');\" rel=\"nofollow\" target=\"_blank\">Why investing in AI reminds me of 3D printing years ago: Michele Schneider</a></div><div class=\"news-link-right\"><span style=\"color:#aa6dc0;font-size:9px\"> Yahoo Finance Video</span></div></div></td></tr>\n",
            "<tr><td align=\"right\" width=\"130\">Feb-24-23 02:33PM</td><td align=\"left\"><div class=\"news-link-container\"><div class=\"news-link-left\"><a class=\"tab-link-news\" href=\"https://finance.yahoo.com/news/roku-stock-one-analyst-breaks-down-the-best-and-worst-case-scenarios-193328560.html\" onclick=\"trackAndOpenNews(event, 'Yahoo Finance', 'https://finance.yahoo.com/news/roku-stock-one-analyst-breaks-down-the-best-and-worst-case-scenarios-193328560.html');\" rel=\"nofollow\" target=\"_blank\">Roku stock: One analyst breaks down the best and worst case scenarios</a></div><div class=\"news-link-right\"><span style=\"color:#aa6dc0;font-size:9px\"> Yahoo Finance</span></div></div></td></tr>\n",
            "<tr><td align=\"right\" width=\"130\">11:22AM</td><td align=\"left\"><div class=\"news-link-container\"><div class=\"news-link-left\"><a class=\"tab-link-news\" href=\"https://finance.yahoo.com/m/1a59a03e-82f2-320f-a9ab-9004737a08bf/country-star-brad-paisley-and.html\" onclick=\"trackAndOpenNews(event, 'MarketWatch', 'https://finance.yahoo.com/m/1a59a03e-82f2-320f-a9ab-9004737a08bf/country-star-brad-paisley-and.html');\" rel=\"nofollow\" target=\"_blank\">Country star Brad Paisley and Ukrainian President Volodymyr Zelensky join forces on a new song, Same Here</a></div><div class=\"news-link-right\"><span style=\"color:#aa6dc0;font-size:9px\"> MarketWatch</span></div></div></td></tr>\n",
            "<tr><td align=\"right\" width=\"130\">Feb-23-23 09:50PM</td><td align=\"left\"><div class=\"news-link-container\"><div class=\"news-link-left\"><a class=\"tab-link-news\" href=\"https://finance.yahoo.com/video/apple-iphone-passcode-problem-thieves-025000880.html\" onclick=\"trackAndOpenNews(event, 'WSJ', 'https://finance.yahoo.com/video/apple-iphone-passcode-problem-thieves-025000880.html');\" rel=\"nofollow\" target=\"_blank\">Apples iPhone Passcode Problem: How Thieves Can Take Over in Minutes</a></div><div class=\"news-link-right\"><span style=\"color:#aa6dc0;font-size:9px\"> WSJ</span></div></div></td></tr>\n",
            "<tr><td align=\"right\" width=\"130\">05:48PM</td><td align=\"left\"><div class=\"news-link-container\"><div class=\"news-link-left\"><a class=\"tab-link-news\" href=\"https://finance.yahoo.com/m/4f0e8613-5639-350d-b1bd-3003c1ea2601/justice-department-says.html\" onclick=\"trackAndOpenNews(event, 'The Wall Street Journal', 'https://finance.yahoo.com/m/4f0e8613-5639-350d-b1bd-3003c1ea2601/justice-department-says.html');\" rel=\"nofollow\" target=\"_blank\">Justice Department Says Google Destroyed Evidence Related to Antitrust Lawsuit</a></div><div class=\"news-link-right\"><span style=\"color:#aa6dc0;font-size:9px\"> The Wall Street Journal</span></div></div></td></tr>\n",
            "<tr><td align=\"right\" width=\"130\">03:06PM</td><td align=\"left\"><div class=\"news-link-container\"><div class=\"news-link-left\"><a class=\"tab-link-news\" href=\"https://finance.yahoo.com/news/what-we-learned-from-two-rounds-of-supreme-court-arguments-over-internet-liability-200631161.html\" onclick=\"trackAndOpenNews(event, 'Yahoo Finance', 'https://finance.yahoo.com/news/what-we-learned-from-two-rounds-of-supreme-court-arguments-over-internet-liability-200631161.html');\" rel=\"nofollow\" target=\"_blank\">What we learned from two rounds of Supreme Court arguments over internet liability</a></div><div class=\"news-link-right\"><span style=\"color:#aa6dc0;font-size:9px\"> Yahoo Finance</span></div></div></td></tr>\n",
            "<tr><td align=\"right\" width=\"130\">12:10PM</td><td align=\"left\"><div class=\"news-link-container\"><div class=\"news-link-left\"><a class=\"tab-link-news\" href=\"https://finance.yahoo.com/video/mercedes-partners-google-supercomputer-vehicle-171052515.html\" onclick=\"trackAndOpenNews(event, 'Yahoo Finance Video', 'https://finance.yahoo.com/video/mercedes-partners-google-supercomputer-vehicle-171052515.html');\" rel=\"nofollow\" target=\"_blank\">Mercedes partners with Google for supercomputer-like vehicle performance</a></div><div class=\"news-link-right\"><span style=\"color:#aa6dc0;font-size:9px\"> Yahoo Finance Video</span></div></div></td></tr>\n",
            "<tr><td align=\"right\" width=\"130\">11:03AM</td><td align=\"left\"><div class=\"news-link-container\"><div class=\"news-link-left\"><a class=\"tab-link-news\" href=\"https://finance.yahoo.com/video/google-workers-share-desks-amid-160252076.html\" onclick=\"trackAndOpenNews(event, 'Yahoo Finance Video', 'https://finance.yahoo.com/video/google-workers-share-desks-amid-160252076.html');\" rel=\"nofollow\" target=\"_blank\">Google workers to share desks amid cost-cutting measures: Report</a></div><div class=\"news-link-right\"><span style=\"color:#aa6dc0;font-size:9px\"> Yahoo Finance Video</span></div></div></td></tr>\n",
            "<tr><td align=\"right\" width=\"130\">Feb-22-23 08:20PM</td><td align=\"left\"><div class=\"news-link-container\"><div class=\"news-link-left\"><a class=\"tab-link-news\" href=\"https://finance.yahoo.com/m/42ac1b68-fda1-3f8a-b484-72846488ce52/google-blocks-news-results-in.html\" onclick=\"trackAndOpenNews(event, 'The Wall Street Journal', 'https://finance.yahoo.com/m/42ac1b68-fda1-3f8a-b484-72846488ce52/google-blocks-news-results-in.html');\" rel=\"nofollow\" target=\"_blank\">Google Blocks News Results in Some Canadian Searches</a></div><div class=\"news-link-right\"><span style=\"color:#aa6dc0;font-size:9px\"> The Wall Street Journal</span></div></div></td></tr>\n",
            "<tr><td align=\"right\" width=\"130\">03:33PM</td><td align=\"left\"><div class=\"news-link-container\"><div class=\"news-link-left\"><a class=\"tab-link-news\" href=\"https://finance.yahoo.com/news/microsoft-is-bringing-chatgpt-powered-bing-to-your-smartphone-challenging-google-203343060.html\" onclick=\"trackAndOpenNews(event, 'Yahoo Finance', 'https://finance.yahoo.com/news/microsoft-is-bringing-chatgpt-powered-bing-to-your-smartphone-challenging-google-203343060.html');\" rel=\"nofollow\" target=\"_blank\">Microsoft is bringing ChatGPT-powered Bing to your smartphone, challenging Google</a></div><div class=\"news-link-right\"><span style=\"color:#aa6dc0;font-size:9px\"> Yahoo Finance</span></div></div></td></tr>\n",
            "<tr><td align=\"right\" width=\"130\">03:03PM</td><td align=\"left\"><div class=\"news-link-container\"><div class=\"news-link-left\"><a class=\"tab-link-news\" href=\"https://finance.yahoo.com/news/jeffrey-gundlach-here-comes-the-hard-economic-landing-200336646.html\" onclick=\"trackAndOpenNews(event, 'Yahoo Finance', 'https://finance.yahoo.com/news/jeffrey-gundlach-here-comes-the-hard-economic-landing-200336646.html');\" rel=\"nofollow\" target=\"_blank\">Bond king Jeffrey Gundlach: Here comes the hard economic landing</a></div><div class=\"news-link-right\"><span style=\"color:#aa6dc0;font-size:9px\"> Yahoo Finance</span></div></div></td></tr>\n",
            "<tr><td align=\"right\" width=\"130\">02:34PM</td><td align=\"left\"><div class=\"news-link-container\"><div class=\"news-link-left\"><a class=\"tab-link-news\" href=\"https://finance.yahoo.com/news/theres-no-going-back-on-ai-the-genie-is-out-of-the-bottle-193456914.html\" onclick=\"trackAndOpenNews(event, 'Yahoo Finance', 'https://finance.yahoo.com/news/theres-no-going-back-on-ai-the-genie-is-out-of-the-bottle-193456914.html');\" rel=\"nofollow\" target=\"_blank\">There's no going back on A.I.: 'The genie is out of the bottle'</a></div><div class=\"news-link-right\"><span style=\"color:#aa6dc0;font-size:9px\"> Yahoo Finance</span></div></div></td></tr>\n",
            "<tr><td align=\"right\" width=\"130\">11:22AM</td><td align=\"left\"><div class=\"news-link-container\"><div class=\"news-link-left\"><a class=\"tab-link-news\" href=\"https://finance.yahoo.com/m/df891454-388d-37d5-a0ee-a0e219cc2655/microsoft-brings.html\" onclick=\"trackAndOpenNews(event, 'The Wall Street Journal', 'https://finance.yahoo.com/m/df891454-388d-37d5-a0ee-a0e219cc2655/microsoft-brings.html');\" rel=\"nofollow\" target=\"_blank\">Microsoft Brings ChatGPT-Powered Bing to Apple, Android Mobile Devices</a></div><div class=\"news-link-right\"><span style=\"color:#aa6dc0;font-size:9px\"> The Wall Street Journal</span></div></div></td></tr>\n",
            "<tr><td align=\"right\" width=\"130\">10:58AM</td><td align=\"left\"><div class=\"news-link-container\"><div class=\"news-link-left\"><a class=\"tab-link-news\" href=\"https://finance.yahoo.com/m/10fc4a64-7016-39f8-bc3a-8e4e2fa5b728/supreme-court-hears-arguments.html\" onclick=\"trackAndOpenNews(event, 'The Wall Street Journal', 'https://finance.yahoo.com/m/10fc4a64-7016-39f8-bc3a-8e4e2fa5b728/supreme-court-hears-arguments.html');\" rel=\"nofollow\" target=\"_blank\">Supreme Court Hears Arguments on Whether Twitter Is Liable in Terror Case</a></div><div class=\"news-link-right\"><span style=\"color:#aa6dc0;font-size:9px\"> The Wall Street Journal</span></div></div></td></tr>\n",
            "<tr><td align=\"right\" width=\"130\">10:07AM</td><td align=\"left\"><div class=\"news-link-container\"><div class=\"news-link-left\"><a class=\"tab-link-news\" href=\"https://finance.yahoo.com/video/supreme-court-hears-gonzalez-v-150716826.html\" onclick=\"trackAndOpenNews(event, 'Yahoo Finance Video', 'https://finance.yahoo.com/video/supreme-court-hears-gonzalez-v-150716826.html');\" rel=\"nofollow\" target=\"_blank\">Supreme Court hears Gonzalez v. Google case challenging Section 230</a></div><div class=\"news-link-right\"><span style=\"color:#aa6dc0;font-size:9px\"> Yahoo Finance Video</span></div></div></td></tr>\n",
            "<tr><td align=\"right\" width=\"130\">08:43AM</td><td align=\"left\"><div class=\"news-link-container\"><div class=\"news-link-left\"><a class=\"tab-link-news\" href=\"https://finance.yahoo.com/m/7e9192cf-edec-35a8-8249-120b90df0dac/amazon-%28amzn%29-stock-quotes%2C.html\" onclick=\"trackAndOpenNews(event, 'Investor\\u0027s Business Daily', 'https://finance.yahoo.com/m/7e9192cf-edec-35a8-8249-120b90df0dac/amazon-%28amzn%29-stock-quotes%2C.html');\" rel=\"nofollow\" target=\"_blank\">Amazon (AMZN) Stock Quotes, Company News And Chart Analysis</a></div><div class=\"news-link-right\"><span style=\"color:#aa6dc0;font-size:9px\"> Investor's Business Daily</span></div></div></td></tr>\n",
            "<tr><td align=\"right\" width=\"130\">07:00AM</td><td align=\"left\"><div class=\"news-link-container\"><div class=\"news-link-left\"><a class=\"tab-link-news\" href=\"https://finance.yahoo.com/m/10fc4a64-7016-39f8-bc3a-8e4e2fa5b728/supreme-court-to-hear.html\" onclick=\"trackAndOpenNews(event, 'The Wall Street Journal', 'https://finance.yahoo.com/m/10fc4a64-7016-39f8-bc3a-8e4e2fa5b728/supreme-court-to-hear.html');\" rel=\"nofollow\" target=\"_blank\">Supreme Court to Hear Arguments on Whether Twitter Is Liable in Terror Case</a></div><div class=\"news-link-right\"><span style=\"color:#aa6dc0;font-size:9px\"> The Wall Street Journal</span></div></div></td></tr>\n",
            "<tr><td align=\"right\" width=\"130\">Feb-21-23 07:17PM</td><td align=\"left\"><div class=\"news-link-container\"><div class=\"news-link-left\"><a class=\"tab-link-news\" href=\"https://finance.yahoo.com/m/99ba55a4-5a58-356b-a873-961fdf17225b/supreme-court-justices.html\" onclick=\"trackAndOpenNews(event, 'The Wall Street Journal', 'https://finance.yahoo.com/m/99ba55a4-5a58-356b-a873-961fdf17225b/supreme-court-justices.html');\" rel=\"nofollow\" target=\"_blank\">Supreme Court Justices Express Skepticism at Holding Google Liable for Content</a></div><div class=\"news-link-right\"><span style=\"color:#aa6dc0;font-size:9px\"> The Wall Street Journal</span></div></div></td></tr>\n",
            "<tr><td align=\"right\" width=\"130\">05:28PM</td><td align=\"left\"><div class=\"news-link-container\"><div class=\"news-link-left\"><a class=\"tab-link-news\" href=\"https://finance.yahoo.com/m/7dbaaea5-0579-3d4d-9655-6f815a72b919/hackers-extort-less-money%2C.html\" onclick=\"trackAndOpenNews(event, 'The Wall Street Journal', 'https://finance.yahoo.com/m/7dbaaea5-0579-3d4d-9655-6f815a72b919/hackers-extort-less-money%2C.html');\" rel=\"nofollow\" target=\"_blank\">Hackers Extort Less Money, Are Laid Off as New Tactics Thwart More Ransomware Attacks</a></div><div class=\"news-link-right\"><span style=\"color:#aa6dc0;font-size:9px\"> The Wall Street Journal</span></div></div></td></tr>\n",
            "<tr><td align=\"right\" width=\"130\">05:00PM</td><td align=\"left\"><div class=\"news-link-container\"><div class=\"news-link-left\"><a class=\"tab-link-news\" href=\"https://finance.yahoo.com/video/nvidia-earnings-3-things-were-220055180.html\" onclick=\"trackAndOpenNews(event, 'Yahoo Finance Video', 'https://finance.yahoo.com/video/nvidia-earnings-3-things-were-220055180.html');\" rel=\"nofollow\" target=\"_blank\">Nvidia earnings: 3 things we're watching after the Q4 earnings call</a></div><div class=\"news-link-right\"><span style=\"color:#aa6dc0;font-size:9px\"> Yahoo Finance Video</span></div></div></td></tr>\n",
            "<tr><td align=\"right\" width=\"130\">04:47PM</td><td align=\"left\"><div class=\"news-link-container\"><div class=\"news-link-left\"><a class=\"tab-link-news\" href=\"https://finance.yahoo.com/news/the-surprising-companies-one-firm-thinks-will-benefit-from-the-ai-tidal-wave-214721556.html\" onclick=\"trackAndOpenNews(event, 'Yahoo Finance', 'https://finance.yahoo.com/news/the-surprising-companies-one-firm-thinks-will-benefit-from-the-ai-tidal-wave-214721556.html');\" rel=\"nofollow\" target=\"_blank\">The surprising companies one firm thinks will benefit from the AI 'tidal wave'</a></div><div class=\"news-link-right\"><span style=\"color:#aa6dc0;font-size:9px\"> Yahoo Finance</span></div></div></td></tr>\n",
            "<tr><td align=\"right\" width=\"130\">03:18PM</td><td align=\"left\"><div class=\"news-link-container\"><div class=\"news-link-left\"><a class=\"tab-link-news\" href=\"https://finance.yahoo.com/news/supreme-court-hears-arguments-in-a-case-that-could-reform-the-internet-201817197.html\" onclick=\"trackAndOpenNews(event, 'Yahoo Finance', 'https://finance.yahoo.com/news/supreme-court-hears-arguments-in-a-case-that-could-reform-the-internet-201817197.html');\" rel=\"nofollow\" target=\"_blank\">Supreme Court hears arguments in a case that could reform the internet</a></div><div class=\"news-link-right\"><span style=\"color:#aa6dc0;font-size:9px\"> Yahoo Finance</span></div></div></td></tr>\n",
            "<tr><td align=\"right\" width=\"130\">03:18PM</td><td align=\"left\"><div class=\"news-link-container\"><div class=\"news-link-left\"><a class=\"tab-link-news\" href=\"https://finance.yahoo.com/news/supreme-court-heard-arguments-in-a-case-that-could-reform-the-internet-201817645.html\" onclick=\"trackAndOpenNews(event, 'Yahoo Finance', 'https://finance.yahoo.com/news/supreme-court-heard-arguments-in-a-case-that-could-reform-the-internet-201817645.html');\" rel=\"nofollow\" target=\"_blank\">Supreme Court heard arguments in a case that could reform the internet</a></div><div class=\"news-link-right\"><span style=\"color:#aa6dc0;font-size:9px\"> Yahoo Finance</span></div></div></td></tr>\n",
            "<tr><td align=\"right\" width=\"130\">01:58PM</td><td align=\"left\"><div class=\"news-link-container\"><div class=\"news-link-left\"><a class=\"tab-link-news\" href=\"https://finance.yahoo.com/m/99ba55a4-5a58-356b-a873-961fdf17225b/justices-express-skepticism.html\" onclick=\"trackAndOpenNews(event, 'The Wall Street Journal', 'https://finance.yahoo.com/m/99ba55a4-5a58-356b-a873-961fdf17225b/justices-express-skepticism.html');\" rel=\"nofollow\" target=\"_blank\">Justices Express Skepticism at Holding Google Liable for Content</a></div><div class=\"news-link-right\"><span style=\"color:#aa6dc0;font-size:9px\"> The Wall Street Journal</span></div></div></td></tr>\n",
            "<tr><td align=\"right\" width=\"130\">09:28AM</td><td align=\"left\"><div class=\"news-link-container\"><div class=\"news-link-left\"><a class=\"tab-link-news\" href=\"https://finance.yahoo.com/m/50e7cab8-3168-30ed-b9c1-bd65eb63de3e/democratic-rep.-david.html\" onclick=\"trackAndOpenNews(event, 'MarketWatch', 'https://finance.yahoo.com/m/50e7cab8-3168-30ed-b9c1-bd65eb63de3e/democratic-rep.-david.html');\" rel=\"nofollow\" target=\"_blank\">Democratic Rep. David Cicilline leaving Congress to head foundation</a></div><div class=\"news-link-right\"><span style=\"color:#aa6dc0;font-size:9px\"> MarketWatch</span></div></div></td></tr>\n",
            "<tr><td align=\"right\" width=\"130\">09:00AM</td><td align=\"left\"><div class=\"news-link-container\"><div class=\"news-link-left\"><a class=\"tab-link-news\" href=\"https://finance.yahoo.com/m/7dbaaea5-0579-3d4d-9655-6f815a72b919/ransomware-attacks-decline-as.html\" onclick=\"trackAndOpenNews(event, 'The Wall Street Journal', 'https://finance.yahoo.com/m/7dbaaea5-0579-3d4d-9655-6f815a72b919/ransomware-attacks-decline-as.html');\" rel=\"nofollow\" target=\"_blank\">Ransomware Attacks Decline as New Defenses, Countermeasures Thwart Hackers</a></div><div class=\"news-link-right\"><span style=\"color:#aa6dc0;font-size:9px\"> The Wall Street Journal</span></div></div></td></tr>\n",
            "<tr><td align=\"right\" width=\"130\">07:00AM</td><td align=\"left\"><div class=\"news-link-container\"><div class=\"news-link-left\"><a class=\"tab-link-news\" href=\"https://finance.yahoo.com/m/a71dad4c-ffe5-3414-ab01-9c5f89d87584/%E2%80%8Bmicrosoft-gets-an-early.html\" onclick=\"trackAndOpenNews(event, 'The Wall Street Journal', 'https://finance.yahoo.com/m/a71dad4c-ffe5-3414-ab01-9c5f89d87584/%E2%80%8Bmicrosoft-gets-an-early.html');\" rel=\"nofollow\" target=\"_blank\">Microsoft Gets an Early Taste of Searchs Dark Side</a></div><div class=\"news-link-right\"><span style=\"color:#aa6dc0;font-size:9px\"> The Wall Street Journal</span></div></div></td></tr>\n",
            "<tr><td align=\"right\" width=\"130\">06:41AM</td><td align=\"left\"><div class=\"news-link-container\"><div class=\"news-link-left\"><a class=\"tab-link-news\" href=\"https://finance.yahoo.com/news/3-reasons-why-the-current-stock-market-rally-of-2023-could-stall-114115763.html\" onclick=\"trackAndOpenNews(event, 'Yahoo Finance', 'https://finance.yahoo.com/news/3-reasons-why-the-current-stock-market-rally-of-2023-could-stall-114115763.html');\" rel=\"nofollow\" target=\"_blank\">3 reasons why the current stock market rally of 2023 could stall</a></div><div class=\"news-link-right\"><span style=\"color:#aa6dc0;font-size:9px\"> Yahoo Finance</span></div></div></td></tr>\n",
            "<tr><td align=\"right\" width=\"130\">06:41AM</td><td align=\"left\"><div class=\"news-link-container\"><div class=\"news-link-left\"><a class=\"tab-link-news\" href=\"https://finance.yahoo.com/news/3-reasons-the-current-stock-market-rally-of-2023-could-stall-114115469.html\" onclick=\"trackAndOpenNews(event, 'Yahoo Finance', 'https://finance.yahoo.com/news/3-reasons-the-current-stock-market-rally-of-2023-could-stall-114115469.html');\" rel=\"nofollow\" target=\"_blank\">3 reasons the current stock market rally of 2023 could stall</a></div><div class=\"news-link-right\"><span style=\"color:#aa6dc0;font-size:9px\"> Yahoo Finance</span></div></div></td></tr>\n",
            "<tr><td align=\"right\" width=\"130\">Feb-20-23 09:43AM</td><td align=\"left\"><div class=\"news-link-container\"><div class=\"news-link-left\"><a class=\"tab-link-news\" href=\"https://finance.yahoo.com/m/07be4bbb-f67f-3942-b632-8eae330fe8d0/is-google-a-buy-amid-q4.html\" onclick=\"trackAndOpenNews(event, 'Investor\\u0027s Business Daily', 'https://finance.yahoo.com/m/07be4bbb-f67f-3942-b632-8eae330fe8d0/is-google-a-buy-amid-q4.html');\" rel=\"nofollow\" target=\"_blank\">Is Google A Buy Amid Q4 Earnings, Artificial Intelligence Race?</a></div><div class=\"news-link-right\"><span style=\"color:#aa6dc0;font-size:9px\"> Investor's Business Daily</span></div></div></td></tr>\n",
            "<tr><td align=\"right\" width=\"130\">05:30AM</td><td align=\"left\"><div class=\"news-link-container\"><div class=\"news-link-left\"><a class=\"tab-link-news\" href=\"https://finance.yahoo.com/m/3d5918e9-db52-3dc9-87af-4ccd22a230a0/google-case-heads-to-supreme.html\" onclick=\"trackAndOpenNews(event, 'The Wall Street Journal', 'https://finance.yahoo.com/m/3d5918e9-db52-3dc9-87af-4ccd22a230a0/google-case-heads-to-supreme.html');\" rel=\"nofollow\" target=\"_blank\">Google Case Heads to Supreme Court With Powerful Internet Shield Law at Stake</a></div><div class=\"news-link-right\"><span style=\"color:#aa6dc0;font-size:9px\"> The Wall Street Journal</span></div></div></td></tr>\n",
            "<tr><td align=\"right\" width=\"130\">Feb-19-23 01:55PM</td><td align=\"left\"><div class=\"news-link-container\"><div class=\"news-link-left\"><a class=\"tab-link-news\" href=\"https://finance.yahoo.com/news/shark-tanks-kevin-oleary-chatgpt-is-killing-googles-dominance-185504919.html\" onclick=\"trackAndOpenNews(event, 'Yahoo Finance', 'https://finance.yahoo.com/news/shark-tanks-kevin-oleary-chatgpt-is-killing-googles-dominance-185504919.html');\" rel=\"nofollow\" target=\"_blank\">Shark Tank's Kevin O'Leary: ChatGPT is 'killing' Google's dominance</a></div><div class=\"news-link-right\"><span style=\"color:#aa6dc0;font-size:9px\"> Yahoo Finance</span></div></div></td></tr>\n",
            "<tr><td align=\"right\" width=\"130\">08:31AM</td><td align=\"left\"><div class=\"news-link-container\"><div class=\"news-link-left\"><a class=\"tab-link-news\" href=\"https://finance.yahoo.com/news/why-making-human-like-artificial-intelligence-may-be-a-trap-ai-expert-133158077.html\" onclick=\"trackAndOpenNews(event, 'Yahoo Finance', 'https://finance.yahoo.com/news/why-making-human-like-artificial-intelligence-may-be-a-trap-ai-expert-133158077.html');\" rel=\"nofollow\" target=\"_blank\">Why making human-like artificial intelligence may be 'a trap': AI expert</a></div><div class=\"news-link-right\"><span style=\"color:#aa6dc0;font-size:9px\"> Yahoo Finance</span></div></div></td></tr>\n",
            "<tr><td align=\"right\" width=\"130\">Feb-18-23 10:26AM</td><td align=\"left\"><div class=\"news-link-container\"><div class=\"news-link-left\"><a class=\"tab-link-news\" href=\"https://finance.yahoo.com/news/chatgpt-is-less-than-a-year-old-but-one-expert-says-this-ai-model-is-peaking-152653869.html\" onclick=\"trackAndOpenNews(event, 'Yahoo Finance', 'https://finance.yahoo.com/news/chatgpt-is-less-than-a-year-old-but-one-expert-says-this-ai-model-is-peaking-152653869.html');\" rel=\"nofollow\" target=\"_blank\">ChatGPT is less than a year old, but one expert says this A.I. model is 'peaking'</a></div><div class=\"news-link-right\"><span style=\"color:#aa6dc0;font-size:9px\"> Yahoo Finance</span></div></div></td></tr>\n",
            "<tr><td align=\"right\" width=\"130\">08:14AM</td><td align=\"left\"><div class=\"news-link-container\"><div class=\"news-link-left\"><a class=\"tab-link-news\" href=\"https://finance.yahoo.com/news/tech-stocks-going-to-take-two-steps-back-as-pandemic-boom-fades-strategist-says-131430737.html\" onclick=\"trackAndOpenNews(event, 'Yahoo Finance', 'https://finance.yahoo.com/news/tech-stocks-going-to-take-two-steps-back-as-pandemic-boom-fades-strategist-says-131430737.html');\" rel=\"nofollow\" target=\"_blank\">Tech stocks going to take two steps back as pandemic boom fades, strategist says</a></div><div class=\"news-link-right\"><span style=\"color:#aa6dc0;font-size:9px\"> Yahoo Finance</span></div></div></td></tr>\n",
            "<tr><td align=\"right\" width=\"130\">Feb-17-23 03:24PM</td><td align=\"left\"><div class=\"news-link-container\"><div class=\"news-link-left\"><a class=\"tab-link-news\" href=\"https://finance.yahoo.com/video/streaming-earnings-wall-street-won-202407975.html\" onclick=\"trackAndOpenNews(event, 'Yahoo Finance Video', 'https://finance.yahoo.com/video/streaming-earnings-wall-street-won-202407975.html');\" rel=\"nofollow\" target=\"_blank\">Streaming earnings: Wall Street wont tolerate these losses in 2023, analyst explains</a></div><div class=\"news-link-right\"><span style=\"color:#aa6dc0;font-size:9px\"> Yahoo Finance Video</span></div></div></td></tr>\n",
            "<tr><td align=\"right\" width=\"130\">Feb-16-23 03:30PM</td><td align=\"left\"><div class=\"news-link-container\"><div class=\"news-link-left\"><a class=\"tab-link-news\" href=\"https://finance.yahoo.com/video/youtube-ceo-susan-wojcicki-announces-203056051.html\" onclick=\"trackAndOpenNews(event, 'Yahoo Finance Video', 'https://finance.yahoo.com/video/youtube-ceo-susan-wojcicki-announces-203056051.html');\" rel=\"nofollow\" target=\"_blank\">YouTube CEO Susan Wojcicki announces plan to step down</a></div><div class=\"news-link-right\"><span style=\"color:#aa6dc0;font-size:9px\"> Yahoo Finance Video</span></div></div></td></tr>\n",
            "<tr><td align=\"right\" width=\"130\">03:02PM</td><td align=\"left\"><div class=\"news-link-container\"><div class=\"news-link-left\"><a class=\"tab-link-news\" href=\"https://finance.yahoo.com/m/9be13980-85b7-3626-9bec-e44cc684bb31/youtube-ceo-susan-wojcicki-is.html\" onclick=\"trackAndOpenNews(event, 'The Wall Street Journal', 'https://finance.yahoo.com/m/9be13980-85b7-3626-9bec-e44cc684bb31/youtube-ceo-susan-wojcicki-is.html');\" rel=\"nofollow\" target=\"_blank\">YouTube CEO Susan Wojcicki Is Stepping Down After Nearly a Decade in the Role</a></div><div class=\"news-link-right\"><span style=\"color:#aa6dc0;font-size:9px\"> The Wall Street Journal</span></div></div></td></tr>\n",
            "<tr><td align=\"right\" width=\"130\">12:41PM</td><td align=\"left\"><div class=\"news-link-container\"><div class=\"news-link-left\"><a class=\"tab-link-news\" href=\"https://finance.yahoo.com/news/youtube-ceo-susan-wojcicki-stepping-down-174146796.html\" onclick=\"trackAndOpenNews(event, 'Yahoo Finance', 'https://finance.yahoo.com/news/youtube-ceo-susan-wojcicki-stepping-down-174146796.html');\" rel=\"nofollow\" target=\"_blank\">YouTube CEO Susan Wojcicki stepping down</a></div><div class=\"news-link-right\"><span style=\"color:#aa6dc0;font-size:9px\"> Yahoo Finance</span></div></div></td></tr>\n",
            "<tr><td align=\"right\" width=\"130\">11:29AM</td><td align=\"left\"><div class=\"news-link-container\"><div class=\"news-link-left\"><a class=\"tab-link-news\" href=\"https://finance.yahoo.com/news/microsoft-defends-bings-ai-mistakes-as-it-faces-our-share-of-challenges-162934791.html\" onclick=\"trackAndOpenNews(event, 'Yahoo Finance', 'https://finance.yahoo.com/news/microsoft-defends-bings-ai-mistakes-as-it-faces-our-share-of-challenges-162934791.html');\" rel=\"nofollow\" target=\"_blank\">Microsoft defends Bing's AI mistakes as it faces 'our share of challenges'</a></div><div class=\"news-link-right\"><span style=\"color:#aa6dc0;font-size:9px\"> Yahoo Finance</span></div></div></td></tr>\n",
            "<tr><td align=\"right\" width=\"130\">09:40AM</td><td align=\"left\"><div class=\"news-link-container\"><div class=\"news-link-left\"><a class=\"tab-link-news\" href=\"https://finance.yahoo.com/video/microsoft-google-stocks-off-races-144042217.html\" onclick=\"trackAndOpenNews(event, 'Yahoo Finance Video', 'https://finance.yahoo.com/video/microsoft-google-stocks-off-races-144042217.html');\" rel=\"nofollow\" target=\"_blank\">Microsoft, Google stocks off to the races amid AI investment</a></div><div class=\"news-link-right\"><span style=\"color:#aa6dc0;font-size:9px\"> Yahoo Finance Video</span></div></div></td></tr>\n",
            "<tr><td align=\"right\" width=\"130\">05:30AM</td><td align=\"left\"><div class=\"news-link-container\"><div class=\"news-link-left\"><a class=\"tab-link-news\" href=\"https://finance.yahoo.com/news/why-artificial-intelligence-may-become-the-biggest-bubble-of-all-time-raoul-pal-103046807.html\" onclick=\"trackAndOpenNews(event, 'Yahoo Finance', 'https://finance.yahoo.com/news/why-artificial-intelligence-may-become-the-biggest-bubble-of-all-time-raoul-pal-103046807.html');\" rel=\"nofollow\" target=\"_blank\">Why artificial Intelligence may become the 'biggest bubble of all time': Raoul Pal</a></div><div class=\"news-link-right\"><span style=\"color:#aa6dc0;font-size:9px\"> Yahoo Finance</span></div></div></td></tr>\n",
            "<tr><td align=\"right\" width=\"130\">05:30AM</td><td align=\"left\"><div class=\"news-link-container\"><div class=\"news-link-left\"><a class=\"tab-link-news\" href=\"https://finance.yahoo.com/news/raoul-pal-says-ai-could-become-the-biggest-bubble-of-all-time-morning-brief-103046757.html\" onclick=\"trackAndOpenNews(event, 'Yahoo Finance', 'https://finance.yahoo.com/news/raoul-pal-says-ai-could-become-the-biggest-bubble-of-all-time-morning-brief-103046757.html');\" rel=\"nofollow\" target=\"_blank\">Raoul Pal says AI could become the 'biggest bubble of all time': Morning Brief</a></div><div class=\"news-link-right\"><span style=\"color:#aa6dc0;font-size:9px\"> Yahoo Finance</span></div></div></td></tr>\n",
            "<tr><td align=\"right\" width=\"130\">Feb-15-23 04:14PM</td><td align=\"left\"><div class=\"news-link-container\"><div class=\"news-link-left\"><a class=\"tab-link-news\" href=\"https://finance.yahoo.com/news/were-still-a-long-way-away-from-ai-that-can-think-for-itself-211440629.html\" onclick=\"trackAndOpenNews(event, 'Yahoo Finance', 'https://finance.yahoo.com/news/were-still-a-long-way-away-from-ai-that-can-think-for-itself-211440629.html');\" rel=\"nofollow\" target=\"_blank\">Were still a long way away from AI that can think for itself</a></div><div class=\"news-link-right\"><span style=\"color:#aa6dc0;font-size:9px\"> Yahoo Finance</span></div></div></td></tr>\n",
            "<tr><td align=\"right\" width=\"130\">04:04PM</td><td align=\"left\"><div class=\"news-link-container\"><div class=\"news-link-left\"><a class=\"tab-link-news\" href=\"https://finance.yahoo.com/m/91ced1f6-ed1c-3c93-a359-46775d169bfe/house-panel-issues-subpoenas.html\" onclick=\"trackAndOpenNews(event, 'The Wall Street Journal', 'https://finance.yahoo.com/m/91ced1f6-ed1c-3c93-a359-46775d169bfe/house-panel-issues-subpoenas.html');\" rel=\"nofollow\" target=\"_blank\">House Panel Issues Subpoenas to Tech CEOs for Information on Content Moderation</a></div><div class=\"news-link-right\"><span style=\"color:#aa6dc0;font-size:9px\"> The Wall Street Journal</span></div></div></td></tr>\n",
            "<tr><td align=\"right\" width=\"130\">10:35AM</td><td align=\"left\"><div class=\"news-link-container\"><div class=\"news-link-left\"><a class=\"tab-link-news\" href=\"https://finance.yahoo.com/video/ai-chatgpt-bard-think-itself-153518658.html\" onclick=\"trackAndOpenNews(event, 'Yahoo Finance Video', 'https://finance.yahoo.com/video/ai-chatgpt-bard-think-itself-153518658.html');\" rel=\"nofollow\" target=\"_blank\">Can AI like ChatGPT, Bard think for itself?</a></div><div class=\"news-link-right\"><span style=\"color:#aa6dc0;font-size:9px\"> Yahoo Finance Video</span></div></div></td></tr>\n",
            "<tr><td align=\"right\" width=\"130\">Feb-13-23 04:09PM</td><td align=\"left\"><div class=\"news-link-container\"><div class=\"news-link-left\"><a class=\"tab-link-news\" href=\"https://finance.yahoo.com/video/ai-travel-industry-application-could-210930316.html\" onclick=\"trackAndOpenNews(event, 'Yahoo Finance Video', 'https://finance.yahoo.com/video/ai-travel-industry-application-could-210930316.html');\" rel=\"nofollow\" target=\"_blank\">AIs travel industry application could prove to be a headwind for Tripadvisor: Analyst</a></div><div class=\"news-link-right\"><span style=\"color:#aa6dc0;font-size:9px\"> Yahoo Finance Video</span></div></div></td></tr>\n",
            "<tr><td align=\"right\" width=\"130\">02:53PM</td><td align=\"left\"><div class=\"news-link-container\"><div class=\"news-link-left\"><a class=\"tab-link-news\" href=\"https://finance.yahoo.com/m/3df800e7-64dc-379f-a6a3-f35770482295/uber%2C-spurred-by-hardware.html\" onclick=\"trackAndOpenNews(event, 'The Wall Street Journal', 'https://finance.yahoo.com/m/3df800e7-64dc-379f-a6a3-f35770482295/uber%2C-spurred-by-hardware.html');\" rel=\"nofollow\" target=\"_blank\">Uber, Spurred by Hardware Supply Disruptions, Moves to Multiple Cloud Providers</a></div><div class=\"news-link-right\"><span style=\"color:#aa6dc0;font-size:9px\"> The Wall Street Journal</span></div></div></td></tr>\n",
            "<tr><td align=\"right\" width=\"130\">10:19AM</td><td align=\"left\"><div class=\"news-link-container\"><div class=\"news-link-left\"><a class=\"tab-link-news\" href=\"https://finance.yahoo.com/video/super-bowl-lvii-best-worst-151952128.html\" onclick=\"trackAndOpenNews(event, 'Yahoo Finance Video', 'https://finance.yahoo.com/video/super-bowl-lvii-best-worst-151952128.html');\" rel=\"nofollow\" target=\"_blank\">Super Bowl LVII: The best and worst commercials</a></div><div class=\"news-link-right\"><span style=\"color:#aa6dc0;font-size:9px\"> Yahoo Finance Video</span></div></div></td></tr>\n",
            "<tr><td align=\"right\" width=\"130\">08:32AM</td><td align=\"left\"><div class=\"news-link-container\"><div class=\"news-link-left\"><a class=\"tab-link-news\" href=\"https://finance.yahoo.com/m/dfaf2568-9387-351a-923a-9ae15a4ce384/amazon%2C-microsoft%2C-google.html\" onclick=\"trackAndOpenNews(event, 'The Wall Street Journal', 'https://finance.yahoo.com/m/dfaf2568-9387-351a-923a-9ae15a4ce384/amazon%2C-microsoft%2C-google.html');\" rel=\"nofollow\" target=\"_blank\">Amazon, Microsoft, Google Pressured by Chinese Cloud Rivals in Southeast Asia</a></div><div class=\"news-link-right\"><span style=\"color:#aa6dc0;font-size:9px\"> The Wall Street Journal</span></div></div></td></tr>\n",
            "<tr><td align=\"right\" width=\"130\">08:03AM</td><td align=\"left\"><div class=\"news-link-container\"><div class=\"news-link-left\"><a class=\"tab-link-news\" href=\"https://finance.yahoo.com/m/3df800e7-64dc-379f-a6a3-f35770482295/uber-signs-cloud-deals-with.html\" onclick=\"trackAndOpenNews(event, 'The Wall Street Journal', 'https://finance.yahoo.com/m/3df800e7-64dc-379f-a6a3-f35770482295/uber-signs-cloud-deals-with.html');\" rel=\"nofollow\" target=\"_blank\">Uber Signs Cloud Deals With Google and Oracle</a></div><div class=\"news-link-right\"><span style=\"color:#aa6dc0;font-size:9px\"> The Wall Street Journal</span></div></div></td></tr>\n",
            "<tr><td align=\"right\" width=\"130\">Feb-11-23 11:15AM</td><td align=\"left\"><div class=\"news-link-container\"><div class=\"news-link-left\"><a class=\"tab-link-news\" href=\"https://finance.yahoo.com/news/big-oil-raked-in-record-profits-last-year-but-check-out-big-tech-161530609.html\" onclick=\"trackAndOpenNews(event, 'Yahoo Finance', 'https://finance.yahoo.com/news/big-oil-raked-in-record-profits-last-year-but-check-out-big-tech-161530609.html');\" rel=\"nofollow\" target=\"_blank\">Big Oil raked in record profits last year, but check out Big Tech</a></div><div class=\"news-link-right\"><span style=\"color:#aa6dc0;font-size:9px\"> Yahoo Finance</span></div></div></td></tr>\n",
            "<tr><td align=\"right\" width=\"130\">Feb-10-23 05:39PM</td><td align=\"left\"><div class=\"news-link-container\"><div class=\"news-link-left\"><a class=\"tab-link-news\" href=\"https://finance.yahoo.com/m/3c64b27f-fac9-350e-94e7-deb498b0bc3f/zoom%2C-disney%2C-lyft%3A-stocks.html\" onclick=\"trackAndOpenNews(event, 'The Wall Street Journal', 'https://finance.yahoo.com/m/3c64b27f-fac9-350e-94e7-deb498b0bc3f/zoom%2C-disney%2C-lyft%3A-stocks.html');\" rel=\"nofollow\" target=\"_blank\">Zoom, Disney, Lyft: Stocks That Defined the Week: Stocks That Defined the Week</a></div><div class=\"news-link-right\"><span style=\"color:#aa6dc0;font-size:9px\"> The Wall Street Journal</span></div></div></td></tr>\n",
            "<tr><td align=\"right\" width=\"130\">04:17PM</td><td align=\"left\"><div class=\"news-link-container\"><div class=\"news-link-left\"><a class=\"tab-link-news\" href=\"https://finance.yahoo.com/news/why-apple-stock-is-still-a-buy-at-current-levels-despite-ai-mania-analyst-211705901.html\" onclick=\"trackAndOpenNews(event, 'Yahoo Finance', 'https://finance.yahoo.com/news/why-apple-stock-is-still-a-buy-at-current-levels-despite-ai-mania-analyst-211705901.html');\" rel=\"nofollow\" target=\"_blank\">Why Apple stock is still a buy 'at current levels' despite AI mania: Analyst</a></div><div class=\"news-link-right\"><span style=\"color:#aa6dc0;font-size:9px\"> Yahoo Finance</span></div></div></td></tr>\n",
            "<tr><td align=\"right\" width=\"130\">12:26PM</td><td align=\"left\"><div class=\"news-link-container\"><div class=\"news-link-left\"><a class=\"tab-link-news\" href=\"https://finance.yahoo.com/news/what-its-like-to-use-microsofts-ai-powered-bing-172634489.html\" onclick=\"trackAndOpenNews(event, 'Yahoo Finance', 'https://finance.yahoo.com/news/what-its-like-to-use-microsofts-ai-powered-bing-172634489.html');\" rel=\"nofollow\" target=\"_blank\">What its like to use Microsofts AI-powered Bing</a></div><div class=\"news-link-right\"><span style=\"color:#aa6dc0;font-size:9px\"> Yahoo Finance</span></div></div></td></tr>\n",
            "<tr><td align=\"right\" width=\"130\">11:03AM</td><td align=\"left\"><div class=\"news-link-container\"><div class=\"news-link-left\"><a class=\"tab-link-news\" href=\"https://finance.yahoo.com/video/ai-hype-fueled-fear-missing-160333087.html\" onclick=\"trackAndOpenNews(event, 'Yahoo Finance Video', 'https://finance.yahoo.com/video/ai-hype-fueled-fear-missing-160333087.html');\" rel=\"nofollow\" target=\"_blank\">AI hype fueled by fear of missing out on the next big thing</a></div><div class=\"news-link-right\"><span style=\"color:#aa6dc0;font-size:9px\"> Yahoo Finance Video</span></div></div></td></tr>\n",
            "<tr><td align=\"right\" width=\"130\">11:00AM</td><td align=\"left\"><div class=\"news-link-container\"><div class=\"news-link-left\"><a class=\"tab-link-news\" href=\"https://finance.yahoo.com/video/big-tech-record-profits-surpass-160005861.html\" onclick=\"trackAndOpenNews(event, 'Yahoo Finance Video', 'https://finance.yahoo.com/video/big-tech-record-profits-surpass-160005861.html');\" rel=\"nofollow\" target=\"_blank\">Big Techs record profits surpass that of Big Oil</a></div><div class=\"news-link-right\"><span style=\"color:#aa6dc0;font-size:9px\"> Yahoo Finance Video</span></div></div></td></tr>\n",
            "<tr><td align=\"right\" width=\"130\">08:00AM</td><td align=\"left\"><div class=\"news-link-container\"><div class=\"news-link-left\"><a class=\"tab-link-news\" href=\"https://finance.yahoo.com/m/cc391210-cd22-3f27-8ef4-38c8cd8ff2a2/privacy-fears%2C-abuse.html\" onclick=\"trackAndOpenNews(event, 'The Wall Street Journal', 'https://finance.yahoo.com/m/cc391210-cd22-3f27-8ef4-38c8cd8ff2a2/privacy-fears%2C-abuse.html');\" rel=\"nofollow\" target=\"_blank\">Privacy Fears, Abuse Allegations Jeopardize Foreign Surveillance Tool</a></div><div class=\"news-link-right\"><span style=\"color:#aa6dc0;font-size:9px\"> The Wall Street Journal</span></div></div></td></tr>\n",
            "<tr><td align=\"right\" width=\"130\">Feb-09-23 04:29PM</td><td align=\"left\"><div class=\"news-link-container\"><div class=\"news-link-left\"><a class=\"tab-link-news\" href=\"https://finance.yahoo.com/video/trends-more-just-trend-amid-212914830.html\" onclick=\"trackAndOpenNews(event, 'Yahoo Finance Video', 'https://finance.yahoo.com/video/trends-more-just-trend-amid-212914830.html');\" rel=\"nofollow\" target=\"_blank\">Are A.I. trends more than just a fad amid the rise of ChatGPT, Google Bard?</a></div><div class=\"news-link-right\"><span style=\"color:#aa6dc0;font-size:9px\"> Yahoo Finance Video</span></div></div></td></tr>\n",
            "<tr><td align=\"right\" width=\"130\">03:52PM</td><td align=\"left\"><div class=\"news-link-container\"><div class=\"news-link-left\"><a class=\"tab-link-news\" href=\"https://finance.yahoo.com/m/d7ba6b4e-2457-3da1-ab9a-f293f34f1d1d/google-parent-alphabet-drags.html\" onclick=\"trackAndOpenNews(event, 'The Wall Street Journal', 'https://finance.yahoo.com/m/d7ba6b4e-2457-3da1-ab9a-f293f34f1d1d/google-parent-alphabet-drags.html');\" rel=\"nofollow\" target=\"_blank\">Google Parent Alphabet Drags Communications Stocks Lower</a></div><div class=\"news-link-right\"><span style=\"color:#aa6dc0;font-size:9px\"> The Wall Street Journal</span></div></div></td></tr>\n",
            "<tr><td align=\"right\" width=\"130\">12:47PM</td><td align=\"left\"><div class=\"news-link-container\"><div class=\"news-link-left\"><a class=\"tab-link-news\" href=\"https://finance.yahoo.com/news/why-googles-ai-rollout-cost-shareholders-more-than-100-billion-174703170.html\" onclick=\"trackAndOpenNews(event, 'Yahoo Finance', 'https://finance.yahoo.com/news/why-googles-ai-rollout-cost-shareholders-more-than-100-billion-174703170.html');\" rel=\"nofollow\" target=\"_blank\">Why Google's AI rollout cost shareholders more than $100 billion</a></div><div class=\"news-link-right\"><span style=\"color:#aa6dc0;font-size:9px\"> Yahoo Finance</span></div></div></td></tr>\n",
            "<tr><td align=\"right\" width=\"130\">12:45PM</td><td align=\"left\"><div class=\"news-link-container\"><div class=\"news-link-left\"><a class=\"tab-link-news\" href=\"https://finance.yahoo.com/m/c7c51b3c-1054-310c-b0bf-5a8322b309df/morningstar-%7C-a-weekly.html\" onclick=\"trackAndOpenNews(event, 'Morningstar Research', 'https://finance.yahoo.com/m/c7c51b3c-1054-310c-b0bf-5a8322b309df/morningstar-%7C-a-weekly.html');\" rel=\"nofollow\" target=\"_blank\">Morningstar | A Weekly Summary of Stock Ideas and Developments in the Companies We Cover</a></div><div class=\"news-link-right\"><span style=\"color:#aa6dc0;font-size:9px\"> Morningstar Research</span></div></div></td></tr>\n",
            "<tr><td align=\"right\" width=\"130\">10:56AM</td><td align=\"left\"><div class=\"news-link-container\"><div class=\"news-link-left\"><a class=\"tab-link-news\" href=\"https://finance.yahoo.com/video/microsoft-push-innovate-search-ai-155658142.html\" onclick=\"trackAndOpenNews(event, 'Yahoo Finance Video', 'https://finance.yahoo.com/video/microsoft-push-innovate-search-ai-155658142.html');\" rel=\"nofollow\" target=\"_blank\">How Microsofts push to innovate search with AI threatens Googles dominance</a></div><div class=\"news-link-right\"><span style=\"color:#aa6dc0;font-size:9px\"> Yahoo Finance Video</span></div></div></td></tr>\n",
            "<tr><td align=\"right\" width=\"130\">10:16AM</td><td align=\"left\"><div class=\"news-link-container\"><div class=\"news-link-left\"><a class=\"tab-link-news\" href=\"https://finance.yahoo.com/video/market-check-google-stock-falls-151659235.html\" onclick=\"trackAndOpenNews(event, 'Yahoo Finance Video', 'https://finance.yahoo.com/video/market-check-google-stock-falls-151659235.html');\" rel=\"nofollow\" target=\"_blank\">Market check: Google stock falls, AstraZeneca stock trades higher amid earnings</a></div><div class=\"news-link-right\"><span style=\"color:#aa6dc0;font-size:9px\"> Yahoo Finance Video</span></div></div></td></tr>\n",
            "<tr><td align=\"right\" width=\"130\">Feb-08-23 06:26PM</td><td align=\"left\"><div class=\"news-link-container\"><div class=\"news-link-left\"><a class=\"tab-link-news\" href=\"https://finance.yahoo.com/m/e02411de-85e9-389c-aeb6-9c516312896b/bret-taylor%2C-former-co-ceo-of.html\" onclick=\"trackAndOpenNews(event, 'The Wall Street Journal', 'https://finance.yahoo.com/m/e02411de-85e9-389c-aeb6-9c516312896b/bret-taylor%2C-former-co-ceo-of.html');\" rel=\"nofollow\" target=\"_blank\">Bret Taylor, Former Co-CEO of Salesforce, to Create AI Startup With Google Veteran</a></div><div class=\"news-link-right\"><span style=\"color:#aa6dc0;font-size:9px\"> The Wall Street Journal</span> <span class=\"body-table-news-loss\">-7.44%</span></div></div></td></tr>\n",
            "<tr><td align=\"right\" width=\"130\">04:26PM</td><td align=\"left\"><div class=\"news-link-container\"><div class=\"news-link-left\"><a class=\"tab-link-news\" href=\"https://finance.yahoo.com/video/google-runs-technical-complications-during-212618066.html\" onclick=\"trackAndOpenNews(event, 'Yahoo Finance Video', 'https://finance.yahoo.com/video/google-runs-technical-complications-during-212618066.html');\" rel=\"nofollow\" target=\"_blank\">Google runs into technical complications during unveiling of its Bard A.I.</a></div><div class=\"news-link-right\"><span style=\"color:#aa6dc0;font-size:9px\"> Yahoo Finance Video</span></div></div></td></tr>\n",
            "<tr><td align=\"right\" width=\"130\">04:09PM</td><td align=\"left\"><div class=\"news-link-container\"><div class=\"news-link-left\"><a class=\"tab-link-news\" href=\"https://finance.yahoo.com/news/microsofts-bing-is-the-first-threat-to-googles-search-dominance-in-decades-210913597.html\" onclick=\"trackAndOpenNews(event, 'Yahoo Finance', 'https://finance.yahoo.com/news/microsofts-bing-is-the-first-threat-to-googles-search-dominance-in-decades-210913597.html');\" rel=\"nofollow\" target=\"_blank\">Microsofts Bing is the first threat to Googles search dominance in decades</a></div><div class=\"news-link-right\"><span style=\"color:#aa6dc0;font-size:9px\"> Yahoo Finance</span></div></div></td></tr>\n",
            "<tr><td align=\"right\" width=\"130\">02:38PM</td><td align=\"left\"><div class=\"news-link-container\"><div class=\"news-link-left\"><a class=\"tab-link-news\" href=\"https://finance.yahoo.com/news/why-the-ai-stock-rally-isnt-another-meme-craze-according-to-a-top-investor-193843100.html\" onclick=\"trackAndOpenNews(event, 'Yahoo Finance', 'https://finance.yahoo.com/news/why-the-ai-stock-rally-isnt-another-meme-craze-according-to-a-top-investor-193843100.html');\" rel=\"nofollow\" target=\"_blank\">Why the AI stock rally isnt another meme craze, according to a top investor</a></div><div class=\"news-link-right\"><span style=\"color:#aa6dc0;font-size:9px\"> Yahoo Finance</span></div></div></td></tr>\n",
            "<tr><td align=\"right\" width=\"130\">02:27PM</td><td align=\"left\"><div class=\"news-link-container\"><div class=\"news-link-left\"><a class=\"tab-link-news\" href=\"https://finance.yahoo.com/m/71867767-232e-3d5e-bb3a-81a790109f70/as-big-tech%E2%80%99s-growth-and.html\" onclick=\"trackAndOpenNews(event, 'The Wall Street Journal', 'https://finance.yahoo.com/m/71867767-232e-3d5e-bb3a-81a790109f70/as-big-tech%E2%80%99s-growth-and.html');\" rel=\"nofollow\" target=\"_blank\">As Big Techs Growth and Innovation Slow, Its Market Dominance Endures</a></div><div class=\"news-link-right\"><span style=\"color:#aa6dc0;font-size:9px\"> The Wall Street Journal</span></div></div></td></tr>\n",
            "<tr><td align=\"right\" width=\"130\">12:01PM</td><td align=\"left\"><div class=\"news-link-container\"><div class=\"news-link-left\"><a class=\"tab-link-news\" href=\"https://finance.yahoo.com/video/ai-competition-google-bard-vs-170112540.html\" onclick=\"trackAndOpenNews(event, 'Yahoo Finance Video', 'https://finance.yahoo.com/video/ai-competition-google-bard-vs-170112540.html');\" rel=\"nofollow\" target=\"_blank\">AI competition: Googles Bard vs. Microsofts Bing-ChatGPT crossover</a></div><div class=\"news-link-right\"><span style=\"color:#aa6dc0;font-size:9px\"> Yahoo Finance Video</span></div></div></td></tr>\n",
            "<tr><td align=\"right\" width=\"130\">11:59AM</td><td align=\"left\"><div class=\"news-link-container\"><div class=\"news-link-left\"><a class=\"tab-link-news\" href=\"https://finance.yahoo.com/m/49d80dc7-f468-3ac4-91b0-17bd70e74bd7/stocks-firmly-lower-wednesday.html\" onclick=\"trackAndOpenNews(event, 'The Wall Street Journal', 'https://finance.yahoo.com/m/49d80dc7-f468-3ac4-91b0-17bd70e74bd7/stocks-firmly-lower-wednesday.html');\" rel=\"nofollow\" target=\"_blank\">Stocks Firmly Lower Wednesday</a></div><div class=\"news-link-right\"><span style=\"color:#aa6dc0;font-size:9px\"> The Wall Street Journal</span></div></div></td></tr>\n",
            "</table>\n"
          ]
        }
      ]
    }
  ]
}